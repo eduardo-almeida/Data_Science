{
 "cells": [
  {
   "cell_type": "code",
   "execution_count": 1,
   "id": "600485c5",
   "metadata": {},
   "outputs": [],
   "source": [
    "from selenium import webdriver\n",
    "from selenium.webdriver.chrome.options import Options\n",
    "from selenium.webdriver.support.ui import Select\n",
    "from selenium.webdriver.common.by import By\n",
    "from selenium.webdriver.support.ui import WebDriverWait\n",
    "from selenium.webdriver.support import expected_conditions as EC\n",
    "import time"
   ]
  },
  {
   "cell_type": "code",
   "execution_count": 2,
   "id": "4c3affaf",
   "metadata": {},
   "outputs": [],
   "source": [
    "import pandas as pd\n",
    "import csv"
   ]
  },
  {
   "cell_type": "markdown",
   "id": "fce6f94e",
   "metadata": {},
   "source": [
    "#changing chromedriver default options\n",
    "options = Options()\n",
    "options.headless = True\n",
    "options.add_argument('window-size=1920x1080') #Headless = True"
   ]
  },
  {
   "cell_type": "markdown",
   "id": "6bab971c",
   "metadata": {},
   "source": [
    "pd.set_option('display.max_rows', 500)\n",
    "pd.set_option('display.max_columns', 500)\n",
    "pd.set_option('display.width', 1000)"
   ]
  },
  {
   "cell_type": "markdown",
   "id": "c319d183",
   "metadata": {},
   "source": [
    "## Bet365"
   ]
  },
  {
   "cell_type": "code",
   "execution_count": 3,
   "id": "c5832e19",
   "metadata": {},
   "outputs": [],
   "source": [
    "import subprocess"
   ]
  },
  {
   "cell_type": "code",
   "execution_count": 5,
   "id": "70fc1d11",
   "metadata": {},
   "outputs": [
    {
     "data": {
      "text/plain": [
       "<Popen: returncode: None args: '\"C:\\\\Program Files\\\\Mozilla Firefox\\\\firefox...>"
      ]
     },
     "execution_count": 5,
     "metadata": {},
     "output_type": "execute_result"
    }
   ],
   "source": [
    "subprocess.Popen(\n",
    "   '\"C:\\\\Program Files\\\\Mozilla Firefox\\\\firefox.exe\" --remote-debugging-port=9222', shell=True)\n",
    " "
   ]
  },
  {
   "cell_type": "code",
   "execution_count": null,
   "id": "87a4d63c",
   "metadata": {},
   "outputs": [],
   "source": [
    "\n",
    "driver = webdriver.Firefox()\n",
    "driver.get(\"https://www.bet365.com\")"
   ]
  },
  {
   "cell_type": "markdown",
   "id": "f4fdaa82",
   "metadata": {},
   "source": [
    "## Betway"
   ]
  },
  {
   "cell_type": "code",
   "execution_count": null,
   "id": "4eb72e8b",
   "metadata": {},
   "outputs": [],
   "source": [
    "driver = webdriver.Firefox()\n",
    "driver.get(\"https://betway.com/pt/sports/grp/soccer/brazil/brasileiro-serie-a\")"
   ]
  },
  {
   "cell_type": "code",
   "execution_count": null,
   "id": "373a92bb",
   "metadata": {},
   "outputs": [],
   "source": [
    "div_mae = driver.find_element_by_xpath('/html/body/div[1]/div/div[3]/div/div[1]/div/div[2]/div[4]/div/div[3]')\n",
    "html_conteudo = div_mae.get_attribute('outerHTML')\n",
    "soup = BeautifulSoup(html_conteudo, 'html.parser')"
   ]
  },
  {
   "cell_type": "code",
   "execution_count": null,
   "id": "564117c1",
   "metadata": {},
   "outputs": [],
   "source": []
  }
 ],
 "metadata": {
  "kernelspec": {
   "display_name": "Python 3 (ipykernel)",
   "language": "python",
   "name": "python3"
  },
  "language_info": {
   "codemirror_mode": {
    "name": "ipython",
    "version": 3
   },
   "file_extension": ".py",
   "mimetype": "text/x-python",
   "name": "python",
   "nbconvert_exporter": "python",
   "pygments_lexer": "ipython3",
   "version": "3.9.12"
  }
 },
 "nbformat": 4,
 "nbformat_minor": 5
}
