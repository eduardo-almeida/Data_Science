{
 "cells": [
  {
   "cell_type": "code",
   "execution_count": 1,
   "metadata": {},
   "outputs": [],
   "source": [
    "import pandas as pd\n",
    "import numpy as np"
   ]
  },
  {
   "cell_type": "code",
   "execution_count": 2,
   "metadata": {},
   "outputs": [],
   "source": [
    "mercado = pd.read_csv('data/estaticos_market.csv', index_col=0)"
   ]
  },
  {
   "cell_type": "code",
   "execution_count": 3,
   "metadata": {},
   "outputs": [
    {
     "data": {
      "text/plain": [
       "(462298, 181)"
      ]
     },
     "execution_count": 3,
     "metadata": {},
     "output_type": "execute_result"
    }
   ],
   "source": [
    "mercado.shape"
   ]
  },
  {
   "cell_type": "code",
   "execution_count": 4,
   "metadata": {},
   "outputs": [
    {
     "data": {
      "text/plain": [
       "array(['INDUSTRIA DA CONSTRUCAO', 'SERVICOS DE ALOJAMENTO/ALIMENTACAO',\n",
       "       'TRANSPORTE, ARMAZENAGEM E CORREIO', 'SERVICOS DIVERSOS',\n",
       "       'SERVICOS PROFISSIONAIS, TECNICOS E CIENTIFICOS',\n",
       "       'QUIMICA-PETROQUIMICA', 'SERVICOS ADMINISTRATIVOS',\n",
       "       'BENS DE CONSUMO', 'COMERCIO VAREJISTA', 'INDUSTRIA DIGITAL',\n",
       "       'TEXTEIS', 'COMERCIO POR ATACADO', 'TELECOM', 'SERVICOS DE SAUDE',\n",
       "       'COMERCIO E REPARACAO DE VEICULOS', 'CULTURA, ESPORTE E RECREACAO',\n",
       "       'SERVICOS FINANCEIROS', 'SERVICOS DE EDUCACAO',\n",
       "       'PRODUTOS DE AGROPECUARIA',\n",
       "       'ADMINISTRACAO PUBLICA, DEFESA E SEGURIDADE SOCIAL',\n",
       "       'PAPEL E CELULOSE', 'SIDERURGICA-METALURGIA', 'OUTROS',\n",
       "       'SEGUROS, PLANOS DE PREVIDENCIA E PLANOS DE SAUDE',\n",
       "       'ELETRICIDADE E GAS', 'INDUSTRIAS EXTRATIVAS', 'ELETROELETRONICOS',\n",
       "       'SERVICOS DE SANEAMENTO BASICO', 'ATIVIDADES IMOBILIARIAS',\n",
       "       'SERVICOS SOCIAIS', 'INDUSTRIA AUTOMOTIVA',\n",
       "       'ORGANISMOS INTERNACIONAIS', 'FARMACEUTICA'], dtype=object)"
      ]
     },
     "execution_count": 4,
     "metadata": {},
     "output_type": "execute_result"
    }
   ],
   "source": [
    "mercado['de_ramo'].unique()"
   ]
  },
  {
   "cell_type": "code",
   "execution_count": 5,
   "metadata": {},
   "outputs": [
    {
     "data": {
      "text/plain": [
       "array(['CONSTRUÇÃO CIVIL', 'SERVIÇO', 'INDUSTRIA', 'COMERCIO',\n",
       "       'AGROPECUARIA', nan], dtype=object)"
      ]
     },
     "execution_count": 5,
     "metadata": {},
     "output_type": "execute_result"
    }
   ],
   "source": [
    "mercado['setor'].unique()"
   ]
  },
  {
   "cell_type": "code",
   "execution_count": 6,
   "metadata": {},
   "outputs": [],
   "source": [
    "teste= mercado[mercado['setor'].isnull()]"
   ]
  },
  {
   "cell_type": "code",
   "execution_count": 7,
   "metadata": {},
   "outputs": [
    {
     "data": {
      "text/plain": [
       "array(['OUTROS'], dtype=object)"
      ]
     },
     "execution_count": 7,
     "metadata": {},
     "output_type": "execute_result"
    }
   ],
   "source": [
    "teste['de_ramo'].unique()"
   ]
  },
  {
   "cell_type": "code",
   "execution_count": 8,
   "metadata": {},
   "outputs": [],
   "source": [
    "mercado['setor'].fillna('SETOR INDEFINIDO', inplace=True)"
   ]
  },
  {
   "cell_type": "code",
   "execution_count": 9,
   "metadata": {},
   "outputs": [
    {
     "data": {
      "text/plain": [
       "array(['CONSTRUÇÃO CIVIL', 'SERVIÇO', 'INDUSTRIA', 'COMERCIO',\n",
       "       'AGROPECUARIA', 'SETOR INDEFINIDO'], dtype=object)"
      ]
     },
     "execution_count": 9,
     "metadata": {},
     "output_type": "execute_result"
    }
   ],
   "source": [
    "mercado['setor'].unique()"
   ]
  },
  {
   "cell_type": "code",
   "execution_count": 10,
   "metadata": {
    "scrolled": true
   },
   "outputs": [
    {
     "data": {
      "text/plain": [
       "array(['SOCIEDADE EMPRESARIA LIMITADA', 'EMPRESARIO INDIVIDUAL',\n",
       "       'COOPERATIVA', 'ASSOCIACAO PRIVADA', 'ENTIDADE SINDICAL',\n",
       "       'CONSORCIO DE SOCIEDADES', 'SOCIEDADE DE ECONOMIA MISTA',\n",
       "       'CONDOMINIO EDILICIO', 'ORGAO PUBLICO DO PODER EXECUTIVO FEDERAL',\n",
       "       'MUNICIPIO', 'ORGAO DE DIRECAO LOCAL DE PARTIDO POLITICO',\n",
       "       'SOCIEDADE ANONIMA ABERTA',\n",
       "       'EMPRESA INDIVIDUAL DE RESPONSABILIDADE LIMITADA DE NATUREZA EMPRESARIA',\n",
       "       'CANDIDATO A CARGO POLITICO ELETIVO',\n",
       "       'EMPRESA INDIVIDUAL IMOBILIARIA',\n",
       "       'ORGAO PUBLICO DO PODER EXECUTIVO ESTADUAL OU DO DISTRITO FEDERAL',\n",
       "       'SOCIEDADE SIMPLES LIMITADA', 'FUNDACAO PRIVADA',\n",
       "       'ORGAO PUBLICO DO PODER EXECUTIVO MUNICIPAL',\n",
       "       'SOCIEDADE ANONIMA FECHADA', 'ORGANIZACAO RELIGIOSA',\n",
       "       'SOCIEDADE UNIPESSOAL DE ADVOCACIA', 'SOCIEDADE SIMPLES PURA',\n",
       "       'AUTARQUIA FEDERAL', 'ORGAO PUBLICO DO PODER JUDICIARIO ESTADUAL',\n",
       "       'EMPRESA PUBLICA', 'SOCIEDADE EMPRESARIA EM NOME COLETIVO',\n",
       "       'AUTARQUIA MUNICIPAL', 'FUNDO PUBLICO',\n",
       "       'AUTARQUIA ESTADUAL OU DO DISTRITO FEDERAL',\n",
       "       'FUNDACAO PUBLICA DE DIREITO PUB MUNICIPAL',\n",
       "       'EMPRESA INDIVIDUAL DE RESPONSABILIDADE LIMITADA DE NATUREZA SIMPLES',\n",
       "       'ORGAO PUBLICO DO PODER LEGISLATIVO MUNICIPAL',\n",
       "       'SERVICO NOTARIAL E REGISTRAL CARTORIO', 'ORGANIZACAO SOCIAL OS',\n",
       "       'CONSORCIO PUBDE DIREITO PUB ASS PUB',\n",
       "       'ORGAO DE DIRECAO REGIONAL DE PARTIDO POLITICO',\n",
       "       'SERVICO SOCIAL AUTONOMO', 'SOCIEDADE EM CONTA DE PARTICIPACAO',\n",
       "       'GRUPO DE SOCIEDADES',\n",
       "       'SOCIEDADE MERCANTIL DE CAPITAL E INDUSTRIA',\n",
       "       'FUNDACAO PUBLICA DE DIREITO PRIVADO MUNICIPAL',\n",
       "       'ORGAO PUBLICO AUTONOMO MUNICIPAL',\n",
       "       'ORGAO PUBLICO DO PODER JUDICIARIO FEDERAL',\n",
       "       'NATUREZA JURIDICA INVALIDA',\n",
       "       'SOCIEDADE EMPRESARIA EM COMANDITA POR ACOES',\n",
       "       'FUNDACAO PUBLICA DE DIREITO PUBFEDERAL',\n",
       "       'ORGAO PUBLICO AUTONOMO ESTADUAL OU DO DISTRITO FEDERAL',\n",
       "       'ESTABELECIMENTO NO BRASIL DE SOCIEDADE ESTRANGEIRA',\n",
       "       'FUNDACAO PUB DE DIREITO PUB EST OU DO DF',\n",
       "       'ORGAO PUBLICO DO PODER LEGISLATIVO ESTADUAL OU DO DISTRITO FEDERAL',\n",
       "       'ENTIDADE DE MEDIACAO E ARBITRAGEM', 'COMUNIDADE INDIGENA',\n",
       "       'FUNDACAO PUBLICA DE DIREITO PRIVADO FEFERAL',\n",
       "       'ESTABELECIMENTO NO BRASIL DE FUNDACAO OU ASSOCIACAO ESTRANGEIRAS',\n",
       "       'CLUBE FUNDO DE INVESTIMENTO',\n",
       "       'REPRESENTACAO DIPLOMATICA ESTRANGEIRA',\n",
       "       'SOCIEDADE SIMPLES EM COMANDITA SIMPLES',\n",
       "       'CONSORCIO PUBLICO DE DIREITO PRIVADO',\n",
       "       'FRENTE PLEBISCITARIA OU REFERENDARIA',\n",
       "       'SOCIEDADE EMPRESARIA EM COMANDITA SIMPLES',\n",
       "       'CONSORCIO DE EMPREGADORES', 'SOCIEDADE SIMPLES EM NOME COLETIVO',\n",
       "       'FUNDO PRIVADO', 'ESTADO OU DISTRITO FEDERAL',\n",
       "       'ORGAO PUBLICO DO PODER LEGISLATIVO FEDERAL',\n",
       "       'ORGAO DE DIRECAO NACIONAL DE PARTIDO POLITICO'], dtype=object)"
      ]
     },
     "execution_count": 10,
     "metadata": {},
     "output_type": "execute_result"
    }
   ],
   "source": [
    "mercado['de_natureza_juridica'].unique()"
   ]
  },
  {
   "cell_type": "code",
   "execution_count": 11,
   "metadata": {},
   "outputs": [
    {
     "data": {
      "text/plain": [
       "array(['ENTIDADES EMPRESARIAIS', 'OUTROS',\n",
       "       'ENTIDADES SEM FINS LUCRATIVOS', 'ADMINISTRACAO PUBLICA',\n",
       "       'CARGO POLITICO', 'PESSOAS FISICAS',\n",
       "       'INSTITUICOES EXTRATERRITORIAIS'], dtype=object)"
      ]
     },
     "execution_count": 11,
     "metadata": {},
     "output_type": "execute_result"
    }
   ],
   "source": [
    "mercado['natureza_juridica_macro'].unique()"
   ]
  },
  {
   "cell_type": "code",
   "execution_count": 12,
   "metadata": {},
   "outputs": [
    {
     "data": {
      "text/plain": [
       "array(['10 a 15', '1 a 5', '5 a 10', '> 20', '<= 1', '15 a 20'],\n",
       "      dtype=object)"
      ]
     },
     "execution_count": 12,
     "metadata": {},
     "output_type": "execute_result"
    }
   ],
   "source": [
    "mercado['idade_emp_cat'].unique()"
   ]
  },
  {
   "cell_type": "code",
   "execution_count": 13,
   "metadata": {},
   "outputs": [
    {
     "data": {
      "text/plain": [
       "array([14.45753425,  1.4630137 ,  7.09315068, ..., 44.61643836,\n",
       "       27.30958904, 41.95616438])"
      ]
     },
     "execution_count": 13,
     "metadata": {},
     "output_type": "execute_result"
    }
   ],
   "source": [
    "mercado['idade_empresa_anos'].unique()"
   ]
  },
  {
   "cell_type": "code",
   "execution_count": 14,
   "metadata": {},
   "outputs": [],
   "source": [
    "mercado_simplificado = mercado.copy()"
   ]
  },
  {
   "cell_type": "code",
   "execution_count": 15,
   "metadata": {},
   "outputs": [],
   "source": [
    "colunas_duplicadas = ['de_natureza_juridica', 'de_ramo', 'idade_empresa_anos']\n",
    "mercado_simplificado.drop(columns=colunas_duplicadas, inplace=True)"
   ]
  },
  {
   "cell_type": "markdown",
   "metadata": {},
   "source": [
    "Importante conhecimento sobre algusn termos\n",
    "https://capitalsocial.cnt.br/qual-a-diferenca-entre-mei-ei-me-e-epp/"
   ]
  },
  {
   "cell_type": "code",
   "execution_count": 16,
   "metadata": {},
   "outputs": [],
   "source": [
    "#colunas_pessoa_juridica = ['fl_me', 'fl_sa', 'fl_epp', 'fl_mei', 'fl_ltda']\n",
    "#mercado_simplificado.drop(columns=colunas_pessoa_juridica, inplace=True)"
   ]
  },
  {
   "cell_type": "code",
   "execution_count": 17,
   "metadata": {},
   "outputs": [],
   "source": [
    "colunas_irs = ['dt_situacao' ]\n",
    "mercado_simplificado.drop(columns=colunas_irs, inplace=True)"
   ]
  },
  {
   "cell_type": "code",
   "execution_count": 18,
   "metadata": {},
   "outputs": [],
   "source": [
    "#colunas_talvez = ['nm_divisao', 'nm_segmento']\n",
    "#mercado_simplificado.drop(columns=colunas_talvez, inplace=True)"
   ]
  },
  {
   "cell_type": "markdown",
   "metadata": {},
   "source": [
    "Colunas referentes a trasnpostes terrestres da empresa"
   ]
  },
  {
   "cell_type": "code",
   "execution_count": 19,
   "metadata": {},
   "outputs": [],
   "source": [
    "colunas_transporte_terrestre = ['fl_spa', 'fl_antt', 'fl_veiculo', 'vl_total_veiculos_antt', \n",
    "                                'vl_total_veiculos_leves', 'vl_total_veiculos_pesados', \n",
    "                                'vl_total_veiculos_pesados_grupo', 'vl_total_veiculos_leves_grupo', \n",
    "                                'vl_total_tancagem_grupo', 'vl_total_veiculos_antt_grupo', \n",
    "                                'vl_potenc_cons_oleo_gas', 'vl_total_tancagem', 'vl_frota']\n",
    "mercado_simplificado.drop(columns=colunas_transporte_terrestre, inplace=True)"
   ]
  },
  {
   "cell_type": "code",
   "execution_count": 20,
   "metadata": {},
   "outputs": [],
   "source": [
    "#colunas_empreendedor_tipo = ['fl_optante_simples', 'fl_optante_simei', 'fl_simples_irregular', \n",
    "#                             'fl_passivel_iss']\n",
    "#mercado_simplificado.drop(columns=colunas_empreendedor_tipo, inplace=True)"
   ]
  },
  {
   "cell_type": "code",
   "execution_count": 21,
   "metadata": {},
   "outputs": [],
   "source": [
    "colunas_empresa = ['sg_uf_matriz', 'de_saude_tributaria', 'de_saude_rescencia','nu_meses_rescencia', \n",
    "                   'de_indicador_telefone', 'empsetorcensitariofaixarendapopulacao', 'nm_meso_regiao', \n",
    "                   'nm_micro_regiao', 'qt_art']\n",
    "mercado_simplificado.drop(columns=colunas_empresa, inplace=True)"
   ]
  },
  {
   "cell_type": "code",
   "execution_count": 22,
   "metadata": {},
   "outputs": [],
   "source": [
    "colunas_socio = ['qt_socios', 'qt_socios_pf', 'qt_socios_pj', 'idade_media_socios', 'qt_socios', 'qt_socios_pf', \n",
    "                 'idade_maxima_socios', 'idade_minima_socios', 'qt_socios_st_regular', 'qt_socios_st_suspensa', \n",
    "                 'qt_socios_masculino', 'qt_socios_feminino', 'qt_socios_pep', 'qt_alteracao_socio_total', \n",
    "                 'qt_alteracao_socio_90d', 'qt_alteracao_socio_180d', 'qt_alteracao_socio_365d', \n",
    "                 'qt_socios_pj_ativos', 'qt_socios_pj_nulos', 'qt_socios_pj_baixados', 'qt_socios_pj_suspensos', \n",
    "                 'qt_socios_pj_inaptos', 'vl_idade_media_socios_pj', 'vl_idade_maxima_socios_pj', \n",
    "                 'vl_idade_minima_socios_pj', 'qt_coligados', 'qt_socios_coligados', 'qt_coligados_matriz', \n",
    "                 'qt_coligados_ativo', 'qt_coligados_baixada', 'qt_coligados_inapta', 'qt_coligados_suspensa', \n",
    "                 'qt_coligados_nula', 'idade_media_coligadas', 'idade_minima_coligadas', \n",
    "                 'coligada_mais_nova_ativa', 'coligada_mais_antiga_ativa', 'idade_media_coligadas_ativas', \n",
    "                 'coligada_mais_nova_baixada', 'coligada_mais_antiga_baixada', 'idade_media_coligadas_baixadas', \n",
    "                 'qt_coligados_sa', 'qt_coligados_me', 'qt_coligados_mei', 'qt_coligados_ltda', \n",
    "                 'qt_coligados_epp', 'qt_coligados_norte', 'qt_coligados_sul', 'qt_coligados_nordeste', \n",
    "                 'qt_coligados_centro', 'idade_maxima_coligadas', 'qt_coligados_sudeste', \n",
    "                 'qt_coligados_exterior', 'qt_ufs_coligados', 'qt_regioes_coligados', 'qt_ramos_coligados', \n",
    "                 'qt_coligados_industria', 'qt_coligados_agropecuaria', 'qt_coligados_comercio', \n",
    "                 'qt_coligados_serviço', 'qt_coligados_ccivil', 'qt_funcionarios_coligados', \n",
    "                 'qt_funcionarios_coligados_gp', 'media_funcionarios_coligados_gp', \n",
    "                 'max_funcionarios_coligados_gp', 'min_funcionarios_coligados_gp', 'vl_folha_coligados', \n",
    "                 'media_vl_folha_coligados', 'max_vl_folha_coligados', 'min_vl_folha_coligados', \n",
    "                 'vl_folha_coligados_gp', 'media_vl_folha_coligados_gp', 'max_vl_folha_coligados_gp', \n",
    "                 'min_vl_folha_coligados_gp', 'faturamento_est_coligados', 'media_faturamento_est_coligados', \n",
    "                 'max_faturamento_est_coligados', 'min_faturamento_est_coligados', 'total_filiais_coligados',\n",
    "                 'faturamento_est_coligados_gp', 'media_faturamento_est_coligados_gp', \n",
    "                 'max_faturamento_est_coligados_gp', 'min_faturamento_est_coligados_gp', \n",
    "                 'media_filiais_coligados', 'max_filiais_coligados', 'min_filiais_coligados', \n",
    "                 'qt_coligados_atividade_alto', 'qt_coligados_atividade_medio', 'qt_coligados_atividade_baixo', \n",
    "                 'qt_coligados_atividade_mt_baixo', 'qt_coligados_atividade_inativo', 'qt_coligadas']\n",
    "mercado_simplificado.drop(columns=colunas_socio, inplace=True)"
   ]
  },
  {
   "cell_type": "markdown",
   "metadata": {},
   "source": [
    "Mantem só 'de_faixa_faturamento_estimado', 'de_faixa_faturamento_estimado_grupo',"
   ]
  },
  {
   "cell_type": "code",
   "execution_count": 23,
   "metadata": {},
   "outputs": [],
   "source": [
    "colunas_faturamento = ['sum_faturamento_estimado_coligadas', 'vl_faturamento_estimado_aux', \n",
    "                       'vl_faturamento_estimado_grupo_aux']\n",
    "mercado_simplificado.drop(columns=colunas_faturamento, inplace=True)"
   ]
  },
  {
   "cell_type": "code",
   "execution_count": 24,
   "metadata": {},
   "outputs": [],
   "source": [
    "colunas_funcionarios = ['qt_ex_funcionarios', 'qt_funcionarios_grupo', 'percent_func_genero_masc', \n",
    "                        'percent_func_genero_fem', 'idade_ate_18', 'idade_de_19_a_23', 'idade_de_24_a_28', \n",
    "                        'idade_de_29_a_33', 'idade_de_34_a_38', 'idade_de_39_a_43', 'idade_de_44_a_48', \n",
    "                        'idade_de_49_a_53', 'idade_de_54_a_58','idade_acima_de_58', \n",
    "                        'grau_instrucao_macro_analfabeto', 'grau_instrucao_macro_escolaridade_fundamental', \n",
    "                        'grau_instrucao_macro_escolaridade_media', 'grau_instrucao_macro_escolaridade_superior', \n",
    "                        'grau_instrucao_macro_desconhecido', 'total']\n",
    "mercado_simplificado.drop(columns=colunas_funcionarios, inplace=True)"
   ]
  },
  {
   "cell_type": "code",
   "execution_count": 25,
   "metadata": {},
   "outputs": [],
   "source": [
    "colunas_num_func = ['meses_ultima_contratacaco', 'qt_admitidos_12meses', 'qt_desligados_12meses', \n",
    "                       'qt_desligados', 'qt_admitidos', 'media_meses_servicos_all', \n",
    "                       'max_meses_servicos_all', 'min_meses_servicos_all', 'media_meses_servicos', \n",
    "                       'max_meses_servicos', 'min_meses_servicos']\n",
    "mercado_simplificado.drop(columns=colunas_num_func, inplace=True)"
   ]
  },
  {
   "cell_type": "code",
   "execution_count": 26,
   "metadata": {},
   "outputs": [],
   "source": [
    "colunas_contratacao = ['qt_funcionarios', 'qt_funcionarios_12meses', 'qt_funcionarios_24meses', \n",
    "                       'tx_crescimento_12meses', 'tx_crescimento_24meses', 'tx_rotatividade']\n",
    "mercado_simplificado.drop(columns=colunas_contratacao, inplace=True)"
   ]
  },
  {
   "cell_type": "code",
   "execution_count": 27,
   "metadata": {},
   "outputs": [],
   "source": [
    "#colunas_faltantes = ['nm_divisao', 'nm_segmento', 'de_nivel_atividade']\n",
    "#mercado_simplificado.drop(columns=colunas_faltantes, inplace=True)"
   ]
  },
  {
   "cell_type": "code",
   "execution_count": null,
   "metadata": {},
   "outputs": [],
   "source": []
  },
  {
   "cell_type": "code",
   "execution_count": null,
   "metadata": {},
   "outputs": [],
   "source": []
  },
  {
   "cell_type": "code",
   "execution_count": 28,
   "metadata": {},
   "outputs": [
    {
     "data": {
      "text/plain": [
       "array(['SIM', 'NAO'], dtype=object)"
      ]
     },
     "execution_count": 28,
     "metadata": {},
     "output_type": "execute_result"
    }
   ],
   "source": [
    "mercado_simplificado['fl_rm'].unique()"
   ]
  },
  {
   "cell_type": "code",
   "execution_count": 29,
   "metadata": {},
   "outputs": [],
   "source": [
    "booleanDictionary = {'SIM': True,'NAO': False}\n",
    "mercado_simplificado['fl_rm'] = mercado_simplificado['fl_rm'].map(booleanDictionary)"
   ]
  },
  {
   "cell_type": "code",
   "execution_count": 30,
   "metadata": {},
   "outputs": [],
   "source": [
    "boleanas_features = mercado_simplificado.select_dtypes(include=[np.bool])\n",
    "boleanas = ['fl_optante_simples', 'fl_optante_simei','fl_simples_irregular', 'fl_passivel_iss']\n",
    "for valor in boleanas_features:    \n",
    "    mercado_simplificado[valor].fillna(False, inplace=True)\n",
    "    mercado_simplificado[valor] = mercado_simplificado[valor].astype(int)\n",
    "\n",
    "for valor in boleanas:    \n",
    "    mercado_simplificado[valor].fillna(False, inplace=True)\n",
    "    mercado_simplificado[valor] = mercado_simplificado[valor].astype(int)"
   ]
  },
  {
   "cell_type": "code",
   "execution_count": 31,
   "metadata": {
    "scrolled": true
   },
   "outputs": [
    {
     "data": {
      "text/html": [
       "<div>\n",
       "<style scoped>\n",
       "    .dataframe tbody tr th:only-of-type {\n",
       "        vertical-align: middle;\n",
       "    }\n",
       "\n",
       "    .dataframe tbody tr th {\n",
       "        vertical-align: top;\n",
       "    }\n",
       "\n",
       "    .dataframe thead th {\n",
       "        text-align: right;\n",
       "    }\n",
       "</style>\n",
       "<table border=\"1\" class=\"dataframe\">\n",
       "  <thead>\n",
       "    <tr style=\"text-align: right;\">\n",
       "      <th></th>\n",
       "      <th>0</th>\n",
       "      <th>1</th>\n",
       "      <th>2</th>\n",
       "      <th>3</th>\n",
       "      <th>4</th>\n",
       "    </tr>\n",
       "  </thead>\n",
       "  <tbody>\n",
       "    <tr>\n",
       "      <th>id</th>\n",
       "      <td>a6984c3ae395090e3bee8ad63c3758b110de096d5d8195...</td>\n",
       "      <td>6178f41ade1365e44bc2c46654c2c8c0eaae27dcb476c4...</td>\n",
       "      <td>4a7e5069a397f12fdd7fd57111d6dc5d3ba558958efc02...</td>\n",
       "      <td>3348900fe63216a439d2e5238c79ddd46ede454df7b9d8...</td>\n",
       "      <td>1f9bcabc9d3173c1fe769899e4fac14b053037b953a1e4...</td>\n",
       "    </tr>\n",
       "    <tr>\n",
       "      <th>fl_matriz</th>\n",
       "      <td>1</td>\n",
       "      <td>1</td>\n",
       "      <td>1</td>\n",
       "      <td>1</td>\n",
       "      <td>1</td>\n",
       "    </tr>\n",
       "    <tr>\n",
       "      <th>sg_uf</th>\n",
       "      <td>RN</td>\n",
       "      <td>PI</td>\n",
       "      <td>AM</td>\n",
       "      <td>AM</td>\n",
       "      <td>RN</td>\n",
       "    </tr>\n",
       "    <tr>\n",
       "      <th>natureza_juridica_macro</th>\n",
       "      <td>ENTIDADES EMPRESARIAIS</td>\n",
       "      <td>OUTROS</td>\n",
       "      <td>OUTROS</td>\n",
       "      <td>OUTROS</td>\n",
       "      <td>OUTROS</td>\n",
       "    </tr>\n",
       "    <tr>\n",
       "      <th>setor</th>\n",
       "      <td>CONSTRUÇÃO CIVIL</td>\n",
       "      <td>SERVIÇO</td>\n",
       "      <td>SERVIÇO</td>\n",
       "      <td>SERVIÇO</td>\n",
       "      <td>SERVIÇO</td>\n",
       "    </tr>\n",
       "    <tr>\n",
       "      <th>idade_emp_cat</th>\n",
       "      <td>10 a 15</td>\n",
       "      <td>1 a 5</td>\n",
       "      <td>5 a 10</td>\n",
       "      <td>5 a 10</td>\n",
       "      <td>1 a 5</td>\n",
       "    </tr>\n",
       "    <tr>\n",
       "      <th>fl_me</th>\n",
       "      <td>0</td>\n",
       "      <td>0</td>\n",
       "      <td>0</td>\n",
       "      <td>0</td>\n",
       "      <td>0</td>\n",
       "    </tr>\n",
       "    <tr>\n",
       "      <th>fl_sa</th>\n",
       "      <td>0</td>\n",
       "      <td>0</td>\n",
       "      <td>0</td>\n",
       "      <td>0</td>\n",
       "      <td>0</td>\n",
       "    </tr>\n",
       "    <tr>\n",
       "      <th>fl_epp</th>\n",
       "      <td>0</td>\n",
       "      <td>0</td>\n",
       "      <td>0</td>\n",
       "      <td>0</td>\n",
       "      <td>0</td>\n",
       "    </tr>\n",
       "    <tr>\n",
       "      <th>fl_mei</th>\n",
       "      <td>0</td>\n",
       "      <td>1</td>\n",
       "      <td>1</td>\n",
       "      <td>0</td>\n",
       "      <td>0</td>\n",
       "    </tr>\n",
       "    <tr>\n",
       "      <th>fl_ltda</th>\n",
       "      <td>0</td>\n",
       "      <td>0</td>\n",
       "      <td>0</td>\n",
       "      <td>0</td>\n",
       "      <td>0</td>\n",
       "    </tr>\n",
       "    <tr>\n",
       "      <th>fl_st_especial</th>\n",
       "      <td>0</td>\n",
       "      <td>0</td>\n",
       "      <td>0</td>\n",
       "      <td>0</td>\n",
       "      <td>0</td>\n",
       "    </tr>\n",
       "    <tr>\n",
       "      <th>fl_email</th>\n",
       "      <td>1</td>\n",
       "      <td>1</td>\n",
       "      <td>0</td>\n",
       "      <td>1</td>\n",
       "      <td>1</td>\n",
       "    </tr>\n",
       "    <tr>\n",
       "      <th>fl_telefone</th>\n",
       "      <td>1</td>\n",
       "      <td>1</td>\n",
       "      <td>1</td>\n",
       "      <td>1</td>\n",
       "      <td>1</td>\n",
       "    </tr>\n",
       "    <tr>\n",
       "      <th>fl_rm</th>\n",
       "      <td>1</td>\n",
       "      <td>1</td>\n",
       "      <td>1</td>\n",
       "      <td>1</td>\n",
       "      <td>1</td>\n",
       "    </tr>\n",
       "    <tr>\n",
       "      <th>nm_divisao</th>\n",
       "      <td>CONSTRUCAO DE EDIFICIOS</td>\n",
       "      <td>ALIMENTACAO</td>\n",
       "      <td>TRANSPORTE TERRESTRE</td>\n",
       "      <td>REPARACAO E MANUTENCAO DE EQUIPAMENTOS DE INFO...</td>\n",
       "      <td>SERVICOS DE ARQUITETURA E ENGENHARIA TESTES E ...</td>\n",
       "    </tr>\n",
       "    <tr>\n",
       "      <th>nm_segmento</th>\n",
       "      <td>CONSTRUCAO</td>\n",
       "      <td>ALOJAMENTO E ALIMENTACAO</td>\n",
       "      <td>TRANSPORTE ARMAZENAGEM E CORREIO</td>\n",
       "      <td>OUTRAS ATIVIDADES DE SERVICOS</td>\n",
       "      <td>ATIVIDADES PROFISSIONAIS CIENTIFICAS E TECNICAS</td>\n",
       "    </tr>\n",
       "    <tr>\n",
       "      <th>fl_optante_simples</th>\n",
       "      <td>1</td>\n",
       "      <td>0</td>\n",
       "      <td>1</td>\n",
       "      <td>1</td>\n",
       "      <td>1</td>\n",
       "    </tr>\n",
       "    <tr>\n",
       "      <th>fl_optante_simei</th>\n",
       "      <td>0</td>\n",
       "      <td>0</td>\n",
       "      <td>1</td>\n",
       "      <td>0</td>\n",
       "      <td>0</td>\n",
       "    </tr>\n",
       "    <tr>\n",
       "      <th>de_nivel_atividade</th>\n",
       "      <td>ALTA</td>\n",
       "      <td>BAIXA</td>\n",
       "      <td>MEDIA</td>\n",
       "      <td>MEDIA</td>\n",
       "      <td>ALTA</td>\n",
       "    </tr>\n",
       "    <tr>\n",
       "      <th>fl_simples_irregular</th>\n",
       "      <td>0</td>\n",
       "      <td>0</td>\n",
       "      <td>0</td>\n",
       "      <td>0</td>\n",
       "      <td>0</td>\n",
       "    </tr>\n",
       "    <tr>\n",
       "      <th>fl_passivel_iss</th>\n",
       "      <td>1</td>\n",
       "      <td>1</td>\n",
       "      <td>1</td>\n",
       "      <td>1</td>\n",
       "      <td>1</td>\n",
       "    </tr>\n",
       "    <tr>\n",
       "      <th>de_faixa_faturamento_estimado</th>\n",
       "      <td>DE R$ 1.500.000,01 A R$ 4.800.000,00</td>\n",
       "      <td>DE R$ 81.000,01 A R$ 360.000,00</td>\n",
       "      <td>ATE R$ 81.000,00</td>\n",
       "      <td>DE R$ 81.000,01 A R$ 360.000,00</td>\n",
       "      <td>DE R$ 81.000,01 A R$ 360.000,00</td>\n",
       "    </tr>\n",
       "    <tr>\n",
       "      <th>de_faixa_faturamento_estimado_grupo</th>\n",
       "      <td>DE R$ 1.500.000,01 A R$ 4.800.000,00</td>\n",
       "      <td>DE R$ 81.000,01 A R$ 360.000,00</td>\n",
       "      <td>ATE R$ 81.000,00</td>\n",
       "      <td>DE R$ 81.000,01 A R$ 360.000,00</td>\n",
       "      <td>DE R$ 81.000,01 A R$ 360.000,00</td>\n",
       "    </tr>\n",
       "    <tr>\n",
       "      <th>qt_filiais</th>\n",
       "      <td>0</td>\n",
       "      <td>0</td>\n",
       "      <td>0</td>\n",
       "      <td>0</td>\n",
       "      <td>0</td>\n",
       "    </tr>\n",
       "  </tbody>\n",
       "</table>\n",
       "</div>"
      ],
      "text/plain": [
       "                                                                                     0  \\\n",
       "id                                   a6984c3ae395090e3bee8ad63c3758b110de096d5d8195...   \n",
       "fl_matriz                                                                            1   \n",
       "sg_uf                                                                               RN   \n",
       "natureza_juridica_macro                                         ENTIDADES EMPRESARIAIS   \n",
       "setor                                                                 CONSTRUÇÃO CIVIL   \n",
       "idade_emp_cat                                                                  10 a 15   \n",
       "fl_me                                                                                0   \n",
       "fl_sa                                                                                0   \n",
       "fl_epp                                                                               0   \n",
       "fl_mei                                                                               0   \n",
       "fl_ltda                                                                              0   \n",
       "fl_st_especial                                                                       0   \n",
       "fl_email                                                                             1   \n",
       "fl_telefone                                                                          1   \n",
       "fl_rm                                                                                1   \n",
       "nm_divisao                                                     CONSTRUCAO DE EDIFICIOS   \n",
       "nm_segmento                                                                 CONSTRUCAO   \n",
       "fl_optante_simples                                                                   1   \n",
       "fl_optante_simei                                                                     0   \n",
       "de_nivel_atividade                                                                ALTA   \n",
       "fl_simples_irregular                                                                 0   \n",
       "fl_passivel_iss                                                                      1   \n",
       "de_faixa_faturamento_estimado                     DE R$ 1.500.000,01 A R$ 4.800.000,00   \n",
       "de_faixa_faturamento_estimado_grupo               DE R$ 1.500.000,01 A R$ 4.800.000,00   \n",
       "qt_filiais                                                                           0   \n",
       "\n",
       "                                                                                     1  \\\n",
       "id                                   6178f41ade1365e44bc2c46654c2c8c0eaae27dcb476c4...   \n",
       "fl_matriz                                                                            1   \n",
       "sg_uf                                                                               PI   \n",
       "natureza_juridica_macro                                                         OUTROS   \n",
       "setor                                                                          SERVIÇO   \n",
       "idade_emp_cat                                                                    1 a 5   \n",
       "fl_me                                                                                0   \n",
       "fl_sa                                                                                0   \n",
       "fl_epp                                                                               0   \n",
       "fl_mei                                                                               1   \n",
       "fl_ltda                                                                              0   \n",
       "fl_st_especial                                                                       0   \n",
       "fl_email                                                                             1   \n",
       "fl_telefone                                                                          1   \n",
       "fl_rm                                                                                1   \n",
       "nm_divisao                                                                 ALIMENTACAO   \n",
       "nm_segmento                                                   ALOJAMENTO E ALIMENTACAO   \n",
       "fl_optante_simples                                                                   0   \n",
       "fl_optante_simei                                                                     0   \n",
       "de_nivel_atividade                                                               BAIXA   \n",
       "fl_simples_irregular                                                                 0   \n",
       "fl_passivel_iss                                                                      1   \n",
       "de_faixa_faturamento_estimado                          DE R$ 81.000,01 A R$ 360.000,00   \n",
       "de_faixa_faturamento_estimado_grupo                    DE R$ 81.000,01 A R$ 360.000,00   \n",
       "qt_filiais                                                                           0   \n",
       "\n",
       "                                                                                     2  \\\n",
       "id                                   4a7e5069a397f12fdd7fd57111d6dc5d3ba558958efc02...   \n",
       "fl_matriz                                                                            1   \n",
       "sg_uf                                                                               AM   \n",
       "natureza_juridica_macro                                                         OUTROS   \n",
       "setor                                                                          SERVIÇO   \n",
       "idade_emp_cat                                                                   5 a 10   \n",
       "fl_me                                                                                0   \n",
       "fl_sa                                                                                0   \n",
       "fl_epp                                                                               0   \n",
       "fl_mei                                                                               1   \n",
       "fl_ltda                                                                              0   \n",
       "fl_st_especial                                                                       0   \n",
       "fl_email                                                                             0   \n",
       "fl_telefone                                                                          1   \n",
       "fl_rm                                                                                1   \n",
       "nm_divisao                                                        TRANSPORTE TERRESTRE   \n",
       "nm_segmento                                           TRANSPORTE ARMAZENAGEM E CORREIO   \n",
       "fl_optante_simples                                                                   1   \n",
       "fl_optante_simei                                                                     1   \n",
       "de_nivel_atividade                                                               MEDIA   \n",
       "fl_simples_irregular                                                                 0   \n",
       "fl_passivel_iss                                                                      1   \n",
       "de_faixa_faturamento_estimado                                         ATE R$ 81.000,00   \n",
       "de_faixa_faturamento_estimado_grupo                                   ATE R$ 81.000,00   \n",
       "qt_filiais                                                                           0   \n",
       "\n",
       "                                                                                     3  \\\n",
       "id                                   3348900fe63216a439d2e5238c79ddd46ede454df7b9d8...   \n",
       "fl_matriz                                                                            1   \n",
       "sg_uf                                                                               AM   \n",
       "natureza_juridica_macro                                                         OUTROS   \n",
       "setor                                                                          SERVIÇO   \n",
       "idade_emp_cat                                                                   5 a 10   \n",
       "fl_me                                                                                0   \n",
       "fl_sa                                                                                0   \n",
       "fl_epp                                                                               0   \n",
       "fl_mei                                                                               0   \n",
       "fl_ltda                                                                              0   \n",
       "fl_st_especial                                                                       0   \n",
       "fl_email                                                                             1   \n",
       "fl_telefone                                                                          1   \n",
       "fl_rm                                                                                1   \n",
       "nm_divisao                           REPARACAO E MANUTENCAO DE EQUIPAMENTOS DE INFO...   \n",
       "nm_segmento                                              OUTRAS ATIVIDADES DE SERVICOS   \n",
       "fl_optante_simples                                                                   1   \n",
       "fl_optante_simei                                                                     0   \n",
       "de_nivel_atividade                                                               MEDIA   \n",
       "fl_simples_irregular                                                                 0   \n",
       "fl_passivel_iss                                                                      1   \n",
       "de_faixa_faturamento_estimado                          DE R$ 81.000,01 A R$ 360.000,00   \n",
       "de_faixa_faturamento_estimado_grupo                    DE R$ 81.000,01 A R$ 360.000,00   \n",
       "qt_filiais                                                                           0   \n",
       "\n",
       "                                                                                     4  \n",
       "id                                   1f9bcabc9d3173c1fe769899e4fac14b053037b953a1e4...  \n",
       "fl_matriz                                                                            1  \n",
       "sg_uf                                                                               RN  \n",
       "natureza_juridica_macro                                                         OUTROS  \n",
       "setor                                                                          SERVIÇO  \n",
       "idade_emp_cat                                                                    1 a 5  \n",
       "fl_me                                                                                0  \n",
       "fl_sa                                                                                0  \n",
       "fl_epp                                                                               0  \n",
       "fl_mei                                                                               0  \n",
       "fl_ltda                                                                              0  \n",
       "fl_st_especial                                                                       0  \n",
       "fl_email                                                                             1  \n",
       "fl_telefone                                                                          1  \n",
       "fl_rm                                                                                1  \n",
       "nm_divisao                           SERVICOS DE ARQUITETURA E ENGENHARIA TESTES E ...  \n",
       "nm_segmento                            ATIVIDADES PROFISSIONAIS CIENTIFICAS E TECNICAS  \n",
       "fl_optante_simples                                                                   1  \n",
       "fl_optante_simei                                                                     0  \n",
       "de_nivel_atividade                                                                ALTA  \n",
       "fl_simples_irregular                                                                 0  \n",
       "fl_passivel_iss                                                                      1  \n",
       "de_faixa_faturamento_estimado                          DE R$ 81.000,01 A R$ 360.000,00  \n",
       "de_faixa_faturamento_estimado_grupo                    DE R$ 81.000,01 A R$ 360.000,00  \n",
       "qt_filiais                                                                           0  "
      ]
     },
     "execution_count": 31,
     "metadata": {},
     "output_type": "execute_result"
    }
   ],
   "source": [
    "mercado_simplificado.head().T"
   ]
  },
  {
   "cell_type": "code",
   "execution_count": 32,
   "metadata": {
    "scrolled": true
   },
   "outputs": [
    {
     "data": {
      "text/plain": [
       "(462298, 25)"
      ]
     },
     "execution_count": 32,
     "metadata": {},
     "output_type": "execute_result"
    }
   ],
   "source": [
    "mercado_simplificado.shape"
   ]
  },
  {
   "cell_type": "code",
   "execution_count": 33,
   "metadata": {},
   "outputs": [
    {
     "data": {
      "text/plain": [
       "id                                         0\n",
       "fl_matriz                                  0\n",
       "sg_uf                                      0\n",
       "natureza_juridica_macro                    0\n",
       "setor                                      0\n",
       "idade_emp_cat                              0\n",
       "fl_me                                      0\n",
       "fl_sa                                      0\n",
       "fl_epp                                     0\n",
       "fl_mei                                     0\n",
       "fl_ltda                                    0\n",
       "fl_st_especial                             0\n",
       "fl_email                                   0\n",
       "fl_telefone                                0\n",
       "fl_rm                                      0\n",
       "nm_divisao                              1927\n",
       "nm_segmento                             1927\n",
       "fl_optante_simples                         0\n",
       "fl_optante_simei                           0\n",
       "de_nivel_atividade                     11168\n",
       "fl_simples_irregular                       0\n",
       "fl_passivel_iss                            0\n",
       "de_faixa_faturamento_estimado          27513\n",
       "de_faixa_faturamento_estimado_grupo    27513\n",
       "qt_filiais                                 0\n",
       "dtype: int64"
      ]
     },
     "execution_count": 33,
     "metadata": {},
     "output_type": "execute_result"
    }
   ],
   "source": [
    "mercado_simplificado.isnull().sum()"
   ]
  },
  {
   "cell_type": "code",
   "execution_count": 34,
   "metadata": {},
   "outputs": [],
   "source": [
    "colunas_faltantes = ['nm_divisao', 'nm_segmento', 'de_nivel_atividade', 'de_faixa_faturamento_estimado', \n",
    "                     'de_faixa_faturamento_estimado_grupo']\n",
    "mercado_simplificado.drop(columns=colunas_faltantes, inplace=True)"
   ]
  },
  {
   "cell_type": "code",
   "execution_count": 35,
   "metadata": {},
   "outputs": [
    {
     "data": {
      "text/plain": [
       "(462298, 20)"
      ]
     },
     "execution_count": 35,
     "metadata": {},
     "output_type": "execute_result"
    }
   ],
   "source": [
    " mercado_simplificado.shape"
   ]
  },
  {
   "cell_type": "code",
   "execution_count": 36,
   "metadata": {},
   "outputs": [
    {
     "data": {
      "text/plain": [
       "id                         0\n",
       "fl_matriz                  0\n",
       "sg_uf                      0\n",
       "natureza_juridica_macro    0\n",
       "setor                      0\n",
       "idade_emp_cat              0\n",
       "fl_me                      0\n",
       "fl_sa                      0\n",
       "fl_epp                     0\n",
       "fl_mei                     0\n",
       "fl_ltda                    0\n",
       "fl_st_especial             0\n",
       "fl_email                   0\n",
       "fl_telefone                0\n",
       "fl_rm                      0\n",
       "fl_optante_simples         0\n",
       "fl_optante_simei           0\n",
       "fl_simples_irregular       0\n",
       "fl_passivel_iss            0\n",
       "qt_filiais                 0\n",
       "dtype: int64"
      ]
     },
     "execution_count": 36,
     "metadata": {},
     "output_type": "execute_result"
    }
   ],
   "source": [
    "mercado_simplificado.isnull().sum()"
   ]
  },
  {
   "cell_type": "code",
   "execution_count": 38,
   "metadata": {},
   "outputs": [],
   "source": [
    "mercado_simplificado.to_csv('data/simplificado.csv')"
   ]
  },
  {
   "cell_type": "code",
   "execution_count": null,
   "metadata": {},
   "outputs": [],
   "source": []
  }
 ],
 "metadata": {
  "kernelspec": {
   "display_name": "Python 3",
   "language": "python",
   "name": "python3"
  },
  "language_info": {
   "codemirror_mode": {
    "name": "ipython",
    "version": 3
   },
   "file_extension": ".py",
   "mimetype": "text/x-python",
   "name": "python",
   "nbconvert_exporter": "python",
   "pygments_lexer": "ipython3",
   "version": "3.7.3"
  }
 },
 "nbformat": 4,
 "nbformat_minor": 2
}
