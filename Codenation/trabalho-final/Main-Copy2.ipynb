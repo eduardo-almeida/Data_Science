{
 "cells": [
  {
   "cell_type": "code",
   "execution_count": 1,
   "metadata": {},
   "outputs": [],
   "source": [
    "import pandas as pd\n",
    "import numpy as np"
   ]
  },
  {
   "cell_type": "code",
   "execution_count": 19,
   "metadata": {},
   "outputs": [],
   "source": [
    "empresa1 = pd.read_csv('data/estaticos_portfolio1.csv', index_col=0)\n",
    "empresa2 = pd.read_csv('data/estaticos_portfolio2.csv', index_col=0)\n",
    "empresa3 = pd.read_csv('data/estaticos_portfolio3.csv', index_col=0)"
   ]
  },
  {
   "cell_type": "code",
   "execution_count": 5,
   "metadata": {},
   "outputs": [],
   "source": [
    "mercado = pd.read_csv('data/simplificado.csv', index_col=0)"
   ]
  },
  {
   "cell_type": "code",
   "execution_count": 10,
   "metadata": {},
   "outputs": [
    {
     "data": {
      "text/plain": [
       "(462298, 20)"
      ]
     },
     "execution_count": 10,
     "metadata": {},
     "output_type": "execute_result"
    }
   ],
   "source": [
    "mercado.shape"
   ]
  },
  {
   "cell_type": "code",
   "execution_count": 6,
   "metadata": {
    "scrolled": true
   },
   "outputs": [
    {
     "data": {
      "text/html": [
       "<div>\n",
       "<style scoped>\n",
       "    .dataframe tbody tr th:only-of-type {\n",
       "        vertical-align: middle;\n",
       "    }\n",
       "\n",
       "    .dataframe tbody tr th {\n",
       "        vertical-align: top;\n",
       "    }\n",
       "\n",
       "    .dataframe thead th {\n",
       "        text-align: right;\n",
       "    }\n",
       "</style>\n",
       "<table border=\"1\" class=\"dataframe\">\n",
       "  <thead>\n",
       "    <tr style=\"text-align: right;\">\n",
       "      <th></th>\n",
       "      <th>id</th>\n",
       "      <th>fl_matriz</th>\n",
       "      <th>sg_uf</th>\n",
       "      <th>natureza_juridica_macro</th>\n",
       "      <th>setor</th>\n",
       "      <th>idade_emp_cat</th>\n",
       "      <th>fl_me</th>\n",
       "      <th>fl_sa</th>\n",
       "      <th>fl_epp</th>\n",
       "      <th>fl_mei</th>\n",
       "      <th>fl_ltda</th>\n",
       "      <th>fl_st_especial</th>\n",
       "      <th>fl_email</th>\n",
       "      <th>fl_telefone</th>\n",
       "      <th>fl_rm</th>\n",
       "      <th>fl_optante_simples</th>\n",
       "      <th>fl_optante_simei</th>\n",
       "      <th>fl_simples_irregular</th>\n",
       "      <th>fl_passivel_iss</th>\n",
       "      <th>qt_filiais</th>\n",
       "    </tr>\n",
       "  </thead>\n",
       "  <tbody>\n",
       "    <tr>\n",
       "      <th>0</th>\n",
       "      <td>a6984c3ae395090e3bee8ad63c3758b110de096d5d8195...</td>\n",
       "      <td>1</td>\n",
       "      <td>RN</td>\n",
       "      <td>ENTIDADES EMPRESARIAIS</td>\n",
       "      <td>CONSTRUÇÃO CIVIL</td>\n",
       "      <td>10 a 15</td>\n",
       "      <td>0</td>\n",
       "      <td>0</td>\n",
       "      <td>0</td>\n",
       "      <td>0</td>\n",
       "      <td>0</td>\n",
       "      <td>0</td>\n",
       "      <td>1</td>\n",
       "      <td>1</td>\n",
       "      <td>1</td>\n",
       "      <td>1</td>\n",
       "      <td>0</td>\n",
       "      <td>0</td>\n",
       "      <td>1</td>\n",
       "      <td>0</td>\n",
       "    </tr>\n",
       "    <tr>\n",
       "      <th>1</th>\n",
       "      <td>6178f41ade1365e44bc2c46654c2c8c0eaae27dcb476c4...</td>\n",
       "      <td>1</td>\n",
       "      <td>PI</td>\n",
       "      <td>OUTROS</td>\n",
       "      <td>SERVIÇO</td>\n",
       "      <td>1 a 5</td>\n",
       "      <td>0</td>\n",
       "      <td>0</td>\n",
       "      <td>0</td>\n",
       "      <td>1</td>\n",
       "      <td>0</td>\n",
       "      <td>0</td>\n",
       "      <td>1</td>\n",
       "      <td>1</td>\n",
       "      <td>1</td>\n",
       "      <td>0</td>\n",
       "      <td>0</td>\n",
       "      <td>0</td>\n",
       "      <td>1</td>\n",
       "      <td>0</td>\n",
       "    </tr>\n",
       "    <tr>\n",
       "      <th>2</th>\n",
       "      <td>4a7e5069a397f12fdd7fd57111d6dc5d3ba558958efc02...</td>\n",
       "      <td>1</td>\n",
       "      <td>AM</td>\n",
       "      <td>OUTROS</td>\n",
       "      <td>SERVIÇO</td>\n",
       "      <td>5 a 10</td>\n",
       "      <td>0</td>\n",
       "      <td>0</td>\n",
       "      <td>0</td>\n",
       "      <td>1</td>\n",
       "      <td>0</td>\n",
       "      <td>0</td>\n",
       "      <td>0</td>\n",
       "      <td>1</td>\n",
       "      <td>1</td>\n",
       "      <td>1</td>\n",
       "      <td>1</td>\n",
       "      <td>0</td>\n",
       "      <td>1</td>\n",
       "      <td>0</td>\n",
       "    </tr>\n",
       "    <tr>\n",
       "      <th>3</th>\n",
       "      <td>3348900fe63216a439d2e5238c79ddd46ede454df7b9d8...</td>\n",
       "      <td>1</td>\n",
       "      <td>AM</td>\n",
       "      <td>OUTROS</td>\n",
       "      <td>SERVIÇO</td>\n",
       "      <td>5 a 10</td>\n",
       "      <td>0</td>\n",
       "      <td>0</td>\n",
       "      <td>0</td>\n",
       "      <td>0</td>\n",
       "      <td>0</td>\n",
       "      <td>0</td>\n",
       "      <td>1</td>\n",
       "      <td>1</td>\n",
       "      <td>1</td>\n",
       "      <td>1</td>\n",
       "      <td>0</td>\n",
       "      <td>0</td>\n",
       "      <td>1</td>\n",
       "      <td>0</td>\n",
       "    </tr>\n",
       "    <tr>\n",
       "      <th>4</th>\n",
       "      <td>1f9bcabc9d3173c1fe769899e4fac14b053037b953a1e4...</td>\n",
       "      <td>1</td>\n",
       "      <td>RN</td>\n",
       "      <td>OUTROS</td>\n",
       "      <td>SERVIÇO</td>\n",
       "      <td>1 a 5</td>\n",
       "      <td>0</td>\n",
       "      <td>0</td>\n",
       "      <td>0</td>\n",
       "      <td>0</td>\n",
       "      <td>0</td>\n",
       "      <td>0</td>\n",
       "      <td>1</td>\n",
       "      <td>1</td>\n",
       "      <td>1</td>\n",
       "      <td>1</td>\n",
       "      <td>0</td>\n",
       "      <td>0</td>\n",
       "      <td>1</td>\n",
       "      <td>0</td>\n",
       "    </tr>\n",
       "  </tbody>\n",
       "</table>\n",
       "</div>"
      ],
      "text/plain": [
       "                                                  id  fl_matriz sg_uf  \\\n",
       "0  a6984c3ae395090e3bee8ad63c3758b110de096d5d8195...          1    RN   \n",
       "1  6178f41ade1365e44bc2c46654c2c8c0eaae27dcb476c4...          1    PI   \n",
       "2  4a7e5069a397f12fdd7fd57111d6dc5d3ba558958efc02...          1    AM   \n",
       "3  3348900fe63216a439d2e5238c79ddd46ede454df7b9d8...          1    AM   \n",
       "4  1f9bcabc9d3173c1fe769899e4fac14b053037b953a1e4...          1    RN   \n",
       "\n",
       "  natureza_juridica_macro             setor idade_emp_cat  fl_me  fl_sa  \\\n",
       "0  ENTIDADES EMPRESARIAIS  CONSTRUÇÃO CIVIL       10 a 15      0      0   \n",
       "1                  OUTROS           SERVIÇO         1 a 5      0      0   \n",
       "2                  OUTROS           SERVIÇO        5 a 10      0      0   \n",
       "3                  OUTROS           SERVIÇO        5 a 10      0      0   \n",
       "4                  OUTROS           SERVIÇO         1 a 5      0      0   \n",
       "\n",
       "   fl_epp  fl_mei  fl_ltda  fl_st_especial  fl_email  fl_telefone  fl_rm  \\\n",
       "0       0       0        0               0         1            1      1   \n",
       "1       0       1        0               0         1            1      1   \n",
       "2       0       1        0               0         0            1      1   \n",
       "3       0       0        0               0         1            1      1   \n",
       "4       0       0        0               0         1            1      1   \n",
       "\n",
       "   fl_optante_simples  fl_optante_simei  fl_simples_irregular  \\\n",
       "0                   1                 0                     0   \n",
       "1                   0                 0                     0   \n",
       "2                   1                 1                     0   \n",
       "3                   1                 0                     0   \n",
       "4                   1                 0                     0   \n",
       "\n",
       "   fl_passivel_iss  qt_filiais  \n",
       "0                1           0  \n",
       "1                1           0  \n",
       "2                1           0  \n",
       "3                1           0  \n",
       "4                1           0  "
      ]
     },
     "execution_count": 6,
     "metadata": {},
     "output_type": "execute_result"
    }
   ],
   "source": [
    "mercado.head()"
   ]
  },
  {
   "cell_type": "code",
   "execution_count": 12,
   "metadata": {},
   "outputs": [],
   "source": [
    "variaveis_categoricas = ['sg_uf', 'natureza_juridica_macro', 'setor', 'idade_emp_cat']\n",
    "mercado_dummies = pd.get_dummies(mercado[variaveis_categoricas])"
   ]
  },
  {
   "cell_type": "code",
   "execution_count": 13,
   "metadata": {},
   "outputs": [
    {
     "data": {
      "text/plain": [
       "(462298, 25)"
      ]
     },
     "execution_count": 13,
     "metadata": {},
     "output_type": "execute_result"
    }
   ],
   "source": [
    "mercado_dummies.shape"
   ]
  },
  {
   "cell_type": "code",
   "execution_count": 14,
   "metadata": {},
   "outputs": [
    {
     "data": {
      "text/html": [
       "<div>\n",
       "<style scoped>\n",
       "    .dataframe tbody tr th:only-of-type {\n",
       "        vertical-align: middle;\n",
       "    }\n",
       "\n",
       "    .dataframe tbody tr th {\n",
       "        vertical-align: top;\n",
       "    }\n",
       "\n",
       "    .dataframe thead th {\n",
       "        text-align: right;\n",
       "    }\n",
       "</style>\n",
       "<table border=\"1\" class=\"dataframe\">\n",
       "  <thead>\n",
       "    <tr style=\"text-align: right;\">\n",
       "      <th></th>\n",
       "      <th>sg_uf_AC</th>\n",
       "      <th>sg_uf_AM</th>\n",
       "      <th>sg_uf_MA</th>\n",
       "      <th>sg_uf_PI</th>\n",
       "      <th>sg_uf_RN</th>\n",
       "      <th>sg_uf_RO</th>\n",
       "      <th>natureza_juridica_macro_ADMINISTRACAO PUBLICA</th>\n",
       "      <th>natureza_juridica_macro_CARGO POLITICO</th>\n",
       "      <th>natureza_juridica_macro_ENTIDADES EMPRESARIAIS</th>\n",
       "      <th>natureza_juridica_macro_ENTIDADES SEM FINS LUCRATIVOS</th>\n",
       "      <th>...</th>\n",
       "      <th>setor_CONSTRUÇÃO CIVIL</th>\n",
       "      <th>setor_INDUSTRIA</th>\n",
       "      <th>setor_SERVIÇO</th>\n",
       "      <th>setor_SETOR INDEFINIDO</th>\n",
       "      <th>idade_emp_cat_1 a 5</th>\n",
       "      <th>idade_emp_cat_10 a 15</th>\n",
       "      <th>idade_emp_cat_15 a 20</th>\n",
       "      <th>idade_emp_cat_5 a 10</th>\n",
       "      <th>idade_emp_cat_&lt;= 1</th>\n",
       "      <th>idade_emp_cat_&gt; 20</th>\n",
       "    </tr>\n",
       "  </thead>\n",
       "  <tbody>\n",
       "    <tr>\n",
       "      <th>0</th>\n",
       "      <td>0</td>\n",
       "      <td>0</td>\n",
       "      <td>0</td>\n",
       "      <td>0</td>\n",
       "      <td>1</td>\n",
       "      <td>0</td>\n",
       "      <td>0</td>\n",
       "      <td>0</td>\n",
       "      <td>1</td>\n",
       "      <td>0</td>\n",
       "      <td>...</td>\n",
       "      <td>1</td>\n",
       "      <td>0</td>\n",
       "      <td>0</td>\n",
       "      <td>0</td>\n",
       "      <td>0</td>\n",
       "      <td>1</td>\n",
       "      <td>0</td>\n",
       "      <td>0</td>\n",
       "      <td>0</td>\n",
       "      <td>0</td>\n",
       "    </tr>\n",
       "    <tr>\n",
       "      <th>1</th>\n",
       "      <td>0</td>\n",
       "      <td>0</td>\n",
       "      <td>0</td>\n",
       "      <td>1</td>\n",
       "      <td>0</td>\n",
       "      <td>0</td>\n",
       "      <td>0</td>\n",
       "      <td>0</td>\n",
       "      <td>0</td>\n",
       "      <td>0</td>\n",
       "      <td>...</td>\n",
       "      <td>0</td>\n",
       "      <td>0</td>\n",
       "      <td>1</td>\n",
       "      <td>0</td>\n",
       "      <td>1</td>\n",
       "      <td>0</td>\n",
       "      <td>0</td>\n",
       "      <td>0</td>\n",
       "      <td>0</td>\n",
       "      <td>0</td>\n",
       "    </tr>\n",
       "    <tr>\n",
       "      <th>2</th>\n",
       "      <td>0</td>\n",
       "      <td>1</td>\n",
       "      <td>0</td>\n",
       "      <td>0</td>\n",
       "      <td>0</td>\n",
       "      <td>0</td>\n",
       "      <td>0</td>\n",
       "      <td>0</td>\n",
       "      <td>0</td>\n",
       "      <td>0</td>\n",
       "      <td>...</td>\n",
       "      <td>0</td>\n",
       "      <td>0</td>\n",
       "      <td>1</td>\n",
       "      <td>0</td>\n",
       "      <td>0</td>\n",
       "      <td>0</td>\n",
       "      <td>0</td>\n",
       "      <td>1</td>\n",
       "      <td>0</td>\n",
       "      <td>0</td>\n",
       "    </tr>\n",
       "    <tr>\n",
       "      <th>3</th>\n",
       "      <td>0</td>\n",
       "      <td>1</td>\n",
       "      <td>0</td>\n",
       "      <td>0</td>\n",
       "      <td>0</td>\n",
       "      <td>0</td>\n",
       "      <td>0</td>\n",
       "      <td>0</td>\n",
       "      <td>0</td>\n",
       "      <td>0</td>\n",
       "      <td>...</td>\n",
       "      <td>0</td>\n",
       "      <td>0</td>\n",
       "      <td>1</td>\n",
       "      <td>0</td>\n",
       "      <td>0</td>\n",
       "      <td>0</td>\n",
       "      <td>0</td>\n",
       "      <td>1</td>\n",
       "      <td>0</td>\n",
       "      <td>0</td>\n",
       "    </tr>\n",
       "    <tr>\n",
       "      <th>4</th>\n",
       "      <td>0</td>\n",
       "      <td>0</td>\n",
       "      <td>0</td>\n",
       "      <td>0</td>\n",
       "      <td>1</td>\n",
       "      <td>0</td>\n",
       "      <td>0</td>\n",
       "      <td>0</td>\n",
       "      <td>0</td>\n",
       "      <td>0</td>\n",
       "      <td>...</td>\n",
       "      <td>0</td>\n",
       "      <td>0</td>\n",
       "      <td>1</td>\n",
       "      <td>0</td>\n",
       "      <td>1</td>\n",
       "      <td>0</td>\n",
       "      <td>0</td>\n",
       "      <td>0</td>\n",
       "      <td>0</td>\n",
       "      <td>0</td>\n",
       "    </tr>\n",
       "  </tbody>\n",
       "</table>\n",
       "<p>5 rows × 25 columns</p>\n",
       "</div>"
      ],
      "text/plain": [
       "   sg_uf_AC  sg_uf_AM  sg_uf_MA  sg_uf_PI  sg_uf_RN  sg_uf_RO  \\\n",
       "0         0         0         0         0         1         0   \n",
       "1         0         0         0         1         0         0   \n",
       "2         0         1         0         0         0         0   \n",
       "3         0         1         0         0         0         0   \n",
       "4         0         0         0         0         1         0   \n",
       "\n",
       "   natureza_juridica_macro_ADMINISTRACAO PUBLICA  \\\n",
       "0                                              0   \n",
       "1                                              0   \n",
       "2                                              0   \n",
       "3                                              0   \n",
       "4                                              0   \n",
       "\n",
       "   natureza_juridica_macro_CARGO POLITICO  \\\n",
       "0                                       0   \n",
       "1                                       0   \n",
       "2                                       0   \n",
       "3                                       0   \n",
       "4                                       0   \n",
       "\n",
       "   natureza_juridica_macro_ENTIDADES EMPRESARIAIS  \\\n",
       "0                                               1   \n",
       "1                                               0   \n",
       "2                                               0   \n",
       "3                                               0   \n",
       "4                                               0   \n",
       "\n",
       "   natureza_juridica_macro_ENTIDADES SEM FINS LUCRATIVOS  ...  \\\n",
       "0                                                  0      ...   \n",
       "1                                                  0      ...   \n",
       "2                                                  0      ...   \n",
       "3                                                  0      ...   \n",
       "4                                                  0      ...   \n",
       "\n",
       "   setor_CONSTRUÇÃO CIVIL  setor_INDUSTRIA  setor_SERVIÇO  \\\n",
       "0                       1                0              0   \n",
       "1                       0                0              1   \n",
       "2                       0                0              1   \n",
       "3                       0                0              1   \n",
       "4                       0                0              1   \n",
       "\n",
       "   setor_SETOR INDEFINIDO  idade_emp_cat_1 a 5  idade_emp_cat_10 a 15  \\\n",
       "0                       0                    0                      1   \n",
       "1                       0                    1                      0   \n",
       "2                       0                    0                      0   \n",
       "3                       0                    0                      0   \n",
       "4                       0                    1                      0   \n",
       "\n",
       "   idade_emp_cat_15 a 20  idade_emp_cat_5 a 10  idade_emp_cat_<= 1  \\\n",
       "0                      0                     0                   0   \n",
       "1                      0                     0                   0   \n",
       "2                      0                     1                   0   \n",
       "3                      0                     1                   0   \n",
       "4                      0                     0                   0   \n",
       "\n",
       "   idade_emp_cat_> 20  \n",
       "0                   0  \n",
       "1                   0  \n",
       "2                   0  \n",
       "3                   0  \n",
       "4                   0  \n",
       "\n",
       "[5 rows x 25 columns]"
      ]
     },
     "execution_count": 14,
     "metadata": {},
     "output_type": "execute_result"
    }
   ],
   "source": [
    "mercado_dummies.head()"
   ]
  },
  {
   "cell_type": "code",
   "execution_count": 15,
   "metadata": {},
   "outputs": [],
   "source": [
    "mercado.drop(columns=variaveis_categoricas, inplace=True)"
   ]
  },
  {
   "cell_type": "code",
   "execution_count": 16,
   "metadata": {},
   "outputs": [],
   "source": [
    "mercado = mercado.merge(mercado_dummies, left_index=True, right_index=True)"
   ]
  },
  {
   "cell_type": "code",
   "execution_count": 17,
   "metadata": {},
   "outputs": [
    {
     "data": {
      "text/plain": [
       "(462298, 41)"
      ]
     },
     "execution_count": 17,
     "metadata": {},
     "output_type": "execute_result"
    }
   ],
   "source": [
    "mercado.shape"
   ]
  },
  {
   "cell_type": "code",
   "execution_count": 18,
   "metadata": {},
   "outputs": [
    {
     "data": {
      "text/html": [
       "<div>\n",
       "<style scoped>\n",
       "    .dataframe tbody tr th:only-of-type {\n",
       "        vertical-align: middle;\n",
       "    }\n",
       "\n",
       "    .dataframe tbody tr th {\n",
       "        vertical-align: top;\n",
       "    }\n",
       "\n",
       "    .dataframe thead th {\n",
       "        text-align: right;\n",
       "    }\n",
       "</style>\n",
       "<table border=\"1\" class=\"dataframe\">\n",
       "  <thead>\n",
       "    <tr style=\"text-align: right;\">\n",
       "      <th></th>\n",
       "      <th>id</th>\n",
       "      <th>fl_matriz</th>\n",
       "      <th>fl_me</th>\n",
       "      <th>fl_sa</th>\n",
       "      <th>fl_epp</th>\n",
       "      <th>fl_mei</th>\n",
       "      <th>fl_ltda</th>\n",
       "      <th>fl_st_especial</th>\n",
       "      <th>fl_email</th>\n",
       "      <th>fl_telefone</th>\n",
       "      <th>...</th>\n",
       "      <th>setor_CONSTRUÇÃO CIVIL</th>\n",
       "      <th>setor_INDUSTRIA</th>\n",
       "      <th>setor_SERVIÇO</th>\n",
       "      <th>setor_SETOR INDEFINIDO</th>\n",
       "      <th>idade_emp_cat_1 a 5</th>\n",
       "      <th>idade_emp_cat_10 a 15</th>\n",
       "      <th>idade_emp_cat_15 a 20</th>\n",
       "      <th>idade_emp_cat_5 a 10</th>\n",
       "      <th>idade_emp_cat_&lt;= 1</th>\n",
       "      <th>idade_emp_cat_&gt; 20</th>\n",
       "    </tr>\n",
       "  </thead>\n",
       "  <tbody>\n",
       "    <tr>\n",
       "      <th>0</th>\n",
       "      <td>a6984c3ae395090e3bee8ad63c3758b110de096d5d8195...</td>\n",
       "      <td>1</td>\n",
       "      <td>0</td>\n",
       "      <td>0</td>\n",
       "      <td>0</td>\n",
       "      <td>0</td>\n",
       "      <td>0</td>\n",
       "      <td>0</td>\n",
       "      <td>1</td>\n",
       "      <td>1</td>\n",
       "      <td>...</td>\n",
       "      <td>1</td>\n",
       "      <td>0</td>\n",
       "      <td>0</td>\n",
       "      <td>0</td>\n",
       "      <td>0</td>\n",
       "      <td>1</td>\n",
       "      <td>0</td>\n",
       "      <td>0</td>\n",
       "      <td>0</td>\n",
       "      <td>0</td>\n",
       "    </tr>\n",
       "    <tr>\n",
       "      <th>1</th>\n",
       "      <td>6178f41ade1365e44bc2c46654c2c8c0eaae27dcb476c4...</td>\n",
       "      <td>1</td>\n",
       "      <td>0</td>\n",
       "      <td>0</td>\n",
       "      <td>0</td>\n",
       "      <td>1</td>\n",
       "      <td>0</td>\n",
       "      <td>0</td>\n",
       "      <td>1</td>\n",
       "      <td>1</td>\n",
       "      <td>...</td>\n",
       "      <td>0</td>\n",
       "      <td>0</td>\n",
       "      <td>1</td>\n",
       "      <td>0</td>\n",
       "      <td>1</td>\n",
       "      <td>0</td>\n",
       "      <td>0</td>\n",
       "      <td>0</td>\n",
       "      <td>0</td>\n",
       "      <td>0</td>\n",
       "    </tr>\n",
       "    <tr>\n",
       "      <th>2</th>\n",
       "      <td>4a7e5069a397f12fdd7fd57111d6dc5d3ba558958efc02...</td>\n",
       "      <td>1</td>\n",
       "      <td>0</td>\n",
       "      <td>0</td>\n",
       "      <td>0</td>\n",
       "      <td>1</td>\n",
       "      <td>0</td>\n",
       "      <td>0</td>\n",
       "      <td>0</td>\n",
       "      <td>1</td>\n",
       "      <td>...</td>\n",
       "      <td>0</td>\n",
       "      <td>0</td>\n",
       "      <td>1</td>\n",
       "      <td>0</td>\n",
       "      <td>0</td>\n",
       "      <td>0</td>\n",
       "      <td>0</td>\n",
       "      <td>1</td>\n",
       "      <td>0</td>\n",
       "      <td>0</td>\n",
       "    </tr>\n",
       "    <tr>\n",
       "      <th>3</th>\n",
       "      <td>3348900fe63216a439d2e5238c79ddd46ede454df7b9d8...</td>\n",
       "      <td>1</td>\n",
       "      <td>0</td>\n",
       "      <td>0</td>\n",
       "      <td>0</td>\n",
       "      <td>0</td>\n",
       "      <td>0</td>\n",
       "      <td>0</td>\n",
       "      <td>1</td>\n",
       "      <td>1</td>\n",
       "      <td>...</td>\n",
       "      <td>0</td>\n",
       "      <td>0</td>\n",
       "      <td>1</td>\n",
       "      <td>0</td>\n",
       "      <td>0</td>\n",
       "      <td>0</td>\n",
       "      <td>0</td>\n",
       "      <td>1</td>\n",
       "      <td>0</td>\n",
       "      <td>0</td>\n",
       "    </tr>\n",
       "    <tr>\n",
       "      <th>4</th>\n",
       "      <td>1f9bcabc9d3173c1fe769899e4fac14b053037b953a1e4...</td>\n",
       "      <td>1</td>\n",
       "      <td>0</td>\n",
       "      <td>0</td>\n",
       "      <td>0</td>\n",
       "      <td>0</td>\n",
       "      <td>0</td>\n",
       "      <td>0</td>\n",
       "      <td>1</td>\n",
       "      <td>1</td>\n",
       "      <td>...</td>\n",
       "      <td>0</td>\n",
       "      <td>0</td>\n",
       "      <td>1</td>\n",
       "      <td>0</td>\n",
       "      <td>1</td>\n",
       "      <td>0</td>\n",
       "      <td>0</td>\n",
       "      <td>0</td>\n",
       "      <td>0</td>\n",
       "      <td>0</td>\n",
       "    </tr>\n",
       "  </tbody>\n",
       "</table>\n",
       "<p>5 rows × 41 columns</p>\n",
       "</div>"
      ],
      "text/plain": [
       "                                                  id  fl_matriz  fl_me  fl_sa  \\\n",
       "0  a6984c3ae395090e3bee8ad63c3758b110de096d5d8195...          1      0      0   \n",
       "1  6178f41ade1365e44bc2c46654c2c8c0eaae27dcb476c4...          1      0      0   \n",
       "2  4a7e5069a397f12fdd7fd57111d6dc5d3ba558958efc02...          1      0      0   \n",
       "3  3348900fe63216a439d2e5238c79ddd46ede454df7b9d8...          1      0      0   \n",
       "4  1f9bcabc9d3173c1fe769899e4fac14b053037b953a1e4...          1      0      0   \n",
       "\n",
       "   fl_epp  fl_mei  fl_ltda  fl_st_especial  fl_email  fl_telefone  ...  \\\n",
       "0       0       0        0               0         1            1  ...   \n",
       "1       0       1        0               0         1            1  ...   \n",
       "2       0       1        0               0         0            1  ...   \n",
       "3       0       0        0               0         1            1  ...   \n",
       "4       0       0        0               0         1            1  ...   \n",
       "\n",
       "   setor_CONSTRUÇÃO CIVIL  setor_INDUSTRIA  setor_SERVIÇO  \\\n",
       "0                       1                0              0   \n",
       "1                       0                0              1   \n",
       "2                       0                0              1   \n",
       "3                       0                0              1   \n",
       "4                       0                0              1   \n",
       "\n",
       "   setor_SETOR INDEFINIDO  idade_emp_cat_1 a 5  idade_emp_cat_10 a 15  \\\n",
       "0                       0                    0                      1   \n",
       "1                       0                    1                      0   \n",
       "2                       0                    0                      0   \n",
       "3                       0                    0                      0   \n",
       "4                       0                    1                      0   \n",
       "\n",
       "   idade_emp_cat_15 a 20  idade_emp_cat_5 a 10  idade_emp_cat_<= 1  \\\n",
       "0                      0                     0                   0   \n",
       "1                      0                     0                   0   \n",
       "2                      0                     1                   0   \n",
       "3                      0                     1                   0   \n",
       "4                      0                     0                   0   \n",
       "\n",
       "   idade_emp_cat_> 20  \n",
       "0                   0  \n",
       "1                   0  \n",
       "2                   0  \n",
       "3                   0  \n",
       "4                   0  \n",
       "\n",
       "[5 rows x 41 columns]"
      ]
     },
     "execution_count": 18,
     "metadata": {},
     "output_type": "execute_result"
    }
   ],
   "source": [
    "mercado.head()"
   ]
  },
  {
   "cell_type": "code",
   "execution_count": 39,
   "metadata": {},
   "outputs": [],
   "source": [
    "empresa1_ajustada = empresa1.copy()\n",
    "empresa1_ajustada['Cliente'] = int(1)\n",
    "empresa1_ajustada = empresa1_ajustada[['id','Cliente']]"
   ]
  },
  {
   "cell_type": "code",
   "execution_count": 88,
   "metadata": {},
   "outputs": [
    {
     "name": "stdout",
     "output_type": "stream",
     "text": [
      "<class 'pandas.core.frame.DataFrame'>\n",
      "Int64Index: 555 entries, 0 to 554\n",
      "Data columns (total 2 columns):\n",
      "id         555 non-null object\n",
      "Cliente    555 non-null int64\n",
      "dtypes: int64(1), object(1)\n",
      "memory usage: 13.0+ KB\n"
     ]
    }
   ],
   "source": [
    "empresa1_ajustada.info()"
   ]
  },
  {
   "cell_type": "code",
   "execution_count": 106,
   "metadata": {},
   "outputs": [],
   "source": [
    "cliente_empresa1 = pd.merge(mercado, empresa1_ajustada, on='id', how='outer')"
   ]
  },
  {
   "cell_type": "code",
   "execution_count": 109,
   "metadata": {},
   "outputs": [],
   "source": [
    "cliente_empresa1['Cliente'] = cliente_empresa1['Cliente'].fillna(0).astype(int)"
   ]
  },
  {
   "cell_type": "code",
   "execution_count": 110,
   "metadata": {
    "scrolled": true
   },
   "outputs": [
    {
     "name": "stdout",
     "output_type": "stream",
     "text": [
      "<class 'pandas.core.frame.DataFrame'>\n",
      "Int64Index: 462298 entries, 0 to 462297\n",
      "Data columns (total 42 columns):\n",
      "id                                                        462298 non-null object\n",
      "fl_matriz                                                 462298 non-null int64\n",
      "fl_me                                                     462298 non-null int64\n",
      "fl_sa                                                     462298 non-null int64\n",
      "fl_epp                                                    462298 non-null int64\n",
      "fl_mei                                                    462298 non-null int64\n",
      "fl_ltda                                                   462298 non-null int64\n",
      "fl_st_especial                                            462298 non-null int64\n",
      "fl_email                                                  462298 non-null int64\n",
      "fl_telefone                                               462298 non-null int64\n",
      "fl_rm                                                     462298 non-null int64\n",
      "fl_optante_simples                                        462298 non-null int64\n",
      "fl_optante_simei                                          462298 non-null int64\n",
      "fl_simples_irregular                                      462298 non-null int64\n",
      "fl_passivel_iss                                           462298 non-null int64\n",
      "qt_filiais                                                462298 non-null int64\n",
      "sg_uf_AC                                                  462298 non-null uint8\n",
      "sg_uf_AM                                                  462298 non-null uint8\n",
      "sg_uf_MA                                                  462298 non-null uint8\n",
      "sg_uf_PI                                                  462298 non-null uint8\n",
      "sg_uf_RN                                                  462298 non-null uint8\n",
      "sg_uf_RO                                                  462298 non-null uint8\n",
      "natureza_juridica_macro_ADMINISTRACAO PUBLICA             462298 non-null uint8\n",
      "natureza_juridica_macro_CARGO POLITICO                    462298 non-null uint8\n",
      "natureza_juridica_macro_ENTIDADES EMPRESARIAIS            462298 non-null uint8\n",
      "natureza_juridica_macro_ENTIDADES SEM FINS LUCRATIVOS     462298 non-null uint8\n",
      "natureza_juridica_macro_INSTITUICOES EXTRATERRITORIAIS    462298 non-null uint8\n",
      "natureza_juridica_macro_OUTROS                            462298 non-null uint8\n",
      "natureza_juridica_macro_PESSOAS FISICAS                   462298 non-null uint8\n",
      "setor_AGROPECUARIA                                        462298 non-null uint8\n",
      "setor_COMERCIO                                            462298 non-null uint8\n",
      "setor_CONSTRUÇÃO CIVIL                                    462298 non-null uint8\n",
      "setor_INDUSTRIA                                           462298 non-null uint8\n",
      "setor_SERVIÇO                                             462298 non-null uint8\n",
      "setor_SETOR INDEFINIDO                                    462298 non-null uint8\n",
      "idade_emp_cat_1 a 5                                       462298 non-null uint8\n",
      "idade_emp_cat_10 a 15                                     462298 non-null uint8\n",
      "idade_emp_cat_15 a 20                                     462298 non-null uint8\n",
      "idade_emp_cat_5 a 10                                      462298 non-null uint8\n",
      "idade_emp_cat_<= 1                                        462298 non-null uint8\n",
      "idade_emp_cat_> 20                                        462298 non-null uint8\n",
      "Cliente                                                   462298 non-null int64\n",
      "dtypes: int64(16), object(1), uint8(25)\n",
      "memory usage: 74.5+ MB\n"
     ]
    }
   ],
   "source": [
    "cliente_empresa1.info()"
   ]
  },
  {
   "cell_type": "code",
   "execution_count": 119,
   "metadata": {},
   "outputs": [],
   "source": [
    "from minisom import MiniSom\n",
    "from sklearn.preprocessing import MinMaxScaler"
   ]
  },
  {
   "cell_type": "code",
   "execution_count": 116,
   "metadata": {},
   "outputs": [
    {
     "data": {
      "text/plain": [
       "(462298, 42)"
      ]
     },
     "execution_count": 116,
     "metadata": {},
     "output_type": "execute_result"
    }
   ],
   "source": [
    "cliente_empresa1.shape"
   ]
  },
  {
   "cell_type": "code",
   "execution_count": 112,
   "metadata": {},
   "outputs": [],
   "source": [
    "X = cliente_empresa1.iloc[:, 1:-1].values"
   ]
  },
  {
   "cell_type": "code",
   "execution_count": 113,
   "metadata": {},
   "outputs": [],
   "source": [
    "y = cliente_empresa1.iloc[:, -1].values"
   ]
  },
  {
   "cell_type": "code",
   "execution_count": 114,
   "metadata": {
    "scrolled": true
   },
   "outputs": [
    {
     "data": {
      "text/plain": [
       "array([[1, 0, 0, ..., 0, 0, 0],\n",
       "       [1, 0, 0, ..., 0, 0, 0],\n",
       "       [1, 0, 0, ..., 1, 0, 0],\n",
       "       ...,\n",
       "       [1, 0, 0, ..., 0, 0, 1],\n",
       "       [1, 0, 0, ..., 0, 0, 0],\n",
       "       [1, 0, 0, ..., 0, 1, 0]])"
      ]
     },
     "execution_count": 114,
     "metadata": {},
     "output_type": "execute_result"
    }
   ],
   "source": [
    "X"
   ]
  },
  {
   "cell_type": "code",
   "execution_count": 115,
   "metadata": {},
   "outputs": [],
   "source": [
    "normalizador = MinMaxScaler()"
   ]
  },
  {
   "cell_type": "code",
   "execution_count": 104,
   "metadata": {},
   "outputs": [],
   "source": [
    "X = normalizador.fit_transform(X)"
   ]
  },
  {
   "cell_type": "code",
   "execution_count": 105,
   "metadata": {},
   "outputs": [
    {
     "data": {
      "text/plain": [
       "array([[1., 0., 0., ..., 0., 0., 0.],\n",
       "       [1., 0., 0., ..., 0., 0., 0.],\n",
       "       [1., 0., 0., ..., 0., 1., 0.],\n",
       "       ...,\n",
       "       [1., 0., 0., ..., 0., 0., 0.],\n",
       "       [1., 0., 0., ..., 0., 0., 0.],\n",
       "       [1., 0., 0., ..., 0., 0., 1.]])"
      ]
     },
     "execution_count": 105,
     "metadata": {},
     "output_type": "execute_result"
    }
   ],
   "source": [
    "X"
   ]
  },
  {
   "cell_type": "code",
   "execution_count": 120,
   "metadata": {},
   "outputs": [],
   "source": [
    "som = MiniSom(x = 36, y = 36, input_len = 40, random_seed = 42)"
   ]
  },
  {
   "cell_type": "code",
   "execution_count": 121,
   "metadata": {},
   "outputs": [],
   "source": [
    "som.random_weights_init(X)"
   ]
  },
  {
   "cell_type": "code",
   "execution_count": 122,
   "metadata": {},
   "outputs": [],
   "source": [
    "som.train_random(data=X, num_iteration = 100)"
   ]
  },
  {
   "cell_type": "code",
   "execution_count": null,
   "metadata": {},
   "outputs": [],
   "source": []
  },
  {
   "cell_type": "code",
   "execution_count": 123,
   "metadata": {},
   "outputs": [],
   "source": [
    "from pylab import pcolor, colorbar, plot"
   ]
  },
  {
   "cell_type": "code",
   "execution_count": 125,
   "metadata": {},
   "outputs": [
    {
     "data": {
      "text/plain": [
       "<matplotlib.colorbar.Colorbar at 0x7f5354995400>"
      ]
     },
     "execution_count": 125,
     "metadata": {},
     "output_type": "execute_result"
    },
    {
     "data": {
      "image/png": "[encoded data removed]",
      "text/plain": [
       "<Figure size 432x288 with 2 Axes>"
      ]
     },
     "metadata": {
      "needs_background": "light"
     },
     "output_type": "display_data"
    }
   ],
   "source": [
    "pcolor(som.distance_map().T);\n",
    "colorbar()"
   ]
  },
  {
   "cell_type": "code",
   "execution_count": null,
   "metadata": {},
   "outputs": [],
   "source": []
  }
 ],
 "metadata": {
  "kernelspec": {
   "display_name": "Python 3",
   "language": "python",
   "name": "python3"
  },
  "language_info": {
   "codemirror_mode": {
    "name": "ipython",
    "version": 3
   },
   "file_extension": ".py",
   "mimetype": "text/x-python",
   "name": "python",
   "nbconvert_exporter": "python",
   "pygments_lexer": "ipython3",
   "version": "3.7.3"
  }
 },
 "nbformat": 4,
 "nbformat_minor": 2
}
