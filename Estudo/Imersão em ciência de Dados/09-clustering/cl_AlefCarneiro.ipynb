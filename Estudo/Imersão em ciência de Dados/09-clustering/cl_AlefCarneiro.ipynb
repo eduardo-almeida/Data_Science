{
  "nbformat": 4,
  "nbformat_minor": 0,
  "metadata": {
    "colab": {
      "name": "Notebook_KMeans_Assignment.ipynb",
      "version": "0.3.2",
      "provenance": []
    },
    "language_info": {
      "codemirror_mode": {
        "name": "ipython",
        "version": 3
      },
      "file_extension": ".py",
      "mimetype": "text/x-python",
      "name": "python",
      "nbconvert_exporter": "python",
      "pygments_lexer": "ipython3",
      "version": "3.6.8"
    },
    "kernelspec": {
      "display_name": "Python 3",
      "language": "python",
      "name": "python3"
    }
  },
  "cells": [
    {
      "metadata": {
        "id": "rdcg6yEKB-Z3",
        "colab_type": "text"
      },
      "cell_type": "markdown",
      "source": [
        "# <p style=\"text-align: center;\">Clusterização e algoritmo K-means</p> \n",
        "\n",
        "Organizar dados em agrupamentos é um dos modos mais fundamentais de compreensão e aprendizado. Como por exemplo, os organismos em um sistema biologico são classificados em domínio, reino, filo, classe, etc. A análise de agrupamento é o estudo formal de métodos e algoritmos para agrupar objetos de acordo com medidas ou características semelhantes. A análise de cluster, em sua essência, não utiliza rótulos de categoria que marcam objetos com identificadores anteriores, ou seja, rótulos de classe. A ausência de informação de categoria distingue o agrupamento de dados (aprendizagem não supervisionada) da classificação ou análise discriminante (aprendizagem supervisionada). O objetivo da clusterização é encontrar estruturas em dados e, portanto, é de natureza exploratória. \n",
        "\n",
        "A técnica de Clustering tem uma longa e rica história em uma variedade de campos científicos. Um dos algoritmos de clusterização mais populares e simples, o K-means, foi publicado pela primeira vez em 1955. Apesar do K-means ter sido proposto há mais de 50 anos e milhares de algoritmos de clustering terem sido publicados desde então, o K-means é ainda amplamente utilizado.\n",
        "\n",
        "Fonte: Anil K. Jain, Data clustering: 50 years beyond K-means, Pattern Recognition Letters, Volume 31, Issue 8, 2010"
      ]
    },
    {
      "metadata": {
        "id": "GI821AaiB-Z8",
        "colab_type": "text"
      },
      "cell_type": "markdown",
      "source": [
        "# Objetivo\n",
        "\n",
        "- Implementar as funções do algoritmo KMeans passo-a-passo\n",
        "- Comparar a implementação com o algoritmo do Scikit-Learn\n",
        "- Entender e codificar o Método do Cotovelo\n",
        "- Utilizar o K-means em um dataset real "
      ]
    },
    {
      "metadata": {
        "id": "FPuDOT_0B-Z_",
        "colab_type": "text"
      },
      "cell_type": "markdown",
      "source": [
        "# Carregando os dados de teste"
      ]
    },
    {
      "metadata": {
        "id": "L7hne9ZKB-aB",
        "colab_type": "text"
      },
      "cell_type": "markdown",
      "source": [
        "Carregue os dados disponibilizados, e identifique visualmente em quantos grupos os dados parecem estar distribuídos."
      ]
    },
    {
      "metadata": {
        "id": "_YjaMYUNB-aF",
        "colab_type": "code",
        "colab": {}
      },
      "cell_type": "code",
      "source": [
        "# import libraries\n",
        "\n",
        "# linear algebra\n",
        "import numpy as np \n",
        "# data processing\n",
        "import pandas as pd \n",
        "# data visualization\n",
        "from matplotlib import pyplot as plt \n",
        "# sys - to get maximum float value\n",
        "import sys"
      ],
      "execution_count": 0,
      "outputs": []
    },
    {
      "metadata": {
        "id": "lRFP_ljfB-aN",
        "colab_type": "code",
        "outputId": "5b857435-df1c-47a8-faa6-7ff56a7c8d6a",
        "colab": {
          "base_uri": "https://localhost:8080/",
          "height": 269
        }
      },
      "cell_type": "code",
      "source": [
        "# load the data with pandas\n",
        "url = 'https://raw.githubusercontent.com/InsightLab/data-science-cookbook/master/2019/09-clustering/dataset.csv'\n",
        "dataset = pd.read_csv(url, header=None)\n",
        "dataset = np.array(dataset)\n",
        "\n",
        "plt.scatter(dataset[:,0], dataset[:,1], s=10)\n",
        "plt.show()"
      ],
      "execution_count": 117,
      "outputs": [
        {
          "output_type": "display_data",
          "data": {
            "image/png": "[encoded data removed]",
            "text/plain": [
              "<Figure size 432x288 with 1 Axes>"
            ]
          },
          "metadata": {
            "tags": []
          }
        }
      ]
    },
    {
      "metadata": {
        "id": "nV2Up-j6B-aZ",
        "colab_type": "text"
      },
      "cell_type": "markdown",
      "source": [
        "# 1. Implementar o algoritmo K-means"
      ]
    },
    {
      "metadata": {
        "id": "iR9-r9ZFB-aa",
        "colab_type": "text"
      },
      "cell_type": "markdown",
      "source": [
        "Nesta etapa você irá implementar as funções que compõe o algoritmo do KMeans uma a uma. É importante entender e ler a documentação de cada função, principalmente as dimensões dos dados esperados na saída."
      ]
    },
    {
      "metadata": {
        "id": "7Ic921PdB-ac",
        "colab_type": "text"
      },
      "cell_type": "markdown",
      "source": [
        "## 1.1 Inicializar os centróides"
      ]
    },
    {
      "metadata": {
        "id": "3n5196okB-ae",
        "colab_type": "text"
      },
      "cell_type": "markdown",
      "source": [
        "A primeira etapa do algoritmo consiste em inicializar os centróides de maneira aleatória. Essa etapa é uma das mais importantes do algoritmo e uma boa inicialização pode diminuir bastante o tempo de convergência.\n",
        "\n",
        "Para inicializar os centróides você pode considerar o conhecimento prévio sobre os dados, mesmo sem saber a quantidade de grupos ou sua distribuição. \n",
        "\n",
        "> Dica: https://docs.scipy.org/doc/numpy/reference/generated/numpy.random.uniform.html "
      ]
    },
    {
      "metadata": {
        "id": "zTb8cKvoB-ah",
        "colab_type": "code",
        "colab": {}
      },
      "cell_type": "code",
      "source": [
        "def calculate_initial_centers(dataset, k):\n",
        "    \"\"\"\n",
        "    Inicializa os centróides iniciais de maneira arbitrária \n",
        "    \n",
        "    Argumentos:\n",
        "    dataset -- Conjunto de dados - [m,n]\n",
        "    k -- Número de centróides desejados\n",
        "    \n",
        "    Retornos:\n",
        "    centroids -- Lista com os centróides calculados - [k,n]\n",
        "    \"\"\"\n",
        "    \n",
        "    #### CODE HERE ####\n",
        "    m = dataset.shape[0]\n",
        "    \n",
        "    centroids = list(dataset[np.random.randint(0, m - 1, 1)])\n",
        "    \n",
        "    for it1 in range(k - 1):\n",
        "        max_dist = -1\n",
        "\n",
        "        for it2 in range(m):\n",
        "            nrst_cent_dist = sys.float_info.max\n",
        "\n",
        "            for it3 in range(len(centroids)):\n",
        "                dist = np.linalg.norm(dataset[it2] - centroids[it3])\n",
        "                # Get the distance to the nearest centroid\n",
        "                if (dist < nrst_cent_dist):\n",
        "                    nrst_cent_dist = dist\n",
        "                    nrst_cent = dataset[it2]\n",
        "\n",
        "            if (nrst_cent_dist > max_dist):\n",
        "                max_dist = nrst_cent_dist\n",
        "                new_cent = nrst_cent\n",
        "\n",
        "        centroids.append(new_cent)\n",
        "\n",
        "    centroids = np.array(centroids)\n",
        "    ### END OF CODE ###\n",
        "    \n",
        "    return centroids"
      ],
      "execution_count": 0,
      "outputs": []
    },
    {
      "metadata": {
        "id": "YOa0AtAjB-an",
        "colab_type": "text"
      },
      "cell_type": "markdown",
      "source": [
        "Teste a função criada e visualize os centróides que foram calculados."
      ]
    },
    {
      "metadata": {
        "id": "wtKBpmZPB-ao",
        "colab_type": "code",
        "outputId": "8c2292d0-5498-4607-bc84-f4405d1333ab",
        "colab": {
          "base_uri": "https://localhost:8080/",
          "height": 269
        }
      },
      "cell_type": "code",
      "source": [
        "k = 3\n",
        "centroids = calculate_initial_centers(dataset, k)\n",
        "\n",
        "plt.scatter(dataset[:,0], dataset[:,1], s=10)\n",
        "plt.scatter(centroids[:,0], centroids[:,1], marker='^', c='red',s=100)\n",
        "plt.show()"
      ],
      "execution_count": 119,
      "outputs": [
        {
          "output_type": "display_data",
          "data": {
            "image/png": "[encoded data removed]",
            "text/plain": [
              "<Figure size 432x288 with 1 Axes>"
            ]
          },
          "metadata": {
            "tags": []
          }
        }
      ]
    },
    {
      "metadata": {
        "id": "ECocKf-XB-aw",
        "colab_type": "text"
      },
      "cell_type": "markdown",
      "source": [
        "## 1.2 Definir os clusters"
      ]
    },
    {
      "metadata": {
        "id": "_cnHHwdaB-ay",
        "colab_type": "text"
      },
      "cell_type": "markdown",
      "source": [
        "Na segunda etapa do algoritmo serão definidos o grupo de cada dado, de acordo com os centróides calculados."
      ]
    },
    {
      "metadata": {
        "id": "0WSBS72NB-az",
        "colab_type": "text"
      },
      "cell_type": "markdown",
      "source": [
        "### 1.2.1 Função de distância "
      ]
    },
    {
      "metadata": {
        "id": "l5Ql0nNZB-a2",
        "colab_type": "text"
      },
      "cell_type": "markdown",
      "source": [
        "Codifique a função de distância euclidiana entre dois pontos __(a, b)__.\n",
        "\n",
        "Definido pela equação:\n",
        "\n",
        "$$ dist(a, b) = \\sqrt{(a_1-b_1)^{2}+(a_2-b_2)^{2}+ ... + (a_n-b_n)^{2}} $$\n",
        "\n",
        "$$ dist(a, b) = \\sqrt{\\sum_{i=1}^{n}(a_i-b_i)^{2}} $$"
      ]
    },
    {
      "metadata": {
        "id": "HkFp8WtJB-a4",
        "colab_type": "code",
        "colab": {}
      },
      "cell_type": "code",
      "source": [
        "def euclidean_distance(a, b):\n",
        "    \"\"\"\n",
        "    Calcula a distância euclidiana entre os pontos a e b\n",
        "    \n",
        "    Argumentos:\n",
        "    a -- Um ponto no espaço - [1,n]\n",
        "    b -- Um ponto no espaço - [1,n]\n",
        "    \n",
        "    Retornos:\n",
        "    distance -- Distância euclidiana entre os pontos\n",
        "    \"\"\"\n",
        "    \n",
        "    #### CODE HERE ####\n",
        "    n = len(a)\n",
        "    \n",
        "    distance = 0\n",
        "    for i in range(n):\n",
        "        distance = distance + (a[i] - b[i])**2\n",
        "    \n",
        "    distance = distance**0.5\n",
        "    ### END OF CODE ###\n",
        "    \n",
        "    return distance"
      ],
      "execution_count": 0,
      "outputs": []
    },
    {
      "metadata": {
        "id": "UoandUrjB-a_",
        "colab_type": "text"
      },
      "cell_type": "markdown",
      "source": [
        "Teste a função criada."
      ]
    },
    {
      "metadata": {
        "id": "zBaldVW4B-bC",
        "colab_type": "code",
        "outputId": "00fbc4ff-e6c0-4bd8-8e72-327bf3c70b78",
        "colab": {
          "base_uri": "https://localhost:8080/",
          "height": 34
        }
      },
      "cell_type": "code",
      "source": [
        "a = np.array([1, 5, 9])\n",
        "b = np.array([3, 7, 8])\n",
        "\n",
        "if (euclidean_distance(a,b) == 3):\n",
        "    print(\"Distância calculada corretamente!\")\n",
        "else:\n",
        "    print(\"Função de distância incorreta\")"
      ],
      "execution_count": 121,
      "outputs": [
        {
          "output_type": "stream",
          "text": [
            "Distância calculada corretamente!\n"
          ],
          "name": "stdout"
        }
      ]
    },
    {
      "metadata": {
        "id": "uQJJ3Ww0B-bM",
        "colab_type": "text"
      },
      "cell_type": "markdown",
      "source": [
        "### 1.2.2 Calcular o centroide mais próximo"
      ]
    },
    {
      "metadata": {
        "id": "Pvb46PMyB-bO",
        "colab_type": "text"
      },
      "cell_type": "markdown",
      "source": [
        "Utilizando a função de distância codificada anteriormente, complete a função abaixo para calcular o centroid mais próximo de um ponto qualquer. \n",
        "\n",
        "> Dica: https://docs.scipy.org/doc/numpy/reference/generated/numpy.argmin.html"
      ]
    },
    {
      "metadata": {
        "id": "Yl9ZWW52B-bP",
        "colab_type": "code",
        "colab": {}
      },
      "cell_type": "code",
      "source": [
        "def nearest_centroid(a, centroids):\n",
        "    \"\"\"\n",
        "    Calcula o índice do centroid mais próximo ao ponto a\n",
        "    \n",
        "    Argumentos:\n",
        "    a -- Um ponto no espaço - [1,n]\n",
        "    centroids -- Lista com os centróides - [k,n]\n",
        "    \n",
        "    Retornos:\n",
        "    nearest_index -- Índice do centróide mais próximo\n",
        "    \"\"\"\n",
        "    \n",
        "    #### CODE HERE ####\n",
        "    # Check if centroids has two dimensions and, if not, convert to\n",
        "    if len(centroids.shape) == 1:\n",
        "        centroids = np.array([centroids])\n",
        "    nrst_cent_dist = sys.float_info.max\n",
        "    \n",
        "    for j in range(len(centroids)):\n",
        "        dist = euclidean_distance(a, centroids[j])\n",
        "        if (dist < nrst_cent_dist):\n",
        "            nrst_cent_dist = dist\n",
        "            nearest_index = j\n",
        "    ### END OF CODE ###\n",
        "    \n",
        "    return nearest_index"
      ],
      "execution_count": 0,
      "outputs": []
    },
    {
      "metadata": {
        "id": "X2agS6uSB-bU",
        "colab_type": "text"
      },
      "cell_type": "markdown",
      "source": [
        "Teste a função criada"
      ]
    },
    {
      "metadata": {
        "id": "ncTlMZG8B-bW",
        "colab_type": "code",
        "outputId": "a9c5a607-5c04-4d6a-f6a1-d948762658c0",
        "colab": {
          "base_uri": "https://localhost:8080/",
          "height": 269
        }
      },
      "cell_type": "code",
      "source": [
        "# Seleciona um ponto aleatório no dataset\n",
        "index = np.random.randint(dataset.shape[0])\n",
        "a = dataset[index,:]\n",
        "\n",
        "# Usa a função para descobrir o centroid mais próximo\n",
        "idx_nearest_centroid = nearest_centroid(a, centroids)\n",
        "\n",
        "\n",
        "# Plota os dados ------------------------------------------------\n",
        "plt.scatter(dataset[:,0], dataset[:,1], s=10)\n",
        "# Plota o ponto aleatório escolhido em uma cor diferente\n",
        "plt.scatter(a[0], a[1], c='magenta', s=30)\n",
        "\n",
        "# Plota os centroids\n",
        "plt.scatter(centroids[:,0], centroids[:,1], marker='^', c='red', s=100)\n",
        "# Plota o centroid mais próximo com uma cor diferente\n",
        "plt.scatter(centroids[idx_nearest_centroid,0], \n",
        "            centroids[idx_nearest_centroid,1],\n",
        "            marker='^', c='springgreen', s=100)\n",
        "\n",
        "# Cria uma linha do ponto escolhido para o centroid selecionado\n",
        "plt.plot([a[0], centroids[idx_nearest_centroid,0]], \n",
        "         [a[1], centroids[idx_nearest_centroid,1]],c='orange')\n",
        "plt.annotate('CENTROID', (centroids[idx_nearest_centroid,0], \n",
        "            centroids[idx_nearest_centroid,1],))\n",
        "plt.show()"
      ],
      "execution_count": 123,
      "outputs": [
        {
          "output_type": "display_data",
          "data": {
            "image/png": "[encoded data removed]",
            "text/plain": [
              "<Figure size 432x288 with 1 Axes>"
            ]
          },
          "metadata": {
            "tags": []
          }
        }
      ]
    },
    {
      "metadata": {
        "id": "RdC__sVsB-be",
        "colab_type": "text"
      },
      "cell_type": "markdown",
      "source": [
        "### 1.2.3 Calcular centroid mais próximo de cada dado do dataset"
      ]
    },
    {
      "metadata": {
        "id": "Hlw01Ej7B-bf",
        "colab_type": "text"
      },
      "cell_type": "markdown",
      "source": [
        "Utilizando a função anterior que retorna o índice do centroid mais próximo, calcule o centroid mais próximo de cada dado do dataset. "
      ]
    },
    {
      "metadata": {
        "id": "rXbj8LClB-bh",
        "colab_type": "code",
        "colab": {}
      },
      "cell_type": "code",
      "source": [
        "def all_nearest_centroids(dataset, centroids):\n",
        "    \"\"\"\n",
        "    Calcula o índice do centroid mais próximo para cada \n",
        "    ponto do dataset\n",
        "    \n",
        "    Argumentos:\n",
        "    dataset -- Conjunto de dados - [m,n]\n",
        "    centroids -- Lista com os centróides - [k,n]\n",
        "    \n",
        "    Retornos:\n",
        "    nearest_indexes -- Índices do centróides mais próximos - [m,1]\n",
        "    \"\"\"\n",
        "    \n",
        "    #### CODE HERE ####\n",
        "    # Check if centroids has two dimensions and, if not, convert to\n",
        "    if len(centroids.shape) == 1:\n",
        "        centroids = np.array([centroids])\n",
        "\n",
        "    nearest_indexes = np.zeros(len(dataset))\n",
        "    \n",
        "    for i in range(len(dataset)):\n",
        "        nearest_indexes[i] = nearest_centroid(dataset[i], centroids)\n",
        "    ### END OF CODE ###\n",
        "    \n",
        "    return nearest_indexes"
      ],
      "execution_count": 0,
      "outputs": []
    },
    {
      "metadata": {
        "id": "DD7ceo14B-bm",
        "colab_type": "text"
      },
      "cell_type": "markdown",
      "source": [
        "Teste a função criada visualizando os cluster formados."
      ]
    },
    {
      "metadata": {
        "id": "6C0WynHUB-bn",
        "colab_type": "code",
        "colab": {}
      },
      "cell_type": "code",
      "source": [
        "nearest_indexes = all_nearest_centroids(dataset, centroids)"
      ],
      "execution_count": 0,
      "outputs": []
    },
    {
      "metadata": {
        "id": "Cx-rJMyqB-bu",
        "colab_type": "code",
        "outputId": "ff3d2869-83c6-4653-9079-3dc88fbf8bc5",
        "colab": {
          "base_uri": "https://localhost:8080/",
          "height": 269
        }
      },
      "cell_type": "code",
      "source": [
        "plt.scatter(dataset[:,0], dataset[:,1], c=nearest_indexes)\n",
        "plt.scatter(centroids[:,0], centroids[:,1], marker='^', c='red', s=100)\n",
        "plt.show()"
      ],
      "execution_count": 126,
      "outputs": [
        {
          "output_type": "display_data",
          "data": {
            "image/png": "[encoded data removed]",
            "text/plain": [
              "<Figure size 432x288 with 1 Axes>"
            ]
          },
          "metadata": {
            "tags": []
          }
        }
      ]
    },
    {
      "metadata": {
        "id": "VGxo4S5tB-b7",
        "colab_type": "text"
      },
      "cell_type": "markdown",
      "source": [
        "## 1.3 Métrica de avaliação "
      ]
    },
    {
      "metadata": {
        "id": "Ce8R4GadB-b-",
        "colab_type": "text"
      },
      "cell_type": "markdown",
      "source": [
        "Após formar os clusters, como sabemos se o resultado gerado é bom? Para isso, precisamos definir uma métrica de avaliação.\n",
        "\n",
        "O algoritmo K-means tem como objetivo escolher centróides que minimizem a soma quadrática das distância entre os dados de um cluster e seu centróide. Essa métrica é conhecida como __inertia__.\n",
        "\n",
        "$$\\sum_{i=0}^{n}\\min_{c_j \\in C}(||x_i - c_j||^2)$$\n",
        "\n",
        "A __inertia__, ou o critério de soma dos quadrados dentro do cluster, pode ser reconhecido como uma medida de o quão internamente coerentes são os clusters, porém ela sofre de alguns inconvenientes:\n",
        "\n",
        "- A inertia pressupõe que os clusters são convexos e isotrópicos, o que nem sempre é o caso. Desta forma, pode não representar bem em aglomerados alongados ou variedades com formas irregulares.\n",
        "- A inertia não é uma métrica normalizada: sabemos apenas que valores mais baixos são melhores e zero é o valor ótimo. Mas em espaços de dimensões muito altas, as distâncias euclidianas tendem a se tornar infladas (este é um exemplo da chamada “maldição da dimensionalidade”). A execução de um algoritmo de redução de dimensionalidade, como o PCA, pode aliviar esse problema e acelerar os cálculos.\n",
        "\n",
        "Fonte: https://scikit-learn.org/stable/modules/clustering.html"
      ]
    },
    {
      "metadata": {
        "id": "uJks8qvdB-b_",
        "colab_type": "text"
      },
      "cell_type": "markdown",
      "source": [
        "Para podermos avaliar os nosso clusters, codifique a métrica da inertia abaixo, para isso você pode utilizar a função de distância euclidiana construída anteriormente.\n",
        "\n",
        "$$inertia = \\sum_{i=0}^{n}\\min_{c_j \\in C} (dist(x_i, c_j))^2$$"
      ]
    },
    {
      "metadata": {
        "id": "xJVrHCGzB-cB",
        "colab_type": "code",
        "colab": {}
      },
      "cell_type": "code",
      "source": [
        "def inertia(dataset, centroids, nearest_indexes):\n",
        "    \"\"\"\n",
        "    Soma das distâncias quadradas das amostras para o \n",
        "    centro do cluster mais próximo.\n",
        "    \n",
        "    Argumentos:\n",
        "    dataset -- Conjunto de dados - [m,n]\n",
        "    centroids -- Lista com os centróides - [k,n]\n",
        "    nearest_indexes -- Índices do centróides mais próximos - [m,1]\n",
        "    \n",
        "    Retornos:\n",
        "    inertia -- Soma total do quadrado da distância entre \n",
        "    os dados de um cluster e seu centróide\n",
        "    \"\"\"\n",
        "    \n",
        "    #### CODE HERE ####\n",
        "    # Check if centroids has two dimensions and, if not, convert to\n",
        "    if len(centroids.shape) == 1:\n",
        "        centroids = np.array([centroids])\n",
        "\n",
        "    inertia = 0\n",
        "    \n",
        "    for i in range(len(dataset)):\n",
        "        inertia = inertia + euclidean_distance(dataset[i], centroids[int(nearest_indexes[i])])**2\n",
        "    ### END OF CODE ###\n",
        "    \n",
        "    return inertia"
      ],
      "execution_count": 0,
      "outputs": []
    },
    {
      "metadata": {
        "id": "S8B1dY-SB-cJ",
        "colab_type": "text"
      },
      "cell_type": "markdown",
      "source": [
        "Teste a função codificada executando o código abaixo."
      ]
    },
    {
      "metadata": {
        "id": "HkO6K3rlB-cK",
        "colab_type": "code",
        "outputId": "6e1fdb49-c95d-4c57-fa56-3e9c04d6e2da",
        "colab": {
          "base_uri": "https://localhost:8080/",
          "height": 34
        }
      },
      "cell_type": "code",
      "source": [
        "tmp_data = np.array([[1,2,3],[3,6,5],[4,5,6]])\n",
        "tmp_centroide = np.array([[2,3,4]])\n",
        "\n",
        "tmp_nearest_indexes = all_nearest_centroids(tmp_data, tmp_centroide)\n",
        "if inertia(tmp_data, tmp_centroide, tmp_nearest_indexes) == 26:\n",
        "    print(\"Inertia calculada corretamente!\")\n",
        "else:\n",
        "    print(\"Função de inertia incorreta!\")"
      ],
      "execution_count": 128,
      "outputs": [
        {
          "output_type": "stream",
          "text": [
            "Inertia calculada corretamente!\n"
          ],
          "name": "stdout"
        }
      ]
    },
    {
      "metadata": {
        "id": "kASf0mL1B-cR",
        "colab_type": "code",
        "colab": {
          "base_uri": "https://localhost:8080/",
          "height": 34
        },
        "outputId": "a9bf52f8-1dda-489a-c958-b38ac8d24c6c"
      },
      "cell_type": "code",
      "source": [
        "# Use a função para verificar a inertia dos seus clusters\n",
        "inertia(dataset, centroids, nearest_indexes)"
      ],
      "execution_count": 129,
      "outputs": [
        {
          "output_type": "execute_result",
          "data": {
            "text/plain": [
              "2402.4442703793466"
            ]
          },
          "metadata": {
            "tags": []
          },
          "execution_count": 129
        }
      ]
    },
    {
      "metadata": {
        "id": "ISC1UVsDB-cX",
        "colab_type": "text"
      },
      "cell_type": "markdown",
      "source": [
        "## 1.4 Atualizar os clusters"
      ]
    },
    {
      "metadata": {
        "id": "rxdrnokGB-cZ",
        "colab_type": "text"
      },
      "cell_type": "markdown",
      "source": [
        "Nessa etapa, os centróides são recomputados. O novo valor de cada centróide será a media de todos os dados atribuídos ao cluster."
      ]
    },
    {
      "metadata": {
        "id": "mLrgSPcSB-cb",
        "colab_type": "code",
        "colab": {}
      },
      "cell_type": "code",
      "source": [
        "def update_centroids(dataset, centroids, nearest_indexes):\n",
        "    \"\"\"\n",
        "    Atualiza os centroids\n",
        "    \n",
        "    Argumentos:\n",
        "    dataset -- Conjunto de dados - [m,n]\n",
        "    centroids -- Lista com os centróides - [k,n]\n",
        "    nearest_indexes -- Índices do centróides mais próximos - [m,1]\n",
        "    \n",
        "    Retornos:\n",
        "    centroids -- Lista com centróides atualizados - [k,n]\n",
        "    \"\"\"\n",
        "    \n",
        "    #### CODE HERE ####\n",
        "    # Check if centroids has two dimensions and, if not, convert to\n",
        "    if len(centroids.shape) == 1:\n",
        "        centroids = np.array([centroids])\n",
        "    \n",
        "    sum_data_inCentroids = np.zeros((len(centroids), len(centroids[0])))\n",
        "    num_data_inCentroids = np.zeros(len(centroids))\n",
        "    \n",
        "    for i in range(len(dataset)):\n",
        "        cent_idx = int(nearest_indexes[i])\n",
        "        sum_data_inCentroids[cent_idx] += dataset[i]\n",
        "        num_data_inCentroids[cent_idx] += 1\n",
        "    \n",
        "    for i in range(len(centroids)):\n",
        "        centroids[i] = sum_data_inCentroids[i]/num_data_inCentroids[i]\n",
        "    ### END OF CODE ###\n",
        "    \n",
        "    return centroids"
      ],
      "execution_count": 0,
      "outputs": []
    },
    {
      "metadata": {
        "id": "MQh95x0hB-cf",
        "colab_type": "text"
      },
      "cell_type": "markdown",
      "source": [
        "Visualize os clusters formados"
      ]
    },
    {
      "metadata": {
        "id": "0U4Q_vVKB-ci",
        "colab_type": "code",
        "colab": {
          "base_uri": "https://localhost:8080/",
          "height": 269
        },
        "outputId": "b8ad4056-d561-40c0-805d-d7cbc418bd9c"
      },
      "cell_type": "code",
      "source": [
        "nearest_indexes = all_nearest_centroids(dataset, centroids)\n",
        "\n",
        "# Plota os os cluster ------------------------------------------------\n",
        "plt.scatter(dataset[:,0], dataset[:,1], c=nearest_indexes)\n",
        "\n",
        "# Plota os centroids\n",
        "plt.scatter(centroids[:,0], centroids[:,1], marker='^', c='red', s=100)\n",
        "for index, centroid in enumerate(centroids):\n",
        "    dataframe = dataset[nearest_indexes == index,:]\n",
        "    for data in dataframe:\n",
        "        plt.plot([centroid[0], data[0]], [centroid[1], data[1]], \n",
        "                 c='lightgray', alpha=0.3)\n",
        "plt.show()"
      ],
      "execution_count": 131,
      "outputs": [
        {
          "output_type": "display_data",
          "data": {
            "image/png": "[encoded data removed]",
            "text/plain": [
              "<Figure size 432x288 with 1 Axes>"
            ]
          },
          "metadata": {
            "tags": []
          }
        }
      ]
    },
    {
      "metadata": {
        "id": "H7ar2hKLB-cm",
        "colab_type": "text"
      },
      "cell_type": "markdown",
      "source": [
        "Execute a função de atualização e visualize novamente os cluster formados"
      ]
    },
    {
      "metadata": {
        "id": "Zddno6sUB-ct",
        "colab_type": "code",
        "colab": {}
      },
      "cell_type": "code",
      "source": [
        "centroids = update_centroids(dataset, centroids, nearest_indexes)"
      ],
      "execution_count": 0,
      "outputs": []
    },
    {
      "metadata": {
        "id": "8aP_gDkQB-cy",
        "colab_type": "text"
      },
      "cell_type": "markdown",
      "source": [
        "# 2. K-means"
      ]
    },
    {
      "metadata": {
        "id": "Pz-JCfAhB-c1",
        "colab_type": "text"
      },
      "cell_type": "markdown",
      "source": [
        "## 2.1 Algoritmo completo"
      ]
    },
    {
      "metadata": {
        "id": "kzPFCZ3XB-c3",
        "colab_type": "text"
      },
      "cell_type": "markdown",
      "source": [
        "Utilizando as funções codificadas anteriormente, complete a classe do algoritmo K-means!"
      ]
    },
    {
      "metadata": {
        "id": "Txqr9Nd1B-c4",
        "colab_type": "code",
        "colab": {}
      },
      "cell_type": "code",
      "source": [
        "class KMeans():\n",
        "    \n",
        "    def __init__(self, n_clusters=8, max_iter=300):\n",
        "        self.n_clusters = n_clusters\n",
        "        self.max_iter = max_iter\n",
        "    \n",
        "    def fit(self,X):\n",
        "        \n",
        "        # Inicializa os centróides\n",
        "        self.cluster_centers_ = calculate_initial_centers(X, self.n_clusters)\n",
        "        \n",
        "        # Computa o cluster de cada amostra\n",
        "        self.labels_ = all_nearest_centroids(X, self.cluster_centers_)\n",
        "        \n",
        "        # Calcula a inércia inicial\n",
        "        old_inertia   = inertia(X, self.cluster_centers_, self.labels_)\n",
        "        self.inertia_ = old_inertia\n",
        "        \n",
        "        for index in range(self.max_iter):\n",
        "            \n",
        "            #### CODE HERE ####\n",
        "            self.cluster_centers_ = update_centroids(X, self.cluster_centers_, self.labels_)\n",
        "            self.labels_          = all_nearest_centroids(X, self.cluster_centers_)\n",
        "            self.inertia_         = inertia(X, self.cluster_centers_, self.labels_)\n",
        "            \n",
        "            if (self.inertia_ == old_inertia):\n",
        "                break\n",
        "            else:\n",
        "                old_inertia = self.inertia_\n",
        "            ### END OF CODE ###\n",
        "                    \n",
        "        return self\n",
        "    \n",
        "    def predict(self, X):\n",
        "        \n",
        "        return all_nearest_centroids(X, self.cluster_centers_)"
      ],
      "execution_count": 0,
      "outputs": []
    },
    {
      "metadata": {
        "id": "IJFVlbCRB-dA",
        "colab_type": "text"
      },
      "cell_type": "markdown",
      "source": [
        "Verifique o resultado do algoritmo abaixo!"
      ]
    },
    {
      "metadata": {
        "id": "PxvOSFa2B-dB",
        "colab_type": "code",
        "colab": {
          "base_uri": "https://localhost:8080/",
          "height": 286
        },
        "outputId": "26267682-b4fc-4af2-92e3-04c47b89549a"
      },
      "cell_type": "code",
      "source": [
        "kmeans = KMeans(n_clusters=3)\n",
        "kmeans.fit(dataset)\n",
        "\n",
        "print(\"Inércia = \", kmeans.inertia_)\n",
        "\n",
        "plt.scatter(dataset[:,0], dataset[:,1], c=kmeans.labels_)\n",
        "plt.scatter(kmeans.cluster_centers_[:,0], \n",
        "            kmeans.cluster_centers_[:,1], marker='^', c='red', s=100)\n",
        "plt.show()"
      ],
      "execution_count": 134,
      "outputs": [
        {
          "output_type": "stream",
          "text": [
            "Inércia =  608.6035508327781\n"
          ],
          "name": "stdout"
        },
        {
          "output_type": "display_data",
          "data": {
            "image/png": "[encoded data removed]",
            "text/plain": [
              "<Figure size 432x288 with 1 Axes>"
            ]
          },
          "metadata": {
            "tags": []
          }
        }
      ]
    },
    {
      "metadata": {
        "id": "CVvC4LXiB-dF",
        "colab_type": "text"
      },
      "cell_type": "markdown",
      "source": [
        "## 2.2 Comparar com algoritmo do Scikit-Learn"
      ]
    },
    {
      "metadata": {
        "id": "udzmME5nB-dH",
        "colab_type": "text"
      },
      "cell_type": "markdown",
      "source": [
        "Use a implementação do algoritmo do scikit-learn do K-means para o mesmo conjunto de dados. Mostre o valor da inércia  e os conjuntos gerados pelo modelo. Você pode usar a mesma estrutura da célula de código anterior.\n",
        "> Dica: https://scikit-learn.org/stable/modules/generated/sklearn.cluster.KMeans"
      ]
    },
    {
      "metadata": {
        "id": "XypBC9zsB-dI",
        "colab_type": "code",
        "colab": {
          "base_uri": "https://localhost:8080/",
          "height": 51
        },
        "outputId": "5f58951e-8d11-4f21-fa08-d9fe303d9a31"
      },
      "cell_type": "code",
      "source": [
        "#### CODE HERE ####\n",
        "from sklearn.cluster import KMeans as sk_KMeans\n",
        "\n",
        "skkmeans = sk_KMeans(n_clusters=3).fit(dataset)\n",
        "\n",
        "print(\"Scikit-Learn KMeans' inertia: \", skkmeans.inertia_)\n",
        "print(\"My KMeans inertia:            \", kmeans.inertia_)"
      ],
      "execution_count": 135,
      "outputs": [
        {
          "output_type": "stream",
          "text": [
            "Scikit-Learn KMeans' inertia:  608.6035508327782\n",
            "My KMeans inertia:             608.6035508327781\n"
          ],
          "name": "stdout"
        }
      ]
    },
    {
      "metadata": {
        "id": "YaW8Sax8B-dM",
        "colab_type": "text"
      },
      "cell_type": "markdown",
      "source": [
        "# 3. Método do cotovelo"
      ]
    },
    {
      "metadata": {
        "id": "Rw9zqMZeB-dM",
        "colab_type": "text"
      },
      "cell_type": "markdown",
      "source": [
        "Implemete o método do cotovelo e mostre o melhor K para o conjunto de dados."
      ]
    },
    {
      "metadata": {
        "id": "YCVms_q7B-dN",
        "colab_type": "code",
        "colab": {
          "base_uri": "https://localhost:8080/",
          "height": 320
        },
        "outputId": "8dbc9483-9055-49c7-b3b2-aca842a524b8"
      },
      "cell_type": "code",
      "source": [
        "#### CODE HERE ####\n",
        "\n",
        "# Initialize array of Ks\n",
        "ks = np.array(range(1, 11))\n",
        "# Create array to receive the inertias for each K\n",
        "inertias = np.zeros(len(ks))\n",
        "\n",
        "for i in range(len(ks)):\n",
        "    # Compute inertia for K\n",
        "    kmeans = KMeans(ks[i]).fit(dataset)\n",
        "    inertias[i] = kmeans.inertia_\n",
        "    \n",
        "    # Best K is the last one to improve the inertia in 30%\n",
        "    if (i > 0 and (inertias[i - 1] - inertias[i])/inertias[i] > 0.3):\n",
        "        best_k_idx = i\n",
        "\n",
        "print(\"Best K: {}\\n\".format(ks[best_k_idx]))\n",
        "plt.plot(ks, inertias, marker='o')\n",
        "plt.plot(ks[best_k_idx], inertias[best_k_idx], 'ro')"
      ],
      "execution_count": 169,
      "outputs": [
        {
          "output_type": "stream",
          "text": [
            "Best K: 3\n",
            "\n"
          ],
          "name": "stdout"
        },
        {
          "output_type": "execute_result",
          "data": {
            "text/plain": [
              "[<matplotlib.lines.Line2D at 0x7f9fe0e2be48>]"
            ]
          },
          "metadata": {
            "tags": []
          },
          "execution_count": 169
        },
        {
          "output_type": "display_data",
          "data": {
            "image/png": "[encoded data removed]",
            "text/plain": [
              "<Figure size 432x288 with 1 Axes>"
            ]
          },
          "metadata": {
            "tags": []
          }
        }
      ]
    },
    {
      "metadata": {
        "id": "LlsLROFPB-dS",
        "colab_type": "text"
      },
      "cell_type": "markdown",
      "source": [
        "# 4. Dataset Real"
      ]
    },
    {
      "metadata": {
        "id": "gEyugVF5B-dT",
        "colab_type": "text"
      },
      "cell_type": "markdown",
      "source": [
        "Exercícios\n",
        "\n",
        "1 - Aplique o algoritmo do K-means desenvolvido por você no datatse iris [1]. Mostre os resultados obtidos utilizando pelo menos duas métricas de avaliação de clusteres [2].\n",
        "\n",
        "- [1] http://archive.ics.uci.edu/ml/datasets/iris\n",
        "- [2] http://scikit-learn.org/stable/modules/clustering.html#clustering-evaluation\n",
        "\n",
        "> Dica: você pode utilizar as métricas completeness e homogeneity.\n",
        "\n",
        "2 - Tente melhorar o resultado obtido na questão anterior utilizando uma técnica de mineração de dados. Explique a diferença obtida. \n",
        "\n",
        "> Dica: você pode tentar normalizar os dados [3].\n",
        "> - [3] https://scikit-learn.org/stable/modules/generated/sklearn.preprocessing.normalize.html\n",
        "\n",
        "\n",
        "3 - Qual o número de clusteres (K) você escolheu na questão anterior? Desenvolva o Método do Cotovelo sem usar biblioteca e descubra o valor de K mais adequado. Após descobrir, utilize o valor obtido no algoritmo do K-means.\n",
        "\n",
        "4 - Utilizando os resultados da questão anterior, refaça o cálculo das métricas e comente os resultados obtidos. Houve uma melhoria? Explique."
      ]
    },
    {
      "metadata": {
        "id": "9qkU5g7vB-dT",
        "colab_type": "code",
        "colab": {}
      },
      "cell_type": "code",
      "source": [
        "#### CODE HERE ####"
      ],
      "execution_count": 0,
      "outputs": []
    }
  ]
}