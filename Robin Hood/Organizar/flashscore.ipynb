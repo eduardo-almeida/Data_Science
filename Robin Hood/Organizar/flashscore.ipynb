{
 "cells": [
  {
   "cell_type": "code",
   "execution_count": 1,
   "id": "179211c2",
   "metadata": {},
   "outputs": [],
   "source": [
    "#!pip install selenium"
   ]
  },
  {
   "cell_type": "code",
   "execution_count": 1,
   "id": "eedd3e2b",
   "metadata": {},
   "outputs": [],
   "source": [
    "from selenium import webdriver"
   ]
  },
  {
   "cell_type": "code",
   "execution_count": 2,
   "id": "1de0dd2c",
   "metadata": {},
   "outputs": [],
   "source": [
    "import requests\n",
    "import pandas as pd\n",
    "from bs4 import BeautifulSoup"
   ]
  },
  {
   "cell_type": "code",
   "execution_count": 3,
   "id": "93f8ae8b",
   "metadata": {},
   "outputs": [],
   "source": [
    "from selenium.webdriver.firefox.options import Options\n",
    "import time"
   ]
  },
  {
   "cell_type": "code",
   "execution_count": 4,
   "id": "e0a9cb75",
   "metadata": {},
   "outputs": [
    {
     "ename": "AttributeError",
     "evalue": "'WebDriver' object has no attribute 'find_element_by_xpath'",
     "output_type": "error",
     "traceback": [
      "\u001b[1;31m---------------------------------------------------------------------------\u001b[0m",
      "\u001b[1;31mAttributeError\u001b[0m                            Traceback (most recent call last)",
      "Input \u001b[1;32mIn [4]\u001b[0m, in \u001b[0;36m<cell line: 4>\u001b[1;34m()\u001b[0m\n\u001b[0;32m      2\u001b[0m driver\u001b[38;5;241m.\u001b[39mget(\u001b[38;5;124m\"\u001b[39m\u001b[38;5;124mhttps://flashscore.com.br\u001b[39m\u001b[38;5;124m\"\u001b[39m)\n\u001b[0;32m      3\u001b[0m time\u001b[38;5;241m.\u001b[39msleep(\u001b[38;5;241m4\u001b[39m)\n\u001b[1;32m----> 4\u001b[0m \u001b[43mdriver\u001b[49m\u001b[38;5;241;43m.\u001b[39;49m\u001b[43mfind_element_by_xpath\u001b[49m(\u001b[38;5;124m'\u001b[39m\u001b[38;5;124m/html/body/div[7]/div[1]/div/div[1]/div[3]/div/div[2]/div[2]/div[1]/div[2]/a\u001b[39m\u001b[38;5;124m'\u001b[39m)\u001b[38;5;241m.\u001b[39mclick()\n",
      "\u001b[1;31mAttributeError\u001b[0m: 'WebDriver' object has no attribute 'find_element_by_xpath'"
     ]
    }
   ],
   "source": [
    "driver = webdriver.Firefox()\n",
    "driver.get(\"https://flashscore.com.br\")\n",
    "time.sleep(4)\n",
    "driver.find_element_by_xpath('/html/body/div[7]/div[1]/div/div[1]/div[3]/div/div[2]/div[2]/div[1]/div[2]/a').click()"
   ]
  },
  {
   "cell_type": "code",
   "execution_count": 13,
   "id": "f13f2103",
   "metadata": {},
   "outputs": [
    {
     "name": "stderr",
     "output_type": "stream",
     "text": [
      "C:\\Users\\Eduardo\\AppData\\Local\\Temp/ipykernel_8908/2815147453.py:1: DeprecationWarning: find_element_by_xpath is deprecated. Please use find_element(by=By.XPATH, value=xpath) instead\n",
      "  div_mae = driver.find_element_by_xpath('/html/body/div[7]/div[1]/div/div[1]/div[2]/div[4]/div[2]/div[1]/section[1]')\n"
     ]
    }
   ],
   "source": [
    "div_mae = driver.find_element_by_xpath('/html/body/div[7]/div[1]/div/div[1]/div[2]/div[4]/div[2]/div[1]/section[1]')\n",
    "html_conteudo = div_mae.get_attribute('outerHTML')\n",
    "soup = BeautifulSoup(html_conteudo, 'html.parser')\n",
    "teste = soup.prettify()"
   ]
  },
  {
   "cell_type": "code",
   "execution_count": 15,
   "id": "b2685c42",
   "metadata": {},
   "outputs": [],
   "source": [
    "escore_visitante = soup.find_all('div', class_='event__score--away')\n",
    "escore_casa = soup.find_all('div', class_='event__score--home')\n",
    "nome_visitante = soup.find_all('div', class_='event__participant--away')\n",
    "nome_casa = soup.find_all('div', class_='event__participant--home')"
   ]
  },
  {
   "cell_type": "code",
   "execution_count": 16,
   "id": "a336b650",
   "metadata": {},
   "outputs": [],
   "source": [
    "import pandas as pd\n",
    "import csv"
   ]
  },
  {
   "cell_type": "code",
   "execution_count": 17,
   "id": "696f79ee",
   "metadata": {},
   "outputs": [],
   "source": [
    "weather = pd.DataFrame({\n",
    "        \"casa\": nome_casa, \n",
    "        \"casa Gols\": escore_casa, \n",
    "        \"visitante\": nome_visitante, \n",
    "        \"visitante Gols\":escore_visitante\n",
    "    })"
   ]
  },
  {
   "cell_type": "code",
   "execution_count": 18,
   "id": "8bb70993",
   "metadata": {},
   "outputs": [
    {
     "data": {
      "text/html": [
       "<div>\n",
       "<style scoped>\n",
       "    .dataframe tbody tr th:only-of-type {\n",
       "        vertical-align: middle;\n",
       "    }\n",
       "\n",
       "    .dataframe tbody tr th {\n",
       "        vertical-align: top;\n",
       "    }\n",
       "\n",
       "    .dataframe thead th {\n",
       "        text-align: right;\n",
       "    }\n",
       "</style>\n",
       "<table border=\"1\" class=\"dataframe\">\n",
       "  <thead>\n",
       "    <tr style=\"text-align: right;\">\n",
       "      <th></th>\n",
       "      <th>casa</th>\n",
       "      <th>casa Gols</th>\n",
       "      <th>visitante</th>\n",
       "      <th>visitante Gols</th>\n",
       "    </tr>\n",
       "  </thead>\n",
       "  <tbody>\n",
       "    <tr>\n",
       "      <th>0</th>\n",
       "      <td>[Avaí, [[], []]]</td>\n",
       "      <td>[3]</td>\n",
       "      <td>[Goiás]</td>\n",
       "      <td>[2]</td>\n",
       "    </tr>\n",
       "    <tr>\n",
       "      <th>1</th>\n",
       "      <td>[Atlético-GO]</td>\n",
       "      <td>[1]</td>\n",
       "      <td>[Botafogo]</td>\n",
       "      <td>[1]</td>\n",
       "    </tr>\n",
       "    <tr>\n",
       "      <th>2</th>\n",
       "      <td>[Juventude, [[], []]]</td>\n",
       "      <td>[0]</td>\n",
       "      <td>[Cuiabá]</td>\n",
       "      <td>[1]</td>\n",
       "    </tr>\n",
       "    <tr>\n",
       "      <th>3</th>\n",
       "      <td>[Santos]</td>\n",
       "      <td>[3]</td>\n",
       "      <td>[América-MG]</td>\n",
       "      <td>[0]</td>\n",
       "    </tr>\n",
       "    <tr>\n",
       "      <th>4</th>\n",
       "      <td>[Atlético-MG]</td>\n",
       "      <td>[2]</td>\n",
       "      <td>[Coritiba]</td>\n",
       "      <td>[2]</td>\n",
       "    </tr>\n",
       "  </tbody>\n",
       "</table>\n",
       "</div>"
      ],
      "text/plain": [
       "                    casa casa Gols     visitante visitante Gols\n",
       "0       [Avaí, [[], []]]       [3]       [Goiás]            [2]\n",
       "1          [Atlético-GO]       [1]    [Botafogo]            [1]\n",
       "2  [Juventude, [[], []]]       [0]      [Cuiabá]            [1]\n",
       "3               [Santos]       [3]  [América-MG]            [0]\n",
       "4          [Atlético-MG]       [2]    [Coritiba]            [2]"
      ]
     },
     "execution_count": 18,
     "metadata": {},
     "output_type": "execute_result"
    }
   ],
   "source": [
    "weather.head()"
   ]
  },
  {
   "cell_type": "code",
   "execution_count": 14,
   "id": "f544b1e7",
   "metadata": {},
   "outputs": [
    {
     "name": "stdout",
     "output_type": "stream",
     "text": [
      "Últimos Resultados\n",
      "BRASIL\n",
      "Série A\n",
      "Classificação\n",
      "RODADA 3\n",
      "25.04. 20:00\n",
      "Avaí\n",
      "Goiás\n",
      "3\n",
      "2\n",
      "(1)\n",
      "(0)\n",
      "24.04. 18:30\n",
      "Atlético-GO\n",
      "Botafogo\n",
      "1\n",
      "1\n",
      "(0)\n",
      "(0)\n",
      "24.04. 18:00\n",
      "Juventude\n",
      "Cuiabá\n",
      "0\n",
      "1\n",
      "(0)\n",
      "(0)\n",
      "24.04. 16:00\n",
      "Santos\n",
      "América-MG\n",
      "3\n",
      "0\n",
      "(1)\n",
      "(0)\n",
      "23.04. 21:00\n",
      "Atlético-MG\n",
      "Coritiba\n",
      "2\n",
      "2\n",
      "(2)\n",
      "(0)\n",
      "23.04. 19:00\n",
      "Fluminense\n",
      "Internacional\n",
      "0\n",
      "1\n",
      "(0)\n",
      "(0)\n",
      "23.04. 19:00\n",
      "Palmeiras\n",
      "Corinthians\n",
      "3\n",
      "0\n",
      "(2)\n",
      "(0)\n",
      "23.04. 16:30\n",
      "Athletico-PR\n",
      "Flamengo\n",
      "1\n",
      "0\n",
      "(1)\n",
      "(0)\n",
      "23.04. 16:30\n",
      "Red Bull Bragantino\n",
      "São Paulo\n",
      "1\n",
      "1\n",
      "(1)\n",
      "(0)\n",
      "RODADA 4\n",
      "20.04. 19:30\n",
      "Flamengo\n",
      "Palmeiras\n",
      "0\n",
      "0\n",
      "(0)\n",
      "(0)\n",
      "Mostrar mais jogos\n"
     ]
    }
   ],
   "source": [
    "print(div_mae.text)"
   ]
  },
  {
   "cell_type": "code",
   "execution_count": null,
   "id": "816826bd",
   "metadata": {},
   "outputs": [],
   "source": []
  }
 ],
 "metadata": {
  "kernelspec": {
   "display_name": "Python 3 (ipykernel)",
   "language": "python",
   "name": "python3"
  },
  "language_info": {
   "codemirror_mode": {
    "name": "ipython",
    "version": 3
   },
   "file_extension": ".py",
   "mimetype": "text/x-python",
   "name": "python",
   "nbconvert_exporter": "python",
   "pygments_lexer": "ipython3",
   "version": "3.9.12"
  }
 },
 "nbformat": 4,
 "nbformat_minor": 5
}
