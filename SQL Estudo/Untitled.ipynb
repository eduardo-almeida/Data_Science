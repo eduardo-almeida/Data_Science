{
 "cells": [
  {
   "cell_type": "code",
   "execution_count": 1,
   "id": "88cc7385",
   "metadata": {},
   "outputs": [
    {
     "name": "stdout",
     "output_type": "stream",
     "text": [
      "12 12 33\n"
     ]
    }
   ],
   "source": [
    "a, b, c = input().split()"
   ]
  },
  {
   "cell_type": "code",
   "execution_count": 4,
   "id": "fdca484f",
   "metadata": {},
   "outputs": [],
   "source": [
    "a = float(a)\n",
    "b = float(b)\n",
    "c = float(c)"
   ]
  },
  {
   "cell_type": "code",
   "execution_count": 6,
   "id": "f28be1de",
   "metadata": {},
   "outputs": [],
   "source": [
    "delta = b ** 2 - 4 * a * c"
   ]
  },
  {
   "cell_type": "code",
   "execution_count": null,
   "id": "a20bbda9",
   "metadata": {},
   "outputs": [],
   "source": [
    "if a == 0 or delta < 0:\n",
    "    print(\"Impossivel\")\n",
    "else:\n",
    "    r1 = (-b + math.sqrt(delta))/ 2a\n",
    "    r2 = (-b - math.sqrt(delta))/ 2a\n",
    "    print(f'R1 = {r1:.5f}')\n",
    "    print(f'R2 = {r2:.5f}')"
   ]
  }
 ],
 "metadata": {
  "kernelspec": {
   "display_name": "Python 3 (ipykernel)",
   "language": "python",
   "name": "python3"
  },
  "language_info": {
   "codemirror_mode": {
    "name": "ipython",
    "version": 3
   },
   "file_extension": ".py",
   "mimetype": "text/x-python",
   "name": "python",
   "nbconvert_exporter": "python",
   "pygments_lexer": "ipython3",
   "version": "3.9.13"
  }
 },
 "nbformat": 4,
 "nbformat_minor": 5
}
