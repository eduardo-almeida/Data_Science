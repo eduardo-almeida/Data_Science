{
 "cells": [
  {
   "cell_type": "code",
   "execution_count": 1,
   "metadata": {},
   "outputs": [],
   "source": [
    "import pandas as pd"
   ]
  },
  {
   "cell_type": "code",
   "execution_count": 2,
   "metadata": {},
   "outputs": [],
   "source": [
    "dataframe_questao_1 = pd.read_csv(\"bases/questao1_coronavirus.csv\", delimiter=\";\")"
   ]
  },
  {
   "cell_type": "code",
   "execution_count": 3,
   "metadata": {
    "scrolled": true
   },
   "outputs": [
    {
     "data": {
      "text/html": [
       "<div>\n",
       "<style scoped>\n",
       "    .dataframe tbody tr th:only-of-type {\n",
       "        vertical-align: middle;\n",
       "    }\n",
       "\n",
       "    .dataframe tbody tr th {\n",
       "        vertical-align: top;\n",
       "    }\n",
       "\n",
       "    .dataframe thead th {\n",
       "        text-align: right;\n",
       "    }\n",
       "</style>\n",
       "<table border=\"1\" class=\"dataframe\">\n",
       "  <thead>\n",
       "    <tr style=\"text-align: right;\">\n",
       "      <th></th>\n",
       "      <th>date</th>\n",
       "      <th>state</th>\n",
       "      <th>city</th>\n",
       "      <th>new_confirmed</th>\n",
       "      <th>new_deaths</th>\n",
       "      <th>estimated_population_2019</th>\n",
       "    </tr>\n",
       "  </thead>\n",
       "  <tbody>\n",
       "    <tr>\n",
       "      <th>224631</th>\n",
       "      <td>2020-04-16</td>\n",
       "      <td>RO</td>\n",
       "      <td>Jaru</td>\n",
       "      <td>0</td>\n",
       "      <td>0</td>\n",
       "      <td>51775.0</td>\n",
       "    </tr>\n",
       "    <tr>\n",
       "      <th>116984</th>\n",
       "      <td>2020-05-27</td>\n",
       "      <td>RO</td>\n",
       "      <td>Presidente Médici</td>\n",
       "      <td>0</td>\n",
       "      <td>0</td>\n",
       "      <td>18986.0</td>\n",
       "    </tr>\n",
       "    <tr>\n",
       "      <th>208808</th>\n",
       "      <td>2020-04-26</td>\n",
       "      <td>MS</td>\n",
       "      <td>Selvíria</td>\n",
       "      <td>0</td>\n",
       "      <td>0</td>\n",
       "      <td>6529.0</td>\n",
       "    </tr>\n",
       "    <tr>\n",
       "      <th>27924</th>\n",
       "      <td>2020-06-16</td>\n",
       "      <td>RS</td>\n",
       "      <td>Formigueiro</td>\n",
       "      <td>1</td>\n",
       "      <td>0</td>\n",
       "      <td>6664.0</td>\n",
       "    </tr>\n",
       "    <tr>\n",
       "      <th>81222</th>\n",
       "      <td>2020-06-04</td>\n",
       "      <td>MA</td>\n",
       "      <td>São Domingos do Maranhão</td>\n",
       "      <td>0</td>\n",
       "      <td>0</td>\n",
       "      <td>34376.0</td>\n",
       "    </tr>\n",
       "    <tr>\n",
       "      <th>199590</th>\n",
       "      <td>2020-05-01</td>\n",
       "      <td>SP</td>\n",
       "      <td>Ibirá</td>\n",
       "      <td>0</td>\n",
       "      <td>0</td>\n",
       "      <td>12393.0</td>\n",
       "    </tr>\n",
       "    <tr>\n",
       "      <th>58323</th>\n",
       "      <td>2020-06-09</td>\n",
       "      <td>GO</td>\n",
       "      <td>Hidrolina</td>\n",
       "      <td>0</td>\n",
       "      <td>0</td>\n",
       "      <td>3564.0</td>\n",
       "    </tr>\n",
       "    <tr>\n",
       "      <th>36076</th>\n",
       "      <td>2020-06-14</td>\n",
       "      <td>PA</td>\n",
       "      <td>São João de Pirabas</td>\n",
       "      <td>0</td>\n",
       "      <td>0</td>\n",
       "      <td>23045.0</td>\n",
       "    </tr>\n",
       "    <tr>\n",
       "      <th>158774</th>\n",
       "      <td>2020-05-15</td>\n",
       "      <td>BA</td>\n",
       "      <td>Arataca</td>\n",
       "      <td>2</td>\n",
       "      <td>0</td>\n",
       "      <td>11019.0</td>\n",
       "    </tr>\n",
       "    <tr>\n",
       "      <th>97126</th>\n",
       "      <td>2020-06-01</td>\n",
       "      <td>SP</td>\n",
       "      <td>Pardinho</td>\n",
       "      <td>0</td>\n",
       "      <td>0</td>\n",
       "      <td>6435.0</td>\n",
       "    </tr>\n",
       "  </tbody>\n",
       "</table>\n",
       "</div>"
      ],
      "text/plain": [
       "              date state                      city  new_confirmed  new_deaths  \\\n",
       "224631  2020-04-16    RO                      Jaru              0           0   \n",
       "116984  2020-05-27    RO         Presidente Médici              0           0   \n",
       "208808  2020-04-26    MS                  Selvíria              0           0   \n",
       "27924   2020-06-16    RS               Formigueiro              1           0   \n",
       "81222   2020-06-04    MA  São Domingos do Maranhão              0           0   \n",
       "199590  2020-05-01    SP                     Ibirá              0           0   \n",
       "58323   2020-06-09    GO                 Hidrolina              0           0   \n",
       "36076   2020-06-14    PA       São João de Pirabas              0           0   \n",
       "158774  2020-05-15    BA                   Arataca              2           0   \n",
       "97126   2020-06-01    SP                  Pardinho              0           0   \n",
       "\n",
       "        estimated_population_2019  \n",
       "224631                    51775.0  \n",
       "116984                    18986.0  \n",
       "208808                     6529.0  \n",
       "27924                      6664.0  \n",
       "81222                     34376.0  \n",
       "199590                    12393.0  \n",
       "58323                      3564.0  \n",
       "36076                     23045.0  \n",
       "158774                    11019.0  \n",
       "97126                      6435.0  "
      ]
     },
     "execution_count": 3,
     "metadata": {},
     "output_type": "execute_result"
    }
   ],
   "source": [
    "dataframe_questao_1.sample(10)"
   ]
  },
  {
   "cell_type": "code",
   "execution_count": 44,
   "metadata": {},
   "outputs": [
    {
     "data": {
      "text/plain": [
       "(240649, 6)"
      ]
     },
     "execution_count": 44,
     "metadata": {},
     "output_type": "execute_result"
    }
   ],
   "source": [
    "dataframe_questao_1.shape"
   ]
  },
  {
   "cell_type": "markdown",
   "metadata": {},
   "source": [
    "Usaremos como base de informação o site \n",
    "https://brasil.io/dataset/covid19/boletim/\n",
    "que tem a siguinte documentação:\n",
    "\n",
    "date: data de coleta dos dados no formato YYYY-MM-DD.\n",
    "\n",
    "state: sigla da unidade federativa, exemplo: SP.\n",
    "\n",
    "city: nome do município (pode estar em branco quando o registro é referente ao estado, pode ser preenchido com Importados/Indefinidos também).\n",
    "\n",
    "new_confirmed: número de novos casos confirmados desde o último dia (note que caso is_repeated seja True, esse valor sempre será 0 e que esse valor pode ser negativo caso a SES remaneje os casos desse município para outro).\n",
    "\n",
    "new_deaths: número de novos óbitos desde o último dia (note que caso is_repeated seja True, esse valor sempre será 0 e que esse valor pode ser negativo caso a SES remaneje os casos desse município para outro).\n",
    "\n",
    "estimated_population_2019: população estimada para esse município/estado em 2019, segundo o IBGE (acesse o script que faz o download e conversão dos dados de população)."
   ]
  },
  {
   "cell_type": "code",
   "execution_count": 105,
   "metadata": {
    "scrolled": true
   },
   "outputs": [],
   "source": [
    "estados = dataframe_questao_1.drop(\"city\", 1)"
   ]
  },
  {
   "cell_type": "code",
   "execution_count": 169,
   "metadata": {
    "scrolled": true
   },
   "outputs": [
    {
     "data": {
      "text/html": [
       "<div>\n",
       "<style scoped>\n",
       "    .dataframe tbody tr th:only-of-type {\n",
       "        vertical-align: middle;\n",
       "    }\n",
       "\n",
       "    .dataframe tbody tr th {\n",
       "        vertical-align: top;\n",
       "    }\n",
       "\n",
       "    .dataframe thead th {\n",
       "        text-align: right;\n",
       "    }\n",
       "</style>\n",
       "<table border=\"1\" class=\"dataframe\">\n",
       "  <thead>\n",
       "    <tr style=\"text-align: right;\">\n",
       "      <th></th>\n",
       "      <th>date</th>\n",
       "      <th>new_confirmed</th>\n",
       "      <th>new_deaths</th>\n",
       "    </tr>\n",
       "  </thead>\n",
       "  <tbody>\n",
       "    <tr>\n",
       "      <th>0</th>\n",
       "      <td>2020-02-25</td>\n",
       "      <td>1</td>\n",
       "      <td>0</td>\n",
       "    </tr>\n",
       "    <tr>\n",
       "      <th>1</th>\n",
       "      <td>2020-02-26</td>\n",
       "      <td>0</td>\n",
       "      <td>0</td>\n",
       "    </tr>\n",
       "    <tr>\n",
       "      <th>2</th>\n",
       "      <td>2020-02-27</td>\n",
       "      <td>0</td>\n",
       "      <td>0</td>\n",
       "    </tr>\n",
       "    <tr>\n",
       "      <th>3</th>\n",
       "      <td>2020-02-28</td>\n",
       "      <td>1</td>\n",
       "      <td>0</td>\n",
       "    </tr>\n",
       "    <tr>\n",
       "      <th>4</th>\n",
       "      <td>2020-02-29</td>\n",
       "      <td>0</td>\n",
       "      <td>0</td>\n",
       "    </tr>\n",
       "  </tbody>\n",
       "</table>\n",
       "</div>"
      ],
      "text/plain": [
       "         date  new_confirmed  new_deaths\n",
       "0  2020-02-25              1           0\n",
       "1  2020-02-26              0           0\n",
       "2  2020-02-27              0           0\n",
       "3  2020-02-28              1           0\n",
       "4  2020-02-29              0           0"
      ]
     },
     "execution_count": 169,
     "metadata": {},
     "output_type": "execute_result"
    }
   ],
   "source": [
    "df_estado = estados.loc[estados.state==\"SP\", :]\n",
    "df_estado = df_estado.groupby('date').sum()[[\"new_confirmed\", \"new_deaths\"]].reset_index()\n",
    "df_estado.head()"
   ]
  },
  {
   "cell_type": "code",
   "execution_count": 140,
   "metadata": {},
   "outputs": [
    {
     "data": {
      "text/plain": [
       "(118, 3)"
      ]
     },
     "execution_count": 140,
     "metadata": {},
     "output_type": "execute_result"
    }
   ],
   "source": [
    "df_estado.shape"
   ]
  },
  {
   "cell_type": "code",
   "execution_count": 154,
   "metadata": {},
   "outputs": [
    {
     "data": {
      "text/plain": [
       "219185"
      ]
     },
     "execution_count": 154,
     "metadata": {},
     "output_type": "execute_result"
    }
   ],
   "source": [
    "df_estado.new_confirmed.sum()"
   ]
  },
  {
   "cell_type": "code",
   "execution_count": 170,
   "metadata": {
    "scrolled": true
   },
   "outputs": [
    {
     "data": {
      "text/html": [
       "<div>\n",
       "<style scoped>\n",
       "    .dataframe tbody tr th:only-of-type {\n",
       "        vertical-align: middle;\n",
       "    }\n",
       "\n",
       "    .dataframe tbody tr th {\n",
       "        vertical-align: top;\n",
       "    }\n",
       "\n",
       "    .dataframe thead th {\n",
       "        text-align: right;\n",
       "    }\n",
       "</style>\n",
       "<table border=\"1\" class=\"dataframe\">\n",
       "  <thead>\n",
       "    <tr style=\"text-align: right;\">\n",
       "      <th></th>\n",
       "      <th>new_confirmed</th>\n",
       "      <th>new_deaths</th>\n",
       "      <th>estimated_population_2019</th>\n",
       "    </tr>\n",
       "    <tr>\n",
       "      <th>date</th>\n",
       "      <th></th>\n",
       "      <th></th>\n",
       "      <th></th>\n",
       "    </tr>\n",
       "  </thead>\n",
       "  <tbody>\n",
       "    <tr>\n",
       "      <th>2020-02-25</th>\n",
       "      <td>1</td>\n",
       "      <td>0</td>\n",
       "      <td>12252023.0</td>\n",
       "    </tr>\n",
       "    <tr>\n",
       "      <th>2020-02-26</th>\n",
       "      <td>0</td>\n",
       "      <td>0</td>\n",
       "      <td>12252023.0</td>\n",
       "    </tr>\n",
       "    <tr>\n",
       "      <th>2020-02-27</th>\n",
       "      <td>0</td>\n",
       "      <td>0</td>\n",
       "      <td>12252023.0</td>\n",
       "    </tr>\n",
       "    <tr>\n",
       "      <th>2020-02-28</th>\n",
       "      <td>1</td>\n",
       "      <td>0</td>\n",
       "      <td>12252023.0</td>\n",
       "    </tr>\n",
       "    <tr>\n",
       "      <th>2020-02-29</th>\n",
       "      <td>0</td>\n",
       "      <td>0</td>\n",
       "      <td>12252023.0</td>\n",
       "    </tr>\n",
       "  </tbody>\n",
       "</table>\n",
       "</div>"
      ],
      "text/plain": [
       "            new_confirmed  new_deaths  estimated_population_2019\n",
       "date                                                            \n",
       "2020-02-25              1           0                 12252023.0\n",
       "2020-02-26              0           0                 12252023.0\n",
       "2020-02-27              0           0                 12252023.0\n",
       "2020-02-28              1           0                 12252023.0\n",
       "2020-02-29              0           0                 12252023.0"
      ]
     },
     "execution_count": 170,
     "metadata": {},
     "output_type": "execute_result"
    }
   ],
   "source": [
    "df_estado = estados.loc[estados.state==\"SP\", :]\n",
    "df_estado = df_estado.groupby('date').sum()\n",
    "df_estado.head()"
   ]
  },
  {
   "cell_type": "code",
   "execution_count": 173,
   "metadata": {},
   "outputs": [
    {
     "data": {
      "text/html": [
       "<div>\n",
       "<style scoped>\n",
       "    .dataframe tbody tr th:only-of-type {\n",
       "        vertical-align: middle;\n",
       "    }\n",
       "\n",
       "    .dataframe tbody tr th {\n",
       "        vertical-align: top;\n",
       "    }\n",
       "\n",
       "    .dataframe thead th {\n",
       "        text-align: right;\n",
       "    }\n",
       "</style>\n",
       "<table border=\"1\" class=\"dataframe\">\n",
       "  <thead>\n",
       "    <tr style=\"text-align: right;\">\n",
       "      <th></th>\n",
       "      <th>new_confirmed</th>\n",
       "      <th>new_deaths</th>\n",
       "      <th>estimated_population_2019</th>\n",
       "    </tr>\n",
       "    <tr>\n",
       "      <th>date</th>\n",
       "      <th></th>\n",
       "      <th></th>\n",
       "      <th></th>\n",
       "    </tr>\n",
       "  </thead>\n",
       "  <tbody>\n",
       "    <tr>\n",
       "      <th>2020-06-17</th>\n",
       "      <td>4917682</td>\n",
       "      <td>340117</td>\n",
       "      <td>45671817.0</td>\n",
       "    </tr>\n",
       "    <tr>\n",
       "      <th>2020-06-18</th>\n",
       "      <td>5110310</td>\n",
       "      <td>351963</td>\n",
       "      <td>45681057.0</td>\n",
       "    </tr>\n",
       "    <tr>\n",
       "      <th>2020-06-19</th>\n",
       "      <td>5321968</td>\n",
       "      <td>364195</td>\n",
       "      <td>45729249.0</td>\n",
       "    </tr>\n",
       "    <tr>\n",
       "      <th>2020-06-20</th>\n",
       "      <td>5537761</td>\n",
       "      <td>376689</td>\n",
       "      <td>45746842.0</td>\n",
       "    </tr>\n",
       "    <tr>\n",
       "      <th>2020-06-21</th>\n",
       "      <td>5756946</td>\n",
       "      <td>389277</td>\n",
       "      <td>45748682.0</td>\n",
       "    </tr>\n",
       "  </tbody>\n",
       "</table>\n",
       "</div>"
      ],
      "text/plain": [
       "            new_confirmed  new_deaths  estimated_population_2019\n",
       "date                                                            \n",
       "2020-06-17        4917682      340117                 45671817.0\n",
       "2020-06-18        5110310      351963                 45681057.0\n",
       "2020-06-19        5321968      364195                 45729249.0\n",
       "2020-06-20        5537761      376689                 45746842.0\n",
       "2020-06-21        5756946      389277                 45748682.0"
      ]
     },
     "execution_count": 173,
     "metadata": {},
     "output_type": "execute_result"
    }
   ],
   "source": [
    "df_estado[['new_confirmed','new_deaths']] = df_estado[['new_confirmed','new_deaths']].cumsum()\n",
    "df_estado.tail()"
   ]
  },
  {
   "cell_type": "code",
   "execution_count": null,
   "metadata": {},
   "outputs": [],
   "source": []
  },
  {
   "cell_type": "code",
   "execution_count": 49,
   "metadata": {},
   "outputs": [],
   "source": [
    "grouped = estados.groupby(['date','state'])"
   ]
  },
  {
   "cell_type": "code",
   "execution_count": 50,
   "metadata": {},
   "outputs": [
    {
     "data": {
      "text/html": [
       "<div>\n",
       "<style scoped>\n",
       "    .dataframe tbody tr th:only-of-type {\n",
       "        vertical-align: middle;\n",
       "    }\n",
       "\n",
       "    .dataframe tbody tr th {\n",
       "        vertical-align: top;\n",
       "    }\n",
       "\n",
       "    .dataframe thead th {\n",
       "        text-align: right;\n",
       "    }\n",
       "</style>\n",
       "<table border=\"1\" class=\"dataframe\">\n",
       "  <thead>\n",
       "    <tr style=\"text-align: right;\">\n",
       "      <th></th>\n",
       "      <th></th>\n",
       "      <th>new_confirmed</th>\n",
       "      <th>new_deaths</th>\n",
       "      <th>estimated_population_2019</th>\n",
       "    </tr>\n",
       "    <tr>\n",
       "      <th>date</th>\n",
       "      <th>state</th>\n",
       "      <th></th>\n",
       "      <th></th>\n",
       "      <th></th>\n",
       "    </tr>\n",
       "  </thead>\n",
       "  <tbody>\n",
       "    <tr>\n",
       "      <th>2020-02-25</th>\n",
       "      <th>SP</th>\n",
       "      <td>1</td>\n",
       "      <td>0</td>\n",
       "      <td>12252023.0</td>\n",
       "    </tr>\n",
       "    <tr>\n",
       "      <th>2020-02-26</th>\n",
       "      <th>SP</th>\n",
       "      <td>0</td>\n",
       "      <td>0</td>\n",
       "      <td>12252023.0</td>\n",
       "    </tr>\n",
       "    <tr>\n",
       "      <th>2020-02-27</th>\n",
       "      <th>SP</th>\n",
       "      <td>0</td>\n",
       "      <td>0</td>\n",
       "      <td>12252023.0</td>\n",
       "    </tr>\n",
       "    <tr>\n",
       "      <th>2020-02-28</th>\n",
       "      <th>SP</th>\n",
       "      <td>1</td>\n",
       "      <td>0</td>\n",
       "      <td>12252023.0</td>\n",
       "    </tr>\n",
       "    <tr>\n",
       "      <th>2020-02-29</th>\n",
       "      <th>SP</th>\n",
       "      <td>0</td>\n",
       "      <td>0</td>\n",
       "      <td>12252023.0</td>\n",
       "    </tr>\n",
       "    <tr>\n",
       "      <th>...</th>\n",
       "      <th>...</th>\n",
       "      <td>...</td>\n",
       "      <td>...</td>\n",
       "      <td>...</td>\n",
       "    </tr>\n",
       "    <tr>\n",
       "      <th rowspan=\"5\" valign=\"top\">2020-06-21</th>\n",
       "      <th>RS</th>\n",
       "      <td>210</td>\n",
       "      <td>4</td>\n",
       "      <td>10889704.0</td>\n",
       "    </tr>\n",
       "    <tr>\n",
       "      <th>SC</th>\n",
       "      <td>474</td>\n",
       "      <td>9</td>\n",
       "      <td>7054102.0</td>\n",
       "    </tr>\n",
       "    <tr>\n",
       "      <th>SE</th>\n",
       "      <td>536</td>\n",
       "      <td>14</td>\n",
       "      <td>2298696.0</td>\n",
       "    </tr>\n",
       "    <tr>\n",
       "      <th>SP</th>\n",
       "      <td>3392</td>\n",
       "      <td>94</td>\n",
       "      <td>45748682.0</td>\n",
       "    </tr>\n",
       "    <tr>\n",
       "      <th>TO</th>\n",
       "      <td>0</td>\n",
       "      <td>0</td>\n",
       "      <td>1528801.0</td>\n",
       "    </tr>\n",
       "  </tbody>\n",
       "</table>\n",
       "<p>2711 rows × 3 columns</p>\n",
       "</div>"
      ],
      "text/plain": [
       "                  new_confirmed  new_deaths  estimated_population_2019\n",
       "date       state                                                      \n",
       "2020-02-25 SP                 1           0                 12252023.0\n",
       "2020-02-26 SP                 0           0                 12252023.0\n",
       "2020-02-27 SP                 0           0                 12252023.0\n",
       "2020-02-28 SP                 1           0                 12252023.0\n",
       "2020-02-29 SP                 0           0                 12252023.0\n",
       "...                         ...         ...                        ...\n",
       "2020-06-21 RS               210           4                 10889704.0\n",
       "           SC               474           9                  7054102.0\n",
       "           SE               536          14                  2298696.0\n",
       "           SP              3392          94                 45748682.0\n",
       "           TO                 0           0                  1528801.0\n",
       "\n",
       "[2711 rows x 3 columns]"
      ]
     },
     "execution_count": 50,
     "metadata": {},
     "output_type": "execute_result"
    }
   ],
   "source": [
    "grouped.sum()"
   ]
  },
  {
   "cell_type": "code",
   "execution_count": 57,
   "metadata": {},
   "outputs": [],
   "source": [
    "resultado = (grouped.state == \"SP\")"
   ]
  },
  {
   "cell_type": "code",
   "execution_count": 58,
   "metadata": {},
   "outputs": [
    {
     "ename": "AttributeError",
     "evalue": "'bool' object has no attribute 'head'",
     "output_type": "error",
     "traceback": [
      "\u001b[0;31m---------------------------------------------------------------------------\u001b[0m",
      "\u001b[0;31mAttributeError\u001b[0m                            Traceback (most recent call last)",
      "\u001b[0;32m<ipython-input-58-432b133f12bf>\u001b[0m in \u001b[0;36m<module>\u001b[0;34m\u001b[0m\n\u001b[0;32m----> 1\u001b[0;31m \u001b[0mresultado\u001b[0m\u001b[0;34m.\u001b[0m\u001b[0mhead\u001b[0m\u001b[0;34m(\u001b[0m\u001b[0;34m)\u001b[0m\u001b[0;34m\u001b[0m\u001b[0;34m\u001b[0m\u001b[0m\n\u001b[0m",
      "\u001b[0;31mAttributeError\u001b[0m: 'bool' object has no attribute 'head'"
     ]
    }
   ],
   "source": [
    "resultado.head()"
   ]
  },
  {
   "cell_type": "code",
   "execution_count": 5,
   "metadata": {},
   "outputs": [
    {
     "name": "stdout",
     "output_type": "stream",
     "text": [
      "<class 'pandas.core.frame.DataFrame'>\n",
      "RangeIndex: 240649 entries, 0 to 240648\n",
      "Data columns (total 6 columns):\n",
      " #   Column                     Non-Null Count   Dtype  \n",
      "---  ------                     --------------   -----  \n",
      " 0   date                       240649 non-null  object \n",
      " 1   state                      240649 non-null  object \n",
      " 2   city                       240649 non-null  object \n",
      " 3   new_confirmed              240649 non-null  int64  \n",
      " 4   new_deaths                 240649 non-null  int64  \n",
      " 5   estimated_population_2019  239206 non-null  float64\n",
      "dtypes: float64(1), int64(2), object(3)\n",
      "memory usage: 11.0+ MB\n"
     ]
    }
   ],
   "source": [
    "dataframe_questao_1.info()"
   ]
  },
  {
   "cell_type": "code",
   "execution_count": 6,
   "metadata": {},
   "outputs": [
    {
     "data": {
      "text/plain": [
       "(240649, 6)"
      ]
     },
     "execution_count": 6,
     "metadata": {},
     "output_type": "execute_result"
    }
   ],
   "source": [
    "dataframe_questao_1.shape"
   ]
  },
  {
   "cell_type": "code",
   "execution_count": 7,
   "metadata": {
    "scrolled": true
   },
   "outputs": [],
   "source": [
    "#dataframe_questao_1[dataframe_questao_1[\"estimated_population_2019\"].isnull()][\"city\"].unique()"
   ]
  },
  {
   "cell_type": "code",
   "execution_count": 8,
   "metadata": {},
   "outputs": [],
   "source": [
    "dataframe_questao_1.dropna(inplace=True)"
   ]
  },
  {
   "cell_type": "code",
   "execution_count": 9,
   "metadata": {},
   "outputs": [
    {
     "name": "stdout",
     "output_type": "stream",
     "text": [
      "<class 'pandas.core.frame.DataFrame'>\n",
      "Int64Index: 239206 entries, 0 to 240648\n",
      "Data columns (total 6 columns):\n",
      " #   Column                     Non-Null Count   Dtype  \n",
      "---  ------                     --------------   -----  \n",
      " 0   date                       239206 non-null  object \n",
      " 1   state                      239206 non-null  object \n",
      " 2   city                       239206 non-null  object \n",
      " 3   new_confirmed              239206 non-null  int64  \n",
      " 4   new_deaths                 239206 non-null  int64  \n",
      " 5   estimated_population_2019  239206 non-null  float64\n",
      "dtypes: float64(1), int64(2), object(3)\n",
      "memory usage: 12.8+ MB\n"
     ]
    }
   ],
   "source": [
    "dataframe_questao_1.info()"
   ]
  },
  {
   "cell_type": "code",
   "execution_count": 10,
   "metadata": {},
   "outputs": [
    {
     "data": {
      "text/plain": [
       "array([   -1,    -3,    -2, -1269,   -31,   -11,    -6,    -8,    -4,\n",
       "         -35,   -12,   -10,    -9,   -23,   -14,   -24,   -18,   -38,\n",
       "         -41,   -13,   -25,    -5,   -15,   -21,   -17,    -7,   -20,\n",
       "         -28,   -29,   -26,   -95,  -142,   -39,   -33,   -37,   -32,\n",
       "         -36,   -42,   -40,   -43,   -49,   -70,   -50,   -69,   -46,\n",
       "         -34,   -19,  -160,   -54,   -48,   -45,  -739,   -89,   -91,\n",
       "        -188,  -101, -4289,   -27,  -130,  -241,  -302,   -52,   -82,\n",
       "         -60,   -67,  -115,   -22,   -51,   -58,  -349, -1203,   -77,\n",
       "        -414,   -73,   -16,   -56, -1081,   -64,  -385,   -61,   -72,\n",
       "         -71,   -94,  -415])"
      ]
     },
     "execution_count": 10,
     "metadata": {},
     "output_type": "execute_result"
    }
   ],
   "source": [
    "dataframe_questao_1[dataframe_questao_1[\"new_confirmed\"]<0][\"new_confirmed\"].unique()"
   ]
  },
  {
   "cell_type": "code",
   "execution_count": 11,
   "metadata": {},
   "outputs": [
    {
     "data": {
      "text/plain": [
       "array([  -8,   -1,   -4,   -2,   -3,  -11, -131,  -12,   -5,   -6])"
      ]
     },
     "execution_count": 11,
     "metadata": {},
     "output_type": "execute_result"
    }
   ],
   "source": [
    "dataframe_questao_1[dataframe_questao_1[\"new_deaths\"]<0][\"new_deaths\"].unique()"
   ]
  },
  {
   "cell_type": "code",
   "execution_count": 12,
   "metadata": {},
   "outputs": [
    {
     "data": {
      "text/plain": [
       "(3894,)"
      ]
     },
     "execution_count": 12,
     "metadata": {},
     "output_type": "execute_result"
    }
   ],
   "source": [
    "dataframe_questao_1[dataframe_questao_1[\"new_confirmed\"]<0][\"new_confirmed\"].shape"
   ]
  },
  {
   "cell_type": "code",
   "execution_count": 13,
   "metadata": {},
   "outputs": [
    {
     "data": {
      "text/plain": [
       "(400,)"
      ]
     },
     "execution_count": 13,
     "metadata": {},
     "output_type": "execute_result"
    }
   ],
   "source": [
    "dataframe_questao_1[dataframe_questao_1[\"new_deaths\"]<0][\"new_deaths\"].shape"
   ]
  },
  {
   "cell_type": "code",
   "execution_count": 14,
   "metadata": {},
   "outputs": [],
   "source": [
    "teste = pd.read_csv(\"bases/caso_full.csv\")"
   ]
  },
  {
   "cell_type": "code",
   "execution_count": 15,
   "metadata": {},
   "outputs": [
    {
     "data": {
      "text/plain": [
       "array([ -1,  -6,  -2, -10,  -4, -58,  -3, -82, -22, -17, -11, -38, -59,\n",
       "        -5,  -7])"
      ]
     },
     "execution_count": 15,
     "metadata": {},
     "output_type": "execute_result"
    }
   ],
   "source": [
    "teste[teste[\"new_deaths\"]<0][\"new_deaths\"].unique()"
   ]
  },
  {
   "cell_type": "code",
   "execution_count": 16,
   "metadata": {},
   "outputs": [
    {
     "data": {
      "text/html": [
       "<div>\n",
       "<style scoped>\n",
       "    .dataframe tbody tr th:only-of-type {\n",
       "        vertical-align: middle;\n",
       "    }\n",
       "\n",
       "    .dataframe tbody tr th {\n",
       "        vertical-align: top;\n",
       "    }\n",
       "\n",
       "    .dataframe thead th {\n",
       "        text-align: right;\n",
       "    }\n",
       "</style>\n",
       "<table border=\"1\" class=\"dataframe\">\n",
       "  <thead>\n",
       "    <tr style=\"text-align: right;\">\n",
       "      <th></th>\n",
       "      <th>city_ibge_code</th>\n",
       "      <th>epidemiological_week</th>\n",
       "      <th>estimated_population_2019</th>\n",
       "      <th>last_available_confirmed</th>\n",
       "      <th>last_available_confirmed_per_100k_inhabitants</th>\n",
       "      <th>last_available_death_rate</th>\n",
       "      <th>last_available_deaths</th>\n",
       "      <th>order_for_place</th>\n",
       "      <th>new_confirmed</th>\n",
       "      <th>new_deaths</th>\n",
       "    </tr>\n",
       "  </thead>\n",
       "  <tbody>\n",
       "    <tr>\n",
       "      <th>count</th>\n",
       "      <td>4.908490e+05</td>\n",
       "      <td>493133.000000</td>\n",
       "      <td>4.908490e+05</td>\n",
       "      <td>493133.000000</td>\n",
       "      <td>479707.000000</td>\n",
       "      <td>493133.000000</td>\n",
       "      <td>493133.000000</td>\n",
       "      <td>493133.000000</td>\n",
       "      <td>493133.000000</td>\n",
       "      <td>493133.000000</td>\n",
       "    </tr>\n",
       "    <tr>\n",
       "      <th>mean</th>\n",
       "      <td>3.165190e+06</td>\n",
       "      <td>25.185396</td>\n",
       "      <td>1.180477e+05</td>\n",
       "      <td>474.369850</td>\n",
       "      <td>414.977244</td>\n",
       "      <td>0.044980</td>\n",
       "      <td>19.812726</td>\n",
       "      <td>49.710816</td>\n",
       "      <td>11.602482</td>\n",
       "      <td>0.394906</td>\n",
       "    </tr>\n",
       "    <tr>\n",
       "      <th>std</th>\n",
       "      <td>1.020317e+06</td>\n",
       "      <td>4.600946</td>\n",
       "      <td>1.147501e+06</td>\n",
       "      <td>6048.395477</td>\n",
       "      <td>722.691372</td>\n",
       "      <td>0.123945</td>\n",
       "      <td>303.540061</td>\n",
       "      <td>32.125735</td>\n",
       "      <td>143.146758</td>\n",
       "      <td>5.491360</td>\n",
       "    </tr>\n",
       "    <tr>\n",
       "      <th>min</th>\n",
       "      <td>1.100000e+01</td>\n",
       "      <td>9.000000</td>\n",
       "      <td>7.810000e+02</td>\n",
       "      <td>0.000000</td>\n",
       "      <td>0.002180</td>\n",
       "      <td>0.000000</td>\n",
       "      <td>0.000000</td>\n",
       "      <td>1.000000</td>\n",
       "      <td>-1578.000000</td>\n",
       "      <td>-82.000000</td>\n",
       "    </tr>\n",
       "    <tr>\n",
       "      <th>25%</th>\n",
       "      <td>2.414605e+06</td>\n",
       "      <td>22.000000</td>\n",
       "      <td>6.936000e+03</td>\n",
       "      <td>4.000000</td>\n",
       "      <td>33.621520</td>\n",
       "      <td>0.000000</td>\n",
       "      <td>0.000000</td>\n",
       "      <td>23.000000</td>\n",
       "      <td>0.000000</td>\n",
       "      <td>0.000000</td>\n",
       "    </tr>\n",
       "    <tr>\n",
       "      <th>50%</th>\n",
       "      <td>3.137007e+06</td>\n",
       "      <td>26.000000</td>\n",
       "      <td>1.533600e+04</td>\n",
       "      <td>18.000000</td>\n",
       "      <td>144.503580</td>\n",
       "      <td>0.000000</td>\n",
       "      <td>0.000000</td>\n",
       "      <td>46.000000</td>\n",
       "      <td>0.000000</td>\n",
       "      <td>0.000000</td>\n",
       "    </tr>\n",
       "    <tr>\n",
       "      <th>75%</th>\n",
       "      <td>4.108700e+06</td>\n",
       "      <td>29.000000</td>\n",
       "      <td>3.421300e+04</td>\n",
       "      <td>92.000000</td>\n",
       "      <td>490.876110</td>\n",
       "      <td>0.039100</td>\n",
       "      <td>2.000000</td>\n",
       "      <td>73.000000</td>\n",
       "      <td>2.000000</td>\n",
       "      <td>0.000000</td>\n",
       "    </tr>\n",
       "    <tr>\n",
       "      <th>max</th>\n",
       "      <td>5.300108e+06</td>\n",
       "      <td>32.000000</td>\n",
       "      <td>4.591905e+07</td>\n",
       "      <td>585265.000000</td>\n",
       "      <td>15730.064330</td>\n",
       "      <td>1.000000</td>\n",
       "      <td>24109.000000</td>\n",
       "      <td>164.000000</td>\n",
       "      <td>19030.000000</td>\n",
       "      <td>434.000000</td>\n",
       "    </tr>\n",
       "  </tbody>\n",
       "</table>\n",
       "</div>"
      ],
      "text/plain": [
       "       city_ibge_code  epidemiological_week  estimated_population_2019  \\\n",
       "count    4.908490e+05         493133.000000               4.908490e+05   \n",
       "mean     3.165190e+06             25.185396               1.180477e+05   \n",
       "std      1.020317e+06              4.600946               1.147501e+06   \n",
       "min      1.100000e+01              9.000000               7.810000e+02   \n",
       "25%      2.414605e+06             22.000000               6.936000e+03   \n",
       "50%      3.137007e+06             26.000000               1.533600e+04   \n",
       "75%      4.108700e+06             29.000000               3.421300e+04   \n",
       "max      5.300108e+06             32.000000               4.591905e+07   \n",
       "\n",
       "       last_available_confirmed  \\\n",
       "count             493133.000000   \n",
       "mean                 474.369850   \n",
       "std                 6048.395477   \n",
       "min                    0.000000   \n",
       "25%                    4.000000   \n",
       "50%                   18.000000   \n",
       "75%                   92.000000   \n",
       "max               585265.000000   \n",
       "\n",
       "       last_available_confirmed_per_100k_inhabitants  \\\n",
       "count                                  479707.000000   \n",
       "mean                                      414.977244   \n",
       "std                                       722.691372   \n",
       "min                                         0.002180   \n",
       "25%                                        33.621520   \n",
       "50%                                       144.503580   \n",
       "75%                                       490.876110   \n",
       "max                                     15730.064330   \n",
       "\n",
       "       last_available_death_rate  last_available_deaths  order_for_place  \\\n",
       "count              493133.000000          493133.000000    493133.000000   \n",
       "mean                    0.044980              19.812726        49.710816   \n",
       "std                     0.123945             303.540061        32.125735   \n",
       "min                     0.000000               0.000000         1.000000   \n",
       "25%                     0.000000               0.000000        23.000000   \n",
       "50%                     0.000000               0.000000        46.000000   \n",
       "75%                     0.039100               2.000000        73.000000   \n",
       "max                     1.000000           24109.000000       164.000000   \n",
       "\n",
       "       new_confirmed     new_deaths  \n",
       "count  493133.000000  493133.000000  \n",
       "mean       11.602482       0.394906  \n",
       "std       143.146758       5.491360  \n",
       "min     -1578.000000     -82.000000  \n",
       "25%         0.000000       0.000000  \n",
       "50%         0.000000       0.000000  \n",
       "75%         2.000000       0.000000  \n",
       "max     19030.000000     434.000000  "
      ]
     },
     "execution_count": 16,
     "metadata": {},
     "output_type": "execute_result"
    }
   ],
   "source": [
    "teste.describe()"
   ]
  },
  {
   "cell_type": "code",
   "execution_count": 17,
   "metadata": {},
   "outputs": [
    {
     "data": {
      "text/plain": [
       "(493133, 17)"
      ]
     },
     "execution_count": 17,
     "metadata": {},
     "output_type": "execute_result"
    }
   ],
   "source": [
    "teste.shape"
   ]
  },
  {
   "cell_type": "code",
   "execution_count": null,
   "metadata": {},
   "outputs": [],
   "source": []
  }
 ],
 "metadata": {
  "kernelspec": {
   "display_name": "Python 3",
   "language": "python",
   "name": "python3"
  },
  "language_info": {
   "codemirror_mode": {
    "name": "ipython",
    "version": 3
   },
   "file_extension": ".py",
   "mimetype": "text/x-python",
   "name": "python",
   "nbconvert_exporter": "python",
   "pygments_lexer": "ipython3",
   "version": "3.7.3"
  }
 },
 "nbformat": 4,
 "nbformat_minor": 2
}
