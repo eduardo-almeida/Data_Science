{
 "cells": [
  {
   "cell_type": "code",
   "execution_count": 1,
   "id": "bf7545df",
   "metadata": {},
   "outputs": [],
   "source": [
    "def import_query(path):\n",
    "    with open(path, 'r') as open_file:\n",
    "        return open_file.read()"
   ]
  },
  {
   "cell_type": "code",
   "execution_count": 2,
   "id": "b0efa7c1",
   "metadata": {},
   "outputs": [],
   "source": [
    "query = import_query(\"data_sql/vendas.sql\")"
   ]
  },
  {
   "cell_type": "code",
   "execution_count": 3,
   "id": "6d609e57",
   "metadata": {},
   "outputs": [
    {
     "name": "stdout",
     "output_type": "stream",
     "text": [
      "-- CREATE TABLE sandbox.analystics_churn_model.fs_vendedor_vendas AS\n",
      "\n",
      "WITH tbl_pedido AS\n",
      "(\n",
      "SELECT \n",
      "t2.*, t1.dtPedido\n",
      "FROM \n",
      "  silver.olist.pedido t1 \n",
      "LEFT JOIN \n",
      "  silver.olist.item_pedido t2 \n",
      "    ON t1.idPedido = t2.idPedido \n",
      "WHERE \n",
      "  dtPedido >= ADD_MONTHS('{date}', -6)\n",
      "AND \n",
      "  dtPedido < '{date}'\n",
      "AND \n",
      "  idVendedor IS NOT NULL\n",
      "), \n",
      "\n",
      "tbl_summary AS \n",
      "(SELECT \n",
      "  idVendedor, \n",
      "  COUNT(DISTINCT idPedido) AS QntPedidos, \n",
      "  COUNT(DISTINCT DATE(dtPedido)) AS QntDias, \n",
      "  COUNT(DISTINCT idProduto) AS QntItens, \n",
      "  DATEDIFF('{date}', MAX(dtPedido)) AS QntRecencia, \n",
      "  SUM(vlPreco)/ COUNT(DISTINCT idPedido) AS AvgTicket, \n",
      "  AVG(vlPreco) AS AvgValorProduto, \n",
      "  MAX(vlPreco) AS MAXValorProduto, \n",
      "  MIN(vlPreco) AS MINValorProduto, \n",
      "  COUNT(idProduto) / COUNT(DISTINCT idPedido) AS AvgProdutoPedido \n",
      "FROM \n",
      "  tbl_pedido\n",
      "GROUP BY \n",
      "  idVendedor), \n",
      "\n",
      "\n",
      "tbl_min_max AS (\n",
      "SELECT \n",
      "  idVendedor, \n",
      "  MAX(vlPreco) AS MAXValorPedido, \n",
      "  MIN(vlPreco) AS MINValorPedido\n",
      "FROM \n",
      "  (\n",
      "  SELECT \n",
      "    idVendedor, \n",
      "    idPedido, \n",
      "    SUM(vlPreco) AS vlPreco \n",
      "  FROM \n",
      "    tbl_pedido \n",
      "  GROUP BY \n",
      "    idVendedor, \n",
      "    idPedido\n",
      "  ) \n",
      "GROUP BY \n",
      "  idVendedor), \n",
      "\n",
      "tbl_life AS (\n",
      "SELECT \n",
      "    t2.idVendedor, \n",
      "    SUM(vlPreco) AS LTV,\n",
      "    MAX(DATEDIFF('{date}', dtPedido)) AS qtnDiasBase \n",
      "FROM \n",
      "  silver.olist.pedido t1 \n",
      "LEFT JOIN \n",
      "  silver.olist.item_pedido t2 \n",
      "    ON t1.idPedido = t2.idPedido \n",
      "WHERE \n",
      "  dtPedido < '{date}'\n",
      "AND \n",
      "  idVendedor IS NOT NULL\n",
      "GROUP BY \n",
      "  t2.idVendedor), \n",
      "\n",
      "tbl_intervalo AS (\n",
      "SELECT \n",
      "  idVendedor, \n",
      "  AVG(DATEDIFF(dtPedido, NextDatePedido)) AS AvgIntervaloVendas\n",
      "FROM \n",
      "(SELECT DISTINCT \n",
      "  idVendedor, \n",
      "  DATE(dtPedido) AS dtPedido,\n",
      "  LAG(DATE(dtPedido),1) OVER (PARTITION BY IdVendedor ORDER BY dtPedido) AS NextDatePedido\n",
      "FROM \n",
      "  tbl_pedido)\n",
      "GROUP BY idVendedor) \n",
      "\n",
      "\n",
      "SELECT \n",
      "  '{date}' DateRef, \n",
      "  t1.*, \n",
      "  t2.MAXValorPedido,  \n",
      "  t2.MINValorPedido, \n",
      "  t3.LTV, \n",
      "  t3.qtnDiasBase, \n",
      "  t4.AvgIntervaloVendas\n",
      "FROM \n",
      "  tbl_summary t1 \n",
      "LEFT JOIN \n",
      "  tbl_min_max t2 \n",
      "    ON t1.idVendedor = t2.idVendedor \n",
      "LEFT JOIN \n",
      "  tbl_life t3\n",
      "    ON t1.idVendedor = t3.idVendedor \n",
      "LEFT JOIN \n",
      "  tbl_intervalo t4\n",
      "    ON t1.idVendedor = t4.idVendedor \n",
      "\n",
      " \n",
      "\n",
      "\n",
      "\n"
     ]
    }
   ],
   "source": [
    "print(query)"
   ]
  },
  {
   "cell_type": "code",
   "execution_count": 4,
   "id": "03bf0413",
   "metadata": {},
   "outputs": [],
   "source": [
    "# pip install pyspark"
   ]
  },
  {
   "cell_type": "code",
   "execution_count": 5,
   "id": "6b887038",
   "metadata": {},
   "outputs": [],
   "source": [
    "from pyspark.sql import SparkSession"
   ]
  },
  {
   "cell_type": "code",
   "execution_count": 6,
   "id": "82208138",
   "metadata": {},
   "outputs": [],
   "source": [
    "spark = SparkSession.builder.appName(\"Olist - Teo\").config('spark.sql.repl.eagerEval.enabled', True).getOrCreate()"
   ]
  },
  {
   "cell_type": "code",
   "execution_count": 7,
   "id": "19ad1ba2",
   "metadata": {},
   "outputs": [
    {
     "data": {
      "text/html": [
       "\n",
       "            <div>\n",
       "                <p><b>SparkSession - in-memory</b></p>\n",
       "                \n",
       "        <div>\n",
       "            <p><b>SparkContext</b></p>\n",
       "\n",
       "            <p><a href=\"http://DESKTOP-2TRORC7.mshome.net:4040\">Spark UI</a></p>\n",
       "\n",
       "            <dl>\n",
       "              <dt>Version</dt>\n",
       "                <dd><code>v3.5.2</code></dd>\n",
       "              <dt>Master</dt>\n",
       "                <dd><code>local[*]</code></dd>\n",
       "              <dt>AppName</dt>\n",
       "                <dd><code>Olist - Teo</code></dd>\n",
       "            </dl>\n",
       "        </div>\n",
       "        \n",
       "            </div>\n",
       "        "
      ],
      "text/plain": [
       "<pyspark.sql.session.SparkSession at 0x1824fb6c850>"
      ]
     },
     "execution_count": 7,
     "metadata": {},
     "output_type": "execute_result"
    }
   ],
   "source": [
    "spark"
   ]
  },
  {
   "cell_type": "code",
   "execution_count": 8,
   "id": "9ff434a0",
   "metadata": {
    "scrolled": false
   },
   "outputs": [],
   "source": [
    "df = spark.read.csv(\"data/produto.csv\")"
   ]
  },
  {
   "cell_type": "code",
   "execution_count": 10,
   "id": "75486b7c",
   "metadata": {},
   "outputs": [
    {
     "name": "stdout",
     "output_type": "stream",
     "text": [
      "+--------------------+--------------------+-------------+------------------+-------+------------+---------------+----------+-----------+\n",
      "|                 _c0|                 _c1|          _c2|               _c3|    _c4|         _c5|            _c6|       _c7|        _c8|\n",
      "+--------------------+--------------------+-------------+------------------+-------+------------+---------------+----------+-----------+\n",
      "|           idProduto|       descCategoria|nrTamanhoNome|nrTamanhoDescricao|nrFotos|vlPesoGramas|vlComprimentoCm|vlAlturaCm|vlLarguraCm|\n",
      "|1e9e8ef04dbcff454...|          perfumaria|         40.0|             287.0|    1.0|       225.0|           16.0|      10.0|       14.0|\n",
      "|3aa071139cb16b67c...|               artes|         44.0|             276.0|    1.0|      1000.0|           30.0|      18.0|       20.0|\n",
      "|96bd76ec8810374ed...|       esporte_lazer|         46.0|             250.0|    1.0|       154.0|           18.0|       9.0|       15.0|\n",
      "|cef67bcfe19066a93...|               bebes|         27.0|             261.0|    1.0|       371.0|           26.0|       4.0|       26.0|\n",
      "|9dc1a7de274444849...|utilidades_domest...|         37.0|             402.0|    4.0|       625.0|           20.0|      17.0|       13.0|\n",
      "|41d3672d4792049fa...|instrumentos_musi...|         60.0|             745.0|    1.0|       200.0|           38.0|       5.0|       11.0|\n",
      "|732bd381ad09e530f...|          cool_stuff|         56.0|            1272.0|    4.0|     18350.0|           70.0|      24.0|       44.0|\n",
      "|2548af3e6e77a690c...|    moveis_decoracao|         56.0|             184.0|    2.0|       900.0|           40.0|       8.0|       40.0|\n",
      "|37cc742be07708b53...|    eletrodomesticos|         57.0|             163.0|    1.0|       400.0|           27.0|      13.0|       17.0|\n",
      "|8c92109888e8cdf9d...|          brinquedos|         36.0|            1156.0|    1.0|       600.0|           17.0|      10.0|       12.0|\n",
      "|14aa47b7fe5c25522...|     cama_mesa_banho|         54.0|             630.0|    1.0|      1100.0|           16.0|      10.0|       16.0|\n",
      "|03b63c5fc16691530...|               bebes|         49.0|             728.0|    4.0|      7150.0|           50.0|      19.0|       45.0|\n",
      "|cf55509ea8edaaac1...|instrumentos_musi...|         43.0|            1827.0|    3.0|       250.0|           17.0|       7.0|       17.0|\n",
      "|7bb6f29c2be577161...|    moveis_decoracao|         51.0|            2083.0|    2.0|       600.0|           68.0|      11.0|       13.0|\n",
      "|eb31436580a610f20...|construcao_ferram...|         59.0|            1602.0|    4.0|       200.0|           17.0|       7.0|       17.0|\n",
      "|3bb7f144022e67327...|       esporte_lazer|         22.0|            3021.0|    1.0|       800.0|           16.0|       2.0|       11.0|\n",
      "|6a2fb4dd53d2cdb88...|          perfumaria|         39.0|             346.0|    2.0|       400.0|           27.0|       5.0|       20.0|\n",
      "|a1b71017a84f92fd8...|informatica_acess...|         59.0|             636.0|    1.0|       900.0|           40.0|      15.0|       20.0|\n",
      "|a0736b92e52f6cead...|    moveis_decoracao|         56.0|             296.0|    2.0|      1700.0|          100.0|       7.0|       15.0|\n",
      "+--------------------+--------------------+-------------+------------------+-------+------------+---------------+----------+-----------+\n",
      "only showing top 20 rows\n",
      "\n"
     ]
    }
   ],
   "source": [
    "df.show()"
   ]
  },
  {
   "cell_type": "code",
   "execution_count": 9,
   "id": "21aa52db",
   "metadata": {},
   "outputs": [
    {
     "ename": "AnalysisException",
     "evalue": "[REQUIRES_SINGLE_PART_NAMESPACE] spark_catalog requires a single-part namespace, but got `silver`.`olist`.",
     "output_type": "error",
     "traceback": [
      "\u001b[1;31m---------------------------------------------------------------------------\u001b[0m",
      "\u001b[1;31mAnalysisException\u001b[0m                         Traceback (most recent call last)",
      "\u001b[1;32m~\\AppData\\Local\\Temp\\ipykernel_8424\\2464733029.py\u001b[0m in \u001b[0;36m<module>\u001b[1;34m\u001b[0m\n\u001b[1;32m----> 1\u001b[1;33m \u001b[0mdf\u001b[0m \u001b[1;33m=\u001b[0m \u001b[0mspark\u001b[0m\u001b[1;33m.\u001b[0m\u001b[0msql\u001b[0m\u001b[1;33m(\u001b[0m\u001b[0mquery\u001b[0m\u001b[1;33m)\u001b[0m\u001b[1;33m\u001b[0m\u001b[1;33m\u001b[0m\u001b[0m\n\u001b[0m",
      "\u001b[1;32m~\\AppData\\Roaming\\Python\\Python39\\site-packages\\pyspark\\sql\\session.py\u001b[0m in \u001b[0;36msql\u001b[1;34m(self, sqlQuery, args, **kwargs)\u001b[0m\n\u001b[0;32m   1629\u001b[0m                     \u001b[1;33m[\u001b[0m\u001b[0m_to_java_column\u001b[0m\u001b[1;33m(\u001b[0m\u001b[0mlit\u001b[0m\u001b[1;33m(\u001b[0m\u001b[0mv\u001b[0m\u001b[1;33m)\u001b[0m\u001b[1;33m)\u001b[0m \u001b[1;32mfor\u001b[0m \u001b[0mv\u001b[0m \u001b[1;32min\u001b[0m \u001b[1;33m(\u001b[0m\u001b[0margs\u001b[0m \u001b[1;32mor\u001b[0m \u001b[1;33m[\u001b[0m\u001b[1;33m]\u001b[0m\u001b[1;33m)\u001b[0m\u001b[1;33m]\u001b[0m\u001b[1;33m\u001b[0m\u001b[1;33m\u001b[0m\u001b[0m\n\u001b[0;32m   1630\u001b[0m                 )\n\u001b[1;32m-> 1631\u001b[1;33m             \u001b[1;32mreturn\u001b[0m \u001b[0mDataFrame\u001b[0m\u001b[1;33m(\u001b[0m\u001b[0mself\u001b[0m\u001b[1;33m.\u001b[0m\u001b[0m_jsparkSession\u001b[0m\u001b[1;33m.\u001b[0m\u001b[0msql\u001b[0m\u001b[1;33m(\u001b[0m\u001b[0msqlQuery\u001b[0m\u001b[1;33m,\u001b[0m \u001b[0mlitArgs\u001b[0m\u001b[1;33m)\u001b[0m\u001b[1;33m,\u001b[0m \u001b[0mself\u001b[0m\u001b[1;33m)\u001b[0m\u001b[1;33m\u001b[0m\u001b[1;33m\u001b[0m\u001b[0m\n\u001b[0m\u001b[0;32m   1632\u001b[0m         \u001b[1;32mfinally\u001b[0m\u001b[1;33m:\u001b[0m\u001b[1;33m\u001b[0m\u001b[1;33m\u001b[0m\u001b[0m\n\u001b[0;32m   1633\u001b[0m             \u001b[1;32mif\u001b[0m \u001b[0mlen\u001b[0m\u001b[1;33m(\u001b[0m\u001b[0mkwargs\u001b[0m\u001b[1;33m)\u001b[0m \u001b[1;33m>\u001b[0m \u001b[1;36m0\u001b[0m\u001b[1;33m:\u001b[0m\u001b[1;33m\u001b[0m\u001b[1;33m\u001b[0m\u001b[0m\n",
      "\u001b[1;32m~\\AppData\\Roaming\\Python\\Python39\\site-packages\\py4j\\java_gateway.py\u001b[0m in \u001b[0;36m__call__\u001b[1;34m(self, *args)\u001b[0m\n\u001b[0;32m   1320\u001b[0m \u001b[1;33m\u001b[0m\u001b[0m\n\u001b[0;32m   1321\u001b[0m         \u001b[0manswer\u001b[0m \u001b[1;33m=\u001b[0m \u001b[0mself\u001b[0m\u001b[1;33m.\u001b[0m\u001b[0mgateway_client\u001b[0m\u001b[1;33m.\u001b[0m\u001b[0msend_command\u001b[0m\u001b[1;33m(\u001b[0m\u001b[0mcommand\u001b[0m\u001b[1;33m)\u001b[0m\u001b[1;33m\u001b[0m\u001b[1;33m\u001b[0m\u001b[0m\n\u001b[1;32m-> 1322\u001b[1;33m         return_value = get_return_value(\n\u001b[0m\u001b[0;32m   1323\u001b[0m             answer, self.gateway_client, self.target_id, self.name)\n\u001b[0;32m   1324\u001b[0m \u001b[1;33m\u001b[0m\u001b[0m\n",
      "\u001b[1;32m~\\AppData\\Roaming\\Python\\Python39\\site-packages\\pyspark\\errors\\exceptions\\captured.py\u001b[0m in \u001b[0;36mdeco\u001b[1;34m(*a, **kw)\u001b[0m\n\u001b[0;32m    183\u001b[0m                 \u001b[1;31m# Hide where the exception came from that shows a non-Pythonic\u001b[0m\u001b[1;33m\u001b[0m\u001b[1;33m\u001b[0m\u001b[0m\n\u001b[0;32m    184\u001b[0m                 \u001b[1;31m# JVM exception message.\u001b[0m\u001b[1;33m\u001b[0m\u001b[1;33m\u001b[0m\u001b[0m\n\u001b[1;32m--> 185\u001b[1;33m                 \u001b[1;32mraise\u001b[0m \u001b[0mconverted\u001b[0m \u001b[1;32mfrom\u001b[0m \u001b[1;32mNone\u001b[0m\u001b[1;33m\u001b[0m\u001b[1;33m\u001b[0m\u001b[0m\n\u001b[0m\u001b[0;32m    186\u001b[0m             \u001b[1;32melse\u001b[0m\u001b[1;33m:\u001b[0m\u001b[1;33m\u001b[0m\u001b[1;33m\u001b[0m\u001b[0m\n\u001b[0;32m    187\u001b[0m                 \u001b[1;32mraise\u001b[0m\u001b[1;33m\u001b[0m\u001b[1;33m\u001b[0m\u001b[0m\n",
      "\u001b[1;31mAnalysisException\u001b[0m: [REQUIRES_SINGLE_PART_NAMESPACE] spark_catalog requires a single-part namespace, but got `silver`.`olist`."
     ]
    }
   ],
   "source": [
    "df = spark.sql(query)"
   ]
  },
  {
   "cell_type": "code",
   "execution_count": null,
   "id": "1a2cae58",
   "metadata": {},
   "outputs": [],
   "source": []
  }
 ],
 "metadata": {
  "kernelspec": {
   "display_name": "Python 3 (ipykernel)",
   "language": "python",
   "name": "python3"
  },
  "language_info": {
   "codemirror_mode": {
    "name": "ipython",
    "version": 3
   },
   "file_extension": ".py",
   "mimetype": "text/x-python",
   "name": "python",
   "nbconvert_exporter": "python",
   "pygments_lexer": "ipython3",
   "version": "3.9.13"
  }
 },
 "nbformat": 4,
 "nbformat_minor": 5
}
