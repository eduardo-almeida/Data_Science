{
 "cells": [
  {
   "cell_type": "code",
   "execution_count": 1,
   "metadata": {},
   "outputs": [],
   "source": [
    "import pandas as pd\n",
    "import numpy as np"
   ]
  },
  {
   "cell_type": "code",
   "execution_count": 2,
   "metadata": {},
   "outputs": [],
   "source": [
    "mercado = pd.read_csv('data/estaticos_market.csv', index_col=0)"
   ]
  },
  {
   "cell_type": "code",
   "execution_count": 3,
   "metadata": {},
   "outputs": [
    {
     "data": {
      "text/html": [
       "<div>\n",
       "<style scoped>\n",
       "    .dataframe tbody tr th:only-of-type {\n",
       "        vertical-align: middle;\n",
       "    }\n",
       "\n",
       "    .dataframe tbody tr th {\n",
       "        vertical-align: top;\n",
       "    }\n",
       "\n",
       "    .dataframe thead th {\n",
       "        text-align: right;\n",
       "    }\n",
       "</style>\n",
       "<table border=\"1\" class=\"dataframe\">\n",
       "  <thead>\n",
       "    <tr style=\"text-align: right;\">\n",
       "      <th></th>\n",
       "      <th>id</th>\n",
       "      <th>fl_matriz</th>\n",
       "      <th>de_natureza_juridica</th>\n",
       "      <th>sg_uf</th>\n",
       "      <th>natureza_juridica_macro</th>\n",
       "      <th>de_ramo</th>\n",
       "      <th>setor</th>\n",
       "      <th>idade_empresa_anos</th>\n",
       "      <th>idade_emp_cat</th>\n",
       "      <th>fl_me</th>\n",
       "      <th>...</th>\n",
       "      <th>media_meses_servicos</th>\n",
       "      <th>max_meses_servicos</th>\n",
       "      <th>min_meses_servicos</th>\n",
       "      <th>qt_funcionarios</th>\n",
       "      <th>qt_funcionarios_12meses</th>\n",
       "      <th>qt_funcionarios_24meses</th>\n",
       "      <th>tx_crescimento_12meses</th>\n",
       "      <th>tx_crescimento_24meses</th>\n",
       "      <th>tx_rotatividade</th>\n",
       "      <th>qt_filiais</th>\n",
       "    </tr>\n",
       "  </thead>\n",
       "  <tbody>\n",
       "    <tr>\n",
       "      <th>0</th>\n",
       "      <td>a6984c3ae395090e3bee8ad63c3758b110de096d5d8195...</td>\n",
       "      <td>True</td>\n",
       "      <td>SOCIEDADE EMPRESARIA LIMITADA</td>\n",
       "      <td>RN</td>\n",
       "      <td>ENTIDADES EMPRESARIAIS</td>\n",
       "      <td>INDUSTRIA DA CONSTRUCAO</td>\n",
       "      <td>CONSTRUÇÃO CIVIL</td>\n",
       "      <td>14.457534</td>\n",
       "      <td>10 a 15</td>\n",
       "      <td>False</td>\n",
       "      <td>...</td>\n",
       "      <td>43.738462</td>\n",
       "      <td>93.266667</td>\n",
       "      <td>19.166667</td>\n",
       "      <td>26.0</td>\n",
       "      <td>26.0</td>\n",
       "      <td>27.0</td>\n",
       "      <td>0.0</td>\n",
       "      <td>-3.703704</td>\n",
       "      <td>0.0</td>\n",
       "      <td>0</td>\n",
       "    </tr>\n",
       "    <tr>\n",
       "      <th>1</th>\n",
       "      <td>6178f41ade1365e44bc2c46654c2c8c0eaae27dcb476c4...</td>\n",
       "      <td>True</td>\n",
       "      <td>EMPRESARIO INDIVIDUAL</td>\n",
       "      <td>PI</td>\n",
       "      <td>OUTROS</td>\n",
       "      <td>SERVICOS DE ALOJAMENTO/ALIMENTACAO</td>\n",
       "      <td>SERVIÇO</td>\n",
       "      <td>1.463014</td>\n",
       "      <td>1 a 5</td>\n",
       "      <td>False</td>\n",
       "      <td>...</td>\n",
       "      <td>NaN</td>\n",
       "      <td>NaN</td>\n",
       "      <td>NaN</td>\n",
       "      <td>NaN</td>\n",
       "      <td>NaN</td>\n",
       "      <td>NaN</td>\n",
       "      <td>NaN</td>\n",
       "      <td>NaN</td>\n",
       "      <td>NaN</td>\n",
       "      <td>0</td>\n",
       "    </tr>\n",
       "    <tr>\n",
       "      <th>2</th>\n",
       "      <td>4a7e5069a397f12fdd7fd57111d6dc5d3ba558958efc02...</td>\n",
       "      <td>True</td>\n",
       "      <td>EMPRESARIO INDIVIDUAL</td>\n",
       "      <td>AM</td>\n",
       "      <td>OUTROS</td>\n",
       "      <td>TRANSPORTE, ARMAZENAGEM E CORREIO</td>\n",
       "      <td>SERVIÇO</td>\n",
       "      <td>7.093151</td>\n",
       "      <td>5 a 10</td>\n",
       "      <td>False</td>\n",
       "      <td>...</td>\n",
       "      <td>NaN</td>\n",
       "      <td>NaN</td>\n",
       "      <td>NaN</td>\n",
       "      <td>NaN</td>\n",
       "      <td>NaN</td>\n",
       "      <td>NaN</td>\n",
       "      <td>NaN</td>\n",
       "      <td>NaN</td>\n",
       "      <td>NaN</td>\n",
       "      <td>0</td>\n",
       "    </tr>\n",
       "    <tr>\n",
       "      <th>3</th>\n",
       "      <td>3348900fe63216a439d2e5238c79ddd46ede454df7b9d8...</td>\n",
       "      <td>True</td>\n",
       "      <td>EMPRESARIO INDIVIDUAL</td>\n",
       "      <td>AM</td>\n",
       "      <td>OUTROS</td>\n",
       "      <td>SERVICOS DIVERSOS</td>\n",
       "      <td>SERVIÇO</td>\n",
       "      <td>6.512329</td>\n",
       "      <td>5 a 10</td>\n",
       "      <td>False</td>\n",
       "      <td>...</td>\n",
       "      <td>NaN</td>\n",
       "      <td>NaN</td>\n",
       "      <td>NaN</td>\n",
       "      <td>NaN</td>\n",
       "      <td>NaN</td>\n",
       "      <td>NaN</td>\n",
       "      <td>NaN</td>\n",
       "      <td>NaN</td>\n",
       "      <td>NaN</td>\n",
       "      <td>0</td>\n",
       "    </tr>\n",
       "    <tr>\n",
       "      <th>4</th>\n",
       "      <td>1f9bcabc9d3173c1fe769899e4fac14b053037b953a1e4...</td>\n",
       "      <td>True</td>\n",
       "      <td>EMPRESARIO INDIVIDUAL</td>\n",
       "      <td>RN</td>\n",
       "      <td>OUTROS</td>\n",
       "      <td>SERVICOS PROFISSIONAIS, TECNICOS E CIENTIFICOS</td>\n",
       "      <td>SERVIÇO</td>\n",
       "      <td>3.200000</td>\n",
       "      <td>1 a 5</td>\n",
       "      <td>False</td>\n",
       "      <td>...</td>\n",
       "      <td>NaN</td>\n",
       "      <td>NaN</td>\n",
       "      <td>NaN</td>\n",
       "      <td>NaN</td>\n",
       "      <td>NaN</td>\n",
       "      <td>NaN</td>\n",
       "      <td>NaN</td>\n",
       "      <td>NaN</td>\n",
       "      <td>NaN</td>\n",
       "      <td>0</td>\n",
       "    </tr>\n",
       "  </tbody>\n",
       "</table>\n",
       "<p>5 rows × 181 columns</p>\n",
       "</div>"
      ],
      "text/plain": [
       "                                                  id  fl_matriz  \\\n",
       "0  a6984c3ae395090e3bee8ad63c3758b110de096d5d8195...       True   \n",
       "1  6178f41ade1365e44bc2c46654c2c8c0eaae27dcb476c4...       True   \n",
       "2  4a7e5069a397f12fdd7fd57111d6dc5d3ba558958efc02...       True   \n",
       "3  3348900fe63216a439d2e5238c79ddd46ede454df7b9d8...       True   \n",
       "4  1f9bcabc9d3173c1fe769899e4fac14b053037b953a1e4...       True   \n",
       "\n",
       "            de_natureza_juridica sg_uf natureza_juridica_macro  \\\n",
       "0  SOCIEDADE EMPRESARIA LIMITADA    RN  ENTIDADES EMPRESARIAIS   \n",
       "1          EMPRESARIO INDIVIDUAL    PI                  OUTROS   \n",
       "2          EMPRESARIO INDIVIDUAL    AM                  OUTROS   \n",
       "3          EMPRESARIO INDIVIDUAL    AM                  OUTROS   \n",
       "4          EMPRESARIO INDIVIDUAL    RN                  OUTROS   \n",
       "\n",
       "                                          de_ramo             setor  \\\n",
       "0                         INDUSTRIA DA CONSTRUCAO  CONSTRUÇÃO CIVIL   \n",
       "1              SERVICOS DE ALOJAMENTO/ALIMENTACAO           SERVIÇO   \n",
       "2               TRANSPORTE, ARMAZENAGEM E CORREIO           SERVIÇO   \n",
       "3                               SERVICOS DIVERSOS           SERVIÇO   \n",
       "4  SERVICOS PROFISSIONAIS, TECNICOS E CIENTIFICOS           SERVIÇO   \n",
       "\n",
       "   idade_empresa_anos idade_emp_cat  fl_me  ...  media_meses_servicos  \\\n",
       "0           14.457534       10 a 15  False  ...             43.738462   \n",
       "1            1.463014         1 a 5  False  ...                   NaN   \n",
       "2            7.093151        5 a 10  False  ...                   NaN   \n",
       "3            6.512329        5 a 10  False  ...                   NaN   \n",
       "4            3.200000         1 a 5  False  ...                   NaN   \n",
       "\n",
       "   max_meses_servicos  min_meses_servicos  qt_funcionarios  \\\n",
       "0           93.266667           19.166667             26.0   \n",
       "1                 NaN                 NaN              NaN   \n",
       "2                 NaN                 NaN              NaN   \n",
       "3                 NaN                 NaN              NaN   \n",
       "4                 NaN                 NaN              NaN   \n",
       "\n",
       "  qt_funcionarios_12meses  qt_funcionarios_24meses  tx_crescimento_12meses  \\\n",
       "0                    26.0                     27.0                     0.0   \n",
       "1                     NaN                      NaN                     NaN   \n",
       "2                     NaN                      NaN                     NaN   \n",
       "3                     NaN                      NaN                     NaN   \n",
       "4                     NaN                      NaN                     NaN   \n",
       "\n",
       "   tx_crescimento_24meses tx_rotatividade qt_filiais  \n",
       "0               -3.703704             0.0          0  \n",
       "1                     NaN             NaN          0  \n",
       "2                     NaN             NaN          0  \n",
       "3                     NaN             NaN          0  \n",
       "4                     NaN             NaN          0  \n",
       "\n",
       "[5 rows x 181 columns]"
      ]
     },
     "execution_count": 3,
     "metadata": {},
     "output_type": "execute_result"
    }
   ],
   "source": [
    "mercado.head()"
   ]
  },
  {
   "cell_type": "code",
   "execution_count": 4,
   "metadata": {},
   "outputs": [
    {
     "data": {
      "text/plain": [
       "(462298, 181)"
      ]
     },
     "execution_count": 4,
     "metadata": {},
     "output_type": "execute_result"
    }
   ],
   "source": [
    "mercado.shape"
   ]
  },
  {
   "cell_type": "code",
   "execution_count": 5,
   "metadata": {},
   "outputs": [
    {
     "data": {
      "text/plain": [
       "array(['INDUSTRIA DA CONSTRUCAO', 'SERVICOS DE ALOJAMENTO/ALIMENTACAO',\n",
       "       'TRANSPORTE, ARMAZENAGEM E CORREIO', 'SERVICOS DIVERSOS',\n",
       "       'SERVICOS PROFISSIONAIS, TECNICOS E CIENTIFICOS',\n",
       "       'QUIMICA-PETROQUIMICA', 'SERVICOS ADMINISTRATIVOS',\n",
       "       'BENS DE CONSUMO', 'COMERCIO VAREJISTA', 'INDUSTRIA DIGITAL',\n",
       "       'TEXTEIS', 'COMERCIO POR ATACADO', 'TELECOM', 'SERVICOS DE SAUDE',\n",
       "       'COMERCIO E REPARACAO DE VEICULOS', 'CULTURA, ESPORTE E RECREACAO',\n",
       "       'SERVICOS FINANCEIROS', 'SERVICOS DE EDUCACAO',\n",
       "       'PRODUTOS DE AGROPECUARIA',\n",
       "       'ADMINISTRACAO PUBLICA, DEFESA E SEGURIDADE SOCIAL',\n",
       "       'PAPEL E CELULOSE', 'SIDERURGICA-METALURGIA', 'OUTROS',\n",
       "       'SEGUROS, PLANOS DE PREVIDENCIA E PLANOS DE SAUDE',\n",
       "       'ELETRICIDADE E GAS', 'INDUSTRIAS EXTRATIVAS', 'ELETROELETRONICOS',\n",
       "       'SERVICOS DE SANEAMENTO BASICO', 'ATIVIDADES IMOBILIARIAS',\n",
       "       'SERVICOS SOCIAIS', 'INDUSTRIA AUTOMOTIVA',\n",
       "       'ORGANISMOS INTERNACIONAIS', 'FARMACEUTICA'], dtype=object)"
      ]
     },
     "execution_count": 5,
     "metadata": {},
     "output_type": "execute_result"
    }
   ],
   "source": [
    "mercado['de_ramo'].unique()"
   ]
  },
  {
   "cell_type": "code",
   "execution_count": 6,
   "metadata": {},
   "outputs": [
    {
     "data": {
      "text/plain": [
       "array(['CONSTRUÇÃO CIVIL', 'SERVIÇO', 'INDUSTRIA', 'COMERCIO',\n",
       "       'AGROPECUARIA', nan], dtype=object)"
      ]
     },
     "execution_count": 6,
     "metadata": {},
     "output_type": "execute_result"
    }
   ],
   "source": [
    "mercado['setor'].unique()"
   ]
  },
  {
   "cell_type": "code",
   "execution_count": 7,
   "metadata": {},
   "outputs": [],
   "source": [
    "teste= mercado[mercado['setor'].isnull()]"
   ]
  },
  {
   "cell_type": "code",
   "execution_count": 8,
   "metadata": {},
   "outputs": [
    {
     "data": {
      "text/plain": [
       "array(['OUTROS'], dtype=object)"
      ]
     },
     "execution_count": 8,
     "metadata": {},
     "output_type": "execute_result"
    }
   ],
   "source": [
    "teste['de_ramo'].unique()"
   ]
  },
  {
   "cell_type": "code",
   "execution_count": 9,
   "metadata": {},
   "outputs": [],
   "source": [
    "mercado['setor'].fillna('SETOR INDEFINIDO', inplace=True)"
   ]
  },
  {
   "cell_type": "code",
   "execution_count": 10,
   "metadata": {},
   "outputs": [],
   "source": [
    "mercado_reduzido = mercado.dropna(axis=1 , thresh=mercado.shape[0]*0.60)"
   ]
  },
  {
   "cell_type": "code",
   "execution_count": 11,
   "metadata": {
    "scrolled": true
   },
   "outputs": [
    {
     "data": {
      "text/plain": [
       "(462298, 50)"
      ]
     },
     "execution_count": 11,
     "metadata": {},
     "output_type": "execute_result"
    }
   ],
   "source": [
    "mercado_reduzido.shape"
   ]
  },
  {
   "cell_type": "code",
   "execution_count": 12,
   "metadata": {},
   "outputs": [],
   "source": [
    "mercado_simplificado = mercado_reduzido.copy()"
   ]
  },
  {
   "cell_type": "code",
   "execution_count": 13,
   "metadata": {},
   "outputs": [
    {
     "data": {
      "text/plain": [
       "array(['SOCIEDADE EMPRESARIA LIMITADA', 'EMPRESARIO INDIVIDUAL',\n",
       "       'COOPERATIVA', 'ASSOCIACAO PRIVADA', 'ENTIDADE SINDICAL',\n",
       "       'CONSORCIO DE SOCIEDADES', 'SOCIEDADE DE ECONOMIA MISTA',\n",
       "       'CONDOMINIO EDILICIO', 'ORGAO PUBLICO DO PODER EXECUTIVO FEDERAL',\n",
       "       'MUNICIPIO', 'ORGAO DE DIRECAO LOCAL DE PARTIDO POLITICO',\n",
       "       'SOCIEDADE ANONIMA ABERTA',\n",
       "       'EMPRESA INDIVIDUAL DE RESPONSABILIDADE LIMITADA DE NATUREZA EMPRESARIA',\n",
       "       'CANDIDATO A CARGO POLITICO ELETIVO',\n",
       "       'EMPRESA INDIVIDUAL IMOBILIARIA',\n",
       "       'ORGAO PUBLICO DO PODER EXECUTIVO ESTADUAL OU DO DISTRITO FEDERAL',\n",
       "       'SOCIEDADE SIMPLES LIMITADA', 'FUNDACAO PRIVADA',\n",
       "       'ORGAO PUBLICO DO PODER EXECUTIVO MUNICIPAL',\n",
       "       'SOCIEDADE ANONIMA FECHADA', 'ORGANIZACAO RELIGIOSA',\n",
       "       'SOCIEDADE UNIPESSOAL DE ADVOCACIA', 'SOCIEDADE SIMPLES PURA',\n",
       "       'AUTARQUIA FEDERAL', 'ORGAO PUBLICO DO PODER JUDICIARIO ESTADUAL',\n",
       "       'EMPRESA PUBLICA', 'SOCIEDADE EMPRESARIA EM NOME COLETIVO',\n",
       "       'AUTARQUIA MUNICIPAL', 'FUNDO PUBLICO',\n",
       "       'AUTARQUIA ESTADUAL OU DO DISTRITO FEDERAL',\n",
       "       'FUNDACAO PUBLICA DE DIREITO PUB MUNICIPAL',\n",
       "       'EMPRESA INDIVIDUAL DE RESPONSABILIDADE LIMITADA DE NATUREZA SIMPLES',\n",
       "       'ORGAO PUBLICO DO PODER LEGISLATIVO MUNICIPAL',\n",
       "       'SERVICO NOTARIAL E REGISTRAL CARTORIO', 'ORGANIZACAO SOCIAL OS',\n",
       "       'CONSORCIO PUBDE DIREITO PUB ASS PUB',\n",
       "       'ORGAO DE DIRECAO REGIONAL DE PARTIDO POLITICO',\n",
       "       'SERVICO SOCIAL AUTONOMO', 'SOCIEDADE EM CONTA DE PARTICIPACAO',\n",
       "       'GRUPO DE SOCIEDADES',\n",
       "       'SOCIEDADE MERCANTIL DE CAPITAL E INDUSTRIA',\n",
       "       'FUNDACAO PUBLICA DE DIREITO PRIVADO MUNICIPAL',\n",
       "       'ORGAO PUBLICO AUTONOMO MUNICIPAL',\n",
       "       'ORGAO PUBLICO DO PODER JUDICIARIO FEDERAL',\n",
       "       'NATUREZA JURIDICA INVALIDA',\n",
       "       'SOCIEDADE EMPRESARIA EM COMANDITA POR ACOES',\n",
       "       'FUNDACAO PUBLICA DE DIREITO PUBFEDERAL',\n",
       "       'ORGAO PUBLICO AUTONOMO ESTADUAL OU DO DISTRITO FEDERAL',\n",
       "       'ESTABELECIMENTO NO BRASIL DE SOCIEDADE ESTRANGEIRA',\n",
       "       'FUNDACAO PUB DE DIREITO PUB EST OU DO DF',\n",
       "       'ORGAO PUBLICO DO PODER LEGISLATIVO ESTADUAL OU DO DISTRITO FEDERAL',\n",
       "       'ENTIDADE DE MEDIACAO E ARBITRAGEM', 'COMUNIDADE INDIGENA',\n",
       "       'FUNDACAO PUBLICA DE DIREITO PRIVADO FEFERAL',\n",
       "       'ESTABELECIMENTO NO BRASIL DE FUNDACAO OU ASSOCIACAO ESTRANGEIRAS',\n",
       "       'CLUBE FUNDO DE INVESTIMENTO',\n",
       "       'REPRESENTACAO DIPLOMATICA ESTRANGEIRA',\n",
       "       'SOCIEDADE SIMPLES EM COMANDITA SIMPLES',\n",
       "       'CONSORCIO PUBLICO DE DIREITO PRIVADO',\n",
       "       'FRENTE PLEBISCITARIA OU REFERENDARIA',\n",
       "       'SOCIEDADE EMPRESARIA EM COMANDITA SIMPLES',\n",
       "       'CONSORCIO DE EMPREGADORES', 'SOCIEDADE SIMPLES EM NOME COLETIVO',\n",
       "       'FUNDO PRIVADO', 'ESTADO OU DISTRITO FEDERAL',\n",
       "       'ORGAO PUBLICO DO PODER LEGISLATIVO FEDERAL',\n",
       "       'ORGAO DE DIRECAO NACIONAL DE PARTIDO POLITICO'], dtype=object)"
      ]
     },
     "execution_count": 13,
     "metadata": {},
     "output_type": "execute_result"
    }
   ],
   "source": [
    "mercado_reduzido['de_natureza_juridica'].unique()"
   ]
  },
  {
   "cell_type": "code",
   "execution_count": 14,
   "metadata": {},
   "outputs": [
    {
     "data": {
      "text/plain": [
       "array(['ENTIDADES EMPRESARIAIS', 'OUTROS',\n",
       "       'ENTIDADES SEM FINS LUCRATIVOS', 'ADMINISTRACAO PUBLICA',\n",
       "       'CARGO POLITICO', 'PESSOAS FISICAS',\n",
       "       'INSTITUICOES EXTRATERRITORIAIS'], dtype=object)"
      ]
     },
     "execution_count": 14,
     "metadata": {},
     "output_type": "execute_result"
    }
   ],
   "source": [
    "mercado_reduzido['natureza_juridica_macro'].unique()"
   ]
  },
  {
   "cell_type": "code",
   "execution_count": 15,
   "metadata": {},
   "outputs": [
    {
     "data": {
      "text/plain": [
       "array(['10 a 15', '1 a 5', '5 a 10', '> 20', '<= 1', '15 a 20'],\n",
       "      dtype=object)"
      ]
     },
     "execution_count": 15,
     "metadata": {},
     "output_type": "execute_result"
    }
   ],
   "source": [
    "mercado_reduzido['idade_emp_cat'].unique()"
   ]
  },
  {
   "cell_type": "code",
   "execution_count": 16,
   "metadata": {},
   "outputs": [
    {
     "data": {
      "text/plain": [
       "array([14.45753425,  1.4630137 ,  7.09315068, ..., 44.61643836,\n",
       "       27.30958904, 41.95616438])"
      ]
     },
     "execution_count": 16,
     "metadata": {},
     "output_type": "execute_result"
    }
   ],
   "source": [
    "mercado_reduzido['idade_empresa_anos'].unique()"
   ]
  },
  {
   "cell_type": "code",
   "execution_count": 17,
   "metadata": {},
   "outputs": [],
   "source": [
    "colunas_duplicadas = ['de_natureza_juridica', 'de_ramo', 'idade_emp_cat']\n",
    "mercado_simplificado.drop(columns=colunas_duplicadas, inplace=True)"
   ]
  },
  {
   "cell_type": "code",
   "execution_count": 18,
   "metadata": {},
   "outputs": [
    {
     "data": {
      "text/plain": [
       "58698"
      ]
     },
     "execution_count": 18,
     "metadata": {},
     "output_type": "execute_result"
    }
   ],
   "source": [
    "mercado_reduzido['nm_meso_regiao'].isnull().sum()"
   ]
  },
  {
   "cell_type": "code",
   "execution_count": 19,
   "metadata": {},
   "outputs": [
    {
     "data": {
      "text/plain": [
       "58698"
      ]
     },
     "execution_count": 19,
     "metadata": {},
     "output_type": "execute_result"
    }
   ],
   "source": [
    "mercado_reduzido['nm_micro_regiao'].isnull().sum()"
   ]
  },
  {
   "cell_type": "code",
   "execution_count": 20,
   "metadata": {},
   "outputs": [],
   "source": [
    "colunas_muito_nan = ['nm_micro_regiao', 'nm_meso_regiao']\n",
    "mercado_simplificado.drop(columns=colunas_muito_nan, inplace=True)"
   ]
  },
  {
   "cell_type": "code",
   "execution_count": 21,
   "metadata": {},
   "outputs": [
    {
     "data": {
      "text/plain": [
       "array(['CONSTRUCAO DE EDIFICIOS', 'ALIMENTACAO', 'TRANSPORTE TERRESTRE',\n",
       "       'REPARACAO E MANUTENCAO DE EQUIPAMENTOS DE INFORMATICA E COMUNICACAO E DE OBJETOS PESSOAIS E DOMESTICOS',\n",
       "       'SERVICOS DE ARQUITETURA E ENGENHARIA TESTES E ANALISES TECNICAS',\n",
       "       'FABRICACAO DE PRODUTOS DE MINERAIS NAO METALICOS',\n",
       "       'AGENCIAS DE VIAGENS OPERADORES TURISTICOS E SERVICOS DE RESERVAS',\n",
       "       'FABRICACAO DE PRODUTOS DIVERSOS', 'COMERCIO VAREJISTA',\n",
       "       'SERVICOS DE ESCRITORIO DE APOIO ADMINISTRATIVO E OUTROS SERVICOS PRESTADOS PRINCIPALMENTE AS EMPRESAS',\n",
       "       'ALOJAMENTO', 'SERVICOS ESPECIALIZADOS PARA CONSTRUCAO',\n",
       "       'ATIVIDADES DE ORGANIZACOES ASSOCIATIVAS',\n",
       "       'MANUTENCAO REPARACAO E INSTALACAO DE MAQUINAS E EQUIPAMENTOS',\n",
       "       'ATIVIDADES DE PRESTACAO DE SERVICOS DE INFORMACAO',\n",
       "       'OUTRAS ATIVIDADES DE SERVICOS PESSOAIS',\n",
       "       'FABRICACAO DE PRODUTOS TEXTEIS',\n",
       "       'COMERCIO POR ATACADO EXCETO VEICULOS AUTOMOTORES E MOTOCICLETAS',\n",
       "       'TELECOMUNICACOES', 'ATIVIDADES DE ATENCAO A SAUDE HUMANA',\n",
       "       'COMERCIO E REPARACAO DE VEICULOS AUTOMOTORES E MOTOCICLETAS',\n",
       "       'ATIVIDADES ESPORTIVAS E DE RECREACAO E LAZER',\n",
       "       'SERVICOS PARA EDIFICIOS E ATIVIDADES PAISAGISTICAS',\n",
       "       'ALUGUEIS NAO IMOBILIARIOS E GESTAO DE ATIVOS INTANGIVEIS NAO FINANCEIROS',\n",
       "       'ARMAZENAMENTO E ATIVIDADES AUXILIARES DOS TRANSPORTES',\n",
       "       'EDICAO E EDICAO INTEGRADA A IMPRESSAO',\n",
       "       'ATIVIDADES ARTISTICAS CRIATIVAS E DE ESPETACULOS',\n",
       "       'CORREIO E OUTRAS ATIVIDADES DE ENTREGA',\n",
       "       'PREPARACAO DE COUROS E FABRICACAO DE ARTEFATOS DE COURO ARTIGOS PARA VIAGEM E CALCADOS',\n",
       "       'FABRICACAO DE PRODUTOS ALIMENTICIOS',\n",
       "       'OUTRAS ATIVIDADES PROFISSIONAIS CIENTIFICAS E TECNICAS',\n",
       "       'ATIVIDADES JURIDICAS DE CONTABILIDADE E DE AUDITORIA',\n",
       "       'ATIVIDADES DE SERVICOS FINANCEIROS', 'EDUCACAO',\n",
       "       'PESCA E AQUICULTURA', 'FABRICACAO DE PRODUTOS DE MADEIRA',\n",
       "       'ADMINISTRACAO PUBLICA DEFESA E SEGURIDADE SOCIAL',\n",
       "       'IMPRESSAO E REPRODUCAO DE GRAVACOES',\n",
       "       'ATIVIDADES DE VIGILANCIA SEGURANCA E INVESTIGACAO',\n",
       "       'PUBLICIDADE E PESQUISA DE MERCADO',\n",
       "       'CONFECCAO DE ARTIGOS DO VESTUARIO E ACESSORIOS',\n",
       "       'FABRICACAO DE MOVEIS',\n",
       "       'AGRICULTURA PECUARIA E SERVICOS RELACIONADOS',\n",
       "       'FABRICACAO DE PRODUTOS DE METAL EXCETO MAQUINAS E EQUIPAMENTOS',\n",
       "       'ATIVIDADES DE SEDES DE EMPRESAS E DE CONSULTORIA EM GESTAO EMPRESARIAL',\n",
       "       'SERVICOS DOMESTICOS', nan, 'FABRICACAO DE PRODUTOS QUIMICOS',\n",
       "       'ATIVIDADES DE ATENCAO A SAUDE HUMANA INTEGRADAS COM ASSISTENCIA SOCIAL PRESTADAS EM RESIDENCIAS COLETIVAS E PARTICULARES',\n",
       "       'OBRAS DE INFRA ESTRUTURA', 'PRODUCAO FLORESTAL',\n",
       "       'ATIVIDADES CINEMATOGRAFICAS PRODUCAO DE VIDEOS E DE PROGRAMAS DE TELEVISAO GRAVACAO DE SOM E EDICAO DE MUSICA',\n",
       "       'ATIVIDADES DE RADIO E DE TELEVISAO',\n",
       "       'ATIVIDADES LIGADAS AO PATRIMONIO CULTURAL E AMBIENTAL',\n",
       "       'ATIVIDADES AUXILIARES DOS SERVICOS FINANCEIROS SEGUROS PREVIDENCIA COMPLEMENTAR E PLANOS DE SAUDE',\n",
       "       'ELETRICIDADE GAS E OUTRAS UTILIDADES',\n",
       "       'EXTRACAO DE MINERAIS METALICOS', 'TRANSPORTE AQUAVIARIO',\n",
       "       'FABRICACAO DE BEBIDAS',\n",
       "       'FABRICACAO DE MAQUINAS APARELHOS E MATERIAIS ELETRICOS',\n",
       "       'EXTRACAO DE MINERAIS NAO METALICOS',\n",
       "       'ATIVIDADES DOS SERVICOS DE TECNOLOGIA DA INFORMACAO',\n",
       "       'CAPTACAO TRATAMENTO E DISTRIBUICAO DE AGUA',\n",
       "       'ATIVIDADES VETERINARIAS', 'ATIVIDADES IMOBILIARIAS',\n",
       "       'SERVICOS DE ASSISTENCIA SOCIAL SEM ALOJAMENTO',\n",
       "       'COLETA TRATAMENTO E DISPOSICAO DE RESIDUOS RECUPERACAO DE MATERIAIS',\n",
       "       'ESGOTO E ATIVIDADES RELACIONADAS',\n",
       "       'FABRICACAO DE PRODUTOS DE BORRACHA E DE MATERIAL PLASTICO',\n",
       "       'SELECAO AGENCIAMENTO E LOCACAO DE MAO DE OBRA',\n",
       "       'TRANSPORTE AEREO',\n",
       "       'FABRICACAO DE VEICULOS AUTOMOTORES REBOQUES E CARROCERIAS',\n",
       "       'FABRICACAO DE CELULOSE PAPEL E PRODUTOS DE PAPEL',\n",
       "       'SEGUROS RESSEGUROS PREVIDENCIA COMPLEMENTAR E PLANOS DE SAUDE',\n",
       "       'FABRICACAO DE EQUIPAMENTOS DE INFORMATICA PRODUTOS ELETRONICOS E OPTICOS',\n",
       "       'METALURGIA', 'FABRICACAO DE MAQUINAS E EQUIPAMENTOS',\n",
       "       'ATIVIDADES DE EXPLORACAO DE JOGOS DE AZAR E APOSTAS',\n",
       "       'FABRICACAO DE OUTROS EQUIPAMENTOS DE TRANSPORTE EXCETO VEICULOS AUTOMOTORES',\n",
       "       'ORGANISMOS INTERNACIONAIS E OUTRAS INSTITUICOES EXTRATERRITORIAIS',\n",
       "       'FABRICACAO DE COQUE DE PRODUTOS DERIVADOS DO PETROLEO E DE BIOCOMBUSTIVEIS',\n",
       "       'PESQUISA E DESENVOLVIMENTO CIENTIFICO',\n",
       "       'ATIVIDADES DE APOIO A EXTRACAO DE MINERAIS',\n",
       "       'EXTRACAO DE PETROLEO E GAS NATURAL',\n",
       "       'FABRICACAO DE PRODUTOS FARMOQUIMICOS E FARMACEUTICOS',\n",
       "       'DESCONTAMINACAO E OUTROS SERVICOS DE GESTAO DE RESIDUOS',\n",
       "       'EXTRACAO DE CARVAO MINERAL', 'FABRICACAO DE PRODUTOS DO FUMO'],\n",
       "      dtype=object)"
      ]
     },
     "execution_count": 21,
     "metadata": {},
     "output_type": "execute_result"
    }
   ],
   "source": [
    "mercado_reduzido['nm_divisao'].unique()"
   ]
  },
  {
   "cell_type": "code",
   "execution_count": 22,
   "metadata": {},
   "outputs": [
    {
     "data": {
      "text/plain": [
       "array(['CONSTRUCAO', 'ALOJAMENTO E ALIMENTACAO',\n",
       "       'TRANSPORTE ARMAZENAGEM E CORREIO',\n",
       "       'OUTRAS ATIVIDADES DE SERVICOS',\n",
       "       'ATIVIDADES PROFISSIONAIS CIENTIFICAS E TECNICAS',\n",
       "       'INDUSTRIAS DE TRANSFORMACAO',\n",
       "       'ATIVIDADES ADMINISTRATIVAS E SERVICOS COMPLEMENTARES',\n",
       "       'COMERCIO; REPARACAO DE VEICULOS AUTOMOTORES E MOTOCICLETAS',\n",
       "       'INFORMACAO E COMUNICACAO', 'SAUDE HUMANA E SERVICOS SOCIAIS',\n",
       "       'ARTES CULTURA ESPORTE E RECREACAO',\n",
       "       'ATIVIDADES FINANCEIRAS DE SEGUROS E SERVICOS RELACIONADOS',\n",
       "       'EDUCACAO',\n",
       "       'AGRICULTURA PECUARIA PRODUCAO FLORESTAL PESCA E AQUICULTURA',\n",
       "       'ADMINISTRACAO PUBLICA DEFESA E SEGURIDADE SOCIAL',\n",
       "       'SERVICOS DOMESTICOS', nan, 'ELETRICIDADE E GAS',\n",
       "       'INDUSTRIAS EXTRATIVAS',\n",
       "       'AGUA ESGOTO ATIVIDADES DE GESTAO DE RESIDUOS E DESCONTAMINACAO',\n",
       "       'ATIVIDADES IMOBILIARIAS',\n",
       "       'ORGANISMOS INTERNACIONAIS E OUTRAS INSTITUICOES EXTRATERRITORIAIS'],\n",
       "      dtype=object)"
      ]
     },
     "execution_count": 22,
     "metadata": {},
     "output_type": "execute_result"
    }
   ],
   "source": [
    "mercado_reduzido['nm_segmento'].unique()"
   ]
  },
  {
   "cell_type": "code",
   "execution_count": 23,
   "metadata": {},
   "outputs": [],
   "source": [
    "colunas_duplicadas = ['nm_segmento', 'nm_divisao']\n",
    "mercado_simplificado.drop(columns=colunas_duplicadas, inplace=True)"
   ]
  },
  {
   "cell_type": "code",
   "execution_count": 24,
   "metadata": {},
   "outputs": [
    {
     "data": {
      "text/plain": [
       "14851"
      ]
     },
     "execution_count": 24,
     "metadata": {},
     "output_type": "execute_result"
    }
   ],
   "source": [
    "mercado_reduzido['de_saude_rescencia'].isnull().sum()"
   ]
  },
  {
   "cell_type": "code",
   "execution_count": 25,
   "metadata": {},
   "outputs": [
    {
     "data": {
      "text/plain": [
       "45276"
      ]
     },
     "execution_count": 25,
     "metadata": {},
     "output_type": "execute_result"
    }
   ],
   "source": [
    "mercado_reduzido['nu_meses_rescencia'].isnull().sum()"
   ]
  },
  {
   "cell_type": "code",
   "execution_count": 26,
   "metadata": {},
   "outputs": [
    {
     "data": {
      "text/plain": [
       "14851"
      ]
     },
     "execution_count": 26,
     "metadata": {},
     "output_type": "execute_result"
    }
   ],
   "source": [
    "mercado_reduzido['de_saude_tributaria'].isnull().sum()"
   ]
  },
  {
   "cell_type": "code",
   "execution_count": 27,
   "metadata": {},
   "outputs": [
    {
     "data": {
      "text/plain": [
       "array(['VERDE', 'CINZA', 'AMARELO', 'LARANJA', nan, 'AZUL', 'VERMELHO'],\n",
       "      dtype=object)"
      ]
     },
     "execution_count": 27,
     "metadata": {},
     "output_type": "execute_result"
    }
   ],
   "source": [
    "mercado_reduzido['de_saude_tributaria'].unique()"
   ]
  },
  {
   "cell_type": "code",
   "execution_count": 28,
   "metadata": {},
   "outputs": [],
   "source": [
    "colunas_tributaria = ['de_saude_rescencia', 'nu_meses_rescencia', 'de_saude_tributaria', 'de_saude_tributaria']\n",
    "mercado_simplificado.drop(columns=colunas_tributaria, inplace=True)"
   ]
  },
  {
   "cell_type": "code",
   "execution_count": 29,
   "metadata": {},
   "outputs": [
    {
     "data": {
      "text/plain": [
       "(462298, 40)"
      ]
     },
     "execution_count": 29,
     "metadata": {},
     "output_type": "execute_result"
    }
   ],
   "source": [
    "mercado_simplificado.shape"
   ]
  },
  {
   "cell_type": "code",
   "execution_count": 30,
   "metadata": {},
   "outputs": [
    {
     "data": {
      "text/plain": [
       "id                                            0\n",
       "fl_matriz                                     0\n",
       "sg_uf                                         0\n",
       "natureza_juridica_macro                       0\n",
       "setor                                         0\n",
       "idade_empresa_anos                            0\n",
       "fl_me                                         0\n",
       "fl_sa                                         0\n",
       "fl_epp                                        0\n",
       "fl_mei                                        0\n",
       "fl_ltda                                       0\n",
       "dt_situacao                                   6\n",
       "fl_st_especial                                0\n",
       "fl_email                                      0\n",
       "fl_telefone                                   0\n",
       "fl_rm                                         0\n",
       "fl_spa                                     1927\n",
       "fl_antt                                    1927\n",
       "fl_veiculo                                 1927\n",
       "fl_optante_simples                        82713\n",
       "vl_total_veiculos_pesados_grupo            1927\n",
       "vl_total_veiculos_leves_grupo              1927\n",
       "fl_optante_simei                          82713\n",
       "sg_uf_matriz                               1939\n",
       "de_nivel_atividade                        11168\n",
       "fl_simples_irregular                       1927\n",
       "empsetorcensitariofaixarendapopulacao    143829\n",
       "fl_passivel_iss                            1927\n",
       "qt_socios                                115091\n",
       "qt_socios_pf                             115091\n",
       "qt_socios_pj                             115091\n",
       "idade_media_socios                       151602\n",
       "idade_maxima_socios                      151602\n",
       "idade_minima_socios                      151602\n",
       "qt_socios_st_regular                     154917\n",
       "de_faixa_faturamento_estimado             27513\n",
       "de_faixa_faturamento_estimado_grupo       27513\n",
       "vl_faturamento_estimado_aux               27513\n",
       "vl_faturamento_estimado_grupo_aux         27513\n",
       "qt_filiais                                    0\n",
       "dtype: int64"
      ]
     },
     "execution_count": 30,
     "metadata": {},
     "output_type": "execute_result"
    }
   ],
   "source": [
    "mercado_simplificado.isnull().sum()"
   ]
  },
  {
   "cell_type": "code",
   "execution_count": 31,
   "metadata": {},
   "outputs": [],
   "source": [
    "colunas_socio = ['qt_socios_pf', 'qt_socios_pj', 'idade_media_socios', 'idade_maxima_socios', \n",
    "                 'idade_minima_socios', 'qt_socios_st_regular']\n",
    "mercado_simplificado.drop(columns=colunas_socio, inplace=True)"
   ]
  },
  {
   "cell_type": "code",
   "execution_count": 32,
   "metadata": {},
   "outputs": [
    {
     "data": {
      "text/plain": [
       "array(['DE R$ 1.500.000,01 A R$ 4.800.000,00',\n",
       "       'DE R$ 81.000,01 A R$ 360.000,00', 'ATE R$ 81.000,00', nan,\n",
       "       'DE R$ 360.000,01 A R$ 1.500.000,00', 'SEM INFORMACAO',\n",
       "       'DE R$ 10.000.000,01 A R$ 30.000.000,00',\n",
       "       'DE R$ 4.800.000,01 A R$ 10.000.000,00',\n",
       "       'DE R$ 30.000.000,01 A R$ 100.000.000,00',\n",
       "       'DE R$ 300.000.000,01 A R$ 500.000.000,00',\n",
       "       'DE R$ 100.000.000,01 A R$ 300.000.000,00',\n",
       "       'ACIMA DE 1 BILHAO DE REAIS',\n",
       "       'DE R$ 500.000.000,01 A 1 BILHAO DE REAIS'], dtype=object)"
      ]
     },
     "execution_count": 32,
     "metadata": {},
     "output_type": "execute_result"
    }
   ],
   "source": [
    "mercado_simplificado['de_faixa_faturamento_estimado'].unique()"
   ]
  },
  {
   "cell_type": "code",
   "execution_count": 33,
   "metadata": {},
   "outputs": [
    {
     "data": {
      "text/plain": [
       "array([3.1321728e+06, 2.1000000e+05, 5.0000000e+04, ..., 2.7658940e+07,\n",
       "       8.4651090e+07, 2.5783758e+07])"
      ]
     },
     "execution_count": 33,
     "metadata": {},
     "output_type": "execute_result"
    }
   ],
   "source": [
    "mercado_simplificado['vl_faturamento_estimado_aux'].unique()"
   ]
  },
  {
   "cell_type": "code",
   "execution_count": 34,
   "metadata": {},
   "outputs": [
    {
     "data": {
      "text/plain": [
       "array(['DE R$ 1.500.000,01 A R$ 4.800.000,00',\n",
       "       'DE R$ 81.000,01 A R$ 360.000,00', 'ATE R$ 81.000,00', nan,\n",
       "       'DE R$ 360.000,01 A R$ 1.500.000,00',\n",
       "       'DE R$ 500.000.000,01 A 1 BILHAO DE REAIS',\n",
       "       'ACIMA DE 1 BILHAO DE REAIS',\n",
       "       'DE R$ 4.800.000,01 A R$ 10.000.000,00',\n",
       "       'DE R$ 10.000.000,01 A R$ 30.000.000,00',\n",
       "       'DE R$ 30.000.000,01 A R$ 100.000.000,00',\n",
       "       'DE R$ 300.000.000,01 A R$ 500.000.000,00',\n",
       "       'DE R$ 100.000.000,01 A R$ 300.000.000,00'], dtype=object)"
      ]
     },
     "execution_count": 34,
     "metadata": {},
     "output_type": "execute_result"
    }
   ],
   "source": [
    "mercado_simplificado['de_faixa_faturamento_estimado_grupo'].unique()"
   ]
  },
  {
   "cell_type": "code",
   "execution_count": 35,
   "metadata": {},
   "outputs": [
    {
     "data": {
      "text/plain": [
       "array([3.1321728e+06, 2.1000000e+05, 5.0000000e+04, ..., 1.8072768e+06,\n",
       "       5.8872484e+07, 8.0884056e+07])"
      ]
     },
     "execution_count": 35,
     "metadata": {},
     "output_type": "execute_result"
    }
   ],
   "source": [
    "mercado_simplificado['vl_faturamento_estimado_grupo_aux'].unique()"
   ]
  },
  {
   "cell_type": "code",
   "execution_count": 36,
   "metadata": {},
   "outputs": [],
   "source": [
    "colunas_unica = ['de_faixa_faturamento_estimado', 'de_faixa_faturamento_estimado_grupo']\n",
    "mercado_simplificado.drop(columns=colunas_unica, inplace=True)"
   ]
  },
  {
   "cell_type": "code",
   "execution_count": 37,
   "metadata": {},
   "outputs": [],
   "source": [
    "mercado_simplificado['vl_faturamento_estimado_aux'].fillna(mercado_simplificado\n",
    "                    ['vl_faturamento_estimado_aux'].mean(), inplace=True)\n",
    "mercado_simplificado['vl_faturamento_estimado_grupo_aux'].fillna(mercado_simplificado\n",
    "                    ['vl_faturamento_estimado_grupo_aux'].mean(), inplace=True)"
   ]
  },
  {
   "cell_type": "code",
   "execution_count": 38,
   "metadata": {},
   "outputs": [
    {
     "data": {
      "text/plain": [
       "id                                            0\n",
       "fl_matriz                                     0\n",
       "sg_uf                                         0\n",
       "natureza_juridica_macro                       0\n",
       "setor                                         0\n",
       "idade_empresa_anos                            0\n",
       "fl_me                                         0\n",
       "fl_sa                                         0\n",
       "fl_epp                                        0\n",
       "fl_mei                                        0\n",
       "fl_ltda                                       0\n",
       "dt_situacao                                   6\n",
       "fl_st_especial                                0\n",
       "fl_email                                      0\n",
       "fl_telefone                                   0\n",
       "fl_rm                                         0\n",
       "fl_spa                                     1927\n",
       "fl_antt                                    1927\n",
       "fl_veiculo                                 1927\n",
       "fl_optante_simples                        82713\n",
       "vl_total_veiculos_pesados_grupo            1927\n",
       "vl_total_veiculos_leves_grupo              1927\n",
       "fl_optante_simei                          82713\n",
       "sg_uf_matriz                               1939\n",
       "de_nivel_atividade                        11168\n",
       "fl_simples_irregular                       1927\n",
       "empsetorcensitariofaixarendapopulacao    143829\n",
       "fl_passivel_iss                            1927\n",
       "qt_socios                                115091\n",
       "vl_faturamento_estimado_aux                   0\n",
       "vl_faturamento_estimado_grupo_aux             0\n",
       "qt_filiais                                    0\n",
       "dtype: int64"
      ]
     },
     "execution_count": 38,
     "metadata": {},
     "output_type": "execute_result"
    }
   ],
   "source": [
    "mercado_simplificado.isnull().sum()"
   ]
  },
  {
   "cell_type": "code",
   "execution_count": 39,
   "metadata": {},
   "outputs": [],
   "source": [
    "boleanas_features = mercado_simplificado.select_dtypes(include=[np.bool])\n",
    "boleanas = ['fl_optante_simples', 'fl_optante_simei','fl_simples_irregular', 'fl_passivel_iss', 'fl_spa', \n",
    "            'fl_antt', 'fl_veiculo']\n",
    "boleanas_features.append(boleanas)\n",
    "for valor in boleanas:    \n",
    "    mercado_simplificado[valor].fillna(False, inplace=True)\n",
    "    #mercado_simplificado[valor] = mercado_simplificado[valor].astype(int)"
   ]
  },
  {
   "cell_type": "code",
   "execution_count": 40,
   "metadata": {},
   "outputs": [],
   "source": [
    "booleanDictionary = {'SIM': True,'NAO': False}\n",
    "mercado_simplificado['fl_rm'] = mercado_simplificado['fl_rm'].map(booleanDictionary)"
   ]
  },
  {
   "cell_type": "code",
   "execution_count": 41,
   "metadata": {},
   "outputs": [
    {
     "data": {
      "text/plain": [
       "id                                            0\n",
       "fl_matriz                                     0\n",
       "sg_uf                                         0\n",
       "natureza_juridica_macro                       0\n",
       "setor                                         0\n",
       "idade_empresa_anos                            0\n",
       "fl_me                                         0\n",
       "fl_sa                                         0\n",
       "fl_epp                                        0\n",
       "fl_mei                                        0\n",
       "fl_ltda                                       0\n",
       "dt_situacao                                   6\n",
       "fl_st_especial                                0\n",
       "fl_email                                      0\n",
       "fl_telefone                                   0\n",
       "fl_rm                                         0\n",
       "fl_spa                                        0\n",
       "fl_antt                                       0\n",
       "fl_veiculo                                    0\n",
       "fl_optante_simples                            0\n",
       "vl_total_veiculos_pesados_grupo            1927\n",
       "vl_total_veiculos_leves_grupo              1927\n",
       "fl_optante_simei                              0\n",
       "sg_uf_matriz                               1939\n",
       "de_nivel_atividade                        11168\n",
       "fl_simples_irregular                          0\n",
       "empsetorcensitariofaixarendapopulacao    143829\n",
       "fl_passivel_iss                               0\n",
       "qt_socios                                115091\n",
       "vl_faturamento_estimado_aux                   0\n",
       "vl_faturamento_estimado_grupo_aux             0\n",
       "qt_filiais                                    0\n",
       "dtype: int64"
      ]
     },
     "execution_count": 41,
     "metadata": {},
     "output_type": "execute_result"
    }
   ],
   "source": [
    "mercado_simplificado.isnull().sum()"
   ]
  },
  {
   "cell_type": "code",
   "execution_count": 42,
   "metadata": {},
   "outputs": [],
   "source": [
    "mercado_simplificado['vl_total_veiculos_pesados_grupo'].fillna(0, inplace=True)\n",
    "mercado_simplificado['vl_total_veiculos_leves_grupo'].fillna(0, inplace=True)"
   ]
  },
  {
   "cell_type": "code",
   "execution_count": 43,
   "metadata": {},
   "outputs": [],
   "source": [
    "mercado_simplificado['sg_uf_matriz'].fillna(mercado_simplificado['sg_uf'], inplace=True)"
   ]
  },
  {
   "cell_type": "code",
   "execution_count": 44,
   "metadata": {},
   "outputs": [
    {
     "data": {
      "text/plain": [
       "id                                            0\n",
       "fl_matriz                                     0\n",
       "sg_uf                                         0\n",
       "natureza_juridica_macro                       0\n",
       "setor                                         0\n",
       "idade_empresa_anos                            0\n",
       "fl_me                                         0\n",
       "fl_sa                                         0\n",
       "fl_epp                                        0\n",
       "fl_mei                                        0\n",
       "fl_ltda                                       0\n",
       "dt_situacao                                   6\n",
       "fl_st_especial                                0\n",
       "fl_email                                      0\n",
       "fl_telefone                                   0\n",
       "fl_rm                                         0\n",
       "fl_spa                                        0\n",
       "fl_antt                                       0\n",
       "fl_veiculo                                    0\n",
       "fl_optante_simples                            0\n",
       "vl_total_veiculos_pesados_grupo               0\n",
       "vl_total_veiculos_leves_grupo                 0\n",
       "fl_optante_simei                              0\n",
       "sg_uf_matriz                                  0\n",
       "de_nivel_atividade                        11168\n",
       "fl_simples_irregular                          0\n",
       "empsetorcensitariofaixarendapopulacao    143829\n",
       "fl_passivel_iss                               0\n",
       "qt_socios                                115091\n",
       "vl_faturamento_estimado_aux                   0\n",
       "vl_faturamento_estimado_grupo_aux             0\n",
       "qt_filiais                                    0\n",
       "dtype: int64"
      ]
     },
     "execution_count": 44,
     "metadata": {},
     "output_type": "execute_result"
    }
   ],
   "source": [
    "mercado_simplificado.isnull().sum()"
   ]
  },
  {
   "cell_type": "code",
   "execution_count": 45,
   "metadata": {},
   "outputs": [
    {
     "data": {
      "text/plain": [
       "array([   nan, 468.93, 713.5 , ..., 363.92, 629.99, 418.92])"
      ]
     },
     "execution_count": 45,
     "metadata": {},
     "output_type": "execute_result"
    }
   ],
   "source": [
    "mercado_simplificado['empsetorcensitariofaixarendapopulacao'].unique()"
   ]
  },
  {
   "cell_type": "code",
   "execution_count": 46,
   "metadata": {},
   "outputs": [],
   "source": [
    "mercado_simplificado.drop(columns=['empsetorcensitariofaixarendapopulacao'], inplace=True)"
   ]
  },
  {
   "cell_type": "code",
   "execution_count": 47,
   "metadata": {},
   "outputs": [
    {
     "data": {
      "text/plain": [
       "array(['ALTA', 'BAIXA', 'MEDIA', nan, 'MUITO BAIXA'], dtype=object)"
      ]
     },
     "execution_count": 47,
     "metadata": {},
     "output_type": "execute_result"
    }
   ],
   "source": [
    "mercado_simplificado['de_nivel_atividade'].unique()"
   ]
  },
  {
   "cell_type": "code",
   "execution_count": 48,
   "metadata": {},
   "outputs": [],
   "source": [
    "mercado_simplificado['de_nivel_atividade'].fillna('MEDIA', inplace=True)"
   ]
  },
  {
   "cell_type": "code",
   "execution_count": 49,
   "metadata": {},
   "outputs": [],
   "source": [
    "mercado_simplificado.drop(columns=['qt_socios'], inplace=True)"
   ]
  },
  {
   "cell_type": "code",
   "execution_count": 50,
   "metadata": {},
   "outputs": [],
   "source": [
    "mercado_simplificado.drop(columns=['dt_situacao'], inplace=True)"
   ]
  },
  {
   "cell_type": "code",
   "execution_count": 51,
   "metadata": {
    "scrolled": true
   },
   "outputs": [
    {
     "data": {
      "text/plain": [
       "id                                   0\n",
       "fl_matriz                            0\n",
       "sg_uf                                0\n",
       "natureza_juridica_macro              0\n",
       "setor                                0\n",
       "idade_empresa_anos                   0\n",
       "fl_me                                0\n",
       "fl_sa                                0\n",
       "fl_epp                               0\n",
       "fl_mei                               0\n",
       "fl_ltda                              0\n",
       "fl_st_especial                       0\n",
       "fl_email                             0\n",
       "fl_telefone                          0\n",
       "fl_rm                                0\n",
       "fl_spa                               0\n",
       "fl_antt                              0\n",
       "fl_veiculo                           0\n",
       "fl_optante_simples                   0\n",
       "vl_total_veiculos_pesados_grupo      0\n",
       "vl_total_veiculos_leves_grupo        0\n",
       "fl_optante_simei                     0\n",
       "sg_uf_matriz                         0\n",
       "de_nivel_atividade                   0\n",
       "fl_simples_irregular                 0\n",
       "fl_passivel_iss                      0\n",
       "vl_faturamento_estimado_aux          0\n",
       "vl_faturamento_estimado_grupo_aux    0\n",
       "qt_filiais                           0\n",
       "dtype: int64"
      ]
     },
     "execution_count": 51,
     "metadata": {},
     "output_type": "execute_result"
    }
   ],
   "source": [
    "mercado_simplificado.isnull().sum()"
   ]
  },
  {
   "cell_type": "code",
   "execution_count": 52,
   "metadata": {},
   "outputs": [
    {
     "data": {
      "text/plain": [
       "(462298, 29)"
      ]
     },
     "execution_count": 52,
     "metadata": {},
     "output_type": "execute_result"
    }
   ],
   "source": [
    "mercado_simplificado.shape"
   ]
  },
  {
   "cell_type": "code",
   "execution_count": 53,
   "metadata": {},
   "outputs": [],
   "source": [
    "mercado_simplificado.to_csv('data/simplificado.csv')"
   ]
  },
  {
   "cell_type": "code",
   "execution_count": null,
   "metadata": {},
   "outputs": [],
   "source": []
  }
 ],
 "metadata": {
  "kernelspec": {
   "display_name": "Python 3",
   "language": "python",
   "name": "python3"
  },
  "language_info": {
   "codemirror_mode": {
    "name": "ipython",
    "version": 3
   },
   "file_extension": ".py",
   "mimetype": "text/x-python",
   "name": "python",
   "nbconvert_exporter": "python",
   "pygments_lexer": "ipython3",
   "version": "3.7.3"
  }
 },
 "nbformat": 4,
 "nbformat_minor": 2
}
