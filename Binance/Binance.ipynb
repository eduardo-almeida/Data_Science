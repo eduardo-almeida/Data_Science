{
 "cells": [
  {
   "cell_type": "code",
   "execution_count": 7,
   "id": "5f2d6d7f",
   "metadata": {},
   "outputs": [],
   "source": [
    "# !pip install python-binance\n",
    "# !pip install python-dotenv"
   ]
  },
  {
   "cell_type": "code",
   "execution_count": 3,
   "id": "4defa307",
   "metadata": {},
   "outputs": [],
   "source": [
    "binance = \"Xc0i4LOQYjNlBczhCYnf9i0FALs74SSINIgov26AQ5YEkrRWPfzoqmTmHhlLsYnS\""
   ]
  },
  {
   "cell_type": "code",
   "execution_count": 4,
   "id": "23016ad1",
   "metadata": {},
   "outputs": [],
   "source": [
    "from binance.client import Client\n",
    "import pandas as pd"
   ]
  },
  {
   "cell_type": "code",
   "execution_count": null,
   "id": "5b0c57bd",
   "metadata": {},
   "outputs": [],
   "source": [
    "API_KEY = \"GFNoMZTWCoPqpLo3PoIy2iE4iXDCywefAHAlm7WeRMOGvMCHpIQ64i1TmgjZiqNN\"\n",
    "API_SECRET = \"rxXdlJG81WhtE1pAhzU3SLDrmVeg1TKJWVfgckfPD5hAG7doXa1iiBylj91NBCdR\""
   ]
  }
 ],
 "metadata": {
  "kernelspec": {
   "display_name": "Python 3 (ipykernel)",
   "language": "python",
   "name": "python3"
  },
  "language_info": {
   "codemirror_mode": {
    "name": "ipython",
    "version": 3
   },
   "file_extension": ".py",
   "mimetype": "text/x-python",
   "name": "python",
   "nbconvert_exporter": "python",
   "pygments_lexer": "ipython3",
   "version": "3.9.13"
  }
 },
 "nbformat": 4,
 "nbformat_minor": 5
}
