{
 "cells": [
  {
   "cell_type": "code",
   "execution_count": 1,
   "metadata": {},
   "outputs": [
    {
     "name": "stderr",
     "output_type": "stream",
     "text": [
      "Using TensorFlow backend.\n"
     ]
    }
   ],
   "source": [
    "import pandas as pd\n",
    "import numpy as np\n",
    "from time import time\n",
    "from poloniex import Poloniex\n",
    "import matplotlib.pyplot as plt\n",
    "\n",
    "from sklearn import preprocessing\n",
    "from sklearn.model_selection import train_test_split\n",
    "\n",
    "from keras.models import Sequential\n",
    "from keras.layers import Dense, Dropout, LSTM"
   ]
  },
  {
   "cell_type": "code",
   "execution_count": 2,
   "metadata": {},
   "outputs": [],
   "source": [
    "# make an instance of poloniex.Poloniex\n",
    "polo = Poloniex()"
   ]
  },
  {
   "cell_type": "code",
   "execution_count": 3,
   "metadata": {},
   "outputs": [],
   "source": [
    "api = Poloniex(jsonNums=float)\n",
    "\n",
    "#raw = api.returnChartData('BTC_LTC', period=api.DAY, start=time()-api.YEAR*10)\n",
    "#raw = api.returnChartData('BTC_LTC', period=300, start=time()-api.MONTH*3)\n",
    "raw = api.returnChartData('BTC_ETH', period=api.DAY, start=time()-api.YEAR*10)\n",
    "df = pd.DataFrame(raw)"
   ]
  },
  {
   "cell_type": "code",
   "execution_count": 4,
   "metadata": {},
   "outputs": [],
   "source": [
    "# adjust dates format and set dates as index\n",
    "df['date'] = pd.to_datetime(df[\"date\"], unit='s')\n",
    "#df.set_index('date', inplace=True)"
   ]
  },
  {
   "cell_type": "code",
   "execution_count": 5,
   "metadata": {
    "scrolled": true
   },
   "outputs": [
    {
     "data": {
      "text/plain": [
       "(1781, 8)"
      ]
     },
     "execution_count": 5,
     "metadata": {},
     "output_type": "execute_result"
    }
   ],
   "source": [
    "df.shape"
   ]
  },
  {
   "cell_type": "code",
   "execution_count": 6,
   "metadata": {},
   "outputs": [
    {
     "data": {
      "text/html": [
       "<div>\n",
       "<style scoped>\n",
       "    .dataframe tbody tr th:only-of-type {\n",
       "        vertical-align: middle;\n",
       "    }\n",
       "\n",
       "    .dataframe tbody tr th {\n",
       "        vertical-align: top;\n",
       "    }\n",
       "\n",
       "    .dataframe thead th {\n",
       "        text-align: right;\n",
       "    }\n",
       "</style>\n",
       "<table border=\"1\" class=\"dataframe\">\n",
       "  <thead>\n",
       "    <tr style=\"text-align: right;\">\n",
       "      <th></th>\n",
       "      <th>close</th>\n",
       "      <th>date</th>\n",
       "      <th>high</th>\n",
       "      <th>low</th>\n",
       "      <th>open</th>\n",
       "      <th>quoteVolume</th>\n",
       "      <th>volume</th>\n",
       "      <th>weightedAverage</th>\n",
       "    </tr>\n",
       "  </thead>\n",
       "  <tbody>\n",
       "    <tr>\n",
       "      <th>1776</th>\n",
       "      <td>0.024634</td>\n",
       "      <td>2020-06-18</td>\n",
       "      <td>0.024839</td>\n",
       "      <td>0.024439</td>\n",
       "      <td>0.024704</td>\n",
       "      <td>5816.328365</td>\n",
       "      <td>143.594069</td>\n",
       "      <td>0.024688</td>\n",
       "    </tr>\n",
       "    <tr>\n",
       "      <th>1777</th>\n",
       "      <td>0.024586</td>\n",
       "      <td>2020-06-19</td>\n",
       "      <td>0.024707</td>\n",
       "      <td>0.024390</td>\n",
       "      <td>0.024639</td>\n",
       "      <td>8575.096843</td>\n",
       "      <td>210.680910</td>\n",
       "      <td>0.024569</td>\n",
       "    </tr>\n",
       "    <tr>\n",
       "      <th>1778</th>\n",
       "      <td>0.024454</td>\n",
       "      <td>2020-06-20</td>\n",
       "      <td>0.024716</td>\n",
       "      <td>0.024402</td>\n",
       "      <td>0.024586</td>\n",
       "      <td>4169.450438</td>\n",
       "      <td>102.333303</td>\n",
       "      <td>0.024544</td>\n",
       "    </tr>\n",
       "    <tr>\n",
       "      <th>1779</th>\n",
       "      <td>0.024522</td>\n",
       "      <td>2020-06-21</td>\n",
       "      <td>0.024646</td>\n",
       "      <td>0.024430</td>\n",
       "      <td>0.024464</td>\n",
       "      <td>3231.583476</td>\n",
       "      <td>79.343960</td>\n",
       "      <td>0.024553</td>\n",
       "    </tr>\n",
       "    <tr>\n",
       "      <th>1780</th>\n",
       "      <td>0.025151</td>\n",
       "      <td>2020-06-22</td>\n",
       "      <td>0.025161</td>\n",
       "      <td>0.024514</td>\n",
       "      <td>0.024522</td>\n",
       "      <td>4837.736731</td>\n",
       "      <td>120.576801</td>\n",
       "      <td>0.024924</td>\n",
       "    </tr>\n",
       "  </tbody>\n",
       "</table>\n",
       "</div>"
      ],
      "text/plain": [
       "         close       date      high       low      open  quoteVolume  \\\n",
       "1776  0.024634 2020-06-18  0.024839  0.024439  0.024704  5816.328365   \n",
       "1777  0.024586 2020-06-19  0.024707  0.024390  0.024639  8575.096843   \n",
       "1778  0.024454 2020-06-20  0.024716  0.024402  0.024586  4169.450438   \n",
       "1779  0.024522 2020-06-21  0.024646  0.024430  0.024464  3231.583476   \n",
       "1780  0.025151 2020-06-22  0.025161  0.024514  0.024522  4837.736731   \n",
       "\n",
       "          volume  weightedAverage  \n",
       "1776  143.594069         0.024688  \n",
       "1777  210.680910         0.024569  \n",
       "1778  102.333303         0.024544  \n",
       "1779   79.343960         0.024553  \n",
       "1780  120.576801         0.024924  "
      ]
     },
     "execution_count": 6,
     "metadata": {},
     "output_type": "execute_result"
    }
   ],
   "source": [
    "df.tail()"
   ]
  },
  {
   "cell_type": "code",
   "execution_count": 7,
   "metadata": {
    "scrolled": true
   },
   "outputs": [],
   "source": [
    "etherium = df.copy()"
   ]
  },
  {
   "cell_type": "code",
   "execution_count": 8,
   "metadata": {},
   "outputs": [],
   "source": [
    "etherium.drop(['high', 'low', 'open','quoteVolume', 'volume', 'weightedAverage'], axis=1, inplace=True)"
   ]
  },
  {
   "cell_type": "code",
   "execution_count": 9,
   "metadata": {},
   "outputs": [
    {
     "data": {
      "text/html": [
       "<div>\n",
       "<style scoped>\n",
       "    .dataframe tbody tr th:only-of-type {\n",
       "        vertical-align: middle;\n",
       "    }\n",
       "\n",
       "    .dataframe tbody tr th {\n",
       "        vertical-align: top;\n",
       "    }\n",
       "\n",
       "    .dataframe thead th {\n",
       "        text-align: right;\n",
       "    }\n",
       "</style>\n",
       "<table border=\"1\" class=\"dataframe\">\n",
       "  <thead>\n",
       "    <tr style=\"text-align: right;\">\n",
       "      <th></th>\n",
       "      <th>close</th>\n",
       "      <th>date</th>\n",
       "    </tr>\n",
       "  </thead>\n",
       "  <tbody>\n",
       "    <tr>\n",
       "      <th>1776</th>\n",
       "      <td>0.024634</td>\n",
       "      <td>2020-06-18</td>\n",
       "    </tr>\n",
       "    <tr>\n",
       "      <th>1777</th>\n",
       "      <td>0.024586</td>\n",
       "      <td>2020-06-19</td>\n",
       "    </tr>\n",
       "    <tr>\n",
       "      <th>1778</th>\n",
       "      <td>0.024454</td>\n",
       "      <td>2020-06-20</td>\n",
       "    </tr>\n",
       "    <tr>\n",
       "      <th>1779</th>\n",
       "      <td>0.024522</td>\n",
       "      <td>2020-06-21</td>\n",
       "    </tr>\n",
       "    <tr>\n",
       "      <th>1780</th>\n",
       "      <td>0.025151</td>\n",
       "      <td>2020-06-22</td>\n",
       "    </tr>\n",
       "  </tbody>\n",
       "</table>\n",
       "</div>"
      ],
      "text/plain": [
       "         close       date\n",
       "1776  0.024634 2020-06-18\n",
       "1777  0.024586 2020-06-19\n",
       "1778  0.024454 2020-06-20\n",
       "1779  0.024522 2020-06-21\n",
       "1780  0.025151 2020-06-22"
      ]
     },
     "execution_count": 9,
     "metadata": {},
     "output_type": "execute_result"
    }
   ],
   "source": [
    "etherium.tail()"
   ]
  },
  {
   "cell_type": "code",
   "execution_count": 10,
   "metadata": {
    "scrolled": true
   },
   "outputs": [
    {
     "data": {
      "image/png": "[encoded data removed]",
      "text/plain": [
       "<Figure size 1152x360 with 1 Axes>"
      ]
     },
     "metadata": {
      "needs_background": "light"
     },
     "output_type": "display_data"
    }
   ],
   "source": [
    "etherium['close'].plot(figsize=(16,5));"
   ]
  },
  {
   "cell_type": "code",
   "execution_count": 11,
   "metadata": {},
   "outputs": [
    {
     "data": {
      "text/plain": [
       "(1781, 2)"
      ]
     },
     "execution_count": 11,
     "metadata": {},
     "output_type": "execute_result"
    }
   ],
   "source": [
    "etherium.shape"
   ]
  },
  {
   "cell_type": "code",
   "execution_count": 50,
   "metadata": {},
   "outputs": [],
   "source": [
    "train, test = etherium.iloc[0:-20, :], etherium.iloc[-20:, :]"
   ]
  },
  {
   "cell_type": "code",
   "execution_count": 51,
   "metadata": {},
   "outputs": [
    {
     "data": {
      "text/plain": [
       "((1761, 2), (20, 2))"
      ]
     },
     "execution_count": 51,
     "metadata": {},
     "output_type": "execute_result"
    }
   ],
   "source": [
    "train.shape, test.shape"
   ]
  },
  {
   "cell_type": "code",
   "execution_count": 52,
   "metadata": {},
   "outputs": [],
   "source": [
    "preco_real = []\n",
    "previsores = []"
   ]
  },
  {
   "cell_type": "code",
   "execution_count": 53,
   "metadata": {
    "scrolled": true
   },
   "outputs": [],
   "source": [
    "for i in range(90 , train.shape[0]):\n",
    "    previsores.append(train.iloc[i-90:i, 0])\n",
    "    preco_real.append(train.iloc[i, 0])"
   ]
  },
  {
   "cell_type": "code",
   "execution_count": 54,
   "metadata": {},
   "outputs": [],
   "source": [
    "previsores, preco_real = np.array(previsores), np.array(preco_real)"
   ]
  },
  {
   "cell_type": "code",
   "execution_count": 55,
   "metadata": {},
   "outputs": [],
   "source": [
    "previsores = np.reshape(previsores, (previsores.shape[0], previsores.shape[1], 1))"
   ]
  },
  {
   "cell_type": "code",
   "execution_count": 56,
   "metadata": {},
   "outputs": [
    {
     "data": {
      "text/plain": [
       "(1671, 90, 1)"
      ]
     },
     "execution_count": 56,
     "metadata": {},
     "output_type": "execute_result"
    }
   ],
   "source": [
    "previsores.shape"
   ]
  },
  {
   "cell_type": "code",
   "execution_count": 57,
   "metadata": {},
   "outputs": [],
   "source": [
    "regressor = Sequential()"
   ]
  },
  {
   "cell_type": "code",
   "execution_count": 58,
   "metadata": {},
   "outputs": [],
   "source": [
    "regressor.add(LSTM(units = 100, return_sequences = True, input_shape = (previsores.shape[1], 1)))\n",
    "regressor.add(Dropout(0.3))"
   ]
  },
  {
   "cell_type": "code",
   "execution_count": 59,
   "metadata": {},
   "outputs": [],
   "source": [
    "regressor.add(LSTM(units = 50, return_sequences = True))\n",
    "regressor.add(Dropout(0.3))"
   ]
  },
  {
   "cell_type": "code",
   "execution_count": 60,
   "metadata": {},
   "outputs": [],
   "source": [
    "regressor.add(LSTM(units = 50))\n",
    "regressor.add(Dropout(0.3))"
   ]
  },
  {
   "cell_type": "code",
   "execution_count": 61,
   "metadata": {},
   "outputs": [],
   "source": [
    "regressor.add(Dense(units = 1, activation = 'linear'))"
   ]
  },
  {
   "cell_type": "code",
   "execution_count": 62,
   "metadata": {},
   "outputs": [],
   "source": [
    "regressor.compile(optimizer='rmsprop', loss='mean_squared_error', metrics=['mean_absolute_error'])"
   ]
  },
  {
   "cell_type": "code",
   "execution_count": 63,
   "metadata": {},
   "outputs": [
    {
     "name": "stdout",
     "output_type": "stream",
     "text": [
      "Epoch 1/100\n",
      "1671/1671 [==============================] - 9s 6ms/step - loss: 4.0583e-04 - mean_absolute_error: 0.0143\n",
      "Epoch 2/100\n",
      "1671/1671 [==============================] - 9s 5ms/step - loss: 2.1383e-04 - mean_absolute_error: 0.0115\n",
      "Epoch 3/100\n",
      "1671/1671 [==============================] - 9s 6ms/step - loss: 1.5045e-04 - mean_absolute_error: 0.0091\n",
      "Epoch 4/100\n",
      "1671/1671 [==============================] - 9s 5ms/step - loss: 1.3331e-04 - mean_absolute_error: 0.0087\n",
      "Epoch 5/100\n",
      "1671/1671 [==============================] - 9s 5ms/step - loss: 1.2265e-04 - mean_absolute_error: 0.0084\n",
      "Epoch 6/100\n",
      "1671/1671 [==============================] - 9s 5ms/step - loss: 1.1271e-04 - mean_absolute_error: 0.0081\n",
      "Epoch 7/100\n",
      "1671/1671 [==============================] - 9s 5ms/step - loss: 9.7695e-05 - mean_absolute_error: 0.0077\n",
      "Epoch 8/100\n",
      "1671/1671 [==============================] - 9s 5ms/step - loss: 9.1836e-05 - mean_absolute_error: 0.0070\n",
      "Epoch 9/100\n",
      "1671/1671 [==============================] - 9s 5ms/step - loss: 8.3239e-05 - mean_absolute_error: 0.0069\n",
      "Epoch 10/100\n",
      "1671/1671 [==============================] - 9s 5ms/step - loss: 8.1365e-05 - mean_absolute_error: 0.0070\n",
      "Epoch 11/100\n",
      "1671/1671 [==============================] - 9s 5ms/step - loss: 7.9013e-05 - mean_absolute_error: 0.0068\n",
      "Epoch 12/100\n",
      "1671/1671 [==============================] - 9s 5ms/step - loss: 7.0259e-05 - mean_absolute_error: 0.0064\n",
      "Epoch 13/100\n",
      "1671/1671 [==============================] - 9s 5ms/step - loss: 6.9356e-05 - mean_absolute_error: 0.0063\n",
      "Epoch 14/100\n",
      "1671/1671 [==============================] - 9s 5ms/step - loss: 6.5671e-05 - mean_absolute_error: 0.0062\n",
      "Epoch 15/100\n",
      "1671/1671 [==============================] - 9s 5ms/step - loss: 6.3087e-05 - mean_absolute_error: 0.0059\n",
      "Epoch 16/100\n",
      "1671/1671 [==============================] - 9s 5ms/step - loss: 6.9646e-05 - mean_absolute_error: 0.0063\n",
      "Epoch 17/100\n",
      "1671/1671 [==============================] - 9s 5ms/step - loss: 5.6083e-05 - mean_absolute_error: 0.0057\n",
      "Epoch 18/100\n",
      "1671/1671 [==============================] - 9s 6ms/step - loss: 5.6495e-05 - mean_absolute_error: 0.0057\n",
      "Epoch 19/100\n",
      "1671/1671 [==============================] - 9s 5ms/step - loss: 5.5993e-05 - mean_absolute_error: 0.0055\n",
      "Epoch 20/100\n",
      "1671/1671 [==============================] - 9s 5ms/step - loss: 5.6959e-05 - mean_absolute_error: 0.0057\n",
      "Epoch 21/100\n",
      "1671/1671 [==============================] - 9s 5ms/step - loss: 5.1141e-05 - mean_absolute_error: 0.0053\n",
      "Epoch 22/100\n",
      "1671/1671 [==============================] - 9s 5ms/step - loss: 5.0777e-05 - mean_absolute_error: 0.0054\n",
      "Epoch 23/100\n",
      "1671/1671 [==============================] - 9s 5ms/step - loss: 5.5638e-05 - mean_absolute_error: 0.0053\n",
      "Epoch 24/100\n",
      "1671/1671 [==============================] - 9s 5ms/step - loss: 5.0544e-05 - mean_absolute_error: 0.0051\n",
      "Epoch 25/100\n",
      "1671/1671 [==============================] - 9s 5ms/step - loss: 4.9872e-05 - mean_absolute_error: 0.0053\n",
      "Epoch 26/100\n",
      "1671/1671 [==============================] - 9s 5ms/step - loss: 4.4665e-05 - mean_absolute_error: 0.0050\n",
      "Epoch 27/100\n",
      "1671/1671 [==============================] - 9s 5ms/step - loss: 4.9430e-05 - mean_absolute_error: 0.0052\n",
      "Epoch 28/100\n",
      "1671/1671 [==============================] - 9s 5ms/step - loss: 4.7303e-05 - mean_absolute_error: 0.0051\n",
      "Epoch 29/100\n",
      "1671/1671 [==============================] - 9s 5ms/step - loss: 4.1905e-05 - mean_absolute_error: 0.0049\n",
      "Epoch 30/100\n",
      "1671/1671 [==============================] - 9s 5ms/step - loss: 4.2991e-05 - mean_absolute_error: 0.0048\n",
      "Epoch 31/100\n",
      "1671/1671 [==============================] - 9s 5ms/step - loss: 4.0476e-05 - mean_absolute_error: 0.0048\n",
      "Epoch 32/100\n",
      "1671/1671 [==============================] - 9s 5ms/step - loss: 4.8669e-05 - mean_absolute_error: 0.0050\n",
      "Epoch 33/100\n",
      "1671/1671 [==============================] - 9s 5ms/step - loss: 4.2227e-05 - mean_absolute_error: 0.0048\n",
      "Epoch 34/100\n",
      "1671/1671 [==============================] - 9s 5ms/step - loss: 4.0332e-05 - mean_absolute_error: 0.0048\n",
      "Epoch 35/100\n",
      "1671/1671 [==============================] - 9s 5ms/step - loss: 4.0202e-05 - mean_absolute_error: 0.0046\n",
      "Epoch 36/100\n",
      "1671/1671 [==============================] - 9s 5ms/step - loss: 3.8336e-05 - mean_absolute_error: 0.0046\n",
      "Epoch 37/100\n",
      "1671/1671 [==============================] - 9s 5ms/step - loss: 4.1254e-05 - mean_absolute_error: 0.0048\n",
      "Epoch 38/100\n",
      "1671/1671 [==============================] - 9s 5ms/step - loss: 4.0578e-05 - mean_absolute_error: 0.0046\n",
      "Epoch 39/100\n",
      "1671/1671 [==============================] - 9s 5ms/step - loss: 3.8320e-05 - mean_absolute_error: 0.0046\n",
      "Epoch 40/100\n",
      "1671/1671 [==============================] - 9s 5ms/step - loss: 4.1595e-05 - mean_absolute_error: 0.0048\n",
      "Epoch 41/100\n",
      "1671/1671 [==============================] - 9s 5ms/step - loss: 3.6369e-05 - mean_absolute_error: 0.0046\n",
      "Epoch 42/100\n",
      "1671/1671 [==============================] - 9s 5ms/step - loss: 3.9917e-05 - mean_absolute_error: 0.0046\n",
      "Epoch 43/100\n",
      "1671/1671 [==============================] - 9s 5ms/step - loss: 3.7307e-05 - mean_absolute_error: 0.0044\n",
      "Epoch 44/100\n",
      "1671/1671 [==============================] - 9s 5ms/step - loss: 3.8043e-05 - mean_absolute_error: 0.0044\n",
      "Epoch 45/100\n",
      "1671/1671 [==============================] - 9s 5ms/step - loss: 3.7931e-05 - mean_absolute_error: 0.0045\n",
      "Epoch 46/100\n",
      "1671/1671 [==============================] - 9s 5ms/step - loss: 3.5822e-05 - mean_absolute_error: 0.0045\n",
      "Epoch 47/100\n",
      "1671/1671 [==============================] - 9s 5ms/step - loss: 3.7056e-05 - mean_absolute_error: 0.0044\n",
      "Epoch 48/100\n",
      "1671/1671 [==============================] - 9s 5ms/step - loss: 3.3828e-05 - mean_absolute_error: 0.0043\n",
      "Epoch 49/100\n",
      "1671/1671 [==============================] - 9s 5ms/step - loss: 3.5893e-05 - mean_absolute_error: 0.0044\n",
      "Epoch 50/100\n",
      "1671/1671 [==============================] - 9s 5ms/step - loss: 3.7291e-05 - mean_absolute_error: 0.0044\n",
      "Epoch 51/100\n",
      "1671/1671 [==============================] - 9s 5ms/step - loss: 3.3600e-05 - mean_absolute_error: 0.0043\n",
      "Epoch 52/100\n",
      "1671/1671 [==============================] - 9s 5ms/step - loss: 3.3208e-05 - mean_absolute_error: 0.0042\n",
      "Epoch 53/100\n",
      "1671/1671 [==============================] - 9s 5ms/step - loss: 3.4981e-05 - mean_absolute_error: 0.0042\n",
      "Epoch 54/100\n",
      "1671/1671 [==============================] - 9s 5ms/step - loss: 3.5416e-05 - mean_absolute_error: 0.0042\n",
      "Epoch 55/100\n",
      "1671/1671 [==============================] - 9s 5ms/step - loss: 3.5026e-05 - mean_absolute_error: 0.0044\n",
      "Epoch 56/100\n",
      "1671/1671 [==============================] - 9s 5ms/step - loss: 3.2552e-05 - mean_absolute_error: 0.0042\n",
      "Epoch 57/100\n",
      "1671/1671 [==============================] - 8s 5ms/step - loss: 3.2306e-05 - mean_absolute_error: 0.0041\n",
      "Epoch 58/100\n",
      "1671/1671 [==============================] - 8s 5ms/step - loss: 3.2110e-05 - mean_absolute_error: 0.0042\n",
      "Epoch 59/100\n",
      "1671/1671 [==============================] - 9s 5ms/step - loss: 3.5395e-05 - mean_absolute_error: 0.0042\n",
      "Epoch 60/100\n",
      "1671/1671 [==============================] - 9s 5ms/step - loss: 3.4329e-05 - mean_absolute_error: 0.0042\n",
      "Epoch 61/100\n",
      "1671/1671 [==============================] - 9s 5ms/step - loss: 3.1022e-05 - mean_absolute_error: 0.0041\n",
      "Epoch 62/100\n",
      "1671/1671 [==============================] - 9s 5ms/step - loss: 3.1978e-05 - mean_absolute_error: 0.0041\n",
      "Epoch 63/100\n",
      "1671/1671 [==============================] - 9s 5ms/step - loss: 3.1395e-05 - mean_absolute_error: 0.0040\n",
      "Epoch 64/100\n",
      "1671/1671 [==============================] - 9s 5ms/step - loss: 3.0444e-05 - mean_absolute_error: 0.0041\n",
      "Epoch 65/100\n",
      "1671/1671 [==============================] - 9s 5ms/step - loss: 3.0548e-05 - mean_absolute_error: 0.0040\n",
      "Epoch 66/100\n",
      "1671/1671 [==============================] - 9s 5ms/step - loss: 3.2236e-05 - mean_absolute_error: 0.0042\n",
      "Epoch 67/100\n",
      "1671/1671 [==============================] - 9s 5ms/step - loss: 2.9436e-05 - mean_absolute_error: 0.0039\n",
      "Epoch 68/100\n",
      "1671/1671 [==============================] - 9s 5ms/step - loss: 2.9860e-05 - mean_absolute_error: 0.0040\n",
      "Epoch 69/100\n"
     ]
    },
    {
     "name": "stdout",
     "output_type": "stream",
     "text": [
      "1671/1671 [==============================] - 7s 4ms/step - loss: 3.0078e-05 - mean_absolute_error: 0.0040\n",
      "Epoch 70/100\n",
      "1671/1671 [==============================] - 9s 5ms/step - loss: 2.7659e-05 - mean_absolute_error: 0.0040\n",
      "Epoch 71/100\n",
      "1671/1671 [==============================] - 7s 4ms/step - loss: 3.1171e-05 - mean_absolute_error: 0.0041\n",
      "Epoch 72/100\n",
      "1671/1671 [==============================] - 7s 4ms/step - loss: 3.1152e-05 - mean_absolute_error: 0.0040\n",
      "Epoch 73/100\n",
      "1671/1671 [==============================] - 8s 5ms/step - loss: 3.0693e-05 - mean_absolute_error: 0.0040\n",
      "Epoch 74/100\n",
      "1671/1671 [==============================] - 9s 5ms/step - loss: 3.2762e-05 - mean_absolute_error: 0.0040\n",
      "Epoch 75/100\n",
      "1671/1671 [==============================] - 9s 5ms/step - loss: 2.8222e-05 - mean_absolute_error: 0.0039\n",
      "Epoch 76/100\n",
      "1671/1671 [==============================] - 9s 5ms/step - loss: 3.0272e-05 - mean_absolute_error: 0.0040\n",
      "Epoch 77/100\n",
      "1671/1671 [==============================] - 9s 5ms/step - loss: 2.8437e-05 - mean_absolute_error: 0.0038\n",
      "Epoch 78/100\n",
      "1671/1671 [==============================] - 9s 5ms/step - loss: 2.7636e-05 - mean_absolute_error: 0.0038\n",
      "Epoch 79/100\n",
      "1671/1671 [==============================] - 9s 5ms/step - loss: 2.7067e-05 - mean_absolute_error: 0.0037\n",
      "Epoch 80/100\n",
      "1671/1671 [==============================] - 9s 5ms/step - loss: 2.8623e-05 - mean_absolute_error: 0.0038\n",
      "Epoch 81/100\n",
      "1671/1671 [==============================] - 9s 5ms/step - loss: 2.9683e-05 - mean_absolute_error: 0.0039\n",
      "Epoch 82/100\n",
      "1671/1671 [==============================] - 9s 5ms/step - loss: 2.8989e-05 - mean_absolute_error: 0.0040\n",
      "Epoch 83/100\n",
      "1671/1671 [==============================] - 9s 5ms/step - loss: 2.8623e-05 - mean_absolute_error: 0.0037\n",
      "Epoch 84/100\n",
      "1671/1671 [==============================] - 9s 5ms/step - loss: 3.0047e-05 - mean_absolute_error: 0.0039\n",
      "Epoch 85/100\n",
      "1671/1671 [==============================] - 9s 5ms/step - loss: 2.5629e-05 - mean_absolute_error: 0.0037\n",
      "Epoch 86/100\n",
      "1671/1671 [==============================] - 9s 5ms/step - loss: 2.7678e-05 - mean_absolute_error: 0.0037\n",
      "Epoch 87/100\n",
      "1671/1671 [==============================] - 8s 5ms/step - loss: 2.8783e-05 - mean_absolute_error: 0.0038\n",
      "Epoch 88/100\n",
      "1671/1671 [==============================] - 9s 5ms/step - loss: 2.4634e-05 - mean_absolute_error: 0.0037\n",
      "Epoch 89/100\n",
      "1671/1671 [==============================] - 9s 5ms/step - loss: 2.6534e-05 - mean_absolute_error: 0.0037\n",
      "Epoch 90/100\n",
      "1671/1671 [==============================] - 9s 5ms/step - loss: 2.7852e-05 - mean_absolute_error: 0.0038\n",
      "Epoch 91/100\n",
      "1671/1671 [==============================] - 9s 6ms/step - loss: 2.5689e-05 - mean_absolute_error: 0.0037\n",
      "Epoch 92/100\n",
      "1671/1671 [==============================] - 9s 5ms/step - loss: 2.7023e-05 - mean_absolute_error: 0.0038\n",
      "Epoch 93/100\n",
      "1671/1671 [==============================] - 9s 5ms/step - loss: 2.7418e-05 - mean_absolute_error: 0.0037\n",
      "Epoch 94/100\n",
      "1671/1671 [==============================] - 9s 5ms/step - loss: 2.6188e-05 - mean_absolute_error: 0.0038\n",
      "Epoch 95/100\n",
      "1671/1671 [==============================] - 9s 5ms/step - loss: 2.5494e-05 - mean_absolute_error: 0.0036\n",
      "Epoch 96/100\n",
      "1671/1671 [==============================] - 8s 5ms/step - loss: 2.6356e-05 - mean_absolute_error: 0.0038\n",
      "Epoch 97/100\n",
      "1671/1671 [==============================] - 7s 4ms/step - loss: 2.9593e-05 - mean_absolute_error: 0.0038\n",
      "Epoch 98/100\n",
      "1671/1671 [==============================] - 7s 4ms/step - loss: 2.3987e-05 - mean_absolute_error: 0.0036\n",
      "Epoch 99/100\n",
      "1671/1671 [==============================] - 11s 7ms/step - loss: 2.6779e-05 - mean_absolute_error: 0.0038\n",
      "Epoch 100/100\n",
      "1671/1671 [==============================] - 11s 6ms/step - loss: 2.6761e-05 - mean_absolute_error: 0.0037\n"
     ]
    },
    {
     "data": {
      "text/plain": [
       "<keras.callbacks.callbacks.History at 0x7f2ee7e052b0>"
      ]
     },
     "execution_count": 63,
     "metadata": {},
     "output_type": "execute_result"
    }
   ],
   "source": [
    "regressor.fit(previsores, preco_real, epochs=100, batch_size=32)"
   ]
  },
  {
   "cell_type": "code",
   "execution_count": 64,
   "metadata": {},
   "outputs": [],
   "source": [
    "entradas = etherium.loc[len(etherium)-len(test)-90:]"
   ]
  },
  {
   "cell_type": "code",
   "execution_count": 65,
   "metadata": {},
   "outputs": [
    {
     "data": {
      "text/html": [
       "<div>\n",
       "<style scoped>\n",
       "    .dataframe tbody tr th:only-of-type {\n",
       "        vertical-align: middle;\n",
       "    }\n",
       "\n",
       "    .dataframe tbody tr th {\n",
       "        vertical-align: top;\n",
       "    }\n",
       "\n",
       "    .dataframe thead th {\n",
       "        text-align: right;\n",
       "    }\n",
       "</style>\n",
       "<table border=\"1\" class=\"dataframe\">\n",
       "  <thead>\n",
       "    <tr style=\"text-align: right;\">\n",
       "      <th></th>\n",
       "      <th>close</th>\n",
       "      <th>date</th>\n",
       "    </tr>\n",
       "  </thead>\n",
       "  <tbody>\n",
       "    <tr>\n",
       "      <th>1671</th>\n",
       "      <td>0.025208</td>\n",
       "      <td>2020-03-05</td>\n",
       "    </tr>\n",
       "    <tr>\n",
       "      <th>1672</th>\n",
       "      <td>0.026830</td>\n",
       "      <td>2020-03-06</td>\n",
       "    </tr>\n",
       "    <tr>\n",
       "      <th>1673</th>\n",
       "      <td>0.026698</td>\n",
       "      <td>2020-03-07</td>\n",
       "    </tr>\n",
       "    <tr>\n",
       "      <th>1674</th>\n",
       "      <td>0.024781</td>\n",
       "      <td>2020-03-08</td>\n",
       "    </tr>\n",
       "    <tr>\n",
       "      <th>1675</th>\n",
       "      <td>0.025572</td>\n",
       "      <td>2020-03-09</td>\n",
       "    </tr>\n",
       "  </tbody>\n",
       "</table>\n",
       "</div>"
      ],
      "text/plain": [
       "         close       date\n",
       "1671  0.025208 2020-03-05\n",
       "1672  0.026830 2020-03-06\n",
       "1673  0.026698 2020-03-07\n",
       "1674  0.024781 2020-03-08\n",
       "1675  0.025572 2020-03-09"
      ]
     },
     "execution_count": 65,
     "metadata": {},
     "output_type": "execute_result"
    }
   ],
   "source": [
    "entradas.head()"
   ]
  },
  {
   "cell_type": "code",
   "execution_count": 66,
   "metadata": {},
   "outputs": [
    {
     "data": {
      "text/plain": [
       "(110, 2)"
      ]
     },
     "execution_count": 66,
     "metadata": {},
     "output_type": "execute_result"
    }
   ],
   "source": [
    "entradas.shape"
   ]
  },
  {
   "cell_type": "code",
   "execution_count": 67,
   "metadata": {},
   "outputs": [],
   "source": [
    "x_test = []"
   ]
  },
  {
   "cell_type": "code",
   "execution_count": 68,
   "metadata": {},
   "outputs": [],
   "source": [
    "for i in range(90 , entradas.shape[0]):\n",
    "    x_test.append(entradas.iloc[i-90:i, 0])"
   ]
  },
  {
   "cell_type": "code",
   "execution_count": 69,
   "metadata": {},
   "outputs": [],
   "source": [
    "x_test = np.array(x_test)"
   ]
  },
  {
   "cell_type": "code",
   "execution_count": 70,
   "metadata": {},
   "outputs": [
    {
     "data": {
      "text/plain": [
       "(20, 90)"
      ]
     },
     "execution_count": 70,
     "metadata": {},
     "output_type": "execute_result"
    }
   ],
   "source": [
    "x_test.shape"
   ]
  },
  {
   "cell_type": "code",
   "execution_count": 71,
   "metadata": {},
   "outputs": [],
   "source": [
    "x_test = np.reshape(x_test, (x_test.shape[0], x_test.shape[1], 1))"
   ]
  },
  {
   "cell_type": "code",
   "execution_count": 72,
   "metadata": {},
   "outputs": [
    {
     "data": {
      "text/plain": [
       "(20, 90, 1)"
      ]
     },
     "execution_count": 72,
     "metadata": {},
     "output_type": "execute_result"
    }
   ],
   "source": [
    "x_test.shape"
   ]
  },
  {
   "cell_type": "code",
   "execution_count": 73,
   "metadata": {},
   "outputs": [],
   "source": [
    "previsoes = regressor.predict(x_test)"
   ]
  },
  {
   "cell_type": "code",
   "execution_count": 74,
   "metadata": {},
   "outputs": [
    {
     "data": {
      "text/plain": [
       "array([[0.02443696],\n",
       "       [0.02475672],\n",
       "       [0.02480948],\n",
       "       [0.02476284],\n",
       "       [0.02476922],\n",
       "       [0.02482983],\n",
       "       [0.02492705],\n",
       "       [0.02487784],\n",
       "       [0.024841  ],\n",
       "       [0.02472702],\n",
       "       [0.02474835],\n",
       "       [0.02482611],\n",
       "       [0.02473009],\n",
       "       [0.02445319],\n",
       "       [0.02434247],\n",
       "       [0.02436234],\n",
       "       [0.02436842],\n",
       "       [0.02432721],\n",
       "       [0.02422435],\n",
       "       [0.02417654]], dtype=float32)"
      ]
     },
     "execution_count": 74,
     "metadata": {},
     "output_type": "execute_result"
    }
   ],
   "source": [
    "previsoes"
   ]
  },
  {
   "cell_type": "code",
   "execution_count": 75,
   "metadata": {},
   "outputs": [
    {
     "data": {
      "text/html": [
       "<div>\n",
       "<style scoped>\n",
       "    .dataframe tbody tr th:only-of-type {\n",
       "        vertical-align: middle;\n",
       "    }\n",
       "\n",
       "    .dataframe tbody tr th {\n",
       "        vertical-align: top;\n",
       "    }\n",
       "\n",
       "    .dataframe thead th {\n",
       "        text-align: right;\n",
       "    }\n",
       "</style>\n",
       "<table border=\"1\" class=\"dataframe\">\n",
       "  <thead>\n",
       "    <tr style=\"text-align: right;\">\n",
       "      <th></th>\n",
       "      <th>close</th>\n",
       "      <th>date</th>\n",
       "    </tr>\n",
       "  </thead>\n",
       "  <tbody>\n",
       "    <tr>\n",
       "      <th>1761</th>\n",
       "      <td>0.025313</td>\n",
       "      <td>2020-06-03</td>\n",
       "    </tr>\n",
       "    <tr>\n",
       "      <th>1762</th>\n",
       "      <td>0.024847</td>\n",
       "      <td>2020-06-04</td>\n",
       "    </tr>\n",
       "    <tr>\n",
       "      <th>1763</th>\n",
       "      <td>0.024942</td>\n",
       "      <td>2020-06-05</td>\n",
       "    </tr>\n",
       "    <tr>\n",
       "      <th>1764</th>\n",
       "      <td>0.025038</td>\n",
       "      <td>2020-06-06</td>\n",
       "    </tr>\n",
       "    <tr>\n",
       "      <th>1765</th>\n",
       "      <td>0.025094</td>\n",
       "      <td>2020-06-07</td>\n",
       "    </tr>\n",
       "    <tr>\n",
       "      <th>1766</th>\n",
       "      <td>0.025205</td>\n",
       "      <td>2020-06-08</td>\n",
       "    </tr>\n",
       "    <tr>\n",
       "      <th>1767</th>\n",
       "      <td>0.024964</td>\n",
       "      <td>2020-06-09</td>\n",
       "    </tr>\n",
       "    <tr>\n",
       "      <th>1768</th>\n",
       "      <td>0.025086</td>\n",
       "      <td>2020-06-10</td>\n",
       "    </tr>\n",
       "    <tr>\n",
       "      <th>1769</th>\n",
       "      <td>0.024845</td>\n",
       "      <td>2020-06-11</td>\n",
       "    </tr>\n",
       "    <tr>\n",
       "      <th>1770</th>\n",
       "      <td>0.025110</td>\n",
       "      <td>2020-06-12</td>\n",
       "    </tr>\n",
       "    <tr>\n",
       "      <th>1771</th>\n",
       "      <td>0.025136</td>\n",
       "      <td>2020-06-13</td>\n",
       "    </tr>\n",
       "    <tr>\n",
       "      <th>1772</th>\n",
       "      <td>0.024817</td>\n",
       "      <td>2020-06-14</td>\n",
       "    </tr>\n",
       "    <tr>\n",
       "      <th>1773</th>\n",
       "      <td>0.024488</td>\n",
       "      <td>2020-06-15</td>\n",
       "    </tr>\n",
       "    <tr>\n",
       "      <th>1774</th>\n",
       "      <td>0.024708</td>\n",
       "      <td>2020-06-16</td>\n",
       "    </tr>\n",
       "    <tr>\n",
       "      <th>1775</th>\n",
       "      <td>0.024713</td>\n",
       "      <td>2020-06-17</td>\n",
       "    </tr>\n",
       "    <tr>\n",
       "      <th>1776</th>\n",
       "      <td>0.024634</td>\n",
       "      <td>2020-06-18</td>\n",
       "    </tr>\n",
       "    <tr>\n",
       "      <th>1777</th>\n",
       "      <td>0.024586</td>\n",
       "      <td>2020-06-19</td>\n",
       "    </tr>\n",
       "    <tr>\n",
       "      <th>1778</th>\n",
       "      <td>0.024454</td>\n",
       "      <td>2020-06-20</td>\n",
       "    </tr>\n",
       "    <tr>\n",
       "      <th>1779</th>\n",
       "      <td>0.024522</td>\n",
       "      <td>2020-06-21</td>\n",
       "    </tr>\n",
       "    <tr>\n",
       "      <th>1780</th>\n",
       "      <td>0.025151</td>\n",
       "      <td>2020-06-22</td>\n",
       "    </tr>\n",
       "  </tbody>\n",
       "</table>\n",
       "</div>"
      ],
      "text/plain": [
       "         close       date\n",
       "1761  0.025313 2020-06-03\n",
       "1762  0.024847 2020-06-04\n",
       "1763  0.024942 2020-06-05\n",
       "1764  0.025038 2020-06-06\n",
       "1765  0.025094 2020-06-07\n",
       "1766  0.025205 2020-06-08\n",
       "1767  0.024964 2020-06-09\n",
       "1768  0.025086 2020-06-10\n",
       "1769  0.024845 2020-06-11\n",
       "1770  0.025110 2020-06-12\n",
       "1771  0.025136 2020-06-13\n",
       "1772  0.024817 2020-06-14\n",
       "1773  0.024488 2020-06-15\n",
       "1774  0.024708 2020-06-16\n",
       "1775  0.024713 2020-06-17\n",
       "1776  0.024634 2020-06-18\n",
       "1777  0.024586 2020-06-19\n",
       "1778  0.024454 2020-06-20\n",
       "1779  0.024522 2020-06-21\n",
       "1780  0.025151 2020-06-22"
      ]
     },
     "execution_count": 75,
     "metadata": {},
     "output_type": "execute_result"
    }
   ],
   "source": [
    "test.head(20)"
   ]
  },
  {
   "cell_type": "code",
   "execution_count": null,
   "metadata": {},
   "outputs": [],
   "source": []
  }
 ],
 "metadata": {
  "kernelspec": {
   "display_name": "Python 3",
   "language": "python",
   "name": "python3"
  },
  "language_info": {
   "codemirror_mode": {
    "name": "ipython",
    "version": 3
   },
   "file_extension": ".py",
   "mimetype": "text/x-python",
   "name": "python",
   "nbconvert_exporter": "python",
   "pygments_lexer": "ipython3",
   "version": "3.7.3"
  }
 },
 "nbformat": 4,
 "nbformat_minor": 2
}
