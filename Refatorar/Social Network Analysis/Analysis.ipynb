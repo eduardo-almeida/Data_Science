{
 "cells": [
  {
   "cell_type": "code",
   "execution_count": 1,
   "metadata": {},
   "outputs": [],
   "source": [
    "import os\n",
    "import sqlalchemy\n",
    "import pandas as pd\n",
    "import networkx as nx\n",
    "import holoviews as hv\n",
    "import numpy as np\n",
    "import matplotlib.pyplot as plt\n",
    "import streamlit as st\n",
    "from bokeh.plotting import figure"
   ]
  },
  {
   "cell_type": "code",
   "execution_count": 2,
   "metadata": {},
   "outputs": [],
   "source": [
    "import numpy as np\n",
    "import pandas as pd\n",
    "import sqlite3 as sql"
   ]
  },
  {
   "cell_type": "code",
   "execution_count": 3,
   "metadata": {},
   "outputs": [],
   "source": [
    "database = \"data/album.db\"\n",
    "con = sql.connect(database)"
   ]
  },
  {
   "cell_type": "code",
   "execution_count": 20,
   "metadata": {},
   "outputs": [],
   "source": [
    "query = '''select user_a, user_b,\n",
    "       sum(qtde_figurinhas) as qtde_figurinhas,\n",
    "       sum(case when qtde_figurinhas = 0 then 0 else 1 end) as qtde_trocas,\n",
    "       count(1) as qtde_tentativas\n",
    "\n",
    "from tb_troca\n",
    "\n",
    "where qtde_figurinhas > 0\n",
    "\n",
    "group by  user_a, user_b\n",
    "order by user_a, user_b'''"
   ]
  },
  {
   "cell_type": "code",
   "execution_count": 28,
   "metadata": {},
   "outputs": [],
   "source": [
    "query2 = '''with tb_network as (\n",
    "    select user_a,\n",
    "        user_b,\n",
    "        sum(qtde_figurinhas) as qtde_figurinhas,\n",
    "        sum(case when qtde_figurinhas = 0 then 0 else 1 end) as qtde_trocas,\n",
    "        count(1) as qtde_tentativas\n",
    "\n",
    "    from tb_troca\n",
    "\n",
    "    group by  user_a, user_b\n",
    "\n",
    "    order by user_a, user_b )\n",
    "\n",
    "select user,\n",
    "       sum(qtde_relacionamentos) as qtde_relacionamentos,\n",
    "       sum(qtde_figurinhas) as qtde_figurinhas\n",
    "\n",
    "from (\n",
    "    select user_a as user,\n",
    "    qtde_figurinhas,\n",
    "    (1) as qtde_relacionamentos\n",
    "    from tb_network\n",
    "    where qtde_figurinhas > 0\n",
    "\n",
    "    UNION ALL\n",
    "\n",
    "    select user_b as user,\n",
    "    qtde_figurinhas,\n",
    "    (1) as qtde_relacionamentos\n",
    "    from tb_network\n",
    "    where qtde_figurinhas > 0\n",
    ")\n",
    "\n",
    "group by user\n",
    "\n",
    "order by qtde_relacionamentos desc'''"
   ]
  },
  {
   "cell_type": "code",
   "execution_count": 34,
   "metadata": {},
   "outputs": [],
   "source": [
    "df = pd.read_sql_query(query, con)"
   ]
  },
  {
   "cell_type": "code",
   "execution_count": 35,
   "metadata": {},
   "outputs": [
    {
     "data": {
      "text/html": [
       "<div>\n",
       "<style scoped>\n",
       "    .dataframe tbody tr th:only-of-type {\n",
       "        vertical-align: middle;\n",
       "    }\n",
       "\n",
       "    .dataframe tbody tr th {\n",
       "        vertical-align: top;\n",
       "    }\n",
       "\n",
       "    .dataframe thead th {\n",
       "        text-align: right;\n",
       "    }\n",
       "</style>\n",
       "<table border=\"1\" class=\"dataframe\">\n",
       "  <thead>\n",
       "    <tr style=\"text-align: right;\">\n",
       "      <th></th>\n",
       "      <th>user_a</th>\n",
       "      <th>user_b</th>\n",
       "      <th>qtde_figurinhas</th>\n",
       "      <th>qtde_trocas</th>\n",
       "      <th>qtde_tentativas</th>\n",
       "    </tr>\n",
       "  </thead>\n",
       "  <tbody>\n",
       "    <tr>\n",
       "      <th>0</th>\n",
       "      <td>arnaldobjunior</td>\n",
       "      <td>costadanielc</td>\n",
       "      <td>1</td>\n",
       "      <td>1</td>\n",
       "      <td>1</td>\n",
       "    </tr>\n",
       "    <tr>\n",
       "      <th>1</th>\n",
       "      <td>arnaldobjunior</td>\n",
       "      <td>gabrielreiss</td>\n",
       "      <td>1</td>\n",
       "      <td>1</td>\n",
       "      <td>1</td>\n",
       "    </tr>\n",
       "    <tr>\n",
       "      <th>2</th>\n",
       "      <td>artesanah</td>\n",
       "      <td>costadanielc</td>\n",
       "      <td>5</td>\n",
       "      <td>1</td>\n",
       "      <td>1</td>\n",
       "    </tr>\n",
       "    <tr>\n",
       "      <th>3</th>\n",
       "      <td>artesanah</td>\n",
       "      <td>danilovboas</td>\n",
       "      <td>13</td>\n",
       "      <td>1</td>\n",
       "      <td>1</td>\n",
       "    </tr>\n",
       "    <tr>\n",
       "      <th>4</th>\n",
       "      <td>artesanah</td>\n",
       "      <td>ddauriol</td>\n",
       "      <td>2</td>\n",
       "      <td>1</td>\n",
       "      <td>1</td>\n",
       "    </tr>\n",
       "  </tbody>\n",
       "</table>\n",
       "</div>"
      ],
      "text/plain": [
       "           user_a        user_b  qtde_figurinhas  qtde_trocas  qtde_tentativas\n",
       "0  arnaldobjunior  costadanielc                1            1                1\n",
       "1  arnaldobjunior  gabrielreiss                1            1                1\n",
       "2       artesanah  costadanielc                5            1                1\n",
       "3       artesanah   danilovboas               13            1                1\n",
       "4       artesanah      ddauriol                2            1                1"
      ]
     },
     "execution_count": 35,
     "metadata": {},
     "output_type": "execute_result"
    }
   ],
   "source": [
    "df.head()"
   ]
  },
  {
   "cell_type": "code",
   "execution_count": 36,
   "metadata": {},
   "outputs": [
    {
     "data": {
      "text/plain": [
       "(85, 5)"
      ]
     },
     "execution_count": 36,
     "metadata": {},
     "output_type": "execute_result"
    }
   ],
   "source": [
    "df.shape"
   ]
  },
  {
   "cell_type": "code",
   "execution_count": 37,
   "metadata": {},
   "outputs": [],
   "source": [
    "grafico = nx.from_pandas_edgelist(df, source='user_a',target='user_b' )"
   ]
  },
  {
   "cell_type": "code",
   "execution_count": 39,
   "metadata": {},
   "outputs": [],
   "source": [
    "grafico_simples = hv.Graph.from_networkx(grafico, nx.layout.fruchterman_reingold_layout, k=1)"
   ]
  },
  {
   "cell_type": "code",
   "execution_count": 43,
   "metadata": {
    "scrolled": true
   },
   "outputs": [],
   "source": [
    "st.bokeh_chart(hv.render(grafico_simples, backend='bokeh'));"
   ]
  },
  {
   "cell_type": "code",
   "execution_count": 45,
   "metadata": {},
   "outputs": [
    {
     "ename": "AttributeError",
     "evalue": "module 'streamlit' has no attribute 'show'",
     "output_type": "error",
     "traceback": [
      "\u001b[0;31m---------------------------------------------------------------------------\u001b[0m",
      "\u001b[0;31mAttributeError\u001b[0m                            Traceback (most recent call last)",
      "\u001b[0;32m<ipython-input-45-a2cc11639374>\u001b[0m in \u001b[0;36m<module>\u001b[0;34m\u001b[0m\n\u001b[0;32m----> 1\u001b[0;31m \u001b[0mst\u001b[0m\u001b[0;34m.\u001b[0m\u001b[0mshow\u001b[0m\u001b[0;34m\u001b[0m\u001b[0;34m\u001b[0m\u001b[0m\n\u001b[0m",
      "\u001b[0;31mAttributeError\u001b[0m: module 'streamlit' has no attribute 'show'"
     ]
    }
   ],
   "source": [
    "st.show"
   ]
  },
  {
   "cell_type": "code",
   "execution_count": 47,
   "metadata": {},
   "outputs": [
    {
     "data": {
      "text/plain": [
       "<streamlit.DeltaGenerator.DeltaGenerator at 0x7fc31bf686a0>"
      ]
     },
     "execution_count": 47,
     "metadata": {},
     "output_type": "execute_result"
    }
   ],
   "source": [
    "st.bar_chart(df)"
   ]
  },
  {
   "cell_type": "code",
   "execution_count": null,
   "metadata": {},
   "outputs": [],
   "source": []
  },
  {
   "cell_type": "code",
   "execution_count": null,
   "metadata": {},
   "outputs": [],
   "source": [
    "con.close"
   ]
  }
 ],
 "metadata": {
  "kernelspec": {
   "display_name": "Python 3",
   "language": "python",
   "name": "python3"
  },
  "language_info": {
   "codemirror_mode": {
    "name": "ipython",
    "version": 3
   },
   "file_extension": ".py",
   "mimetype": "text/x-python",
   "name": "python",
   "nbconvert_exporter": "python",
   "pygments_lexer": "ipython3",
   "version": "3.7.3"
  }
 },
 "nbformat": 4,
 "nbformat_minor": 2
}
