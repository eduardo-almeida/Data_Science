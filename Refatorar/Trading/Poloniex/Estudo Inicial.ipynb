{
 "cells": [
  {
   "cell_type": "code",
   "execution_count": 1,
   "metadata": {},
   "outputs": [],
   "source": [
    "import pandas as pd\n",
    "from time import time\n",
    "from poloniex import Poloniex\n",
    "import matplotlib.pyplot as plt"
   ]
  },
  {
   "cell_type": "code",
   "execution_count": 2,
   "metadata": {},
   "outputs": [],
   "source": [
    "# make an instance of poloniex.Poloniex\n",
    "polo = Poloniex()"
   ]
  },
  {
   "cell_type": "code",
   "execution_count": 3,
   "metadata": {},
   "outputs": [],
   "source": [
    "api = Poloniex(jsonNums=float)\n",
    "\n",
    "#raw = api.returnChartData('BTC_LTC', period=api.DAY, start=time()-api.YEAR*10)\n",
    "#raw = api.returnChartData('BTC_LTC', period=300, start=time()-api.MONTH*3)\n",
    "raw = api.returnChartData('BTC_ETH', period=300, start=time()-api.MONTH*3)\n",
    "df = pd.DataFrame(raw)"
   ]
  },
  {
   "cell_type": "code",
   "execution_count": 4,
   "metadata": {},
   "outputs": [],
   "source": [
    "# adjust dates format and set dates as index\n",
    "df['date'] = pd.to_datetime(df[\"date\"], unit='s')\n",
    "df.set_index('date', inplace=True)"
   ]
  },
  {
   "cell_type": "code",
   "execution_count": 5,
   "metadata": {
    "scrolled": true
   },
   "outputs": [
    {
     "data": {
      "text/plain": [
       "(25921, 7)"
      ]
     },
     "execution_count": 5,
     "metadata": {},
     "output_type": "execute_result"
    }
   ],
   "source": [
    "df.shape"
   ]
  },
  {
   "cell_type": "code",
   "execution_count": 6,
   "metadata": {},
   "outputs": [
    {
     "data": {
      "text/html": [
       "<div>\n",
       "<style scoped>\n",
       "    .dataframe tbody tr th:only-of-type {\n",
       "        vertical-align: middle;\n",
       "    }\n",
       "\n",
       "    .dataframe tbody tr th {\n",
       "        vertical-align: top;\n",
       "    }\n",
       "\n",
       "    .dataframe thead th {\n",
       "        text-align: right;\n",
       "    }\n",
       "</style>\n",
       "<table border=\"1\" class=\"dataframe\">\n",
       "  <thead>\n",
       "    <tr style=\"text-align: right;\">\n",
       "      <th></th>\n",
       "      <th>close</th>\n",
       "      <th>high</th>\n",
       "      <th>low</th>\n",
       "      <th>open</th>\n",
       "      <th>quoteVolume</th>\n",
       "      <th>volume</th>\n",
       "      <th>weightedAverage</th>\n",
       "    </tr>\n",
       "    <tr>\n",
       "      <th>date</th>\n",
       "      <th></th>\n",
       "      <th></th>\n",
       "      <th></th>\n",
       "      <th></th>\n",
       "      <th></th>\n",
       "      <th></th>\n",
       "      <th></th>\n",
       "    </tr>\n",
       "  </thead>\n",
       "  <tbody>\n",
       "    <tr>\n",
       "      <th>2020-07-02 20:05:00</th>\n",
       "      <td>0.024920</td>\n",
       "      <td>0.024921</td>\n",
       "      <td>0.024920</td>\n",
       "      <td>0.024921</td>\n",
       "      <td>8.540362</td>\n",
       "      <td>0.212830</td>\n",
       "      <td>0.024920</td>\n",
       "    </tr>\n",
       "    <tr>\n",
       "      <th>2020-07-02 20:10:00</th>\n",
       "      <td>0.024915</td>\n",
       "      <td>0.024915</td>\n",
       "      <td>0.024915</td>\n",
       "      <td>0.024915</td>\n",
       "      <td>0.240925</td>\n",
       "      <td>0.006003</td>\n",
       "      <td>0.024915</td>\n",
       "    </tr>\n",
       "    <tr>\n",
       "      <th>2020-07-02 20:15:00</th>\n",
       "      <td>0.024912</td>\n",
       "      <td>0.024915</td>\n",
       "      <td>0.024911</td>\n",
       "      <td>0.024915</td>\n",
       "      <td>29.991973</td>\n",
       "      <td>0.747145</td>\n",
       "      <td>0.024911</td>\n",
       "    </tr>\n",
       "    <tr>\n",
       "      <th>2020-07-02 20:20:00</th>\n",
       "      <td>0.024887</td>\n",
       "      <td>0.024910</td>\n",
       "      <td>0.024887</td>\n",
       "      <td>0.024910</td>\n",
       "      <td>16.315978</td>\n",
       "      <td>0.406215</td>\n",
       "      <td>0.024897</td>\n",
       "    </tr>\n",
       "    <tr>\n",
       "      <th>2020-07-02 20:25:00</th>\n",
       "      <td>0.024887</td>\n",
       "      <td>0.024887</td>\n",
       "      <td>0.024887</td>\n",
       "      <td>0.024887</td>\n",
       "      <td>16.560176</td>\n",
       "      <td>0.412129</td>\n",
       "      <td>0.024887</td>\n",
       "    </tr>\n",
       "  </tbody>\n",
       "</table>\n",
       "</div>"
      ],
      "text/plain": [
       "                        close      high       low      open  quoteVolume  \\\n",
       "date                                                                       \n",
       "2020-07-02 20:05:00  0.024920  0.024921  0.024920  0.024921     8.540362   \n",
       "2020-07-02 20:10:00  0.024915  0.024915  0.024915  0.024915     0.240925   \n",
       "2020-07-02 20:15:00  0.024912  0.024915  0.024911  0.024915    29.991973   \n",
       "2020-07-02 20:20:00  0.024887  0.024910  0.024887  0.024910    16.315978   \n",
       "2020-07-02 20:25:00  0.024887  0.024887  0.024887  0.024887    16.560176   \n",
       "\n",
       "                       volume  weightedAverage  \n",
       "date                                            \n",
       "2020-07-02 20:05:00  0.212830         0.024920  \n",
       "2020-07-02 20:10:00  0.006003         0.024915  \n",
       "2020-07-02 20:15:00  0.747145         0.024911  \n",
       "2020-07-02 20:20:00  0.406215         0.024897  \n",
       "2020-07-02 20:25:00  0.412129         0.024887  "
      ]
     },
     "execution_count": 6,
     "metadata": {},
     "output_type": "execute_result"
    }
   ],
   "source": [
    "df.tail()"
   ]
  },
  {
   "cell_type": "code",
   "execution_count": 7,
   "metadata": {},
   "outputs": [],
   "source": [
    "df['simpleReturn'] = (df['close']/df['close'].shift(1))-1"
   ]
  },
  {
   "cell_type": "code",
   "execution_count": 8,
   "metadata": {},
   "outputs": [
    {
     "data": {
      "text/html": [
       "<div>\n",
       "<style scoped>\n",
       "    .dataframe tbody tr th:only-of-type {\n",
       "        vertical-align: middle;\n",
       "    }\n",
       "\n",
       "    .dataframe tbody tr th {\n",
       "        vertical-align: top;\n",
       "    }\n",
       "\n",
       "    .dataframe thead th {\n",
       "        text-align: right;\n",
       "    }\n",
       "</style>\n",
       "<table border=\"1\" class=\"dataframe\">\n",
       "  <thead>\n",
       "    <tr style=\"text-align: right;\">\n",
       "      <th></th>\n",
       "      <th>close</th>\n",
       "      <th>high</th>\n",
       "      <th>low</th>\n",
       "      <th>open</th>\n",
       "      <th>quoteVolume</th>\n",
       "      <th>volume</th>\n",
       "      <th>weightedAverage</th>\n",
       "      <th>simpleReturn</th>\n",
       "    </tr>\n",
       "    <tr>\n",
       "      <th>date</th>\n",
       "      <th></th>\n",
       "      <th></th>\n",
       "      <th></th>\n",
       "      <th></th>\n",
       "      <th></th>\n",
       "      <th></th>\n",
       "      <th></th>\n",
       "      <th></th>\n",
       "    </tr>\n",
       "  </thead>\n",
       "  <tbody>\n",
       "    <tr>\n",
       "      <th>2020-07-02 20:05:00</th>\n",
       "      <td>0.024920</td>\n",
       "      <td>0.024921</td>\n",
       "      <td>0.024920</td>\n",
       "      <td>0.024921</td>\n",
       "      <td>8.540362</td>\n",
       "      <td>0.212830</td>\n",
       "      <td>0.024920</td>\n",
       "      <td>0.000221</td>\n",
       "    </tr>\n",
       "    <tr>\n",
       "      <th>2020-07-02 20:10:00</th>\n",
       "      <td>0.024915</td>\n",
       "      <td>0.024915</td>\n",
       "      <td>0.024915</td>\n",
       "      <td>0.024915</td>\n",
       "      <td>0.240925</td>\n",
       "      <td>0.006003</td>\n",
       "      <td>0.024915</td>\n",
       "      <td>-0.000220</td>\n",
       "    </tr>\n",
       "    <tr>\n",
       "      <th>2020-07-02 20:15:00</th>\n",
       "      <td>0.024912</td>\n",
       "      <td>0.024915</td>\n",
       "      <td>0.024911</td>\n",
       "      <td>0.024915</td>\n",
       "      <td>29.991973</td>\n",
       "      <td>0.747145</td>\n",
       "      <td>0.024911</td>\n",
       "      <td>-0.000101</td>\n",
       "    </tr>\n",
       "    <tr>\n",
       "      <th>2020-07-02 20:20:00</th>\n",
       "      <td>0.024887</td>\n",
       "      <td>0.024910</td>\n",
       "      <td>0.024887</td>\n",
       "      <td>0.024910</td>\n",
       "      <td>16.315978</td>\n",
       "      <td>0.406215</td>\n",
       "      <td>0.024897</td>\n",
       "      <td>-0.001033</td>\n",
       "    </tr>\n",
       "    <tr>\n",
       "      <th>2020-07-02 20:25:00</th>\n",
       "      <td>0.024887</td>\n",
       "      <td>0.024887</td>\n",
       "      <td>0.024887</td>\n",
       "      <td>0.024887</td>\n",
       "      <td>16.560176</td>\n",
       "      <td>0.412129</td>\n",
       "      <td>0.024887</td>\n",
       "      <td>0.000000</td>\n",
       "    </tr>\n",
       "  </tbody>\n",
       "</table>\n",
       "</div>"
      ],
      "text/plain": [
       "                        close      high       low      open  quoteVolume  \\\n",
       "date                                                                       \n",
       "2020-07-02 20:05:00  0.024920  0.024921  0.024920  0.024921     8.540362   \n",
       "2020-07-02 20:10:00  0.024915  0.024915  0.024915  0.024915     0.240925   \n",
       "2020-07-02 20:15:00  0.024912  0.024915  0.024911  0.024915    29.991973   \n",
       "2020-07-02 20:20:00  0.024887  0.024910  0.024887  0.024910    16.315978   \n",
       "2020-07-02 20:25:00  0.024887  0.024887  0.024887  0.024887    16.560176   \n",
       "\n",
       "                       volume  weightedAverage  simpleReturn  \n",
       "date                                                          \n",
       "2020-07-02 20:05:00  0.212830         0.024920      0.000221  \n",
       "2020-07-02 20:10:00  0.006003         0.024915     -0.000220  \n",
       "2020-07-02 20:15:00  0.747145         0.024911     -0.000101  \n",
       "2020-07-02 20:20:00  0.406215         0.024897     -0.001033  \n",
       "2020-07-02 20:25:00  0.412129         0.024887      0.000000  "
      ]
     },
     "execution_count": 8,
     "metadata": {},
     "output_type": "execute_result"
    }
   ],
   "source": [
    "df.tail()"
   ]
  },
  {
   "cell_type": "code",
   "execution_count": 9,
   "metadata": {},
   "outputs": [
    {
     "data": {
      "image/png": "[encoded data removed]",
      "text/plain": [
       "<Figure size 1152x360 with 1 Axes>"
      ]
     },
     "metadata": {
      "needs_background": "light"
     },
     "output_type": "display_data"
    }
   ],
   "source": [
    "df['simpleReturn'].plot(figsize=(16,5));"
   ]
  },
  {
   "cell_type": "code",
   "execution_count": null,
   "metadata": {},
   "outputs": [],
   "source": []
  }
 ],
 "metadata": {
  "kernelspec": {
   "display_name": "Python 3",
   "language": "python",
   "name": "python3"
  },
  "language_info": {
   "codemirror_mode": {
    "name": "ipython",
    "version": 3
   },
   "file_extension": ".py",
   "mimetype": "text/x-python",
   "name": "python",
   "nbconvert_exporter": "python",
   "pygments_lexer": "ipython3",
   "version": "3.7.3"
  }
 },
 "nbformat": 4,
 "nbformat_minor": 2
}
