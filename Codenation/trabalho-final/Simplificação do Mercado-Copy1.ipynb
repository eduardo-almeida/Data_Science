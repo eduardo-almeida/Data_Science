{
 "cells": [
  {
   "cell_type": "code",
   "execution_count": 1,
   "metadata": {},
   "outputs": [],
   "source": [
    "import pandas as pd\n",
    "import numpy as np"
   ]
  },
  {
   "cell_type": "code",
   "execution_count": 2,
   "metadata": {},
   "outputs": [],
   "source": [
    "mercado = pd.read_csv('data/estaticos_market.csv', index_col=0)"
   ]
  },
  {
   "cell_type": "code",
   "execution_count": 4,
   "metadata": {},
   "outputs": [
    {
     "data": {
      "text/plain": [
       "(462298, 181)"
      ]
     },
     "execution_count": 4,
     "metadata": {},
     "output_type": "execute_result"
    }
   ],
   "source": [
    "mercado.shape"
   ]
  },
  {
   "cell_type": "code",
   "execution_count": 5,
   "metadata": {
    "scrolled": true
   },
   "outputs": [
    {
     "data": {
      "text/html": [
       "<div>\n",
       "<style scoped>\n",
       "    .dataframe tbody tr th:only-of-type {\n",
       "        vertical-align: middle;\n",
       "    }\n",
       "\n",
       "    .dataframe tbody tr th {\n",
       "        vertical-align: top;\n",
       "    }\n",
       "\n",
       "    .dataframe thead th {\n",
       "        text-align: right;\n",
       "    }\n",
       "</style>\n",
       "<table border=\"1\" class=\"dataframe\">\n",
       "  <thead>\n",
       "    <tr style=\"text-align: right;\">\n",
       "      <th></th>\n",
       "      <th>id</th>\n",
       "      <th>fl_matriz</th>\n",
       "      <th>de_natureza_juridica</th>\n",
       "      <th>sg_uf</th>\n",
       "      <th>natureza_juridica_macro</th>\n",
       "      <th>de_ramo</th>\n",
       "      <th>setor</th>\n",
       "      <th>idade_empresa_anos</th>\n",
       "      <th>idade_emp_cat</th>\n",
       "      <th>fl_me</th>\n",
       "      <th>...</th>\n",
       "      <th>media_meses_servicos</th>\n",
       "      <th>max_meses_servicos</th>\n",
       "      <th>min_meses_servicos</th>\n",
       "      <th>qt_funcionarios</th>\n",
       "      <th>qt_funcionarios_12meses</th>\n",
       "      <th>qt_funcionarios_24meses</th>\n",
       "      <th>tx_crescimento_12meses</th>\n",
       "      <th>tx_crescimento_24meses</th>\n",
       "      <th>tx_rotatividade</th>\n",
       "      <th>qt_filiais</th>\n",
       "    </tr>\n",
       "  </thead>\n",
       "  <tbody>\n",
       "    <tr>\n",
       "      <th>0</th>\n",
       "      <td>dabe79bec87c88ae04e869bf6bd321ee5e1893cecf6625...</td>\n",
       "      <td>True</td>\n",
       "      <td>EMPRESARIO INDIVIDUAL</td>\n",
       "      <td>PI</td>\n",
       "      <td>OUTROS</td>\n",
       "      <td>COMERCIO VAREJISTA</td>\n",
       "      <td>COMERCIO</td>\n",
       "      <td>0.646575</td>\n",
       "      <td>&lt;= 1</td>\n",
       "      <td>False</td>\n",
       "      <td>...</td>\n",
       "      <td>NaN</td>\n",
       "      <td>NaN</td>\n",
       "      <td>NaN</td>\n",
       "      <td>NaN</td>\n",
       "      <td>NaN</td>\n",
       "      <td>NaN</td>\n",
       "      <td>NaN</td>\n",
       "      <td>NaN</td>\n",
       "      <td>NaN</td>\n",
       "      <td>0</td>\n",
       "    </tr>\n",
       "    <tr>\n",
       "      <th>1</th>\n",
       "      <td>32e5f4e10932153a7ba869cb0386e7e02d49d2461046b8...</td>\n",
       "      <td>False</td>\n",
       "      <td>EMPRESARIO INDIVIDUAL</td>\n",
       "      <td>MA</td>\n",
       "      <td>OUTROS</td>\n",
       "      <td>COMERCIO VAREJISTA</td>\n",
       "      <td>COMERCIO</td>\n",
       "      <td>6.586301</td>\n",
       "      <td>5 a 10</td>\n",
       "      <td>False</td>\n",
       "      <td>...</td>\n",
       "      <td>NaN</td>\n",
       "      <td>NaN</td>\n",
       "      <td>NaN</td>\n",
       "      <td>0.0</td>\n",
       "      <td>0.0</td>\n",
       "      <td>2.0</td>\n",
       "      <td>NaN</td>\n",
       "      <td>-100.0</td>\n",
       "      <td>0.0</td>\n",
       "      <td>4</td>\n",
       "    </tr>\n",
       "    <tr>\n",
       "      <th>2</th>\n",
       "      <td>a95d6f30bba445bd3d6b0c5b36f865b38ec01d17336090...</td>\n",
       "      <td>True</td>\n",
       "      <td>EMPRESARIO INDIVIDUAL</td>\n",
       "      <td>MA</td>\n",
       "      <td>OUTROS</td>\n",
       "      <td>COMERCIO VAREJISTA</td>\n",
       "      <td>COMERCIO</td>\n",
       "      <td>8.010959</td>\n",
       "      <td>5 a 10</td>\n",
       "      <td>False</td>\n",
       "      <td>...</td>\n",
       "      <td>NaN</td>\n",
       "      <td>NaN</td>\n",
       "      <td>NaN</td>\n",
       "      <td>NaN</td>\n",
       "      <td>NaN</td>\n",
       "      <td>NaN</td>\n",
       "      <td>NaN</td>\n",
       "      <td>NaN</td>\n",
       "      <td>NaN</td>\n",
       "      <td>0</td>\n",
       "    </tr>\n",
       "    <tr>\n",
       "      <th>3</th>\n",
       "      <td>6cb309685cea0b6d2988818792ec2e6fcb2bd02e0afa9e...</td>\n",
       "      <td>True</td>\n",
       "      <td>EMPRESARIO INDIVIDUAL</td>\n",
       "      <td>RN</td>\n",
       "      <td>OUTROS</td>\n",
       "      <td>COMERCIO VAREJISTA</td>\n",
       "      <td>COMERCIO</td>\n",
       "      <td>20.863014</td>\n",
       "      <td>&gt; 20</td>\n",
       "      <td>False</td>\n",
       "      <td>...</td>\n",
       "      <td>NaN</td>\n",
       "      <td>NaN</td>\n",
       "      <td>NaN</td>\n",
       "      <td>NaN</td>\n",
       "      <td>NaN</td>\n",
       "      <td>NaN</td>\n",
       "      <td>NaN</td>\n",
       "      <td>NaN</td>\n",
       "      <td>NaN</td>\n",
       "      <td>0</td>\n",
       "    </tr>\n",
       "    <tr>\n",
       "      <th>4</th>\n",
       "      <td>f72aa7fa6787b0a5a1c88885b6120850df8ee0f71adc25...</td>\n",
       "      <td>True</td>\n",
       "      <td>SOCIEDADE EMPRESARIA LIMITADA</td>\n",
       "      <td>RN</td>\n",
       "      <td>ENTIDADES EMPRESARIAIS</td>\n",
       "      <td>COMERCIO VAREJISTA</td>\n",
       "      <td>COMERCIO</td>\n",
       "      <td>18.726027</td>\n",
       "      <td>15 a 20</td>\n",
       "      <td>False</td>\n",
       "      <td>...</td>\n",
       "      <td>39.454762</td>\n",
       "      <td>91.2</td>\n",
       "      <td>19.333333</td>\n",
       "      <td>14.0</td>\n",
       "      <td>15.0</td>\n",
       "      <td>25.0</td>\n",
       "      <td>-6.666667</td>\n",
       "      <td>-44.0</td>\n",
       "      <td>0.0</td>\n",
       "      <td>3</td>\n",
       "    </tr>\n",
       "  </tbody>\n",
       "</table>\n",
       "<p>5 rows × 181 columns</p>\n",
       "</div>"
      ],
      "text/plain": [
       "                                                  id  fl_matriz  \\\n",
       "0  dabe79bec87c88ae04e869bf6bd321ee5e1893cecf6625...       True   \n",
       "1  32e5f4e10932153a7ba869cb0386e7e02d49d2461046b8...      False   \n",
       "2  a95d6f30bba445bd3d6b0c5b36f865b38ec01d17336090...       True   \n",
       "3  6cb309685cea0b6d2988818792ec2e6fcb2bd02e0afa9e...       True   \n",
       "4  f72aa7fa6787b0a5a1c88885b6120850df8ee0f71adc25...       True   \n",
       "\n",
       "            de_natureza_juridica sg_uf natureza_juridica_macro  \\\n",
       "0          EMPRESARIO INDIVIDUAL    PI                  OUTROS   \n",
       "1          EMPRESARIO INDIVIDUAL    MA                  OUTROS   \n",
       "2          EMPRESARIO INDIVIDUAL    MA                  OUTROS   \n",
       "3          EMPRESARIO INDIVIDUAL    RN                  OUTROS   \n",
       "4  SOCIEDADE EMPRESARIA LIMITADA    RN  ENTIDADES EMPRESARIAIS   \n",
       "\n",
       "              de_ramo     setor  idade_empresa_anos idade_emp_cat  fl_me  ...  \\\n",
       "0  COMERCIO VAREJISTA  COMERCIO            0.646575          <= 1  False  ...   \n",
       "1  COMERCIO VAREJISTA  COMERCIO            6.586301        5 a 10  False  ...   \n",
       "2  COMERCIO VAREJISTA  COMERCIO            8.010959        5 a 10  False  ...   \n",
       "3  COMERCIO VAREJISTA  COMERCIO           20.863014          > 20  False  ...   \n",
       "4  COMERCIO VAREJISTA  COMERCIO           18.726027       15 a 20  False  ...   \n",
       "\n",
       "   media_meses_servicos  max_meses_servicos  min_meses_servicos  \\\n",
       "0                   NaN                 NaN                 NaN   \n",
       "1                   NaN                 NaN                 NaN   \n",
       "2                   NaN                 NaN                 NaN   \n",
       "3                   NaN                 NaN                 NaN   \n",
       "4             39.454762                91.2           19.333333   \n",
       "\n",
       "   qt_funcionarios qt_funcionarios_12meses  qt_funcionarios_24meses  \\\n",
       "0              NaN                     NaN                      NaN   \n",
       "1              0.0                     0.0                      2.0   \n",
       "2              NaN                     NaN                      NaN   \n",
       "3              NaN                     NaN                      NaN   \n",
       "4             14.0                    15.0                     25.0   \n",
       "\n",
       "   tx_crescimento_12meses  tx_crescimento_24meses tx_rotatividade qt_filiais  \n",
       "0                     NaN                     NaN             NaN          0  \n",
       "1                     NaN                  -100.0             0.0          4  \n",
       "2                     NaN                     NaN             NaN          0  \n",
       "3                     NaN                     NaN             NaN          0  \n",
       "4               -6.666667                   -44.0             0.0          3  \n",
       "\n",
       "[5 rows x 181 columns]"
      ]
     },
     "execution_count": 5,
     "metadata": {},
     "output_type": "execute_result"
    }
   ],
   "source": [
    "empresa1.head()"
   ]
  },
  {
   "cell_type": "code",
   "execution_count": 6,
   "metadata": {},
   "outputs": [
    {
     "data": {
      "text/plain": [
       "array(['INDUSTRIA DA CONSTRUCAO', 'SERVICOS DE ALOJAMENTO/ALIMENTACAO',\n",
       "       'TRANSPORTE, ARMAZENAGEM E CORREIO', 'SERVICOS DIVERSOS',\n",
       "       'SERVICOS PROFISSIONAIS, TECNICOS E CIENTIFICOS',\n",
       "       'QUIMICA-PETROQUIMICA', 'SERVICOS ADMINISTRATIVOS',\n",
       "       'BENS DE CONSUMO', 'COMERCIO VAREJISTA', 'INDUSTRIA DIGITAL',\n",
       "       'TEXTEIS', 'COMERCIO POR ATACADO', 'TELECOM', 'SERVICOS DE SAUDE',\n",
       "       'COMERCIO E REPARACAO DE VEICULOS', 'CULTURA, ESPORTE E RECREACAO',\n",
       "       'SERVICOS FINANCEIROS', 'SERVICOS DE EDUCACAO',\n",
       "       'PRODUTOS DE AGROPECUARIA',\n",
       "       'ADMINISTRACAO PUBLICA, DEFESA E SEGURIDADE SOCIAL',\n",
       "       'PAPEL E CELULOSE', 'SIDERURGICA-METALURGIA', 'OUTROS',\n",
       "       'SEGUROS, PLANOS DE PREVIDENCIA E PLANOS DE SAUDE',\n",
       "       'ELETRICIDADE E GAS', 'INDUSTRIAS EXTRATIVAS', 'ELETROELETRONICOS',\n",
       "       'SERVICOS DE SANEAMENTO BASICO', 'ATIVIDADES IMOBILIARIAS',\n",
       "       'SERVICOS SOCIAIS', 'INDUSTRIA AUTOMOTIVA',\n",
       "       'ORGANISMOS INTERNACIONAIS', 'FARMACEUTICA'], dtype=object)"
      ]
     },
     "execution_count": 6,
     "metadata": {},
     "output_type": "execute_result"
    }
   ],
   "source": [
    "mercado['de_ramo'].unique()"
   ]
  },
  {
   "cell_type": "code",
   "execution_count": 7,
   "metadata": {},
   "outputs": [
    {
     "data": {
      "text/plain": [
       "array(['CONSTRUÇÃO CIVIL', 'SERVIÇO', 'INDUSTRIA', 'COMERCIO',\n",
       "       'AGROPECUARIA', nan], dtype=object)"
      ]
     },
     "execution_count": 7,
     "metadata": {},
     "output_type": "execute_result"
    }
   ],
   "source": [
    "mercado['setor'].unique()"
   ]
  },
  {
   "cell_type": "code",
   "execution_count": 8,
   "metadata": {},
   "outputs": [],
   "source": [
    "teste= mercado[mercado['setor'].isnull()]"
   ]
  },
  {
   "cell_type": "code",
   "execution_count": 9,
   "metadata": {},
   "outputs": [
    {
     "data": {
      "text/plain": [
       "array(['OUTROS'], dtype=object)"
      ]
     },
     "execution_count": 9,
     "metadata": {},
     "output_type": "execute_result"
    }
   ],
   "source": [
    "teste['de_ramo'].unique()"
   ]
  },
  {
   "cell_type": "code",
   "execution_count": 10,
   "metadata": {},
   "outputs": [],
   "source": [
    "mercado['setor'].fillna('SETOR INDEFINIDO', inplace=True)"
   ]
  },
  {
   "cell_type": "code",
   "execution_count": 11,
   "metadata": {},
   "outputs": [
    {
     "data": {
      "text/plain": [
       "array(['CONSTRUÇÃO CIVIL', 'SERVIÇO', 'INDUSTRIA', 'COMERCIO',\n",
       "       'AGROPECUARIA', 'OUTROS'], dtype=object)"
      ]
     },
     "execution_count": 11,
     "metadata": {},
     "output_type": "execute_result"
    }
   ],
   "source": [
    "mercado['setor'].unique()"
   ]
  },
  {
   "cell_type": "code",
   "execution_count": 12,
   "metadata": {
    "scrolled": true
   },
   "outputs": [
    {
     "data": {
      "text/plain": [
       "array(['SOCIEDADE EMPRESARIA LIMITADA', 'EMPRESARIO INDIVIDUAL',\n",
       "       'COOPERATIVA', 'ASSOCIACAO PRIVADA', 'ENTIDADE SINDICAL',\n",
       "       'CONSORCIO DE SOCIEDADES', 'SOCIEDADE DE ECONOMIA MISTA',\n",
       "       'CONDOMINIO EDILICIO', 'ORGAO PUBLICO DO PODER EXECUTIVO FEDERAL',\n",
       "       'MUNICIPIO', 'ORGAO DE DIRECAO LOCAL DE PARTIDO POLITICO',\n",
       "       'SOCIEDADE ANONIMA ABERTA',\n",
       "       'EMPRESA INDIVIDUAL DE RESPONSABILIDADE LIMITADA DE NATUREZA EMPRESARIA',\n",
       "       'CANDIDATO A CARGO POLITICO ELETIVO',\n",
       "       'EMPRESA INDIVIDUAL IMOBILIARIA',\n",
       "       'ORGAO PUBLICO DO PODER EXECUTIVO ESTADUAL OU DO DISTRITO FEDERAL',\n",
       "       'SOCIEDADE SIMPLES LIMITADA', 'FUNDACAO PRIVADA',\n",
       "       'ORGAO PUBLICO DO PODER EXECUTIVO MUNICIPAL',\n",
       "       'SOCIEDADE ANONIMA FECHADA', 'ORGANIZACAO RELIGIOSA',\n",
       "       'SOCIEDADE UNIPESSOAL DE ADVOCACIA', 'SOCIEDADE SIMPLES PURA',\n",
       "       'AUTARQUIA FEDERAL', 'ORGAO PUBLICO DO PODER JUDICIARIO ESTADUAL',\n",
       "       'EMPRESA PUBLICA', 'SOCIEDADE EMPRESARIA EM NOME COLETIVO',\n",
       "       'AUTARQUIA MUNICIPAL', 'FUNDO PUBLICO',\n",
       "       'AUTARQUIA ESTADUAL OU DO DISTRITO FEDERAL',\n",
       "       'FUNDACAO PUBLICA DE DIREITO PUB MUNICIPAL',\n",
       "       'EMPRESA INDIVIDUAL DE RESPONSABILIDADE LIMITADA DE NATUREZA SIMPLES',\n",
       "       'ORGAO PUBLICO DO PODER LEGISLATIVO MUNICIPAL',\n",
       "       'SERVICO NOTARIAL E REGISTRAL CARTORIO', 'ORGANIZACAO SOCIAL OS',\n",
       "       'CONSORCIO PUBDE DIREITO PUB ASS PUB',\n",
       "       'ORGAO DE DIRECAO REGIONAL DE PARTIDO POLITICO',\n",
       "       'SERVICO SOCIAL AUTONOMO', 'SOCIEDADE EM CONTA DE PARTICIPACAO',\n",
       "       'GRUPO DE SOCIEDADES',\n",
       "       'SOCIEDADE MERCANTIL DE CAPITAL E INDUSTRIA',\n",
       "       'FUNDACAO PUBLICA DE DIREITO PRIVADO MUNICIPAL',\n",
       "       'ORGAO PUBLICO AUTONOMO MUNICIPAL',\n",
       "       'ORGAO PUBLICO DO PODER JUDICIARIO FEDERAL',\n",
       "       'NATUREZA JURIDICA INVALIDA',\n",
       "       'SOCIEDADE EMPRESARIA EM COMANDITA POR ACOES',\n",
       "       'FUNDACAO PUBLICA DE DIREITO PUBFEDERAL',\n",
       "       'ORGAO PUBLICO AUTONOMO ESTADUAL OU DO DISTRITO FEDERAL',\n",
       "       'ESTABELECIMENTO NO BRASIL DE SOCIEDADE ESTRANGEIRA',\n",
       "       'FUNDACAO PUB DE DIREITO PUB EST OU DO DF',\n",
       "       'ORGAO PUBLICO DO PODER LEGISLATIVO ESTADUAL OU DO DISTRITO FEDERAL',\n",
       "       'ENTIDADE DE MEDIACAO E ARBITRAGEM', 'COMUNIDADE INDIGENA',\n",
       "       'FUNDACAO PUBLICA DE DIREITO PRIVADO FEFERAL',\n",
       "       'ESTABELECIMENTO NO BRASIL DE FUNDACAO OU ASSOCIACAO ESTRANGEIRAS',\n",
       "       'CLUBE FUNDO DE INVESTIMENTO',\n",
       "       'REPRESENTACAO DIPLOMATICA ESTRANGEIRA',\n",
       "       'SOCIEDADE SIMPLES EM COMANDITA SIMPLES',\n",
       "       'CONSORCIO PUBLICO DE DIREITO PRIVADO',\n",
       "       'FRENTE PLEBISCITARIA OU REFERENDARIA',\n",
       "       'SOCIEDADE EMPRESARIA EM COMANDITA SIMPLES',\n",
       "       'CONSORCIO DE EMPREGADORES', 'SOCIEDADE SIMPLES EM NOME COLETIVO',\n",
       "       'FUNDO PRIVADO', 'ESTADO OU DISTRITO FEDERAL',\n",
       "       'ORGAO PUBLICO DO PODER LEGISLATIVO FEDERAL',\n",
       "       'ORGAO DE DIRECAO NACIONAL DE PARTIDO POLITICO'], dtype=object)"
      ]
     },
     "execution_count": 12,
     "metadata": {},
     "output_type": "execute_result"
    }
   ],
   "source": [
    "mercado['de_natureza_juridica'].unique()"
   ]
  },
  {
   "cell_type": "code",
   "execution_count": 13,
   "metadata": {},
   "outputs": [
    {
     "data": {
      "text/plain": [
       "array(['ENTIDADES EMPRESARIAIS', 'OUTROS',\n",
       "       'ENTIDADES SEM FINS LUCRATIVOS', 'ADMINISTRACAO PUBLICA',\n",
       "       'CARGO POLITICO', 'PESSOAS FISICAS',\n",
       "       'INSTITUICOES EXTRATERRITORIAIS'], dtype=object)"
      ]
     },
     "execution_count": 13,
     "metadata": {},
     "output_type": "execute_result"
    }
   ],
   "source": [
    "mercado['natureza_juridica_macro'].unique()"
   ]
  },
  {
   "cell_type": "code",
   "execution_count": 107,
   "metadata": {},
   "outputs": [
    {
     "data": {
      "text/plain": [
       "array(['10 a 15', '1 a 5', '5 a 10', '> 20', '<= 1', '15 a 20'],\n",
       "      dtype=object)"
      ]
     },
     "execution_count": 107,
     "metadata": {},
     "output_type": "execute_result"
    }
   ],
   "source": [
    "mercado['idade_emp_cat'].unique()"
   ]
  },
  {
   "cell_type": "code",
   "execution_count": 108,
   "metadata": {},
   "outputs": [
    {
     "data": {
      "text/plain": [
       "array([14.45753425,  1.4630137 ,  7.09315068, ..., 44.61643836,\n",
       "       27.30958904, 41.95616438])"
      ]
     },
     "execution_count": 108,
     "metadata": {},
     "output_type": "execute_result"
    }
   ],
   "source": [
    "mercado['idade_empresa_anos'].unique()"
   ]
  },
  {
   "cell_type": "code",
   "execution_count": 87,
   "metadata": {},
   "outputs": [],
   "source": [
    "mercado_simplificado = mercado.copy()"
   ]
  },
  {
   "cell_type": "code",
   "execution_count": 88,
   "metadata": {},
   "outputs": [],
   "source": [
    "colunas_duplicadas = ['de_natureza_juridica', 'de_ramo', 'idade_empresa_anos']\n",
    "mercado_simplificado.drop(columns=colunas_duplicadas, inplace=True)"
   ]
  },
  {
   "cell_type": "markdown",
   "metadata": {},
   "source": [
    "Importante conhecimento sobre algusn termos\n",
    "https://capitalsocial.cnt.br/qual-a-diferenca-entre-mei-ei-me-e-epp/"
   ]
  },
  {
   "cell_type": "code",
   "execution_count": 90,
   "metadata": {},
   "outputs": [],
   "source": [
    "#colunas_pessoa_juridica = ['fl_me', 'fl_sa', 'fl_epp', 'fl_mei', 'fl_ltda']\n",
    "#mercado_simplificado.drop(columns=colunas_pessoa_juridica, inplace=True)"
   ]
  },
  {
   "cell_type": "code",
   "execution_count": 91,
   "metadata": {},
   "outputs": [],
   "source": [
    "colunas_irs = ['dt_situacao' ]\n",
    "mercado_simplificado.drop(columns=colunas_irs, inplace=True)"
   ]
  },
  {
   "cell_type": "code",
   "execution_count": 92,
   "metadata": {},
   "outputs": [],
   "source": [
    "#colunas_talvez = ['nm_divisao', 'nm_segmento']\n",
    "#mercado_simplificado.drop(columns=colunas_talvez, inplace=True)"
   ]
  },
  {
   "cell_type": "markdown",
   "metadata": {},
   "source": [
    "Colunas referentes a trasnpostes terrestres da empresa"
   ]
  },
  {
   "cell_type": "code",
   "execution_count": 93,
   "metadata": {},
   "outputs": [],
   "source": [
    "colunas_transporte_terrestre = ['fl_spa', 'fl_antt', 'fl_veiculo', 'vl_total_veiculos_antt', \n",
    "                                'vl_total_veiculos_leves', 'vl_total_veiculos_pesados', \n",
    "                                'vl_total_veiculos_pesados_grupo', 'vl_total_veiculos_leves_grupo', \n",
    "                                'vl_total_tancagem_grupo', 'vl_total_veiculos_antt_grupo', \n",
    "                                'vl_potenc_cons_oleo_gas', 'vl_total_tancagem', 'vl_frota']\n",
    "mercado_simplificado.drop(columns=colunas_transporte_terrestre, inplace=True)"
   ]
  },
  {
   "cell_type": "code",
   "execution_count": 94,
   "metadata": {},
   "outputs": [],
   "source": [
    "#colunas_empreendedor_tipo = ['fl_optante_simples', 'fl_optante_simei', 'fl_simples_irregular', \n",
    "#                             'fl_passivel_iss']\n",
    "#mercado_simplificado.drop(columns=colunas_empreendedor_tipo, inplace=True)"
   ]
  },
  {
   "cell_type": "code",
   "execution_count": 95,
   "metadata": {},
   "outputs": [],
   "source": [
    "colunas_empresa = ['sg_uf_matriz', 'de_saude_tributaria', 'de_saude_rescencia','nu_meses_rescencia', \n",
    "                   'de_indicador_telefone', 'empsetorcensitariofaixarendapopulacao', 'nm_meso_regiao', \n",
    "                   'nm_micro_regiao', 'qt_art']\n",
    "mercado_simplificado.drop(columns=colunas_empresa, inplace=True)"
   ]
  },
  {
   "cell_type": "code",
   "execution_count": 96,
   "metadata": {},
   "outputs": [],
   "source": [
    "colunas_socio = ['qt_socios', 'qt_socios_pf', 'qt_socios_pj', 'idade_media_socios', 'qt_socios', 'qt_socios_pf', \n",
    "                 'idade_maxima_socios', 'idade_minima_socios', 'qt_socios_st_regular', 'qt_socios_st_suspensa', \n",
    "                 'qt_socios_masculino', 'qt_socios_feminino', 'qt_socios_pep', 'qt_alteracao_socio_total', \n",
    "                 'qt_alteracao_socio_90d', 'qt_alteracao_socio_180d', 'qt_alteracao_socio_365d', \n",
    "                 'qt_socios_pj_ativos', 'qt_socios_pj_nulos', 'qt_socios_pj_baixados', 'qt_socios_pj_suspensos', \n",
    "                 'qt_socios_pj_inaptos', 'vl_idade_media_socios_pj', 'vl_idade_maxima_socios_pj', \n",
    "                 'vl_idade_minima_socios_pj', 'qt_coligados', 'qt_socios_coligados', 'qt_coligados_matriz', \n",
    "                 'qt_coligados_ativo', 'qt_coligados_baixada', 'qt_coligados_inapta', 'qt_coligados_suspensa', \n",
    "                 'qt_coligados_nula', 'idade_media_coligadas', 'idade_minima_coligadas', \n",
    "                 'coligada_mais_nova_ativa', 'coligada_mais_antiga_ativa', 'idade_media_coligadas_ativas', \n",
    "                 'coligada_mais_nova_baixada', 'coligada_mais_antiga_baixada', 'idade_media_coligadas_baixadas', \n",
    "                 'qt_coligados_sa', 'qt_coligados_me', 'qt_coligados_mei', 'qt_coligados_ltda', \n",
    "                 'qt_coligados_epp', 'qt_coligados_norte', 'qt_coligados_sul', 'qt_coligados_nordeste', \n",
    "                 'qt_coligados_centro', 'idade_maxima_coligadas', 'qt_coligados_sudeste', \n",
    "                 'qt_coligados_exterior', 'qt_ufs_coligados', 'qt_regioes_coligados', 'qt_ramos_coligados', \n",
    "                 'qt_coligados_industria', 'qt_coligados_agropecuaria', 'qt_coligados_comercio', \n",
    "                 'qt_coligados_serviço', 'qt_coligados_ccivil', 'qt_funcionarios_coligados', \n",
    "                 'qt_funcionarios_coligados_gp', 'media_funcionarios_coligados_gp', \n",
    "                 'max_funcionarios_coligados_gp', 'min_funcionarios_coligados_gp', 'vl_folha_coligados', \n",
    "                 'media_vl_folha_coligados', 'max_vl_folha_coligados', 'min_vl_folha_coligados', \n",
    "                 'vl_folha_coligados_gp', 'media_vl_folha_coligados_gp', 'max_vl_folha_coligados_gp', \n",
    "                 'min_vl_folha_coligados_gp', 'faturamento_est_coligados', 'media_faturamento_est_coligados', \n",
    "                 'max_faturamento_est_coligados', 'min_faturamento_est_coligados', 'total_filiais_coligados',\n",
    "                 'faturamento_est_coligados_gp', 'media_faturamento_est_coligados_gp', \n",
    "                 'max_faturamento_est_coligados_gp', 'min_faturamento_est_coligados_gp', \n",
    "                 'media_filiais_coligados', 'max_filiais_coligados', 'min_filiais_coligados', \n",
    "                 'qt_coligados_atividade_alto', 'qt_coligados_atividade_medio', 'qt_coligados_atividade_baixo', \n",
    "                 'qt_coligados_atividade_mt_baixo', 'qt_coligados_atividade_inativo', 'qt_coligadas']\n",
    "mercado_simplificado.drop(columns=colunas_socio, inplace=True)"
   ]
  },
  {
   "cell_type": "markdown",
   "metadata": {},
   "source": [
    "Mantem só 'de_faixa_faturamento_estimado', 'de_faixa_faturamento_estimado_grupo',"
   ]
  },
  {
   "cell_type": "code",
   "execution_count": 97,
   "metadata": {},
   "outputs": [],
   "source": [
    "colunas_faturamento = ['sum_faturamento_estimado_coligadas', 'vl_faturamento_estimado_aux', \n",
    "                       'vl_faturamento_estimado_grupo_aux']\n",
    "mercado_simplificado.drop(columns=colunas_faturamento, inplace=True)"
   ]
  },
  {
   "cell_type": "code",
   "execution_count": 98,
   "metadata": {},
   "outputs": [],
   "source": [
    "colunas_funcionarios = ['qt_ex_funcionarios', 'qt_funcionarios_grupo', 'percent_func_genero_masc', \n",
    "                        'percent_func_genero_fem', 'idade_ate_18', 'idade_de_19_a_23', 'idade_de_24_a_28', \n",
    "                        'idade_de_29_a_33', 'idade_de_34_a_38', 'idade_de_39_a_43', 'idade_de_44_a_48', \n",
    "                        'idade_de_49_a_53', 'idade_de_54_a_58','idade_acima_de_58', \n",
    "                        'grau_instrucao_macro_analfabeto', 'grau_instrucao_macro_escolaridade_fundamental', \n",
    "                        'grau_instrucao_macro_escolaridade_media', 'grau_instrucao_macro_escolaridade_superior', \n",
    "                        'grau_instrucao_macro_desconhecido', 'total']\n",
    "mercado_simplificado.drop(columns=colunas_funcionarios, inplace=True)"
   ]
  },
  {
   "cell_type": "code",
   "execution_count": 99,
   "metadata": {},
   "outputs": [],
   "source": [
    "colunas_num_func = ['meses_ultima_contratacaco', 'qt_admitidos_12meses', 'qt_desligados_12meses', \n",
    "                       'qt_desligados', 'qt_admitidos', 'media_meses_servicos_all', \n",
    "                       'max_meses_servicos_all', 'min_meses_servicos_all', 'media_meses_servicos', \n",
    "                       'max_meses_servicos', 'min_meses_servicos']\n",
    "mercado_simplificado.drop(columns=colunas_num_func, inplace=True)"
   ]
  },
  {
   "cell_type": "code",
   "execution_count": 100,
   "metadata": {},
   "outputs": [],
   "source": [
    "colunas_contratacao = ['qt_funcionarios', 'qt_funcionarios_12meses', 'qt_funcionarios_24meses', \n",
    "                       'tx_crescimento_12meses', 'tx_crescimento_24meses', 'tx_rotatividade']\n",
    "mercado_simplificado.drop(columns=colunas_contratacao, inplace=True)"
   ]
  },
  {
   "cell_type": "code",
   "execution_count": 101,
   "metadata": {},
   "outputs": [],
   "source": [
    "#colunas_faltantes = ['nm_divisao', 'nm_segmento', 'de_nivel_atividade']\n",
    "#mercado_simplificado.drop(columns=colunas_faltantes, inplace=True)"
   ]
  },
  {
   "cell_type": "code",
   "execution_count": 104,
   "metadata": {},
   "outputs": [],
   "source": [
    "boleanas = ['fl_matriz','fl_st_especial', 'fl_optante_simples', 'fl_optante_simei', 'fl_simples_irregular', \n",
    "            'fl_passivel_iss']\n",
    "for valor in boleanas:    \n",
    "    mercado_simplificado[valor].fillna(False, inplace=True)\n",
    "    mercado_simplificado[valor] = mercado_simplificado[valor].astype(int)"
   ]
  },
  {
   "cell_type": "code",
   "execution_count": 105,
   "metadata": {
    "scrolled": false
   },
   "outputs": [
    {
     "data": {
      "text/html": [
       "<div>\n",
       "<style scoped>\n",
       "    .dataframe tbody tr th:only-of-type {\n",
       "        vertical-align: middle;\n",
       "    }\n",
       "\n",
       "    .dataframe tbody tr th {\n",
       "        vertical-align: top;\n",
       "    }\n",
       "\n",
       "    .dataframe thead th {\n",
       "        text-align: right;\n",
       "    }\n",
       "</style>\n",
       "<table border=\"1\" class=\"dataframe\">\n",
       "  <thead>\n",
       "    <tr style=\"text-align: right;\">\n",
       "      <th></th>\n",
       "      <th>0</th>\n",
       "      <th>1</th>\n",
       "      <th>2</th>\n",
       "      <th>3</th>\n",
       "      <th>4</th>\n",
       "    </tr>\n",
       "  </thead>\n",
       "  <tbody>\n",
       "    <tr>\n",
       "      <th>id</th>\n",
       "      <td>a6984c3ae395090e3bee8ad63c3758b110de096d5d8195...</td>\n",
       "      <td>6178f41ade1365e44bc2c46654c2c8c0eaae27dcb476c4...</td>\n",
       "      <td>4a7e5069a397f12fdd7fd57111d6dc5d3ba558958efc02...</td>\n",
       "      <td>3348900fe63216a439d2e5238c79ddd46ede454df7b9d8...</td>\n",
       "      <td>1f9bcabc9d3173c1fe769899e4fac14b053037b953a1e4...</td>\n",
       "    </tr>\n",
       "    <tr>\n",
       "      <th>fl_matriz</th>\n",
       "      <td>1</td>\n",
       "      <td>1</td>\n",
       "      <td>1</td>\n",
       "      <td>1</td>\n",
       "      <td>1</td>\n",
       "    </tr>\n",
       "    <tr>\n",
       "      <th>sg_uf</th>\n",
       "      <td>RN</td>\n",
       "      <td>PI</td>\n",
       "      <td>AM</td>\n",
       "      <td>AM</td>\n",
       "      <td>RN</td>\n",
       "    </tr>\n",
       "    <tr>\n",
       "      <th>natureza_juridica_macro</th>\n",
       "      <td>ENTIDADES EMPRESARIAIS</td>\n",
       "      <td>OUTROS</td>\n",
       "      <td>OUTROS</td>\n",
       "      <td>OUTROS</td>\n",
       "      <td>OUTROS</td>\n",
       "    </tr>\n",
       "    <tr>\n",
       "      <th>setor</th>\n",
       "      <td>CONSTRUÇÃO CIVIL</td>\n",
       "      <td>SERVIÇO</td>\n",
       "      <td>SERVIÇO</td>\n",
       "      <td>SERVIÇO</td>\n",
       "      <td>SERVIÇO</td>\n",
       "    </tr>\n",
       "    <tr>\n",
       "      <th>idade_emp_cat</th>\n",
       "      <td>10 a 15</td>\n",
       "      <td>1 a 5</td>\n",
       "      <td>5 a 10</td>\n",
       "      <td>5 a 10</td>\n",
       "      <td>1 a 5</td>\n",
       "    </tr>\n",
       "    <tr>\n",
       "      <th>fl_st_especial</th>\n",
       "      <td>0</td>\n",
       "      <td>0</td>\n",
       "      <td>0</td>\n",
       "      <td>0</td>\n",
       "      <td>0</td>\n",
       "    </tr>\n",
       "    <tr>\n",
       "      <th>fl_optante_simples</th>\n",
       "      <td>1</td>\n",
       "      <td>0</td>\n",
       "      <td>1</td>\n",
       "      <td>1</td>\n",
       "      <td>1</td>\n",
       "    </tr>\n",
       "    <tr>\n",
       "      <th>fl_optante_simei</th>\n",
       "      <td>0</td>\n",
       "      <td>0</td>\n",
       "      <td>1</td>\n",
       "      <td>0</td>\n",
       "      <td>0</td>\n",
       "    </tr>\n",
       "    <tr>\n",
       "      <th>fl_simples_irregular</th>\n",
       "      <td>0</td>\n",
       "      <td>0</td>\n",
       "      <td>0</td>\n",
       "      <td>0</td>\n",
       "      <td>0</td>\n",
       "    </tr>\n",
       "    <tr>\n",
       "      <th>fl_passivel_iss</th>\n",
       "      <td>1</td>\n",
       "      <td>1</td>\n",
       "      <td>1</td>\n",
       "      <td>1</td>\n",
       "      <td>1</td>\n",
       "    </tr>\n",
       "    <tr>\n",
       "      <th>qt_filiais</th>\n",
       "      <td>0</td>\n",
       "      <td>0</td>\n",
       "      <td>0</td>\n",
       "      <td>0</td>\n",
       "      <td>0</td>\n",
       "    </tr>\n",
       "  </tbody>\n",
       "</table>\n",
       "</div>"
      ],
      "text/plain": [
       "                                                                         0  \\\n",
       "id                       a6984c3ae395090e3bee8ad63c3758b110de096d5d8195...   \n",
       "fl_matriz                                                                1   \n",
       "sg_uf                                                                   RN   \n",
       "natureza_juridica_macro                             ENTIDADES EMPRESARIAIS   \n",
       "setor                                                     CONSTRUÇÃO CIVIL   \n",
       "idade_emp_cat                                                      10 a 15   \n",
       "fl_st_especial                                                           0   \n",
       "fl_optante_simples                                                       1   \n",
       "fl_optante_simei                                                         0   \n",
       "fl_simples_irregular                                                     0   \n",
       "fl_passivel_iss                                                          1   \n",
       "qt_filiais                                                               0   \n",
       "\n",
       "                                                                         1  \\\n",
       "id                       6178f41ade1365e44bc2c46654c2c8c0eaae27dcb476c4...   \n",
       "fl_matriz                                                                1   \n",
       "sg_uf                                                                   PI   \n",
       "natureza_juridica_macro                                             OUTROS   \n",
       "setor                                                              SERVIÇO   \n",
       "idade_emp_cat                                                        1 a 5   \n",
       "fl_st_especial                                                           0   \n",
       "fl_optante_simples                                                       0   \n",
       "fl_optante_simei                                                         0   \n",
       "fl_simples_irregular                                                     0   \n",
       "fl_passivel_iss                                                          1   \n",
       "qt_filiais                                                               0   \n",
       "\n",
       "                                                                         2  \\\n",
       "id                       4a7e5069a397f12fdd7fd57111d6dc5d3ba558958efc02...   \n",
       "fl_matriz                                                                1   \n",
       "sg_uf                                                                   AM   \n",
       "natureza_juridica_macro                                             OUTROS   \n",
       "setor                                                              SERVIÇO   \n",
       "idade_emp_cat                                                       5 a 10   \n",
       "fl_st_especial                                                           0   \n",
       "fl_optante_simples                                                       1   \n",
       "fl_optante_simei                                                         1   \n",
       "fl_simples_irregular                                                     0   \n",
       "fl_passivel_iss                                                          1   \n",
       "qt_filiais                                                               0   \n",
       "\n",
       "                                                                         3  \\\n",
       "id                       3348900fe63216a439d2e5238c79ddd46ede454df7b9d8...   \n",
       "fl_matriz                                                                1   \n",
       "sg_uf                                                                   AM   \n",
       "natureza_juridica_macro                                             OUTROS   \n",
       "setor                                                              SERVIÇO   \n",
       "idade_emp_cat                                                       5 a 10   \n",
       "fl_st_especial                                                           0   \n",
       "fl_optante_simples                                                       1   \n",
       "fl_optante_simei                                                         0   \n",
       "fl_simples_irregular                                                     0   \n",
       "fl_passivel_iss                                                          1   \n",
       "qt_filiais                                                               0   \n",
       "\n",
       "                                                                         4  \n",
       "id                       1f9bcabc9d3173c1fe769899e4fac14b053037b953a1e4...  \n",
       "fl_matriz                                                                1  \n",
       "sg_uf                                                                   RN  \n",
       "natureza_juridica_macro                                             OUTROS  \n",
       "setor                                                              SERVIÇO  \n",
       "idade_emp_cat                                                        1 a 5  \n",
       "fl_st_especial                                                           0  \n",
       "fl_optante_simples                                                       1  \n",
       "fl_optante_simei                                                         0  \n",
       "fl_simples_irregular                                                     0  \n",
       "fl_passivel_iss                                                          1  \n",
       "qt_filiais                                                               0  "
      ]
     },
     "execution_count": 105,
     "metadata": {},
     "output_type": "execute_result"
    }
   ],
   "source": [
    "mercado_simplificado.head().T"
   ]
  },
  {
   "cell_type": "code",
   "execution_count": 30,
   "metadata": {
    "scrolled": true
   },
   "outputs": [
    {
     "data": {
      "text/plain": [
       "(462298, 12)"
      ]
     },
     "execution_count": 30,
     "metadata": {},
     "output_type": "execute_result"
    }
   ],
   "source": [
    "mercado_simplificado.shape"
   ]
  },
  {
   "cell_type": "code",
   "execution_count": 31,
   "metadata": {},
   "outputs": [
    {
     "name": "stdout",
     "output_type": "stream",
     "text": [
      "<class 'pandas.core.frame.DataFrame'>\n",
      "Int64Index: 462298 entries, 0 to 462297\n",
      "Data columns (total 12 columns):\n",
      "id                         462298 non-null object\n",
      "fl_matriz                  462298 non-null bool\n",
      "sg_uf                      462298 non-null object\n",
      "natureza_juridica_macro    462298 non-null object\n",
      "setor                      462298 non-null object\n",
      "idade_emp_cat              462298 non-null object\n",
      "fl_st_especial             462298 non-null bool\n",
      "fl_optante_simples         379585 non-null object\n",
      "fl_optante_simei           379585 non-null object\n",
      "fl_simples_irregular       460371 non-null object\n",
      "fl_passivel_iss            460371 non-null object\n",
      "qt_filiais                 462298 non-null int64\n",
      "dtypes: bool(2), int64(1), object(9)\n",
      "memory usage: 39.7+ MB\n"
     ]
    }
   ],
   "source": [
    "mercado_simplificado.info()"
   ]
  },
  {
   "cell_type": "code",
   "execution_count": 42,
   "metadata": {},
   "outputs": [],
   "source": [
    " "
   ]
  },
  {
   "cell_type": "code",
   "execution_count": null,
   "metadata": {},
   "outputs": [],
   "source": []
  },
  {
   "cell_type": "code",
   "execution_count": null,
   "metadata": {},
   "outputs": [],
   "source": []
  },
  {
   "cell_type": "code",
   "execution_count": 56,
   "metadata": {},
   "outputs": [],
   "source": [
    "empresa1_ajustada = empresa1.copy()\n",
    "empresa1_ajustada['Cliente'] = int(1)\n",
    "empresa1_ajustada = empresa1_ajustada[['id','Cliente']]"
   ]
  },
  {
   "cell_type": "code",
   "execution_count": 57,
   "metadata": {},
   "outputs": [
    {
     "data": {
      "text/html": [
       "<div>\n",
       "<style scoped>\n",
       "    .dataframe tbody tr th:only-of-type {\n",
       "        vertical-align: middle;\n",
       "    }\n",
       "\n",
       "    .dataframe tbody tr th {\n",
       "        vertical-align: top;\n",
       "    }\n",
       "\n",
       "    .dataframe thead th {\n",
       "        text-align: right;\n",
       "    }\n",
       "</style>\n",
       "<table border=\"1\" class=\"dataframe\">\n",
       "  <thead>\n",
       "    <tr style=\"text-align: right;\">\n",
       "      <th></th>\n",
       "      <th>id</th>\n",
       "      <th>Cliente</th>\n",
       "    </tr>\n",
       "  </thead>\n",
       "  <tbody>\n",
       "    <tr>\n",
       "      <th>0</th>\n",
       "      <td>dabe79bec87c88ae04e869bf6bd321ee5e1893cecf6625...</td>\n",
       "      <td>1</td>\n",
       "    </tr>\n",
       "    <tr>\n",
       "      <th>1</th>\n",
       "      <td>32e5f4e10932153a7ba869cb0386e7e02d49d2461046b8...</td>\n",
       "      <td>1</td>\n",
       "    </tr>\n",
       "    <tr>\n",
       "      <th>2</th>\n",
       "      <td>a95d6f30bba445bd3d6b0c5b36f865b38ec01d17336090...</td>\n",
       "      <td>1</td>\n",
       "    </tr>\n",
       "    <tr>\n",
       "      <th>3</th>\n",
       "      <td>6cb309685cea0b6d2988818792ec2e6fcb2bd02e0afa9e...</td>\n",
       "      <td>1</td>\n",
       "    </tr>\n",
       "    <tr>\n",
       "      <th>4</th>\n",
       "      <td>f72aa7fa6787b0a5a1c88885b6120850df8ee0f71adc25...</td>\n",
       "      <td>1</td>\n",
       "    </tr>\n",
       "  </tbody>\n",
       "</table>\n",
       "</div>"
      ],
      "text/plain": [
       "                                                  id  Cliente\n",
       "0  dabe79bec87c88ae04e869bf6bd321ee5e1893cecf6625...        1\n",
       "1  32e5f4e10932153a7ba869cb0386e7e02d49d2461046b8...        1\n",
       "2  a95d6f30bba445bd3d6b0c5b36f865b38ec01d17336090...        1\n",
       "3  6cb309685cea0b6d2988818792ec2e6fcb2bd02e0afa9e...        1\n",
       "4  f72aa7fa6787b0a5a1c88885b6120850df8ee0f71adc25...        1"
      ]
     },
     "execution_count": 57,
     "metadata": {},
     "output_type": "execute_result"
    }
   ],
   "source": [
    "empresa1_ajustada.head()"
   ]
  },
  {
   "cell_type": "code",
   "execution_count": null,
   "metadata": {},
   "outputs": [],
   "source": []
  },
  {
   "cell_type": "code",
   "execution_count": null,
   "metadata": {},
   "outputs": [],
   "source": []
  },
  {
   "cell_type": "code",
   "execution_count": 58,
   "metadata": {},
   "outputs": [],
   "source": [
    "cliente_empresa1 = mercado.copy()"
   ]
  },
  {
   "cell_type": "code",
   "execution_count": 59,
   "metadata": {},
   "outputs": [
    {
     "data": {
      "text/plain": [
       "(462298, 181)"
      ]
     },
     "execution_count": 59,
     "metadata": {},
     "output_type": "execute_result"
    }
   ],
   "source": [
    "cliente_empresa1.shape"
   ]
  },
  {
   "cell_type": "code",
   "execution_count": 60,
   "metadata": {
    "scrolled": false
   },
   "outputs": [],
   "source": [
    "cliente_empresa1 = pd.merge(mercado, empresa1_ajustada, on='id', how='outer')"
   ]
  },
  {
   "cell_type": "code",
   "execution_count": 61,
   "metadata": {},
   "outputs": [],
   "source": [
    "cliente_empresa1['Cliente'].fillna(0, inplace=True)"
   ]
  },
  {
   "cell_type": "code",
   "execution_count": 62,
   "metadata": {},
   "outputs": [
    {
     "data": {
      "text/plain": [
       "(462298, 182)"
      ]
     },
     "execution_count": 62,
     "metadata": {},
     "output_type": "execute_result"
    }
   ],
   "source": [
    "cliente_empresa1.shape"
   ]
  },
  {
   "cell_type": "code",
   "execution_count": 55,
   "metadata": {
    "scrolled": true
   },
   "outputs": [
    {
     "data": {
      "text/html": [
       "<div>\n",
       "<style scoped>\n",
       "    .dataframe tbody tr th:only-of-type {\n",
       "        vertical-align: middle;\n",
       "    }\n",
       "\n",
       "    .dataframe tbody tr th {\n",
       "        vertical-align: top;\n",
       "    }\n",
       "\n",
       "    .dataframe thead th {\n",
       "        text-align: right;\n",
       "    }\n",
       "</style>\n",
       "<table border=\"1\" class=\"dataframe\">\n",
       "  <thead>\n",
       "    <tr style=\"text-align: right;\">\n",
       "      <th></th>\n",
       "      <th>id</th>\n",
       "      <th>fl_matriz</th>\n",
       "      <th>de_natureza_juridica</th>\n",
       "      <th>sg_uf</th>\n",
       "      <th>natureza_juridica_macro</th>\n",
       "      <th>de_ramo</th>\n",
       "      <th>setor</th>\n",
       "      <th>idade_empresa_anos</th>\n",
       "      <th>idade_emp_cat</th>\n",
       "      <th>fl_me</th>\n",
       "      <th>...</th>\n",
       "      <th>max_meses_servicos</th>\n",
       "      <th>min_meses_servicos</th>\n",
       "      <th>qt_funcionarios</th>\n",
       "      <th>qt_funcionarios_12meses</th>\n",
       "      <th>qt_funcionarios_24meses</th>\n",
       "      <th>tx_crescimento_12meses</th>\n",
       "      <th>tx_crescimento_24meses</th>\n",
       "      <th>tx_rotatividade</th>\n",
       "      <th>qt_filiais</th>\n",
       "      <th>Cliente</th>\n",
       "    </tr>\n",
       "  </thead>\n",
       "  <tbody>\n",
       "    <tr>\n",
       "      <th>0</th>\n",
       "      <td>a6984c3ae395090e3bee8ad63c3758b110de096d5d8195...</td>\n",
       "      <td>True</td>\n",
       "      <td>SOCIEDADE EMPRESARIA LIMITADA</td>\n",
       "      <td>RN</td>\n",
       "      <td>ENTIDADES EMPRESARIAIS</td>\n",
       "      <td>INDUSTRIA DA CONSTRUCAO</td>\n",
       "      <td>CONSTRUÇÃO CIVIL</td>\n",
       "      <td>14.457534</td>\n",
       "      <td>10 a 15</td>\n",
       "      <td>False</td>\n",
       "      <td>...</td>\n",
       "      <td>93.266667</td>\n",
       "      <td>19.166667</td>\n",
       "      <td>26.0</td>\n",
       "      <td>26.0</td>\n",
       "      <td>27.0</td>\n",
       "      <td>0.0</td>\n",
       "      <td>-3.703704</td>\n",
       "      <td>0.0</td>\n",
       "      <td>0</td>\n",
       "      <td>0.0</td>\n",
       "    </tr>\n",
       "    <tr>\n",
       "      <th>1</th>\n",
       "      <td>6178f41ade1365e44bc2c46654c2c8c0eaae27dcb476c4...</td>\n",
       "      <td>True</td>\n",
       "      <td>EMPRESARIO INDIVIDUAL</td>\n",
       "      <td>PI</td>\n",
       "      <td>OUTROS</td>\n",
       "      <td>SERVICOS DE ALOJAMENTO/ALIMENTACAO</td>\n",
       "      <td>SERVIÇO</td>\n",
       "      <td>1.463014</td>\n",
       "      <td>1 a 5</td>\n",
       "      <td>False</td>\n",
       "      <td>...</td>\n",
       "      <td>NaN</td>\n",
       "      <td>NaN</td>\n",
       "      <td>NaN</td>\n",
       "      <td>NaN</td>\n",
       "      <td>NaN</td>\n",
       "      <td>NaN</td>\n",
       "      <td>NaN</td>\n",
       "      <td>NaN</td>\n",
       "      <td>0</td>\n",
       "      <td>0.0</td>\n",
       "    </tr>\n",
       "    <tr>\n",
       "      <th>2</th>\n",
       "      <td>4a7e5069a397f12fdd7fd57111d6dc5d3ba558958efc02...</td>\n",
       "      <td>True</td>\n",
       "      <td>EMPRESARIO INDIVIDUAL</td>\n",
       "      <td>AM</td>\n",
       "      <td>OUTROS</td>\n",
       "      <td>TRANSPORTE, ARMAZENAGEM E CORREIO</td>\n",
       "      <td>SERVIÇO</td>\n",
       "      <td>7.093151</td>\n",
       "      <td>5 a 10</td>\n",
       "      <td>False</td>\n",
       "      <td>...</td>\n",
       "      <td>NaN</td>\n",
       "      <td>NaN</td>\n",
       "      <td>NaN</td>\n",
       "      <td>NaN</td>\n",
       "      <td>NaN</td>\n",
       "      <td>NaN</td>\n",
       "      <td>NaN</td>\n",
       "      <td>NaN</td>\n",
       "      <td>0</td>\n",
       "      <td>0.0</td>\n",
       "    </tr>\n",
       "    <tr>\n",
       "      <th>3</th>\n",
       "      <td>3348900fe63216a439d2e5238c79ddd46ede454df7b9d8...</td>\n",
       "      <td>True</td>\n",
       "      <td>EMPRESARIO INDIVIDUAL</td>\n",
       "      <td>AM</td>\n",
       "      <td>OUTROS</td>\n",
       "      <td>SERVICOS DIVERSOS</td>\n",
       "      <td>SERVIÇO</td>\n",
       "      <td>6.512329</td>\n",
       "      <td>5 a 10</td>\n",
       "      <td>False</td>\n",
       "      <td>...</td>\n",
       "      <td>NaN</td>\n",
       "      <td>NaN</td>\n",
       "      <td>NaN</td>\n",
       "      <td>NaN</td>\n",
       "      <td>NaN</td>\n",
       "      <td>NaN</td>\n",
       "      <td>NaN</td>\n",
       "      <td>NaN</td>\n",
       "      <td>0</td>\n",
       "      <td>0.0</td>\n",
       "    </tr>\n",
       "    <tr>\n",
       "      <th>4</th>\n",
       "      <td>1f9bcabc9d3173c1fe769899e4fac14b053037b953a1e4...</td>\n",
       "      <td>True</td>\n",
       "      <td>EMPRESARIO INDIVIDUAL</td>\n",
       "      <td>RN</td>\n",
       "      <td>OUTROS</td>\n",
       "      <td>SERVICOS PROFISSIONAIS, TECNICOS E CIENTIFICOS</td>\n",
       "      <td>SERVIÇO</td>\n",
       "      <td>3.200000</td>\n",
       "      <td>1 a 5</td>\n",
       "      <td>False</td>\n",
       "      <td>...</td>\n",
       "      <td>NaN</td>\n",
       "      <td>NaN</td>\n",
       "      <td>NaN</td>\n",
       "      <td>NaN</td>\n",
       "      <td>NaN</td>\n",
       "      <td>NaN</td>\n",
       "      <td>NaN</td>\n",
       "      <td>NaN</td>\n",
       "      <td>0</td>\n",
       "      <td>0.0</td>\n",
       "    </tr>\n",
       "  </tbody>\n",
       "</table>\n",
       "<p>5 rows × 182 columns</p>\n",
       "</div>"
      ],
      "text/plain": [
       "                                                  id  fl_matriz  \\\n",
       "0  a6984c3ae395090e3bee8ad63c3758b110de096d5d8195...       True   \n",
       "1  6178f41ade1365e44bc2c46654c2c8c0eaae27dcb476c4...       True   \n",
       "2  4a7e5069a397f12fdd7fd57111d6dc5d3ba558958efc02...       True   \n",
       "3  3348900fe63216a439d2e5238c79ddd46ede454df7b9d8...       True   \n",
       "4  1f9bcabc9d3173c1fe769899e4fac14b053037b953a1e4...       True   \n",
       "\n",
       "            de_natureza_juridica sg_uf natureza_juridica_macro  \\\n",
       "0  SOCIEDADE EMPRESARIA LIMITADA    RN  ENTIDADES EMPRESARIAIS   \n",
       "1          EMPRESARIO INDIVIDUAL    PI                  OUTROS   \n",
       "2          EMPRESARIO INDIVIDUAL    AM                  OUTROS   \n",
       "3          EMPRESARIO INDIVIDUAL    AM                  OUTROS   \n",
       "4          EMPRESARIO INDIVIDUAL    RN                  OUTROS   \n",
       "\n",
       "                                          de_ramo             setor  \\\n",
       "0                         INDUSTRIA DA CONSTRUCAO  CONSTRUÇÃO CIVIL   \n",
       "1              SERVICOS DE ALOJAMENTO/ALIMENTACAO           SERVIÇO   \n",
       "2               TRANSPORTE, ARMAZENAGEM E CORREIO           SERVIÇO   \n",
       "3                               SERVICOS DIVERSOS           SERVIÇO   \n",
       "4  SERVICOS PROFISSIONAIS, TECNICOS E CIENTIFICOS           SERVIÇO   \n",
       "\n",
       "   idade_empresa_anos idade_emp_cat  fl_me  ...  max_meses_servicos  \\\n",
       "0           14.457534       10 a 15  False  ...           93.266667   \n",
       "1            1.463014         1 a 5  False  ...                 NaN   \n",
       "2            7.093151        5 a 10  False  ...                 NaN   \n",
       "3            6.512329        5 a 10  False  ...                 NaN   \n",
       "4            3.200000         1 a 5  False  ...                 NaN   \n",
       "\n",
       "   min_meses_servicos  qt_funcionarios  qt_funcionarios_12meses  \\\n",
       "0           19.166667             26.0                     26.0   \n",
       "1                 NaN              NaN                      NaN   \n",
       "2                 NaN              NaN                      NaN   \n",
       "3                 NaN              NaN                      NaN   \n",
       "4                 NaN              NaN                      NaN   \n",
       "\n",
       "  qt_funcionarios_24meses  tx_crescimento_12meses  tx_crescimento_24meses  \\\n",
       "0                    27.0                     0.0               -3.703704   \n",
       "1                     NaN                     NaN                     NaN   \n",
       "2                     NaN                     NaN                     NaN   \n",
       "3                     NaN                     NaN                     NaN   \n",
       "4                     NaN                     NaN                     NaN   \n",
       "\n",
       "   tx_rotatividade qt_filiais Cliente  \n",
       "0              0.0          0     0.0  \n",
       "1              NaN          0     0.0  \n",
       "2              NaN          0     0.0  \n",
       "3              NaN          0     0.0  \n",
       "4              NaN          0     0.0  \n",
       "\n",
       "[5 rows x 182 columns]"
      ]
     },
     "execution_count": 55,
     "metadata": {},
     "output_type": "execute_result"
    }
   ],
   "source": [
    "cliente_empresa1.head()"
   ]
  },
  {
   "cell_type": "code",
   "execution_count": 39,
   "metadata": {},
   "outputs": [],
   "source": [
    "numeric_features = cliente_empresa1.select_dtypes(include=[np.number])"
   ]
  },
  {
   "cell_type": "code",
   "execution_count": 40,
   "metadata": {},
   "outputs": [
    {
     "data": {
      "text/plain": [
       "(462298, 146)"
      ]
     },
     "execution_count": 40,
     "metadata": {},
     "output_type": "execute_result"
    }
   ],
   "source": [
    "numeric_features.shape"
   ]
  },
  {
   "cell_type": "code",
   "execution_count": 41,
   "metadata": {},
   "outputs": [
    {
     "name": "stdout",
     "output_type": "stream",
     "text": [
      "Cliente                             1.000000\n",
      "percent_func_genero_fem             0.003998\n",
      "qt_socios_st_suspensa               0.002023\n",
      "qt_coligados_comercio               0.001844\n",
      "min_faturamento_est_coligados_gp    0.001315\n",
      "qt_socios_feminino                  0.000739\n",
      "idade_empresa_anos                  0.000687\n",
      "nu_meses_rescencia                  0.000339\n",
      "tx_rotatividade                     0.000315\n",
      "min_faturamento_est_coligados       0.000234\n",
      "tx_crescimento_24meses              0.000116\n",
      "min_meses_servicos                  0.000091\n",
      "min_filiais_coligados               0.000053\n",
      "min_funcionarios_coligados_gp      -0.000074\n",
      "min_vl_folha_coligados_gp          -0.000176\n",
      "Name: Cliente, dtype: float64 \n",
      "\n",
      "qt_alteracao_socio_90d              NaN\n",
      "qt_alteracao_socio_180d             NaN\n",
      "qt_alteracao_socio_365d             NaN\n",
      "qt_coligados_nula                   NaN\n",
      "qt_coligados_atividade_alto         NaN\n",
      "qt_coligados_atividade_medio        NaN\n",
      "qt_coligados_atividade_baixo        NaN\n",
      "qt_coligados_atividade_mt_baixo     NaN\n",
      "qt_coligados_atividade_inativo      NaN\n",
      "grau_instrucao_macro_desconhecido   NaN\n",
      "Name: Cliente, dtype: float64\n"
     ]
    }
   ],
   "source": [
    "corr = numeric_features.corr()\n",
    "print (corr['Cliente'].sort_values(ascending=False)[:15], '\\n')\n",
    "print (corr['Cliente'].sort_values(ascending=False)[-10:])"
   ]
  },
  {
   "cell_type": "code",
   "execution_count": null,
   "metadata": {},
   "outputs": [],
   "source": []
  }
 ],
 "metadata": {
  "kernelspec": {
   "display_name": "Python 3",
   "language": "python",
   "name": "python3"
  },
  "language_info": {
   "codemirror_mode": {
    "name": "ipython",
    "version": 3
   },
   "file_extension": ".py",
   "mimetype": "text/x-python",
   "name": "python",
   "nbconvert_exporter": "python",
   "pygments_lexer": "ipython3",
   "version": "3.7.3"
  }
 },
 "nbformat": 4,
 "nbformat_minor": 2
}
