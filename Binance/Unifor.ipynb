{
 "cells": [
  {
   "cell_type": "code",
   "execution_count": 1,
   "id": "2a1c162b",
   "metadata": {},
   "outputs": [],
   "source": [
    "# !pip install python-binance\n",
    "# !pip install python-dotenv\n",
    "# !pip install pandas_ta"
   ]
  },
  {
   "cell_type": "markdown",
   "id": "aaed5c59",
   "metadata": {},
   "source": [
    "## Importações"
   ]
  },
  {
   "cell_type": "code",
   "execution_count": 2,
   "id": "9f0f388b",
   "metadata": {},
   "outputs": [],
   "source": [
    "from binance.client import Client\n",
    "import pandas as pd\n",
    "from dotenv import load_dotenv\n",
    "import os\n",
    "import pandas_ta as ta\n",
    "import matplotlib.pyplot as plt"
   ]
  },
  {
   "cell_type": "code",
   "execution_count": 3,
   "id": "bbe9c97d",
   "metadata": {},
   "outputs": [],
   "source": [
    "from sklearn.preprocessing import StandardScaler\n",
    "from sklearn.model_selection import train_test_split, GridSearchCV\n",
    "from sklearn.ensemble import RandomForestClassifier\n",
    "from sklearn.metrics import classification_report, confusion_matrix, accuracy_score\n",
    "import joblib"
   ]
  },
  {
   "cell_type": "code",
   "execution_count": 4,
   "id": "b932cd53",
   "metadata": {},
   "outputs": [],
   "source": [
    "load_dotenv()\n",
    "\n",
    "API_KEY = os.getenv(\"API_KEY\")\n",
    "API_SECRET = os.getenv(\"API_SECRET\")"
   ]
  },
  {
   "cell_type": "markdown",
   "id": "17e0997e",
   "metadata": {},
   "source": [
    "## Verificando as Chaves"
   ]
  },
  {
   "cell_type": "code",
   "execution_count": 5,
   "id": "0c126c16",
   "metadata": {},
   "outputs": [],
   "source": [
    "if not API_KEY or not API_SECRET:\n",
    "    print(\"Erro: As chaves API_KEY ou API_SECRET não foram carregadas do arquivo .env.\")\n",
    "    print(\"Verifique se o arquivo .env existe na mesma pasta e se as variáveis estão corretas.\")\n",
    "    exit()"
   ]
  },
  {
   "cell_type": "markdown",
   "id": "e8d8ca54",
   "metadata": {},
   "source": [
    "## Inicializando Cliente"
   ]
  },
  {
   "cell_type": "code",
   "execution_count": 7,
   "id": "4b560ec3",
   "metadata": {},
   "outputs": [
    {
     "name": "stdout",
     "output_type": "stream",
     "text": [
      "Conexão com a Binance estabelecida com sucesso!\n"
     ]
    }
   ],
   "source": [
    "try:\n",
    "    client = Client(API_KEY, API_SECRET)\n",
    "    print(\"Conexão com a Binance estabelecida com sucesso!\")\n",
    "except Exception as e:\n",
    "    print(f\"Erro ao conectar com a Binance: {e}\")\n",
    "    print(\"Verifique suas chaves de API e sua conexão com a internet.\")\n",
    "    exit()"
   ]
  },
  {
   "cell_type": "code",
   "execution_count": 8,
   "id": "5fce03e1",
   "metadata": {},
   "outputs": [
    {
     "name": "stdout",
     "output_type": "stream",
     "text": [
      "\n",
      "Buscando os últimos 2000 candlesticks de BTCUSDT no intervalo de 1h...\n"
     ]
    }
   ],
   "source": [
    "symbol = 'BTCUSDT'\n",
    "interval = '1h'\n",
    "limit = 2000\n",
    "\n",
    "print(f\"\\nBuscando os últimos {limit} candlesticks de {symbol} no intervalo de {interval}...\")"
   ]
  },
  {
   "cell_type": "markdown",
   "id": "8251aecd",
   "metadata": {},
   "source": [
    "## Dados"
   ]
  },
  {
   "cell_type": "code",
   "execution_count": 9,
   "id": "c7aef185",
   "metadata": {},
   "outputs": [],
   "source": [
    "klines = client.get_historical_klines(symbol, interval, limit=limit)"
   ]
  },
  {
   "cell_type": "code",
   "execution_count": 10,
   "id": "ee59ac50",
   "metadata": {},
   "outputs": [],
   "source": [
    "data = []\n",
    "for kline in klines:\n",
    "    data.append({\n",
    "        'timestamp': kline[0],\n",
    "        'open': float(kline[1]),\n",
    "        'high': float(kline[2]),\n",
    "        'low': float(kline[3]),\n",
    "        'close': float(kline[4]),\n",
    "        'volume': float(kline[5])\n",
    "    })\n",
    "\n",
    "df = pd.DataFrame(data)\n",
    "df['timestamp'] = pd.to_datetime(df['timestamp'], unit='ms')\n",
    "df.set_index('timestamp', inplace=True)\n",
    "\n",
    "df_original_cols = df.copy() # Cópia para ter os preços originais\n",
    "df.columns = ['Open', 'High', 'Low', 'Close', 'Volume'] # Renomeia para pandas_ta\n"
   ]
  },
  {
   "cell_type": "code",
   "execution_count": 11,
   "id": "693fda24",
   "metadata": {},
   "outputs": [
    {
     "data": {
      "text/html": [
       "<div>\n",
       "<style scoped>\n",
       "    .dataframe tbody tr th:only-of-type {\n",
       "        vertical-align: middle;\n",
       "    }\n",
       "\n",
       "    .dataframe tbody tr th {\n",
       "        vertical-align: top;\n",
       "    }\n",
       "\n",
       "    .dataframe thead th {\n",
       "        text-align: right;\n",
       "    }\n",
       "</style>\n",
       "<table border=\"1\" class=\"dataframe\">\n",
       "  <thead>\n",
       "    <tr style=\"text-align: right;\">\n",
       "      <th></th>\n",
       "      <th>Open</th>\n",
       "      <th>High</th>\n",
       "      <th>Low</th>\n",
       "      <th>Close</th>\n",
       "      <th>Volume</th>\n",
       "    </tr>\n",
       "    <tr>\n",
       "      <th>timestamp</th>\n",
       "      <th></th>\n",
       "      <th></th>\n",
       "      <th></th>\n",
       "      <th></th>\n",
       "      <th></th>\n",
       "    </tr>\n",
       "  </thead>\n",
       "  <tbody>\n",
       "    <tr>\n",
       "      <th>2025-06-28 03:00:00</th>\n",
       "      <td>107110.01</td>\n",
       "      <td>107347.10</td>\n",
       "      <td>107080.27</td>\n",
       "      <td>107300.13</td>\n",
       "      <td>142.29084</td>\n",
       "    </tr>\n",
       "    <tr>\n",
       "      <th>2025-06-28 04:00:00</th>\n",
       "      <td>107300.13</td>\n",
       "      <td>107310.90</td>\n",
       "      <td>107183.29</td>\n",
       "      <td>107191.19</td>\n",
       "      <td>92.66137</td>\n",
       "    </tr>\n",
       "    <tr>\n",
       "      <th>2025-06-28 05:00:00</th>\n",
       "      <td>107191.20</td>\n",
       "      <td>107317.00</td>\n",
       "      <td>107185.32</td>\n",
       "      <td>107294.80</td>\n",
       "      <td>127.55204</td>\n",
       "    </tr>\n",
       "    <tr>\n",
       "      <th>2025-06-28 06:00:00</th>\n",
       "      <td>107294.81</td>\n",
       "      <td>107449.07</td>\n",
       "      <td>107294.80</td>\n",
       "      <td>107412.07</td>\n",
       "      <td>119.62237</td>\n",
       "    </tr>\n",
       "    <tr>\n",
       "      <th>2025-06-28 07:00:00</th>\n",
       "      <td>107412.07</td>\n",
       "      <td>107496.12</td>\n",
       "      <td>107400.68</td>\n",
       "      <td>107485.00</td>\n",
       "      <td>157.78581</td>\n",
       "    </tr>\n",
       "  </tbody>\n",
       "</table>\n",
       "</div>"
      ],
      "text/plain": [
       "                          Open       High        Low      Close     Volume\n",
       "timestamp                                                                 \n",
       "2025-06-28 03:00:00  107110.01  107347.10  107080.27  107300.13  142.29084\n",
       "2025-06-28 04:00:00  107300.13  107310.90  107183.29  107191.19   92.66137\n",
       "2025-06-28 05:00:00  107191.20  107317.00  107185.32  107294.80  127.55204\n",
       "2025-06-28 06:00:00  107294.81  107449.07  107294.80  107412.07  119.62237\n",
       "2025-06-28 07:00:00  107412.07  107496.12  107400.68  107485.00  157.78581"
      ]
     },
     "execution_count": 11,
     "metadata": {},
     "output_type": "execute_result"
    }
   ],
   "source": [
    "df.head()"
   ]
  },
  {
   "cell_type": "markdown",
   "id": "8143f0f9",
   "metadata": {},
   "source": [
    "## Indicadores Técnicos"
   ]
  },
  {
   "cell_type": "code",
   "execution_count": 13,
   "id": "651c8d56",
   "metadata": {},
   "outputs": [
    {
     "data": {
      "text/plain": [
       "timestamp\n",
       "2025-06-28 03:00:00          NaN\n",
       "2025-06-28 04:00:00          NaN\n",
       "2025-06-28 05:00:00          NaN\n",
       "2025-06-28 06:00:00          NaN\n",
       "2025-06-28 07:00:00          NaN\n",
       "                         ...    \n",
       "2025-08-08 14:00:00    49.625905\n",
       "2025-08-08 15:00:00    45.700194\n",
       "2025-08-08 16:00:00    45.508152\n",
       "2025-08-08 17:00:00    53.259410\n",
       "2025-08-08 18:00:00    52.217658\n",
       "Name: RSI_14, Length: 1000, dtype: float64"
      ]
     },
     "execution_count": 13,
     "metadata": {},
     "output_type": "execute_result"
    }
   ],
   "source": [
    "df.ta.sma(length=20, append=True)\n",
    "df.ta.bbands(append=True)\n",
    "df.ta.rsi(length=14, append=True)\n"
   ]
  },
  {
   "cell_type": "markdown",
   "id": "fdb272e2",
   "metadata": {},
   "source": [
    "## Tratamento de Valores Nulos"
   ]
  },
  {
   "cell_type": "code",
   "execution_count": 14,
   "id": "6ab7d1fb",
   "metadata": {},
   "outputs": [],
   "source": [
    "initial_rows_before_nan = len(df)\n",
    "df.dropna(inplace=True)\n",
    "final_rows_after_nan = len(df)"
   ]
  },
  {
   "cell_type": "markdown",
   "id": "48d66f05",
   "metadata": {},
   "source": [
    "## Criando os labels de Comprar/Vender/Manter"
   ]
  },
  {
   "cell_type": "code",
   "execution_count": 15,
   "id": "28e7e394",
   "metadata": {},
   "outputs": [],
   "source": [
    "look_forward_period = 5\n",
    "price_change_threshold = 0.005\n",
    "\n",
    "df['future_close'] = df['Close'].shift(-look_forward_period)\n",
    "df['price_change'] = (df['future_close'] - df['Close']) / df['Close']\n",
    "\n",
    "def get_label(change, threshold):\n",
    "    if change > threshold:\n",
    "        return 1\n",
    "    elif change < -threshold:\n",
    "        return -1\n",
    "    else:\n",
    "        return 0\n",
    "\n",
    "df['label'] = df['price_change'].apply(lambda x: get_label(x, price_change_threshold))\n",
    "\n",
    "df.drop(columns=['future_close', 'price_change'], inplace=True)\n",
    "df.dropna(inplace=True)"
   ]
  },
  {
   "cell_type": "code",
   "execution_count": 16,
   "id": "d8dfb0f3",
   "metadata": {},
   "outputs": [
    {
     "data": {
      "text/html": [
       "<div>\n",
       "<style scoped>\n",
       "    .dataframe tbody tr th:only-of-type {\n",
       "        vertical-align: middle;\n",
       "    }\n",
       "\n",
       "    .dataframe tbody tr th {\n",
       "        vertical-align: top;\n",
       "    }\n",
       "\n",
       "    .dataframe thead th {\n",
       "        text-align: right;\n",
       "    }\n",
       "</style>\n",
       "<table border=\"1\" class=\"dataframe\">\n",
       "  <thead>\n",
       "    <tr style=\"text-align: right;\">\n",
       "      <th></th>\n",
       "      <th>Open</th>\n",
       "      <th>High</th>\n",
       "      <th>Low</th>\n",
       "      <th>Close</th>\n",
       "      <th>Volume</th>\n",
       "      <th>SMA_20</th>\n",
       "      <th>BBL_5_2.0</th>\n",
       "      <th>BBM_5_2.0</th>\n",
       "      <th>BBU_5_2.0</th>\n",
       "      <th>BBB_5_2.0</th>\n",
       "      <th>BBP_5_2.0</th>\n",
       "      <th>RSI_14</th>\n",
       "      <th>label</th>\n",
       "    </tr>\n",
       "    <tr>\n",
       "      <th>timestamp</th>\n",
       "      <th></th>\n",
       "      <th></th>\n",
       "      <th></th>\n",
       "      <th></th>\n",
       "      <th></th>\n",
       "      <th></th>\n",
       "      <th></th>\n",
       "      <th></th>\n",
       "      <th></th>\n",
       "      <th></th>\n",
       "      <th></th>\n",
       "      <th></th>\n",
       "      <th></th>\n",
       "    </tr>\n",
       "  </thead>\n",
       "  <tbody>\n",
       "    <tr>\n",
       "      <th>2025-06-28 22:00:00</th>\n",
       "      <td>107331.37</td>\n",
       "      <td>107378.37</td>\n",
       "      <td>107257.09</td>\n",
       "      <td>107370.61</td>\n",
       "      <td>141.59714</td>\n",
       "      <td>107314.6190</td>\n",
       "      <td>107135.002597</td>\n",
       "      <td>107283.050</td>\n",
       "      <td>107431.097403</td>\n",
       "      <td>0.275994</td>\n",
       "      <td>0.795716</td>\n",
       "      <td>52.726745</td>\n",
       "      <td>0</td>\n",
       "    </tr>\n",
       "    <tr>\n",
       "      <th>2025-06-28 23:00:00</th>\n",
       "      <td>107370.61</td>\n",
       "      <td>107370.62</td>\n",
       "      <td>107282.72</td>\n",
       "      <td>107296.79</td>\n",
       "      <td>75.06468</td>\n",
       "      <td>107314.4520</td>\n",
       "      <td>107133.825644</td>\n",
       "      <td>107278.808</td>\n",
       "      <td>107423.790356</td>\n",
       "      <td>0.270291</td>\n",
       "      <td>0.562014</td>\n",
       "      <td>49.494623</td>\n",
       "      <td>0</td>\n",
       "    </tr>\n",
       "    <tr>\n",
       "      <th>2025-06-29 00:00:00</th>\n",
       "      <td>107296.79</td>\n",
       "      <td>107500.00</td>\n",
       "      <td>107254.16</td>\n",
       "      <td>107475.92</td>\n",
       "      <td>216.23676</td>\n",
       "      <td>107328.6885</td>\n",
       "      <td>107129.256875</td>\n",
       "      <td>107328.844</td>\n",
       "      <td>107528.431125</td>\n",
       "      <td>0.371917</td>\n",
       "      <td>0.868451</td>\n",
       "      <td>56.468018</td>\n",
       "      <td>0</td>\n",
       "    </tr>\n",
       "    <tr>\n",
       "      <th>2025-06-29 01:00:00</th>\n",
       "      <td>107475.91</td>\n",
       "      <td>107475.92</td>\n",
       "      <td>107310.53</td>\n",
       "      <td>107311.00</td>\n",
       "      <td>101.25733</td>\n",
       "      <td>107329.4985</td>\n",
       "      <td>107228.377493</td>\n",
       "      <td>107357.140</td>\n",
       "      <td>107485.902507</td>\n",
       "      <td>0.239877</td>\n",
       "      <td>0.320833</td>\n",
       "      <td>49.668510</td>\n",
       "      <td>0</td>\n",
       "    </tr>\n",
       "    <tr>\n",
       "      <th>2025-06-29 02:00:00</th>\n",
       "      <td>107311.00</td>\n",
       "      <td>107355.06</td>\n",
       "      <td>107172.52</td>\n",
       "      <td>107307.48</td>\n",
       "      <td>143.34108</td>\n",
       "      <td>107324.2690</td>\n",
       "      <td>107218.455482</td>\n",
       "      <td>107352.360</td>\n",
       "      <td>107486.264518</td>\n",
       "      <td>0.249467</td>\n",
       "      <td>0.332418</td>\n",
       "      <td>49.531419</td>\n",
       "      <td>0</td>\n",
       "    </tr>\n",
       "  </tbody>\n",
       "</table>\n",
       "</div>"
      ],
      "text/plain": [
       "                          Open       High        Low      Close     Volume  \\\n",
       "timestamp                                                                    \n",
       "2025-06-28 22:00:00  107331.37  107378.37  107257.09  107370.61  141.59714   \n",
       "2025-06-28 23:00:00  107370.61  107370.62  107282.72  107296.79   75.06468   \n",
       "2025-06-29 00:00:00  107296.79  107500.00  107254.16  107475.92  216.23676   \n",
       "2025-06-29 01:00:00  107475.91  107475.92  107310.53  107311.00  101.25733   \n",
       "2025-06-29 02:00:00  107311.00  107355.06  107172.52  107307.48  143.34108   \n",
       "\n",
       "                          SMA_20      BBL_5_2.0   BBM_5_2.0      BBU_5_2.0  \\\n",
       "timestamp                                                                    \n",
       "2025-06-28 22:00:00  107314.6190  107135.002597  107283.050  107431.097403   \n",
       "2025-06-28 23:00:00  107314.4520  107133.825644  107278.808  107423.790356   \n",
       "2025-06-29 00:00:00  107328.6885  107129.256875  107328.844  107528.431125   \n",
       "2025-06-29 01:00:00  107329.4985  107228.377493  107357.140  107485.902507   \n",
       "2025-06-29 02:00:00  107324.2690  107218.455482  107352.360  107486.264518   \n",
       "\n",
       "                     BBB_5_2.0  BBP_5_2.0     RSI_14  label  \n",
       "timestamp                                                    \n",
       "2025-06-28 22:00:00   0.275994   0.795716  52.726745      0  \n",
       "2025-06-28 23:00:00   0.270291   0.562014  49.494623      0  \n",
       "2025-06-29 00:00:00   0.371917   0.868451  56.468018      0  \n",
       "2025-06-29 01:00:00   0.239877   0.320833  49.668510      0  \n",
       "2025-06-29 02:00:00   0.249467   0.332418  49.531419      0  "
      ]
     },
     "execution_count": 16,
     "metadata": {},
     "output_type": "execute_result"
    }
   ],
   "source": [
    "df.head()"
   ]
  },
  {
   "cell_type": "markdown",
   "id": "9cbc69ba",
   "metadata": {},
   "source": [
    "## Criando X e y"
   ]
  },
  {
   "cell_type": "code",
   "execution_count": 17,
   "id": "f1c8d84e",
   "metadata": {},
   "outputs": [],
   "source": [
    "X = df.drop(columns=['label'])\n",
    "y = df['label']"
   ]
  },
  {
   "cell_type": "markdown",
   "id": "664b4de5",
   "metadata": {},
   "source": [
    "## Escalonando"
   ]
  },
  {
   "cell_type": "code",
   "execution_count": 18,
   "id": "a3e6ad22",
   "metadata": {},
   "outputs": [
    {
     "data": {
      "text/plain": [
       "['scaler.pkl']"
      ]
     },
     "execution_count": 18,
     "metadata": {},
     "output_type": "execute_result"
    }
   ],
   "source": [
    "features_to_scale_final = X.columns.tolist()\n",
    "scaler = StandardScaler()\n",
    "X_scaled = pd.DataFrame(scaler.fit_transform(X[features_to_scale_final]),\n",
    "                        columns=features_to_scale_final,\n",
    "                        index=X.index)\n",
    "joblib.dump(scaler, 'scaler.pkl')"
   ]
  },
  {
   "cell_type": "markdown",
   "id": "dab04995",
   "metadata": {},
   "source": [
    "## Treino e Teste"
   ]
  },
  {
   "cell_type": "code",
   "execution_count": 19,
   "id": "82c806fd",
   "metadata": {},
   "outputs": [],
   "source": [
    "X_train, X_test, y_train, y_test = train_test_split(X_scaled, y, test_size=0.20, random_state=42, stratify=y)"
   ]
  },
  {
   "cell_type": "markdown",
   "id": "c1ab9dbf",
   "metadata": {},
   "source": [
    "## Otimização do modelo com GridSearchCV"
   ]
  },
  {
   "cell_type": "code",
   "execution_count": 51,
   "id": "4a31d8a2",
   "metadata": {},
   "outputs": [
    {
     "data": {
      "text/plain": [
       "['modelo_random_forest_otimizado.pkl']"
      ]
     },
     "execution_count": 51,
     "metadata": {},
     "output_type": "execute_result"
    }
   ],
   "source": [
    "rf_model = RandomForestClassifier(random_state=42, class_weight='balanced')\n",
    "param_grid = {\n",
    "    'n_estimators': [50, 100], \n",
    "    'max_depth': [10, 20],\n",
    "     'min_samples_leaf': [1, 5, 10]\n",
    "}\n",
    "grid_search = GridSearchCV(estimator=rf_model, param_grid=param_grid, cv=3, scoring='f1_weighted', verbose=0, n_jobs=-1) # Reduzindo cv e verbose\n",
    "grid_search.fit(X_train, y_train)\n",
    "best_model = grid_search.best_estimator_\n",
    "joblib.dump(best_model, 'modelo_random_forest_otimizado.pkl')"
   ]
  },
  {
   "cell_type": "markdown",
   "id": "7c70f9ee",
   "metadata": {},
   "source": [
    "## valiação do Melhor Modelo"
   ]
  },
  {
   "cell_type": "code",
   "execution_count": 52,
   "id": "0ff84df1",
   "metadata": {},
   "outputs": [
    {
     "name": "stdout",
     "output_type": "stream",
     "text": [
      "\n",
      "Acurácia do modelo otimizado no conjunto de teste: 0.6548\n",
      "\n",
      "Relatório de Classificação do Modelo Otimizado:\n",
      "              precision    recall  f1-score   support\n",
      "\n",
      "          -1       0.50      0.22      0.30        32\n",
      "           0       0.70      0.88      0.78       129\n",
      "           1       0.43      0.25      0.32        36\n",
      "\n",
      "    accuracy                           0.65       197\n",
      "   macro avg       0.54      0.45      0.47       197\n",
      "weighted avg       0.62      0.65      0.62       197\n",
      "\n",
      "\n",
      "Matriz de Confusão do Modelo Otimizado:\n"
     ]
    }
   ],
   "source": [
    "loaded_scaler = joblib.load('scaler.pkl')\n",
    "loaded_model = joblib.load('modelo_random_forest_otimizado.pkl')\n",
    "\n",
    "y_pred_optimized = loaded_model.predict(X_test)\n",
    "accuracy_optimized = accuracy_score(y_test, y_pred_optimized)\n",
    "print(f\"\\nAcurácia do modelo otimizado no conjunto de teste: {accuracy_optimized:.4f}\")\n",
    "print(\"\\nRelatório de Classificação do Modelo Otimizado:\")\n",
    "print(classification_report(y_test, y_pred_optimized))\n",
    "print(\"\\nMatriz de Confusão do Modelo Otimizado:\")\n",
    "cm_optimized = confusion_matrix(y_test, y_pred_optimized)"
   ]
  },
  {
   "cell_type": "markdown",
   "id": "3aa1dac6",
   "metadata": {},
   "source": [
    "## Backtesting"
   ]
  },
  {
   "cell_type": "code",
   "execution_count": 53,
   "id": "b5f0e2fe",
   "metadata": {},
   "outputs": [
    {
     "name": "stdout",
     "output_type": "stream",
     "text": [
      "Capital inicial: 10000.00 USDT\n"
     ]
    }
   ],
   "source": [
    "initial_capital = 10000.0 # Capital inicial em USDT\n",
    "position_size_percentage = 0.95 # % do capital para alocar em cada trade (ex: 95%)\n",
    "commission_rate = 0.001 # Taxa de comissão da Binance (0.1% para maker/taker)\n",
    "\n",
    "backtest_df = df.loc[X_test.index].copy() # Pega apenas as linhas que estão no X_test\n",
    "backtest_df['predicted_label'] = y_pred_optimized # Adiciona as previsões do modelo\n",
    "backtest_df['true_label'] = y_test # Adiciona os labels reais para comparação\n",
    "\n",
    "capital = initial_capital\n",
    "position = 0.0 # Quantidade do ativo base que temos (ex: BTC)\n",
    "in_position = False # Flag para saber se estamos comprados\n",
    "\n",
    "trade_log = [] # Para registrar os trades\n",
    "\n",
    "print(f\"Capital inicial: {capital:.2f} USDT\")"
   ]
  },
  {
   "cell_type": "code",
   "execution_count": 54,
   "id": "b97ca5b7",
   "metadata": {},
   "outputs": [],
   "source": [
    "for index, row in backtest_df.iterrows():\n",
    "    current_price = row['Close'] # Preço de fechamento real do candle\n",
    "    prediction = row['predicted_label'] # Previsão do nosso modelo\n",
    "\n",
    "    # Lógica de Compra\n",
    "    if prediction == 1 and not in_position: # Se o modelo previu \"comprar\" e não estamos em posição\n",
    "        amount_to_buy_usdt = capital * position_size_percentage\n",
    "        if amount_to_buy_usdt > 0:\n",
    "            qty_to_buy = amount_to_buy_usdt / current_price\n",
    "            commission_cost = qty_to_buy * current_price * commission_rate\n",
    "            \n",
    "            capital -= (qty_to_buy * current_price) + commission_cost\n",
    "            position += qty_to_buy\n",
    "            in_position = True\n",
    "            \n",
    "            trade_log.append({\n",
    "                'timestamp': index,\n",
    "                'type': 'BUY',\n",
    "                'price': current_price,\n",
    "                'qty': qty_to_buy,\n",
    "                'commission': commission_cost,\n",
    "                'capital_after_trade': capital,\n",
    "                'position_after_trade': position\n",
    "            })\n",
    "            # print(f\"{index}: BUY @ {current_price:.2f} | Capital: {capital:.2f} | Pos: {position:.4f}\")\n",
    "\n",
    "    # Lógica de Venda\n",
    "    elif prediction == -1 and in_position: # Se o modelo previu \"vender\" e estamos em posição\n",
    "        commission_cost = position * current_price * commission_rate\n",
    "        \n",
    "        capital += (position * current_price) - commission_cost\n",
    "        position = 0.0\n",
    "        in_position = False\n",
    "        \n",
    "        trade_log.append({\n",
    "            'timestamp': index,\n",
    "            'type': 'SELL',\n",
    "            'price': current_price,\n",
    "            'qty': position, # Qtde vendida é a que tínhamos\n",
    "            'commission': commission_cost,\n",
    "            'capital_after_trade': capital,\n",
    "            'position_after_trade': position\n",
    "        })       "
   ]
  },
  {
   "cell_type": "code",
   "execution_count": 55,
   "id": "143e3e6b",
   "metadata": {},
   "outputs": [
    {
     "name": "stdout",
     "output_type": "stream",
     "text": [
      "Venda final da posição no último preço: 116543.58\n",
      "\n",
      "--- Resultados do Backtest ---\n",
      "Capital inicial: 10000.00 USDT\n",
      "Capital final: 12072.89 USDT\n",
      "Lucro/Prejuízo: 2072.89 USDT\n",
      "Retorno percentual: 20.73%\n",
      "Número total de trades: 17\n"
     ]
    }
   ],
   "source": [
    "if in_position:\n",
    "    commission_cost = position * backtest_df.iloc[-1]['Close'] * commission_rate\n",
    "    capital += (position * backtest_df.iloc[-1]['Close']) - commission_cost\n",
    "    position = 0.0\n",
    "    print(f\"Venda final da posição no último preço: {backtest_df.iloc[-1]['Close']:.2f}\")\n",
    "\n",
    "final_capital = capital\n",
    "profit_loss_usd = final_capital - initial_capital\n",
    "profit_loss_percent = (profit_loss_usd / initial_capital) * 100\n",
    "\n",
    "print(\"\\n--- Resultados do Backtest ---\")\n",
    "print(f\"Capital inicial: {initial_capital:.2f} USDT\")\n",
    "print(f\"Capital final: {final_capital:.2f} USDT\")\n",
    "print(f\"Lucro/Prejuízo: {profit_loss_usd:.2f} USDT\")\n",
    "print(f\"Retorno percentual: {profit_loss_percent:.2f}%\")\n",
    "print(f\"Número total de trades: {len(trade_log)}\")\n"
   ]
  },
  {
   "cell_type": "code",
   "execution_count": 56,
   "id": "bff92949",
   "metadata": {},
   "outputs": [
    {
     "data": {
      "image/png": "[encoded data removed]",
      "text/plain": [
       "<Figure size 1200x600 with 1 Axes>"
      ]
     },
     "metadata": {},
     "output_type": "display_data"
    }
   ],
   "source": [
    "if len(trade_log) > 0:\n",
    "    trade_df = pd.DataFrame(trade_log)\n",
    "    trade_df.set_index('timestamp', inplace=True)\n",
    "    \n",
    "    # Para visualizar a evolução do capital, precisamos preencher entre os trades\n",
    "    # Criar uma série para o capital ao longo do tempo\n",
    "    capital_history = pd.Series(index=backtest_df.index, dtype=float)\n",
    "    current_capital_viz = initial_capital\n",
    "    current_position_viz = 0.0\n",
    "    \n",
    "    for index_df, row_df in backtest_df.iterrows():\n",
    "        # Se houve trade nesse timestamp, atualiza o capital e posição\n",
    "        trade_at_ts = trade_df[trade_df.index == index_df]\n",
    "        if not trade_at_ts.empty:\n",
    "            current_capital_viz = trade_at_ts.iloc[0]['capital_after_trade']\n",
    "            current_position_viz = trade_at_ts.iloc[0]['position_after_trade']\n",
    "            \n",
    "        # Calcula o valor total do portfólio (capital + valor da posição)\n",
    "        portfolio_value = current_capital_viz + (current_position_viz * row_df['Close'])\n",
    "        capital_history.loc[index_df] = portfolio_value\n",
    "        \n",
    "    plt.figure(figsize=(12, 6))\n",
    "    capital_history.plot(title=f'Evolução do Capital no Backtest ({symbol})')\n",
    "    plt.xlabel('Data/Hora')\n",
    "    plt.ylabel('Capital (USDT)')\n",
    "    plt.grid(True)\n",
    "    plt.show()\n",
    "else:\n",
    "    print(\"Nenhum trade foi executado durante o backtest.\")"
   ]
  },
  {
   "cell_type": "code",
   "execution_count": null,
   "id": "d3dfb1e1",
   "metadata": {},
   "outputs": [],
   "source": []
  }
 ],
 "metadata": {
  "kernelspec": {
   "display_name": "Python 3 (ipykernel)",
   "language": "python",
   "name": "python3"
  },
  "language_info": {
   "codemirror_mode": {
    "name": "ipython",
    "version": 3
   },
   "file_extension": ".py",
   "mimetype": "text/x-python",
   "name": "python",
   "nbconvert_exporter": "python",
   "pygments_lexer": "ipython3",
   "version": "3.9.13"
  }
 },
 "nbformat": 4,
 "nbformat_minor": 5
}
