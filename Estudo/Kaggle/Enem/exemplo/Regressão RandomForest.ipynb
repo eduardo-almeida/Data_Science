{
 "cells": [
  {
   "cell_type": "code",
   "execution_count": 1,
   "metadata": {},
   "outputs": [],
   "source": [
    "# Importar as bibliotecas a serem usadas\n",
    "import pandas as pd\n",
    "import numpy as np\n",
    "from sklearn import preprocessing\n",
    "from sklearn.ensemble import RandomForestRegressor\n",
    "from sklearn.pipeline import make_pipeline\n",
    "from sklearn.model_selection import GridSearchCV\n",
    "from sklearn.externals import joblib\n",
    "import matplotlib.pyplot as plt\n",
    "import seaborn as sns"
   ]
  },
  {
   "cell_type": "code",
   "execution_count": 2,
   "metadata": {},
   "outputs": [],
   "source": [
    "# Leitura dos datasets de treino e teste e criação do df de resposta\n",
    "df_train = pd.read_csv('../data/train.csv')\n",
    "df_test = pd.read_csv('../data/test.csv')\n",
    "df_resposta = pd.DataFrame()"
   ]
  },
  {
   "cell_type": "code",
   "execution_count": 3,
   "metadata": {},
   "outputs": [
    {
     "name": "stdout",
     "output_type": "stream",
     "text": [
      "True\n"
     ]
    }
   ],
   "source": [
    "# Verificar se os dados de teste estão nos dados de treinamento\n",
    "print(set(df_test.columns).issubset(set(df_train.columns)))"
   ]
  },
  {
   "cell_type": "code",
   "execution_count": 4,
   "metadata": {},
   "outputs": [],
   "source": [
    "# Salvar os dados das inscrições\n",
    "df_resposta['NU_INSCRICAO'] = df_test['NU_INSCRICAO']"
   ]
  },
  {
   "cell_type": "code",
   "execution_count": 5,
   "metadata": {},
   "outputs": [],
   "source": [
    "# Selecionar somente valores inteiros e floats\n",
    "df_test = df_test.select_dtypes(include=['int64','float64'])"
   ]
  },
  {
   "cell_type": "code",
   "execution_count": 6,
   "metadata": {},
   "outputs": [
    {
     "data": {
      "text/html": [
       "<div>\n",
       "<style scoped>\n",
       "    .dataframe tbody tr th:only-of-type {\n",
       "        vertical-align: middle;\n",
       "    }\n",
       "\n",
       "    .dataframe tbody tr th {\n",
       "        vertical-align: top;\n",
       "    }\n",
       "\n",
       "    .dataframe thead th {\n",
       "        text-align: right;\n",
       "    }\n",
       "</style>\n",
       "<table border=\"1\" class=\"dataframe\">\n",
       "  <thead>\n",
       "    <tr style=\"text-align: right;\">\n",
       "      <th></th>\n",
       "      <th>NU_IDADE</th>\n",
       "      <th>IN_TREINEIRO</th>\n",
       "      <th>NU_NOTA_CN</th>\n",
       "      <th>NU_NOTA_CH</th>\n",
       "      <th>NU_NOTA_LC</th>\n",
       "      <th>NU_NOTA_REDACAO</th>\n",
       "    </tr>\n",
       "  </thead>\n",
       "  <tbody>\n",
       "    <tr>\n",
       "      <th>NU_IDADE</th>\n",
       "      <td>1.000000</td>\n",
       "      <td>-0.293714</td>\n",
       "      <td>-0.105278</td>\n",
       "      <td>-0.048229</td>\n",
       "      <td>-0.079171</td>\n",
       "      <td>-0.161202</td>\n",
       "    </tr>\n",
       "    <tr>\n",
       "      <th>IN_TREINEIRO</th>\n",
       "      <td>-0.293714</td>\n",
       "      <td>1.000000</td>\n",
       "      <td>-0.009669</td>\n",
       "      <td>-0.032181</td>\n",
       "      <td>-0.004934</td>\n",
       "      <td>-0.014277</td>\n",
       "    </tr>\n",
       "    <tr>\n",
       "      <th>NU_NOTA_CN</th>\n",
       "      <td>-0.105278</td>\n",
       "      <td>-0.009669</td>\n",
       "      <td>1.000000</td>\n",
       "      <td>0.598574</td>\n",
       "      <td>0.545801</td>\n",
       "      <td>0.442692</td>\n",
       "    </tr>\n",
       "    <tr>\n",
       "      <th>NU_NOTA_CH</th>\n",
       "      <td>-0.048229</td>\n",
       "      <td>-0.032181</td>\n",
       "      <td>0.598574</td>\n",
       "      <td>1.000000</td>\n",
       "      <td>0.679993</td>\n",
       "      <td>0.537141</td>\n",
       "    </tr>\n",
       "    <tr>\n",
       "      <th>NU_NOTA_LC</th>\n",
       "      <td>-0.079171</td>\n",
       "      <td>-0.004934</td>\n",
       "      <td>0.545801</td>\n",
       "      <td>0.679993</td>\n",
       "      <td>1.000000</td>\n",
       "      <td>0.495745</td>\n",
       "    </tr>\n",
       "    <tr>\n",
       "      <th>NU_NOTA_REDACAO</th>\n",
       "      <td>-0.161202</td>\n",
       "      <td>-0.014277</td>\n",
       "      <td>0.442692</td>\n",
       "      <td>0.537141</td>\n",
       "      <td>0.495745</td>\n",
       "      <td>1.000000</td>\n",
       "    </tr>\n",
       "  </tbody>\n",
       "</table>\n",
       "</div>"
      ],
      "text/plain": [
       "                 NU_IDADE  IN_TREINEIRO  NU_NOTA_CN  NU_NOTA_CH  NU_NOTA_LC  \\\n",
       "NU_IDADE         1.000000     -0.293714   -0.105278   -0.048229   -0.079171   \n",
       "IN_TREINEIRO    -0.293714      1.000000   -0.009669   -0.032181   -0.004934   \n",
       "NU_NOTA_CN      -0.105278     -0.009669    1.000000    0.598574    0.545801   \n",
       "NU_NOTA_CH      -0.048229     -0.032181    0.598574    1.000000    0.679993   \n",
       "NU_NOTA_LC      -0.079171     -0.004934    0.545801    0.679993    1.000000   \n",
       "NU_NOTA_REDACAO -0.161202     -0.014277    0.442692    0.537141    0.495745   \n",
       "\n",
       "                 NU_NOTA_REDACAO  \n",
       "NU_IDADE               -0.161202  \n",
       "IN_TREINEIRO           -0.014277  \n",
       "NU_NOTA_CN              0.442692  \n",
       "NU_NOTA_CH              0.537141  \n",
       "NU_NOTA_LC              0.495745  \n",
       "NU_NOTA_REDACAO         1.000000  "
      ]
     },
     "execution_count": 6,
     "metadata": {},
     "output_type": "execute_result"
    }
   ],
   "source": [
    "var = ['NU_IDADE','IN_TREINEIRO','NU_NOTA_CN','NU_NOTA_CH','NU_NOTA_LC','NU_NOTA_REDACAO']\n",
    "df_test[var].corr()"
   ]
  },
  {
   "cell_type": "code",
   "execution_count": 7,
   "metadata": {},
   "outputs": [],
   "source": [
    "features = ['NU_NOTA_CN','NU_NOTA_CH','NU_NOTA_LC','NU_NOTA_REDACAO']"
   ]
  },
  {
   "cell_type": "code",
   "execution_count": 8,
   "metadata": {},
   "outputs": [],
   "source": [
    "# Usando o loc com uma condição composta para obter somente registros com todas as provas\n",
    "df_train = df_train.loc[(df_train['NU_NOTA_CN'].notnull()) & (df_train['NU_NOTA_CH'].notnull())  & (df_train['NU_NOTA_LC'].notnull()) & (df_train['NU_NOTA_REDACAO'].notnull()) & (df_train['NU_NOTA_MT'].notnull())]"
   ]
  },
  {
   "cell_type": "code",
   "execution_count": 9,
   "metadata": {},
   "outputs": [],
   "source": [
    "# Preencher valores nulos com o valor médio - Tratamento das notas de provas corrompidas\n",
    "df_train['NU_NOTA_CN'].fillna(df_train['NU_NOTA_CN'].mean(), inplace=True)\n",
    "df_train['NU_NOTA_CH'].fillna(df_train['NU_NOTA_CH'].mean(), inplace=True)\n",
    "df_train['NU_NOTA_REDACAO'].fillna(df_train['NU_NOTA_REDACAO'].mean(), inplace=True)\n",
    "df_train['NU_NOTA_LC'].fillna(df_train['NU_NOTA_LC'].mean(), inplace=True)\n",
    "df_test['NU_NOTA_CN'].fillna(df_train['NU_NOTA_CN'].mean(), inplace=True)\n",
    "df_test['NU_NOTA_CH'].fillna(df_train['NU_NOTA_CH'].mean(), inplace=True)\n",
    "df_test['NU_NOTA_REDACAO'].fillna(df_train['NU_NOTA_REDACAO'].mean(), inplace=True)\n",
    "df_test['NU_NOTA_LC'].fillna(df_train['NU_NOTA_LC'].mean(), inplace=True)"
   ]
  },
  {
   "cell_type": "code",
   "execution_count": 10,
   "metadata": {},
   "outputs": [],
   "source": [
    "y = df_train['NU_NOTA_MT']"
   ]
  },
  {
   "cell_type": "code",
   "execution_count": 11,
   "metadata": {},
   "outputs": [],
   "source": [
    "# Definição do dataset de treino somente com as informações relevantes para treinar o modelo\n",
    "features = ['NU_NOTA_CN','NU_NOTA_CH','NU_NOTA_LC','NU_NOTA_REDACAO']\n",
    "x_train = df_train[features]"
   ]
  },
  {
   "cell_type": "code",
   "execution_count": 12,
   "metadata": {},
   "outputs": [],
   "source": [
    "# Ajustando o Transformer API\n",
    "scaler = preprocessing.StandardScaler().fit(x_train)"
   ]
  },
  {
   "cell_type": "code",
   "execution_count": 13,
   "metadata": {},
   "outputs": [],
   "source": [
    "x_test = df_test[features]"
   ]
  },
  {
   "cell_type": "code",
   "execution_count": 14,
   "metadata": {},
   "outputs": [],
   "source": [
    "#n_estimators=100 (número de nós) , n_jobs=-1 ( todo o processamento possível) , warm_start=True (mantém o aprendizado e reprocessa o modelo, melhorando-o)\n",
    "pipeline = make_pipeline(preprocessing.StandardScaler(), RandomForestRegressor(n_estimators=200, n_jobs=-1, warm_start=True))"
   ]
  },
  {
   "cell_type": "code",
   "execution_count": 15,
   "metadata": {},
   "outputs": [],
   "source": [
    "# max_features : O número de features a considerar quando pesquisar pela melhor separação (testará as 3 opções e identificará a melhor para o modelo)\n",
    "# max_depth :  Profundidade máxima da árvore de decisão. Se None (nenhuma), os nós serão expandidos até acabar as folhas ou até que elas contenham o mínimo valor de amostras possível.\n",
    "hyperparameters = { 'randomforestregressor__max_features' : ['auto', 'sqrt', 'log2'],\n",
    "                  'randomforestregressor__max_depth': [None, 5, 3, 1]}"
   ]
  },
  {
   "cell_type": "code",
   "execution_count": 16,
   "metadata": {},
   "outputs": [],
   "source": [
    "X_train_scaled = scaler.transform(x_train)"
   ]
  },
  {
   "cell_type": "code",
   "execution_count": 17,
   "metadata": {},
   "outputs": [
    {
     "data": {
      "text/plain": [
       "GridSearchCV(cv=10, error_score='raise-deprecating',\n",
       "       estimator=Pipeline(memory=None,\n",
       "     steps=[('standardscaler', StandardScaler(copy=True, with_mean=True, with_std=True)), ('randomforestregressor', RandomForestRegressor(bootstrap=True, criterion='mse', max_depth=None,\n",
       "           max_features='auto', max_leaf_nodes=None,\n",
       "           min_impurity_decr...mators=200, n_jobs=-1,\n",
       "           oob_score=False, random_state=None, verbose=0, warm_start=True))]),\n",
       "       fit_params=None, iid='warn', n_jobs=None,\n",
       "       param_grid={'randomforestregressor__max_features': ['auto', 'sqrt', 'log2'], 'randomforestregressor__max_depth': [None, 5, 3, 1]},\n",
       "       pre_dispatch='2*n_jobs', refit=True, return_train_score='warn',\n",
       "       scoring=None, verbose=0)"
      ]
     },
     "execution_count": 17,
     "metadata": {},
     "output_type": "execute_result"
    }
   ],
   "source": [
    "# Ajustar e sintonizar o modelo\n",
    "clf = GridSearchCV(pipeline, hyperparameters, cv=10)\n",
    "clf.fit(X_train_scaled, y)"
   ]
  },
  {
   "cell_type": "code",
   "execution_count": 18,
   "metadata": {},
   "outputs": [],
   "source": [
    "pred_notas = clf.predict(x_test)"
   ]
  },
  {
   "cell_type": "code",
   "execution_count": 19,
   "metadata": {},
   "outputs": [],
   "source": [
    "df_resposta['NU_NOTA_MT'] = np.around(pred_notas,2)"
   ]
  },
  {
   "cell_type": "code",
   "execution_count": 20,
   "metadata": {},
   "outputs": [],
   "source": [
    "df_resposta.to_csv('answer.csv', index=False, header=True)"
   ]
  },
  {
   "cell_type": "code",
   "execution_count": 21,
   "metadata": {},
   "outputs": [
    {
     "data": {
      "text/plain": [
       "array([809.7575136, 809.7575136, 809.7575136, ..., 809.7575136,\n",
       "       809.7575136, 809.7575136])"
      ]
     },
     "execution_count": 21,
     "metadata": {},
     "output_type": "execute_result"
    }
   ],
   "source": [
    "# Salvar o modelo preditivo\n",
    "joblib.dump(clf, 'rf_regressor.pkl')\n",
    "\n",
    "# Usar/carregar o modelo preditivo\n",
    "clf2 = joblib.load('rf_regressor.pkl')\n",
    "clf2.predict(x_test)"
   ]
  },
  {
   "cell_type": "code",
   "execution_count": 25,
   "metadata": {},
   "outputs": [
    {
     "data": {
      "text/html": [
       "<div>\n",
       "<style scoped>\n",
       "    .dataframe tbody tr th:only-of-type {\n",
       "        vertical-align: middle;\n",
       "    }\n",
       "\n",
       "    .dataframe tbody tr th {\n",
       "        vertical-align: top;\n",
       "    }\n",
       "\n",
       "    .dataframe thead th {\n",
       "        text-align: right;\n",
       "    }\n",
       "</style>\n",
       "<table border=\"1\" class=\"dataframe\">\n",
       "  <thead>\n",
       "    <tr style=\"text-align: right;\">\n",
       "      <th></th>\n",
       "      <th>NU_INSCRICAO</th>\n",
       "      <th>NU_NOTA_MT</th>\n",
       "    </tr>\n",
       "  </thead>\n",
       "  <tbody>\n",
       "    <tr>\n",
       "      <th>768</th>\n",
       "      <td>cd87f964765dd37a2ab0e3559da4239453f4f100</td>\n",
       "      <td>809.76</td>\n",
       "    </tr>\n",
       "    <tr>\n",
       "      <th>4034</th>\n",
       "      <td>6637125ef9b4b482f373159d01dfe6f612383af3</td>\n",
       "      <td>809.76</td>\n",
       "    </tr>\n",
       "    <tr>\n",
       "      <th>1268</th>\n",
       "      <td>c4e415962974bee4963519523194e05c3638dd39</td>\n",
       "      <td>809.76</td>\n",
       "    </tr>\n",
       "    <tr>\n",
       "      <th>153</th>\n",
       "      <td>bc40729846bf209b06e2a9a890e01d4e6780f5b4</td>\n",
       "      <td>809.76</td>\n",
       "    </tr>\n",
       "    <tr>\n",
       "      <th>2238</th>\n",
       "      <td>5b5b113b2598a9b93ccce2777256dd0c6f080145</td>\n",
       "      <td>809.76</td>\n",
       "    </tr>\n",
       "    <tr>\n",
       "      <th>2559</th>\n",
       "      <td>1c4cf1dd3a08d83a4d5e05551e6768f0ac277f82</td>\n",
       "      <td>809.76</td>\n",
       "    </tr>\n",
       "    <tr>\n",
       "      <th>3388</th>\n",
       "      <td>7230f7484eba6c7276583919d034149bb6c2ed62</td>\n",
       "      <td>809.76</td>\n",
       "    </tr>\n",
       "    <tr>\n",
       "      <th>1080</th>\n",
       "      <td>cd62a1fa1eb574a4ec4ec390d3510e65db72e1ad</td>\n",
       "      <td>809.76</td>\n",
       "    </tr>\n",
       "    <tr>\n",
       "      <th>2422</th>\n",
       "      <td>9cb8f42151a04431bca0fe29f4f8b9474ac6173c</td>\n",
       "      <td>809.76</td>\n",
       "    </tr>\n",
       "    <tr>\n",
       "      <th>1138</th>\n",
       "      <td>0f1c44bdb576aa13a22627c4415521e2a68398e9</td>\n",
       "      <td>809.76</td>\n",
       "    </tr>\n",
       "    <tr>\n",
       "      <th>2825</th>\n",
       "      <td>a762bc4e107aa359d742210907f8d12540263dab</td>\n",
       "      <td>809.76</td>\n",
       "    </tr>\n",
       "    <tr>\n",
       "      <th>3885</th>\n",
       "      <td>caa68a3360ee208ecbf043899bcc1c602fdf8b67</td>\n",
       "      <td>809.76</td>\n",
       "    </tr>\n",
       "    <tr>\n",
       "      <th>1082</th>\n",
       "      <td>5cf539ec5fbefdd7e36c73555623aef55261b30a</td>\n",
       "      <td>809.76</td>\n",
       "    </tr>\n",
       "    <tr>\n",
       "      <th>2505</th>\n",
       "      <td>ea71616417d91e7c2de90e3cc7e429379b8cf720</td>\n",
       "      <td>809.76</td>\n",
       "    </tr>\n",
       "    <tr>\n",
       "      <th>2827</th>\n",
       "      <td>200cf1f0dc3cfb88faf34a12a89d718c4c16ef8b</td>\n",
       "      <td>809.76</td>\n",
       "    </tr>\n",
       "    <tr>\n",
       "      <th>198</th>\n",
       "      <td>b62bf908b504e8c6898777a7f5b88afed358caea</td>\n",
       "      <td>809.76</td>\n",
       "    </tr>\n",
       "    <tr>\n",
       "      <th>4253</th>\n",
       "      <td>827f8adf620e440e9b5c10e965d0bcb9ca3f2515</td>\n",
       "      <td>809.76</td>\n",
       "    </tr>\n",
       "    <tr>\n",
       "      <th>4387</th>\n",
       "      <td>437bd626c4f6a5b3a9827482e95a9e7398a63b68</td>\n",
       "      <td>809.76</td>\n",
       "    </tr>\n",
       "    <tr>\n",
       "      <th>3405</th>\n",
       "      <td>72a507d6c2f908c2ad64c9ee5ee8a9d83319bd7d</td>\n",
       "      <td>809.76</td>\n",
       "    </tr>\n",
       "    <tr>\n",
       "      <th>2643</th>\n",
       "      <td>6c6b6f825e9bca4c092d2e3dabe056ec8300d921</td>\n",
       "      <td>809.76</td>\n",
       "    </tr>\n",
       "  </tbody>\n",
       "</table>\n",
       "</div>"
      ],
      "text/plain": [
       "                                  NU_INSCRICAO  NU_NOTA_MT\n",
       "768   cd87f964765dd37a2ab0e3559da4239453f4f100      809.76\n",
       "4034  6637125ef9b4b482f373159d01dfe6f612383af3      809.76\n",
       "1268  c4e415962974bee4963519523194e05c3638dd39      809.76\n",
       "153   bc40729846bf209b06e2a9a890e01d4e6780f5b4      809.76\n",
       "2238  5b5b113b2598a9b93ccce2777256dd0c6f080145      809.76\n",
       "2559  1c4cf1dd3a08d83a4d5e05551e6768f0ac277f82      809.76\n",
       "3388  7230f7484eba6c7276583919d034149bb6c2ed62      809.76\n",
       "1080  cd62a1fa1eb574a4ec4ec390d3510e65db72e1ad      809.76\n",
       "2422  9cb8f42151a04431bca0fe29f4f8b9474ac6173c      809.76\n",
       "1138  0f1c44bdb576aa13a22627c4415521e2a68398e9      809.76\n",
       "2825  a762bc4e107aa359d742210907f8d12540263dab      809.76\n",
       "3885  caa68a3360ee208ecbf043899bcc1c602fdf8b67      809.76\n",
       "1082  5cf539ec5fbefdd7e36c73555623aef55261b30a      809.76\n",
       "2505  ea71616417d91e7c2de90e3cc7e429379b8cf720      809.76\n",
       "2827  200cf1f0dc3cfb88faf34a12a89d718c4c16ef8b      809.76\n",
       "198   b62bf908b504e8c6898777a7f5b88afed358caea      809.76\n",
       "4253  827f8adf620e440e9b5c10e965d0bcb9ca3f2515      809.76\n",
       "4387  437bd626c4f6a5b3a9827482e95a9e7398a63b68      809.76\n",
       "3405  72a507d6c2f908c2ad64c9ee5ee8a9d83319bd7d      809.76\n",
       "2643  6c6b6f825e9bca4c092d2e3dabe056ec8300d921      809.76"
      ]
     },
     "execution_count": 25,
     "metadata": {},
     "output_type": "execute_result"
    }
   ],
   "source": [
    "df_resposta.sample(20)"
   ]
  },
  {
   "cell_type": "code",
   "execution_count": null,
   "metadata": {},
   "outputs": [],
   "source": []
  }
 ],
 "metadata": {
  "kernelspec": {
   "display_name": "Python 3",
   "language": "python",
   "name": "python3"
  },
  "language_info": {
   "codemirror_mode": {
    "name": "ipython",
    "version": 3
   },
   "file_extension": ".py",
   "mimetype": "text/x-python",
   "name": "python",
   "nbconvert_exporter": "python",
   "pygments_lexer": "ipython3",
   "version": "3.7.3"
  }
 },
 "nbformat": 4,
 "nbformat_minor": 2
}
