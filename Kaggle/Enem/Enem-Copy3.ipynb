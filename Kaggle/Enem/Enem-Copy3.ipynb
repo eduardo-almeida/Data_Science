{
 "cells": [
  {
   "cell_type": "code",
   "execution_count": 1,
   "metadata": {},
   "outputs": [],
   "source": [
    "import pandas as pd\n",
    "import numpy as np\n",
    "from sklearn import metrics\n",
    "import matplotlib.pyplot as plt\n",
    "import seaborn as sns\n",
    "plt.style.use('ggplot')\n",
    "%matplotlib inline\n",
    "\n",
    "from sklearn.preprocessing import StandardScaler\n",
    "sc = StandardScaler()  "
   ]
  },
  {
   "cell_type": "code",
   "execution_count": 2,
   "metadata": {},
   "outputs": [],
   "source": [
    "train = pd.read_csv('./data/train.csv')\n",
    "test = pd.read_csv('./data/test.csv')"
   ]
  },
  {
   "cell_type": "code",
   "execution_count": 3,
   "metadata": {},
   "outputs": [
    {
     "name": "stdout",
     "output_type": "stream",
     "text": [
      "Train data shape: (13730, 167)\n",
      "Test data shape: (4576, 47)\n"
     ]
    }
   ],
   "source": [
    "print (\"Train data shape:\", train.shape)\n",
    "print (\"Test data shape:\", test.shape)"
   ]
  },
  {
   "cell_type": "code",
   "execution_count": 4,
   "metadata": {
    "scrolled": false
   },
   "outputs": [
    {
     "name": "stdout",
     "output_type": "stream",
     "text": [
      "NU_NOTA_MT                 1.000000\n",
      "NU_NOTA_CN                 0.584941\n",
      "NU_NOTA_CH                 0.529594\n",
      "NU_NOTA_LC                 0.494695\n",
      "NU_NOTA_REDACAO            0.379376\n",
      "TP_DEPENDENCIA_ADM_ESC     0.373233\n",
      "NU_NOTA_COMP3              0.350307\n",
      "NU_NOTA_COMP5              0.343337\n",
      "NU_NOTA_COMP4              0.342282\n",
      "NU_NOTA_COMP2              0.335638\n",
      "NU_NOTA_COMP1              0.299402\n",
      "CO_MUNICIPIO_NASCIMENTO    0.113416\n",
      "CO_UF_NASCIMENTO           0.112236\n",
      "CO_MUNICIPIO_PROVA         0.109433\n",
      "CO_MUNICIPIO_RESIDENCIA    0.108850\n",
      "Name: NU_NOTA_MT, dtype: float64 \n",
      "\n",
      "IN_MARCA_PASSO             NaN\n",
      "IN_SONDA                   NaN\n",
      "IN_MEDICAMENTOS            NaN\n",
      "IN_SALA_INDIVIDUAL         NaN\n",
      "IN_SALA_ESPECIAL           NaN\n",
      "IN_SALA_ACOMPANHANTE       NaN\n",
      "IN_MOBILIARIO_ESPECIFICO   NaN\n",
      "IN_MATERIAL_ESPECIFICO     NaN\n",
      "TP_PRESENCA_LC             NaN\n",
      "TP_PRESENCA_MT             NaN\n",
      "Name: NU_NOTA_MT, dtype: float64\n"
     ]
    }
   ],
   "source": [
    "numeric_features = train.select_dtypes(include=[np.number])\n",
    "corr = numeric_features.corr()\n",
    "print (corr['NU_NOTA_MT'].sort_values(ascending=False)[:15], '\\n')\n",
    "print (corr['NU_NOTA_MT'].sort_values(ascending=False)[-10:])"
   ]
  },
  {
   "cell_type": "code",
   "execution_count": 5,
   "metadata": {},
   "outputs": [],
   "source": [
    "#features = ['NU_INSCRICAO', 'NU_NOTA_CN', 'NU_NOTA_CH', 'NU_NOTA_LC', 'NU_NOTA_REDACAO', 'NU_NOTA_COMP1', 'NU_NOTA_COMP2','NU_NOTA_COMP3', 'NU_NOTA_COMP4', 'NU_NOTA_COMP5']\n",
    "features = ['NU_NOTA_CN', 'NU_NOTA_CH', 'NU_NOTA_LC', 'NU_NOTA_REDACAO',\n",
    "            'NU_NOTA_COMP1', 'NU_NOTA_COMP2','NU_NOTA_COMP3', 'NU_NOTA_COMP4', 'NU_NOTA_COMP5']\n",
    "features_corr = ['NU_NOTA_MT', 'NU_NOTA_CN', 'NU_NOTA_CH', 'NU_NOTA_LC', 'NU_NOTA_REDACAO',\n",
    "                 'NU_NOTA_COMP1', 'NU_NOTA_COMP2','NU_NOTA_COMP3', 'NU_NOTA_COMP4', 'NU_NOTA_COMP5']\n",
    "df_train = train[features_corr]\n",
    "df_test = test[features]"
   ]
  },
  {
   "cell_type": "code",
   "execution_count": 6,
   "metadata": {},
   "outputs": [
    {
     "data": {
      "text/plain": [
       "NU_NOTA_MT         3597\n",
       "NU_NOTA_CN         3389\n",
       "NU_NOTA_CH         3389\n",
       "NU_NOTA_LC         3597\n",
       "NU_NOTA_REDACAO    3597\n",
       "NU_NOTA_COMP1      3597\n",
       "NU_NOTA_COMP2      3597\n",
       "NU_NOTA_COMP3      3597\n",
       "NU_NOTA_COMP4      3597\n",
       "NU_NOTA_COMP5      3597\n",
       "dtype: int64"
      ]
     },
     "execution_count": 6,
     "metadata": {},
     "output_type": "execute_result"
    }
   ],
   "source": [
    "df_train.isnull().sum()"
   ]
  },
  {
   "cell_type": "code",
   "execution_count": 7,
   "metadata": {},
   "outputs": [
    {
     "data": {
      "text/plain": [
       "(13730, 10)"
      ]
     },
     "execution_count": 7,
     "metadata": {},
     "output_type": "execute_result"
    }
   ],
   "source": [
    "df_train.shape"
   ]
  },
  {
   "cell_type": "code",
   "execution_count": 8,
   "metadata": {},
   "outputs": [
    {
     "data": {
      "image/png": "[encoded data removed]",
      "text/plain": [
       "<Figure size 432x288 with 1 Axes>"
      ]
     },
     "metadata": {
      "needs_background": "light"
     },
     "output_type": "display_data"
    }
   ],
   "source": [
    "x0 = df_train['NU_NOTA_CN'].fillna(0)\n",
    "x1 = df_test['NU_NOTA_CN'].fillna(0)\n",
    "\n",
    "\n",
    "sns.distplot(x0)\n",
    "sns.distplot(x1)\n",
    "plt.legend(labels=['TRAIN','TEST'], ncol=2, loc='upper left');"
   ]
  },
  {
   "cell_type": "code",
   "execution_count": 9,
   "metadata": {},
   "outputs": [],
   "source": [
    "# Seleciona somente linhas com valores nesses 4 quesitos a baixo na base de train\n",
    "#df_train = df_train.loc[\n",
    "#      (df_train['NU_NOTA_CN'].notnull())  & (df_train['NU_NOTA_CN'] != 0) & (df_train['NU_NOTA_CH'].notnull())      & (df_train['NU_NOTA_CH'] != 0) \n",
    "#    & (df_train['NU_NOTA_LC'].notnull())  & (df_train['NU_NOTA_LC'] != 0) & (df_train['NU_NOTA_REDACAO'].notnull()) & (df_train['NU_NOTA_REDACAO'] != 0)    \n",
    "#]"
   ]
  },
  {
   "cell_type": "code",
   "execution_count": 10,
   "metadata": {},
   "outputs": [],
   "source": [
    "#df_test = df_test.loc[\n",
    "#      (df_test['NU_NOTA_CN'].notnull())  & (df_test['NU_NOTA_CN'] != 0) & (df_test['NU_NOTA_CH'].notnull())      & (df_test['NU_NOTA_CH'] != 0) \n",
    " #   & (df_test['NU_NOTA_LC'].notnull())  & (df_test['NU_NOTA_LC'] != 0) & (df_test['NU_NOTA_REDACAO'].notnull()) & (df_test['NU_NOTA_REDACAO'] != 0)    \n",
    "#]"
   ]
  },
  {
   "cell_type": "code",
   "execution_count": 11,
   "metadata": {
    "scrolled": true
   },
   "outputs": [
    {
     "data": {
      "text/plain": [
       "NU_NOTA_MT         3597\n",
       "NU_NOTA_CN         3389\n",
       "NU_NOTA_CH         3389\n",
       "NU_NOTA_LC         3597\n",
       "NU_NOTA_REDACAO    3597\n",
       "NU_NOTA_COMP1      3597\n",
       "NU_NOTA_COMP2      3597\n",
       "NU_NOTA_COMP3      3597\n",
       "NU_NOTA_COMP4      3597\n",
       "NU_NOTA_COMP5      3597\n",
       "dtype: int64"
      ]
     },
     "execution_count": 11,
     "metadata": {},
     "output_type": "execute_result"
    }
   ],
   "source": [
    "df_train.isnull().sum()"
   ]
  },
  {
   "cell_type": "code",
   "execution_count": 12,
   "metadata": {},
   "outputs": [
    {
     "data": {
      "text/plain": [
       "NU_NOTA_CN         1134\n",
       "NU_NOTA_CH         1134\n",
       "NU_NOTA_LC         1199\n",
       "NU_NOTA_REDACAO    1199\n",
       "NU_NOTA_COMP1      1199\n",
       "NU_NOTA_COMP2      1199\n",
       "NU_NOTA_COMP3      1199\n",
       "NU_NOTA_COMP4      1199\n",
       "NU_NOTA_COMP5      1199\n",
       "dtype: int64"
      ]
     },
     "execution_count": 12,
     "metadata": {},
     "output_type": "execute_result"
    }
   ],
   "source": [
    "df_test.isnull().sum()"
   ]
  },
  {
   "cell_type": "code",
   "execution_count": 13,
   "metadata": {},
   "outputs": [
    {
     "name": "stderr",
     "output_type": "stream",
     "text": [
      "/home/eduardo/anaconda3/lib/python3.7/site-packages/pandas/core/generic.py:6130: SettingWithCopyWarning: \n",
      "A value is trying to be set on a copy of a slice from a DataFrame\n",
      "\n",
      "See the caveats in the documentation: http://pandas.pydata.org/pandas-docs/stable/indexing.html#indexing-view-versus-copy\n",
      "  self._update_inplace(new_data)\n"
     ]
    }
   ],
   "source": [
    "df_train['NU_NOTA_MT'].fillna(0,inplace=True)\n",
    "df_train['NU_NOTA_CN'].fillna(0,inplace=True)\n",
    "df_train['NU_NOTA_CH'].fillna(0,inplace=True)\n",
    "df_train['NU_NOTA_LC'].fillna(0,inplace=True)\n",
    "df_train['NU_NOTA_REDACAO'].fillna(0,inplace=True)\n",
    "\n",
    "\n",
    "df_train['NU_NOTA_COMP1'].fillna(0,inplace=True)\n",
    "df_train['NU_NOTA_COMP2'].fillna(0,inplace=True)\n",
    "df_train['NU_NOTA_COMP3'].fillna(0,inplace=True)\n",
    "df_train['NU_NOTA_COMP4'].fillna(0,inplace=True)\n",
    "df_train['NU_NOTA_COMP5'].fillna(0,inplace=True)"
   ]
  },
  {
   "cell_type": "code",
   "execution_count": 14,
   "metadata": {},
   "outputs": [],
   "source": [
    "\n",
    "df_test['NU_NOTA_CN'].fillna(0,inplace=True)\n",
    "df_test['NU_NOTA_CH'].fillna(0,inplace=True)\n",
    "df_test['NU_NOTA_LC'].fillna(0,inplace=True)\n",
    "df_test['NU_NOTA_REDACAO'].fillna(0,inplace=True)\n",
    "\n",
    "df_test['NU_NOTA_COMP1'].fillna(0,inplace=True)\n",
    "df_test['NU_NOTA_COMP2'].fillna(0,inplace=True)\n",
    "df_test['NU_NOTA_COMP3'].fillna(0,inplace=True)\n",
    "df_test['NU_NOTA_COMP4'].fillna(0,inplace=True)\n",
    "df_test['NU_NOTA_COMP5'].fillna(0,inplace=True)"
   ]
  },
  {
   "cell_type": "code",
   "execution_count": 15,
   "metadata": {},
   "outputs": [
    {
     "data": {
      "text/html": [
       "<div>\n",
       "<style scoped>\n",
       "    .dataframe tbody tr th:only-of-type {\n",
       "        vertical-align: middle;\n",
       "    }\n",
       "\n",
       "    .dataframe tbody tr th {\n",
       "        vertical-align: top;\n",
       "    }\n",
       "\n",
       "    .dataframe thead th {\n",
       "        text-align: right;\n",
       "    }\n",
       "</style>\n",
       "<table border=\"1\" class=\"dataframe\">\n",
       "  <thead>\n",
       "    <tr style=\"text-align: right;\">\n",
       "      <th></th>\n",
       "      <th>NU_NOTA_MT</th>\n",
       "      <th>NU_NOTA_CN</th>\n",
       "      <th>NU_NOTA_CH</th>\n",
       "      <th>NU_NOTA_LC</th>\n",
       "      <th>NU_NOTA_REDACAO</th>\n",
       "      <th>NU_NOTA_COMP1</th>\n",
       "      <th>NU_NOTA_COMP2</th>\n",
       "      <th>NU_NOTA_COMP3</th>\n",
       "      <th>NU_NOTA_COMP4</th>\n",
       "      <th>NU_NOTA_COMP5</th>\n",
       "    </tr>\n",
       "  </thead>\n",
       "  <tbody>\n",
       "    <tr>\n",
       "      <th>count</th>\n",
       "      <td>13730.000000</td>\n",
       "      <td>13730.000000</td>\n",
       "      <td>13730.000000</td>\n",
       "      <td>13730.000000</td>\n",
       "      <td>13730.000000</td>\n",
       "      <td>13730.000000</td>\n",
       "      <td>13730.000000</td>\n",
       "      <td>13730.000000</td>\n",
       "      <td>13730.000000</td>\n",
       "      <td>13730.000000</td>\n",
       "    </tr>\n",
       "    <tr>\n",
       "      <th>mean</th>\n",
       "      <td>356.092607</td>\n",
       "      <td>356.621515</td>\n",
       "      <td>398.923911</td>\n",
       "      <td>381.166737</td>\n",
       "      <td>390.447633</td>\n",
       "      <td>88.423307</td>\n",
       "      <td>82.596067</td>\n",
       "      <td>78.838310</td>\n",
       "      <td>83.487618</td>\n",
       "      <td>57.102331</td>\n",
       "    </tr>\n",
       "    <tr>\n",
       "      <th>std</th>\n",
       "      <td>228.844193</td>\n",
       "      <td>213.282315</td>\n",
       "      <td>237.174594</td>\n",
       "      <td>234.648409</td>\n",
       "      <td>267.749316</td>\n",
       "      <td>58.592381</td>\n",
       "      <td>57.112963</td>\n",
       "      <td>55.469523</td>\n",
       "      <td>57.460251</td>\n",
       "      <td>50.263122</td>\n",
       "    </tr>\n",
       "    <tr>\n",
       "      <th>min</th>\n",
       "      <td>0.000000</td>\n",
       "      <td>0.000000</td>\n",
       "      <td>0.000000</td>\n",
       "      <td>0.000000</td>\n",
       "      <td>0.000000</td>\n",
       "      <td>0.000000</td>\n",
       "      <td>0.000000</td>\n",
       "      <td>0.000000</td>\n",
       "      <td>0.000000</td>\n",
       "      <td>0.000000</td>\n",
       "    </tr>\n",
       "    <tr>\n",
       "      <th>25%</th>\n",
       "      <td>0.000000</td>\n",
       "      <td>365.625000</td>\n",
       "      <td>345.900000</td>\n",
       "      <td>0.000000</td>\n",
       "      <td>0.000000</td>\n",
       "      <td>0.000000</td>\n",
       "      <td>0.000000</td>\n",
       "      <td>0.000000</td>\n",
       "      <td>0.000000</td>\n",
       "      <td>0.000000</td>\n",
       "    </tr>\n",
       "    <tr>\n",
       "      <th>50%</th>\n",
       "      <td>422.500000</td>\n",
       "      <td>433.100000</td>\n",
       "      <td>499.600000</td>\n",
       "      <td>486.000000</td>\n",
       "      <td>480.000000</td>\n",
       "      <td>120.000000</td>\n",
       "      <td>100.000000</td>\n",
       "      <td>100.000000</td>\n",
       "      <td>100.000000</td>\n",
       "      <td>60.000000</td>\n",
       "    </tr>\n",
       "    <tr>\n",
       "      <th>75%</th>\n",
       "      <td>504.400000</td>\n",
       "      <td>493.200000</td>\n",
       "      <td>564.400000</td>\n",
       "      <td>548.300000</td>\n",
       "      <td>580.000000</td>\n",
       "      <td>120.000000</td>\n",
       "      <td>120.000000</td>\n",
       "      <td>120.000000</td>\n",
       "      <td>120.000000</td>\n",
       "      <td>100.000000</td>\n",
       "    </tr>\n",
       "    <tr>\n",
       "      <th>max</th>\n",
       "      <td>952.000000</td>\n",
       "      <td>806.400000</td>\n",
       "      <td>807.000000</td>\n",
       "      <td>763.600000</td>\n",
       "      <td>1000.000000</td>\n",
       "      <td>200.000000</td>\n",
       "      <td>200.000000</td>\n",
       "      <td>200.000000</td>\n",
       "      <td>200.000000</td>\n",
       "      <td>200.000000</td>\n",
       "    </tr>\n",
       "  </tbody>\n",
       "</table>\n",
       "</div>"
      ],
      "text/plain": [
       "         NU_NOTA_MT    NU_NOTA_CN    NU_NOTA_CH    NU_NOTA_LC  \\\n",
       "count  13730.000000  13730.000000  13730.000000  13730.000000   \n",
       "mean     356.092607    356.621515    398.923911    381.166737   \n",
       "std      228.844193    213.282315    237.174594    234.648409   \n",
       "min        0.000000      0.000000      0.000000      0.000000   \n",
       "25%        0.000000    365.625000    345.900000      0.000000   \n",
       "50%      422.500000    433.100000    499.600000    486.000000   \n",
       "75%      504.400000    493.200000    564.400000    548.300000   \n",
       "max      952.000000    806.400000    807.000000    763.600000   \n",
       "\n",
       "       NU_NOTA_REDACAO  NU_NOTA_COMP1  NU_NOTA_COMP2  NU_NOTA_COMP3  \\\n",
       "count     13730.000000   13730.000000   13730.000000   13730.000000   \n",
       "mean        390.447633      88.423307      82.596067      78.838310   \n",
       "std         267.749316      58.592381      57.112963      55.469523   \n",
       "min           0.000000       0.000000       0.000000       0.000000   \n",
       "25%           0.000000       0.000000       0.000000       0.000000   \n",
       "50%         480.000000     120.000000     100.000000     100.000000   \n",
       "75%         580.000000     120.000000     120.000000     120.000000   \n",
       "max        1000.000000     200.000000     200.000000     200.000000   \n",
       "\n",
       "       NU_NOTA_COMP4  NU_NOTA_COMP5  \n",
       "count   13730.000000   13730.000000  \n",
       "mean       83.487618      57.102331  \n",
       "std        57.460251      50.263122  \n",
       "min         0.000000       0.000000  \n",
       "25%         0.000000       0.000000  \n",
       "50%       100.000000      60.000000  \n",
       "75%       120.000000     100.000000  \n",
       "max       200.000000     200.000000  "
      ]
     },
     "execution_count": 15,
     "metadata": {},
     "output_type": "execute_result"
    }
   ],
   "source": [
    "df_train.describe()"
   ]
  },
  {
   "cell_type": "code",
   "execution_count": 16,
   "metadata": {
    "scrolled": true
   },
   "outputs": [
    {
     "data": {
      "text/html": [
       "<div>\n",
       "<style scoped>\n",
       "    .dataframe tbody tr th:only-of-type {\n",
       "        vertical-align: middle;\n",
       "    }\n",
       "\n",
       "    .dataframe tbody tr th {\n",
       "        vertical-align: top;\n",
       "    }\n",
       "\n",
       "    .dataframe thead th {\n",
       "        text-align: right;\n",
       "    }\n",
       "</style>\n",
       "<table border=\"1\" class=\"dataframe\">\n",
       "  <thead>\n",
       "    <tr style=\"text-align: right;\">\n",
       "      <th></th>\n",
       "      <th>NU_NOTA_CN</th>\n",
       "      <th>NU_NOTA_CH</th>\n",
       "      <th>NU_NOTA_LC</th>\n",
       "      <th>NU_NOTA_REDACAO</th>\n",
       "      <th>NU_NOTA_COMP1</th>\n",
       "      <th>NU_NOTA_COMP2</th>\n",
       "      <th>NU_NOTA_COMP3</th>\n",
       "      <th>NU_NOTA_COMP4</th>\n",
       "      <th>NU_NOTA_COMP5</th>\n",
       "    </tr>\n",
       "  </thead>\n",
       "  <tbody>\n",
       "    <tr>\n",
       "      <th>count</th>\n",
       "      <td>4576.000000</td>\n",
       "      <td>4576.000000</td>\n",
       "      <td>4576.000000</td>\n",
       "      <td>4576.000000</td>\n",
       "      <td>4576.000000</td>\n",
       "      <td>4576.000000</td>\n",
       "      <td>4576.000000</td>\n",
       "      <td>4576.000000</td>\n",
       "      <td>4576.000000</td>\n",
       "    </tr>\n",
       "    <tr>\n",
       "      <th>mean</th>\n",
       "      <td>355.886167</td>\n",
       "      <td>398.052906</td>\n",
       "      <td>379.546613</td>\n",
       "      <td>389.278846</td>\n",
       "      <td>88.282343</td>\n",
       "      <td>82.591783</td>\n",
       "      <td>78.509615</td>\n",
       "      <td>83.304196</td>\n",
       "      <td>56.590909</td>\n",
       "    </tr>\n",
       "    <tr>\n",
       "      <th>std</th>\n",
       "      <td>213.372420</td>\n",
       "      <td>237.129999</td>\n",
       "      <td>233.543656</td>\n",
       "      <td>266.194563</td>\n",
       "      <td>58.220045</td>\n",
       "      <td>56.926108</td>\n",
       "      <td>55.078753</td>\n",
       "      <td>57.253039</td>\n",
       "      <td>50.008127</td>\n",
       "    </tr>\n",
       "    <tr>\n",
       "      <th>min</th>\n",
       "      <td>0.000000</td>\n",
       "      <td>0.000000</td>\n",
       "      <td>0.000000</td>\n",
       "      <td>0.000000</td>\n",
       "      <td>0.000000</td>\n",
       "      <td>0.000000</td>\n",
       "      <td>0.000000</td>\n",
       "      <td>0.000000</td>\n",
       "      <td>0.000000</td>\n",
       "    </tr>\n",
       "    <tr>\n",
       "      <th>25%</th>\n",
       "      <td>364.975000</td>\n",
       "      <td>345.500000</td>\n",
       "      <td>0.000000</td>\n",
       "      <td>0.000000</td>\n",
       "      <td>0.000000</td>\n",
       "      <td>0.000000</td>\n",
       "      <td>0.000000</td>\n",
       "      <td>0.000000</td>\n",
       "      <td>0.000000</td>\n",
       "    </tr>\n",
       "    <tr>\n",
       "      <th>50%</th>\n",
       "      <td>432.450000</td>\n",
       "      <td>499.450000</td>\n",
       "      <td>483.100000</td>\n",
       "      <td>480.000000</td>\n",
       "      <td>120.000000</td>\n",
       "      <td>100.000000</td>\n",
       "      <td>100.000000</td>\n",
       "      <td>100.000000</td>\n",
       "      <td>60.000000</td>\n",
       "    </tr>\n",
       "    <tr>\n",
       "      <th>75%</th>\n",
       "      <td>493.325000</td>\n",
       "      <td>562.200000</td>\n",
       "      <td>544.600000</td>\n",
       "      <td>580.000000</td>\n",
       "      <td>120.000000</td>\n",
       "      <td>120.000000</td>\n",
       "      <td>120.000000</td>\n",
       "      <td>120.000000</td>\n",
       "      <td>100.000000</td>\n",
       "    </tr>\n",
       "    <tr>\n",
       "      <th>max</th>\n",
       "      <td>778.900000</td>\n",
       "      <td>773.600000</td>\n",
       "      <td>708.900000</td>\n",
       "      <td>980.000000</td>\n",
       "      <td>200.000000</td>\n",
       "      <td>200.000000</td>\n",
       "      <td>200.000000</td>\n",
       "      <td>200.000000</td>\n",
       "      <td>200.000000</td>\n",
       "    </tr>\n",
       "  </tbody>\n",
       "</table>\n",
       "</div>"
      ],
      "text/plain": [
       "        NU_NOTA_CN   NU_NOTA_CH   NU_NOTA_LC  NU_NOTA_REDACAO  NU_NOTA_COMP1  \\\n",
       "count  4576.000000  4576.000000  4576.000000      4576.000000    4576.000000   \n",
       "mean    355.886167   398.052906   379.546613       389.278846      88.282343   \n",
       "std     213.372420   237.129999   233.543656       266.194563      58.220045   \n",
       "min       0.000000     0.000000     0.000000         0.000000       0.000000   \n",
       "25%     364.975000   345.500000     0.000000         0.000000       0.000000   \n",
       "50%     432.450000   499.450000   483.100000       480.000000     120.000000   \n",
       "75%     493.325000   562.200000   544.600000       580.000000     120.000000   \n",
       "max     778.900000   773.600000   708.900000       980.000000     200.000000   \n",
       "\n",
       "       NU_NOTA_COMP2  NU_NOTA_COMP3  NU_NOTA_COMP4  NU_NOTA_COMP5  \n",
       "count    4576.000000    4576.000000    4576.000000    4576.000000  \n",
       "mean       82.591783      78.509615      83.304196      56.590909  \n",
       "std        56.926108      55.078753      57.253039      50.008127  \n",
       "min         0.000000       0.000000       0.000000       0.000000  \n",
       "25%         0.000000       0.000000       0.000000       0.000000  \n",
       "50%       100.000000     100.000000     100.000000      60.000000  \n",
       "75%       120.000000     120.000000     120.000000     100.000000  \n",
       "max       200.000000     200.000000     200.000000     200.000000  "
      ]
     },
     "execution_count": 16,
     "metadata": {},
     "output_type": "execute_result"
    }
   ],
   "source": [
    "df_test.describe()"
   ]
  },
  {
   "cell_type": "code",
   "execution_count": 17,
   "metadata": {},
   "outputs": [
    {
     "name": "stderr",
     "output_type": "stream",
     "text": [
      "/home/eduardo/anaconda3/lib/python3.7/site-packages/pandas/core/frame.py:3940: SettingWithCopyWarning: \n",
      "A value is trying to be set on a copy of a slice from a DataFrame\n",
      "\n",
      "See the caveats in the documentation: http://pandas.pydata.org/pandas-docs/stable/indexing.html#indexing-view-versus-copy\n",
      "  errors=errors)\n"
     ]
    }
   ],
   "source": [
    "y_train = df_train['NU_NOTA_MT']\n",
    "df_train.drop('NU_NOTA_MT', axis=1, inplace=True)\n",
    "x_train = df_train\n",
    "x_test = df_test[features]\n",
    "x_train = sc.fit_transform(x_train)  \n",
    "x_test = sc.transform(x_test)"
   ]
  },
  {
   "cell_type": "code",
   "execution_count": 18,
   "metadata": {},
   "outputs": [],
   "source": [
    "from sklearn.ensemble import RandomForestRegressor\n",
    "regressor = RandomForestRegressor( \n",
    "           criterion='mae', \n",
    "           max_depth=8,\n",
    "           max_leaf_nodes=None,\n",
    "           min_impurity_split=None,\n",
    "           min_samples_leaf=1,\n",
    "           min_samples_split=2,\n",
    "           min_weight_fraction_leaf=0.0,\n",
    "           n_estimators= 500,\n",
    "           n_jobs=-1,\n",
    "           random_state=0,\n",
    "           verbose=0,\n",
    "           warm_start=False\n",
    ")    \n"
   ]
  },
  {
   "cell_type": "code",
   "execution_count": 19,
   "metadata": {},
   "outputs": [
    {
     "data": {
      "text/plain": [
       "RandomForestRegressor(bootstrap=True, criterion='mae', max_depth=8,\n",
       "           max_features='auto', max_leaf_nodes=None,\n",
       "           min_impurity_decrease=0.0, min_impurity_split=None,\n",
       "           min_samples_leaf=1, min_samples_split=2,\n",
       "           min_weight_fraction_leaf=0.0, n_estimators=500, n_jobs=-1,\n",
       "           oob_score=False, random_state=0, verbose=0, warm_start=False)"
      ]
     },
     "execution_count": 19,
     "metadata": {},
     "output_type": "execute_result"
    }
   ],
   "source": [
    "regressor.fit(x_train, y_train) "
   ]
  },
  {
   "cell_type": "code",
   "execution_count": 20,
   "metadata": {},
   "outputs": [],
   "source": [
    "x_test = df_test[features] \n",
    "x_test = sc.transform(x_test)"
   ]
  },
  {
   "cell_type": "code",
   "execution_count": 21,
   "metadata": {},
   "outputs": [],
   "source": [
    "y_pred_test = regressor.predict(x_test)\n",
    "y_pred_train = regressor.predict(x_train)"
   ]
  },
  {
   "cell_type": "code",
   "execution_count": 22,
   "metadata": {},
   "outputs": [
    {
     "name": "stdout",
     "output_type": "stream",
     "text": [
      "MAE: 40.31835824\n",
      "MSE: 3639.15202359\n",
      "RMSE: 60.32538457\n"
     ]
    }
   ],
   "source": [
    "print('MAE:', metrics.mean_absolute_error(y_train, y_pred_train).round(8)  )\n",
    "print('MSE:', metrics.mean_squared_error(y_train, y_pred_train).round(8) )  \n",
    "print('RMSE:', np.sqrt(metrics.mean_squared_error(y_train, y_pred_train)).round(8))"
   ]
  },
  {
   "cell_type": "code",
   "execution_count": 23,
   "metadata": {},
   "outputs": [
    {
     "name": "stdout",
     "output_type": "stream",
     "text": [
      "MAE: 40.31835824\n",
      "MSE: 3639.15202359\n",
      "RMSE: 60.32538457\n"
     ]
    }
   ],
   "source": [
    "print('MAE:', metrics.mean_absolute_error(y_train, y_pred_train).round(8)  )\n",
    "print('MSE:', metrics.mean_squared_error(y_train, y_pred_train).round(8) )  \n",
    "print('RMSE:', np.sqrt(metrics.mean_squared_error(y_train, y_pred_train)).round(8))"
   ]
  },
  {
   "cell_type": "code",
   "execution_count": 24,
   "metadata": {},
   "outputs": [
    {
     "data": {
      "text/plain": [
       "array([417.8104, 442.2956, 595.1624, ..., 692.0697, 443.1866,   0.    ])"
      ]
     },
     "execution_count": 24,
     "metadata": {},
     "output_type": "execute_result"
    }
   ],
   "source": [
    "y_pred_test"
   ]
  },
  {
   "cell_type": "code",
   "execution_count": 25,
   "metadata": {},
   "outputs": [],
   "source": [
    "submission = pd.DataFrame()\n",
    "submission['NU_INSCRICAO'] = test.NU_INSCRICAO"
   ]
  },
  {
   "cell_type": "code",
   "execution_count": 26,
   "metadata": {},
   "outputs": [
    {
     "data": {
      "text/html": [
       "<div>\n",
       "<style scoped>\n",
       "    .dataframe tbody tr th:only-of-type {\n",
       "        vertical-align: middle;\n",
       "    }\n",
       "\n",
       "    .dataframe tbody tr th {\n",
       "        vertical-align: top;\n",
       "    }\n",
       "\n",
       "    .dataframe thead th {\n",
       "        text-align: right;\n",
       "    }\n",
       "</style>\n",
       "<table border=\"1\" class=\"dataframe\">\n",
       "  <thead>\n",
       "    <tr style=\"text-align: right;\">\n",
       "      <th></th>\n",
       "      <th>NU_INSCRICAO</th>\n",
       "      <th>NU_NOTA_MT</th>\n",
       "    </tr>\n",
       "  </thead>\n",
       "  <tbody>\n",
       "    <tr>\n",
       "      <th>1104</th>\n",
       "      <td>7b309e8114f95274ac95aad6697df953fce1d861</td>\n",
       "      <td>437.8625</td>\n",
       "    </tr>\n",
       "    <tr>\n",
       "      <th>218</th>\n",
       "      <td>d4e97da32ccb6987ec074aa48c24ce949c05a78c</td>\n",
       "      <td>422.3131</td>\n",
       "    </tr>\n",
       "    <tr>\n",
       "      <th>4382</th>\n",
       "      <td>de9c7f5daff1ccb4c1d24a44b5dfb1767b02ec58</td>\n",
       "      <td>434.9829</td>\n",
       "    </tr>\n",
       "    <tr>\n",
       "      <th>454</th>\n",
       "      <td>4d0b3bca1ec9337bb27b9d6710702ebb79a90046</td>\n",
       "      <td>510.9163</td>\n",
       "    </tr>\n",
       "    <tr>\n",
       "      <th>1618</th>\n",
       "      <td>82918decf898ff34c3fb8f74dcc741d89f2e887a</td>\n",
       "      <td>421.7751</td>\n",
       "    </tr>\n",
       "    <tr>\n",
       "      <th>1455</th>\n",
       "      <td>1d2002450bef0d038cfff583a8a45c1152adff4f</td>\n",
       "      <td>506.5411</td>\n",
       "    </tr>\n",
       "    <tr>\n",
       "      <th>4064</th>\n",
       "      <td>aa7a3291afd542100175a10408549056827fe618</td>\n",
       "      <td>412.0222</td>\n",
       "    </tr>\n",
       "    <tr>\n",
       "      <th>202</th>\n",
       "      <td>8f2c4684ec70392c718c278b10b04ddfbd4ced1f</td>\n",
       "      <td>563.0030</td>\n",
       "    </tr>\n",
       "    <tr>\n",
       "      <th>2437</th>\n",
       "      <td>83fa6da48f33782c6dcc3ff3a64a94022221df13</td>\n",
       "      <td>411.1727</td>\n",
       "    </tr>\n",
       "    <tr>\n",
       "      <th>4248</th>\n",
       "      <td>0a0c3a10bee415ae2d8a5e70de450e8a94c211be</td>\n",
       "      <td>404.4943</td>\n",
       "    </tr>\n",
       "    <tr>\n",
       "      <th>2038</th>\n",
       "      <td>b2a64c6ea147ee35526240f69741d7273bbf44c9</td>\n",
       "      <td>420.8733</td>\n",
       "    </tr>\n",
       "    <tr>\n",
       "      <th>1757</th>\n",
       "      <td>d1c4eeb8e74e34a8789027bc4c3dea1a9ff0cd09</td>\n",
       "      <td>0.0000</td>\n",
       "    </tr>\n",
       "    <tr>\n",
       "      <th>3744</th>\n",
       "      <td>c3f000c8196ae5fb2a6a6e1eb07ed23b5e959dc5</td>\n",
       "      <td>0.0000</td>\n",
       "    </tr>\n",
       "    <tr>\n",
       "      <th>1256</th>\n",
       "      <td>2f8e05c2d702db25093589b14295ab88abf009e0</td>\n",
       "      <td>0.0000</td>\n",
       "    </tr>\n",
       "    <tr>\n",
       "      <th>779</th>\n",
       "      <td>c271d8f5e865b726973366eb1acb6eb530a39a29</td>\n",
       "      <td>550.5019</td>\n",
       "    </tr>\n",
       "    <tr>\n",
       "      <th>2225</th>\n",
       "      <td>a509da1742da36cc89290f268031173d6c02dc63</td>\n",
       "      <td>436.3111</td>\n",
       "    </tr>\n",
       "    <tr>\n",
       "      <th>3632</th>\n",
       "      <td>2e43766fc1f5e74d18b86058d03ff824de66b9fa</td>\n",
       "      <td>0.0000</td>\n",
       "    </tr>\n",
       "    <tr>\n",
       "      <th>2264</th>\n",
       "      <td>fc9f8b90b53ca7f011948af6771d63217fd371bc</td>\n",
       "      <td>0.0000</td>\n",
       "    </tr>\n",
       "    <tr>\n",
       "      <th>3973</th>\n",
       "      <td>08294394882e3ebf3de26f13ef4c9914ecc9cf97</td>\n",
       "      <td>407.7475</td>\n",
       "    </tr>\n",
       "    <tr>\n",
       "      <th>4243</th>\n",
       "      <td>1283d5b6b08c0a136b16163c092963258b24fdca</td>\n",
       "      <td>440.4711</td>\n",
       "    </tr>\n",
       "  </tbody>\n",
       "</table>\n",
       "</div>"
      ],
      "text/plain": [
       "                                  NU_INSCRICAO  NU_NOTA_MT\n",
       "1104  7b309e8114f95274ac95aad6697df953fce1d861    437.8625\n",
       "218   d4e97da32ccb6987ec074aa48c24ce949c05a78c    422.3131\n",
       "4382  de9c7f5daff1ccb4c1d24a44b5dfb1767b02ec58    434.9829\n",
       "454   4d0b3bca1ec9337bb27b9d6710702ebb79a90046    510.9163\n",
       "1618  82918decf898ff34c3fb8f74dcc741d89f2e887a    421.7751\n",
       "1455  1d2002450bef0d038cfff583a8a45c1152adff4f    506.5411\n",
       "4064  aa7a3291afd542100175a10408549056827fe618    412.0222\n",
       "202   8f2c4684ec70392c718c278b10b04ddfbd4ced1f    563.0030\n",
       "2437  83fa6da48f33782c6dcc3ff3a64a94022221df13    411.1727\n",
       "4248  0a0c3a10bee415ae2d8a5e70de450e8a94c211be    404.4943\n",
       "2038  b2a64c6ea147ee35526240f69741d7273bbf44c9    420.8733\n",
       "1757  d1c4eeb8e74e34a8789027bc4c3dea1a9ff0cd09      0.0000\n",
       "3744  c3f000c8196ae5fb2a6a6e1eb07ed23b5e959dc5      0.0000\n",
       "1256  2f8e05c2d702db25093589b14295ab88abf009e0      0.0000\n",
       "779   c271d8f5e865b726973366eb1acb6eb530a39a29    550.5019\n",
       "2225  a509da1742da36cc89290f268031173d6c02dc63    436.3111\n",
       "3632  2e43766fc1f5e74d18b86058d03ff824de66b9fa      0.0000\n",
       "2264  fc9f8b90b53ca7f011948af6771d63217fd371bc      0.0000\n",
       "3973  08294394882e3ebf3de26f13ef4c9914ecc9cf97    407.7475\n",
       "4243  1283d5b6b08c0a136b16163c092963258b24fdca    440.4711"
      ]
     },
     "execution_count": 26,
     "metadata": {},
     "output_type": "execute_result"
    }
   ],
   "source": [
    "submission['NU_NOTA_MT'] = y_pred_test\n",
    "submission.sample(20)"
   ]
  },
  {
   "cell_type": "code",
   "execution_count": 27,
   "metadata": {},
   "outputs": [],
   "source": [
    "submission.to_csv('submission.csv', index=False, header=True)"
   ]
  },
  {
   "cell_type": "markdown",
   "metadata": {},
   "source": [
    "SEU SCORE: 93.66%"
   ]
  },
  {
   "cell_type": "code",
   "execution_count": null,
   "metadata": {},
   "outputs": [],
   "source": []
  }
 ],
 "metadata": {
  "kernelspec": {
   "display_name": "Python 3",
   "language": "python",
   "name": "python3"
  },
  "language_info": {
   "codemirror_mode": {
    "name": "ipython",
    "version": 3
   },
   "file_extension": ".py",
   "mimetype": "text/x-python",
   "name": "python",
   "nbconvert_exporter": "python",
   "pygments_lexer": "ipython3",
   "version": "3.7.3"
  }
 },
 "nbformat": 4,
 "nbformat_minor": 2
}
