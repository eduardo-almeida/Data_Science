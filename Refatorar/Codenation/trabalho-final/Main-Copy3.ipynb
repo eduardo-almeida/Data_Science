{
 "cells": [
  {
   "cell_type": "code",
   "execution_count": 9,
   "metadata": {},
   "outputs": [
    {
     "name": "stderr",
     "output_type": "stream",
     "text": [
      "UsageError: Line magic function `%%time` not found.\n"
     ]
    }
   ],
   "source": [
    "import pandas as pd\n",
    "import numpy as np\n",
    "\n",
    "from sklearn.model_selection import train_test_split\n",
    "from sklearn.feature_selection import SelectKBest, SelectPercentile, f_regression, f_classif\n",
    "from sklearn.metrics import mean_absolute_error\n",
    "from sklearn.ensemble import RandomForestRegressor\n",
    "\n",
    "%%time\n",
    "from sklearn.neighbors import NearestNeighbors"
   ]
  },
  {
   "cell_type": "code",
   "execution_count": 10,
   "metadata": {},
   "outputs": [],
   "source": [
    "empresa1 = pd.read_csv('data/estaticos_portfolio1.csv', index_col=0)\n",
    "empresa2 = pd.read_csv('data/estaticos_portfolio2.csv', index_col=0)\n",
    "empresa3 = pd.read_csv('data/estaticos_portfolio3.csv', index_col=0)"
   ]
  },
  {
   "cell_type": "code",
   "execution_count": 11,
   "metadata": {},
   "outputs": [],
   "source": [
    "mercado = pd.read_csv('data/simplificado.csv', index_col=0)"
   ]
  },
  {
   "cell_type": "code",
   "execution_count": 12,
   "metadata": {},
   "outputs": [
    {
     "data": {
      "text/plain": [
       "(462298, 22)"
      ]
     },
     "execution_count": 12,
     "metadata": {},
     "output_type": "execute_result"
    }
   ],
   "source": [
    "mercado.shape"
   ]
  },
  {
   "cell_type": "code",
   "execution_count": 13,
   "metadata": {},
   "outputs": [
    {
     "data": {
      "text/plain": [
       "Index(['id', 'fl_matriz', 'sg_uf', 'natureza_juridica_macro', 'setor',\n",
       "       'idade_empresa_anos', 'fl_sa', 'fl_mei', 'fl_email', 'fl_telefone',\n",
       "       'fl_rm', 'fl_veiculo', 'fl_optante_simples',\n",
       "       'vl_total_veiculos_pesados_grupo', 'vl_total_veiculos_leves_grupo',\n",
       "       'fl_optante_simei', 'sg_uf_matriz', 'fl_passivel_iss',\n",
       "       'vl_faturamento_estimado_aux', 'vl_faturamento_estimado_grupo_aux',\n",
       "       'qt_filiais', 'de_nivel_atividade_numerico'],\n",
       "      dtype='object')"
      ]
     },
     "execution_count": 13,
     "metadata": {},
     "output_type": "execute_result"
    }
   ],
   "source": [
    "mercado.columns"
   ]
  },
  {
   "cell_type": "code",
   "execution_count": 14,
   "metadata": {},
   "outputs": [
    {
     "data": {
      "text/plain": [
       "(555, 181)"
      ]
     },
     "execution_count": 14,
     "metadata": {},
     "output_type": "execute_result"
    }
   ],
   "source": [
    "empresa1.shape"
   ]
  },
  {
   "cell_type": "code",
   "execution_count": 15,
   "metadata": {},
   "outputs": [
    {
     "data": {
      "text/plain": [
       "(566, 1)"
      ]
     },
     "execution_count": 15,
     "metadata": {},
     "output_type": "execute_result"
    }
   ],
   "source": [
    "empresa2.shape"
   ]
  },
  {
   "cell_type": "code",
   "execution_count": 16,
   "metadata": {},
   "outputs": [
    {
     "data": {
      "text/plain": [
       "(265, 1)"
      ]
     },
     "execution_count": 16,
     "metadata": {},
     "output_type": "execute_result"
    }
   ],
   "source": [
    "empresa3.shape"
   ]
  },
  {
   "cell_type": "code",
   "execution_count": 17,
   "metadata": {
    "scrolled": true
   },
   "outputs": [
    {
     "data": {
      "text/html": [
       "<div>\n",
       "<style scoped>\n",
       "    .dataframe tbody tr th:only-of-type {\n",
       "        vertical-align: middle;\n",
       "    }\n",
       "\n",
       "    .dataframe tbody tr th {\n",
       "        vertical-align: top;\n",
       "    }\n",
       "\n",
       "    .dataframe thead th {\n",
       "        text-align: right;\n",
       "    }\n",
       "</style>\n",
       "<table border=\"1\" class=\"dataframe\">\n",
       "  <thead>\n",
       "    <tr style=\"text-align: right;\">\n",
       "      <th></th>\n",
       "      <th>0</th>\n",
       "      <th>1</th>\n",
       "      <th>2</th>\n",
       "      <th>3</th>\n",
       "      <th>4</th>\n",
       "    </tr>\n",
       "  </thead>\n",
       "  <tbody>\n",
       "    <tr>\n",
       "      <th>id</th>\n",
       "      <td>a6984c3ae395090e3bee8ad63c3758b110de096d5d8195...</td>\n",
       "      <td>6178f41ade1365e44bc2c46654c2c8c0eaae27dcb476c4...</td>\n",
       "      <td>4a7e5069a397f12fdd7fd57111d6dc5d3ba558958efc02...</td>\n",
       "      <td>3348900fe63216a439d2e5238c79ddd46ede454df7b9d8...</td>\n",
       "      <td>1f9bcabc9d3173c1fe769899e4fac14b053037b953a1e4...</td>\n",
       "    </tr>\n",
       "    <tr>\n",
       "      <th>fl_matriz</th>\n",
       "      <td>1</td>\n",
       "      <td>1</td>\n",
       "      <td>1</td>\n",
       "      <td>1</td>\n",
       "      <td>1</td>\n",
       "    </tr>\n",
       "    <tr>\n",
       "      <th>sg_uf</th>\n",
       "      <td>RN</td>\n",
       "      <td>PI</td>\n",
       "      <td>AM</td>\n",
       "      <td>AM</td>\n",
       "      <td>RN</td>\n",
       "    </tr>\n",
       "    <tr>\n",
       "      <th>natureza_juridica_macro</th>\n",
       "      <td>ENTIDADES EMPRESARIAIS</td>\n",
       "      <td>OUTROS</td>\n",
       "      <td>OUTROS</td>\n",
       "      <td>OUTROS</td>\n",
       "      <td>OUTROS</td>\n",
       "    </tr>\n",
       "    <tr>\n",
       "      <th>setor</th>\n",
       "      <td>CONSTRUÇÃO CIVIL</td>\n",
       "      <td>SERVIÇO</td>\n",
       "      <td>SERVIÇO</td>\n",
       "      <td>SERVIÇO</td>\n",
       "      <td>SERVIÇO</td>\n",
       "    </tr>\n",
       "    <tr>\n",
       "      <th>idade_empresa_anos</th>\n",
       "      <td>14.4575</td>\n",
       "      <td>1.46301</td>\n",
       "      <td>7.09315</td>\n",
       "      <td>6.51233</td>\n",
       "      <td>3.2</td>\n",
       "    </tr>\n",
       "    <tr>\n",
       "      <th>fl_sa</th>\n",
       "      <td>0</td>\n",
       "      <td>0</td>\n",
       "      <td>0</td>\n",
       "      <td>0</td>\n",
       "      <td>0</td>\n",
       "    </tr>\n",
       "    <tr>\n",
       "      <th>fl_mei</th>\n",
       "      <td>0</td>\n",
       "      <td>1</td>\n",
       "      <td>1</td>\n",
       "      <td>0</td>\n",
       "      <td>0</td>\n",
       "    </tr>\n",
       "    <tr>\n",
       "      <th>fl_email</th>\n",
       "      <td>1</td>\n",
       "      <td>1</td>\n",
       "      <td>0</td>\n",
       "      <td>1</td>\n",
       "      <td>1</td>\n",
       "    </tr>\n",
       "    <tr>\n",
       "      <th>fl_telefone</th>\n",
       "      <td>1</td>\n",
       "      <td>1</td>\n",
       "      <td>1</td>\n",
       "      <td>1</td>\n",
       "      <td>1</td>\n",
       "    </tr>\n",
       "    <tr>\n",
       "      <th>fl_rm</th>\n",
       "      <td>1</td>\n",
       "      <td>1</td>\n",
       "      <td>1</td>\n",
       "      <td>1</td>\n",
       "      <td>1</td>\n",
       "    </tr>\n",
       "    <tr>\n",
       "      <th>fl_veiculo</th>\n",
       "      <td>0</td>\n",
       "      <td>0</td>\n",
       "      <td>0</td>\n",
       "      <td>0</td>\n",
       "      <td>0</td>\n",
       "    </tr>\n",
       "    <tr>\n",
       "      <th>fl_optante_simples</th>\n",
       "      <td>1</td>\n",
       "      <td>0</td>\n",
       "      <td>1</td>\n",
       "      <td>1</td>\n",
       "      <td>1</td>\n",
       "    </tr>\n",
       "    <tr>\n",
       "      <th>vl_total_veiculos_pesados_grupo</th>\n",
       "      <td>0</td>\n",
       "      <td>0</td>\n",
       "      <td>0</td>\n",
       "      <td>0</td>\n",
       "      <td>0</td>\n",
       "    </tr>\n",
       "    <tr>\n",
       "      <th>vl_total_veiculos_leves_grupo</th>\n",
       "      <td>0</td>\n",
       "      <td>0</td>\n",
       "      <td>0</td>\n",
       "      <td>0</td>\n",
       "      <td>0</td>\n",
       "    </tr>\n",
       "    <tr>\n",
       "      <th>fl_optante_simei</th>\n",
       "      <td>0</td>\n",
       "      <td>0</td>\n",
       "      <td>1</td>\n",
       "      <td>0</td>\n",
       "      <td>0</td>\n",
       "    </tr>\n",
       "    <tr>\n",
       "      <th>sg_uf_matriz</th>\n",
       "      <td>RN</td>\n",
       "      <td>PI</td>\n",
       "      <td>AM</td>\n",
       "      <td>AM</td>\n",
       "      <td>RN</td>\n",
       "    </tr>\n",
       "    <tr>\n",
       "      <th>fl_passivel_iss</th>\n",
       "      <td>1</td>\n",
       "      <td>1</td>\n",
       "      <td>1</td>\n",
       "      <td>1</td>\n",
       "      <td>1</td>\n",
       "    </tr>\n",
       "    <tr>\n",
       "      <th>vl_faturamento_estimado_aux</th>\n",
       "      <td>3.13217e+06</td>\n",
       "      <td>210000</td>\n",
       "      <td>50000</td>\n",
       "      <td>210000</td>\n",
       "      <td>210000</td>\n",
       "    </tr>\n",
       "    <tr>\n",
       "      <th>vl_faturamento_estimado_grupo_aux</th>\n",
       "      <td>3.13217e+06</td>\n",
       "      <td>210000</td>\n",
       "      <td>50000</td>\n",
       "      <td>210000</td>\n",
       "      <td>210000</td>\n",
       "    </tr>\n",
       "    <tr>\n",
       "      <th>qt_filiais</th>\n",
       "      <td>0</td>\n",
       "      <td>0</td>\n",
       "      <td>0</td>\n",
       "      <td>0</td>\n",
       "      <td>0</td>\n",
       "    </tr>\n",
       "    <tr>\n",
       "      <th>de_nivel_atividade_numerico</th>\n",
       "      <td>4</td>\n",
       "      <td>2</td>\n",
       "      <td>3</td>\n",
       "      <td>3</td>\n",
       "      <td>4</td>\n",
       "    </tr>\n",
       "  </tbody>\n",
       "</table>\n",
       "</div>"
      ],
      "text/plain": [
       "                                                                                   0  \\\n",
       "id                                 a6984c3ae395090e3bee8ad63c3758b110de096d5d8195...   \n",
       "fl_matriz                                                                          1   \n",
       "sg_uf                                                                             RN   \n",
       "natureza_juridica_macro                                       ENTIDADES EMPRESARIAIS   \n",
       "setor                                                               CONSTRUÇÃO CIVIL   \n",
       "idade_empresa_anos                                                           14.4575   \n",
       "fl_sa                                                                              0   \n",
       "fl_mei                                                                             0   \n",
       "fl_email                                                                           1   \n",
       "fl_telefone                                                                        1   \n",
       "fl_rm                                                                              1   \n",
       "fl_veiculo                                                                         0   \n",
       "fl_optante_simples                                                                 1   \n",
       "vl_total_veiculos_pesados_grupo                                                    0   \n",
       "vl_total_veiculos_leves_grupo                                                      0   \n",
       "fl_optante_simei                                                                   0   \n",
       "sg_uf_matriz                                                                      RN   \n",
       "fl_passivel_iss                                                                    1   \n",
       "vl_faturamento_estimado_aux                                              3.13217e+06   \n",
       "vl_faturamento_estimado_grupo_aux                                        3.13217e+06   \n",
       "qt_filiais                                                                         0   \n",
       "de_nivel_atividade_numerico                                                        4   \n",
       "\n",
       "                                                                                   1  \\\n",
       "id                                 6178f41ade1365e44bc2c46654c2c8c0eaae27dcb476c4...   \n",
       "fl_matriz                                                                          1   \n",
       "sg_uf                                                                             PI   \n",
       "natureza_juridica_macro                                                       OUTROS   \n",
       "setor                                                                        SERVIÇO   \n",
       "idade_empresa_anos                                                           1.46301   \n",
       "fl_sa                                                                              0   \n",
       "fl_mei                                                                             1   \n",
       "fl_email                                                                           1   \n",
       "fl_telefone                                                                        1   \n",
       "fl_rm                                                                              1   \n",
       "fl_veiculo                                                                         0   \n",
       "fl_optante_simples                                                                 0   \n",
       "vl_total_veiculos_pesados_grupo                                                    0   \n",
       "vl_total_veiculos_leves_grupo                                                      0   \n",
       "fl_optante_simei                                                                   0   \n",
       "sg_uf_matriz                                                                      PI   \n",
       "fl_passivel_iss                                                                    1   \n",
       "vl_faturamento_estimado_aux                                                   210000   \n",
       "vl_faturamento_estimado_grupo_aux                                             210000   \n",
       "qt_filiais                                                                         0   \n",
       "de_nivel_atividade_numerico                                                        2   \n",
       "\n",
       "                                                                                   2  \\\n",
       "id                                 4a7e5069a397f12fdd7fd57111d6dc5d3ba558958efc02...   \n",
       "fl_matriz                                                                          1   \n",
       "sg_uf                                                                             AM   \n",
       "natureza_juridica_macro                                                       OUTROS   \n",
       "setor                                                                        SERVIÇO   \n",
       "idade_empresa_anos                                                           7.09315   \n",
       "fl_sa                                                                              0   \n",
       "fl_mei                                                                             1   \n",
       "fl_email                                                                           0   \n",
       "fl_telefone                                                                        1   \n",
       "fl_rm                                                                              1   \n",
       "fl_veiculo                                                                         0   \n",
       "fl_optante_simples                                                                 1   \n",
       "vl_total_veiculos_pesados_grupo                                                    0   \n",
       "vl_total_veiculos_leves_grupo                                                      0   \n",
       "fl_optante_simei                                                                   1   \n",
       "sg_uf_matriz                                                                      AM   \n",
       "fl_passivel_iss                                                                    1   \n",
       "vl_faturamento_estimado_aux                                                    50000   \n",
       "vl_faturamento_estimado_grupo_aux                                              50000   \n",
       "qt_filiais                                                                         0   \n",
       "de_nivel_atividade_numerico                                                        3   \n",
       "\n",
       "                                                                                   3  \\\n",
       "id                                 3348900fe63216a439d2e5238c79ddd46ede454df7b9d8...   \n",
       "fl_matriz                                                                          1   \n",
       "sg_uf                                                                             AM   \n",
       "natureza_juridica_macro                                                       OUTROS   \n",
       "setor                                                                        SERVIÇO   \n",
       "idade_empresa_anos                                                           6.51233   \n",
       "fl_sa                                                                              0   \n",
       "fl_mei                                                                             0   \n",
       "fl_email                                                                           1   \n",
       "fl_telefone                                                                        1   \n",
       "fl_rm                                                                              1   \n",
       "fl_veiculo                                                                         0   \n",
       "fl_optante_simples                                                                 1   \n",
       "vl_total_veiculos_pesados_grupo                                                    0   \n",
       "vl_total_veiculos_leves_grupo                                                      0   \n",
       "fl_optante_simei                                                                   0   \n",
       "sg_uf_matriz                                                                      AM   \n",
       "fl_passivel_iss                                                                    1   \n",
       "vl_faturamento_estimado_aux                                                   210000   \n",
       "vl_faturamento_estimado_grupo_aux                                             210000   \n",
       "qt_filiais                                                                         0   \n",
       "de_nivel_atividade_numerico                                                        3   \n",
       "\n",
       "                                                                                   4  \n",
       "id                                 1f9bcabc9d3173c1fe769899e4fac14b053037b953a1e4...  \n",
       "fl_matriz                                                                          1  \n",
       "sg_uf                                                                             RN  \n",
       "natureza_juridica_macro                                                       OUTROS  \n",
       "setor                                                                        SERVIÇO  \n",
       "idade_empresa_anos                                                               3.2  \n",
       "fl_sa                                                                              0  \n",
       "fl_mei                                                                             0  \n",
       "fl_email                                                                           1  \n",
       "fl_telefone                                                                        1  \n",
       "fl_rm                                                                              1  \n",
       "fl_veiculo                                                                         0  \n",
       "fl_optante_simples                                                                 1  \n",
       "vl_total_veiculos_pesados_grupo                                                    0  \n",
       "vl_total_veiculos_leves_grupo                                                      0  \n",
       "fl_optante_simei                                                                   0  \n",
       "sg_uf_matriz                                                                      RN  \n",
       "fl_passivel_iss                                                                    1  \n",
       "vl_faturamento_estimado_aux                                                   210000  \n",
       "vl_faturamento_estimado_grupo_aux                                             210000  \n",
       "qt_filiais                                                                         0  \n",
       "de_nivel_atividade_numerico                                                        4  "
      ]
     },
     "execution_count": 17,
     "metadata": {},
     "output_type": "execute_result"
    }
   ],
   "source": [
    "mercado.head().T"
   ]
  },
  {
   "cell_type": "code",
   "execution_count": 19,
   "metadata": {},
   "outputs": [],
   "source": [
    "variaveis_categoricas = ['sg_uf', 'natureza_juridica_macro', 'setor', 'sg_uf_matriz']\n",
    "mercado_dummies = pd.get_dummies(mercado[variaveis_categoricas])"
   ]
  },
  {
   "cell_type": "code",
   "execution_count": 20,
   "metadata": {},
   "outputs": [
    {
     "data": {
      "text/plain": [
       "(462298, 46)"
      ]
     },
     "execution_count": 20,
     "metadata": {},
     "output_type": "execute_result"
    }
   ],
   "source": [
    "mercado_dummies.shape"
   ]
  },
  {
   "cell_type": "code",
   "execution_count": 21,
   "metadata": {},
   "outputs": [
    {
     "data": {
      "text/html": [
       "<div>\n",
       "<style scoped>\n",
       "    .dataframe tbody tr th:only-of-type {\n",
       "        vertical-align: middle;\n",
       "    }\n",
       "\n",
       "    .dataframe tbody tr th {\n",
       "        vertical-align: top;\n",
       "    }\n",
       "\n",
       "    .dataframe thead th {\n",
       "        text-align: right;\n",
       "    }\n",
       "</style>\n",
       "<table border=\"1\" class=\"dataframe\">\n",
       "  <thead>\n",
       "    <tr style=\"text-align: right;\">\n",
       "      <th></th>\n",
       "      <th>sg_uf_AC</th>\n",
       "      <th>sg_uf_AM</th>\n",
       "      <th>sg_uf_MA</th>\n",
       "      <th>sg_uf_PI</th>\n",
       "      <th>sg_uf_RN</th>\n",
       "      <th>sg_uf_RO</th>\n",
       "      <th>natureza_juridica_macro_ADMINISTRACAO PUBLICA</th>\n",
       "      <th>natureza_juridica_macro_CARGO POLITICO</th>\n",
       "      <th>natureza_juridica_macro_ENTIDADES EMPRESARIAIS</th>\n",
       "      <th>natureza_juridica_macro_ENTIDADES SEM FINS LUCRATIVOS</th>\n",
       "      <th>...</th>\n",
       "      <th>sg_uf_matriz_PR</th>\n",
       "      <th>sg_uf_matriz_RJ</th>\n",
       "      <th>sg_uf_matriz_RN</th>\n",
       "      <th>sg_uf_matriz_RO</th>\n",
       "      <th>sg_uf_matriz_RR</th>\n",
       "      <th>sg_uf_matriz_RS</th>\n",
       "      <th>sg_uf_matriz_SC</th>\n",
       "      <th>sg_uf_matriz_SE</th>\n",
       "      <th>sg_uf_matriz_SP</th>\n",
       "      <th>sg_uf_matriz_TO</th>\n",
       "    </tr>\n",
       "  </thead>\n",
       "  <tbody>\n",
       "    <tr>\n",
       "      <th>0</th>\n",
       "      <td>0</td>\n",
       "      <td>0</td>\n",
       "      <td>0</td>\n",
       "      <td>0</td>\n",
       "      <td>1</td>\n",
       "      <td>0</td>\n",
       "      <td>0</td>\n",
       "      <td>0</td>\n",
       "      <td>1</td>\n",
       "      <td>0</td>\n",
       "      <td>...</td>\n",
       "      <td>0</td>\n",
       "      <td>0</td>\n",
       "      <td>1</td>\n",
       "      <td>0</td>\n",
       "      <td>0</td>\n",
       "      <td>0</td>\n",
       "      <td>0</td>\n",
       "      <td>0</td>\n",
       "      <td>0</td>\n",
       "      <td>0</td>\n",
       "    </tr>\n",
       "    <tr>\n",
       "      <th>1</th>\n",
       "      <td>0</td>\n",
       "      <td>0</td>\n",
       "      <td>0</td>\n",
       "      <td>1</td>\n",
       "      <td>0</td>\n",
       "      <td>0</td>\n",
       "      <td>0</td>\n",
       "      <td>0</td>\n",
       "      <td>0</td>\n",
       "      <td>0</td>\n",
       "      <td>...</td>\n",
       "      <td>0</td>\n",
       "      <td>0</td>\n",
       "      <td>0</td>\n",
       "      <td>0</td>\n",
       "      <td>0</td>\n",
       "      <td>0</td>\n",
       "      <td>0</td>\n",
       "      <td>0</td>\n",
       "      <td>0</td>\n",
       "      <td>0</td>\n",
       "    </tr>\n",
       "    <tr>\n",
       "      <th>2</th>\n",
       "      <td>0</td>\n",
       "      <td>1</td>\n",
       "      <td>0</td>\n",
       "      <td>0</td>\n",
       "      <td>0</td>\n",
       "      <td>0</td>\n",
       "      <td>0</td>\n",
       "      <td>0</td>\n",
       "      <td>0</td>\n",
       "      <td>0</td>\n",
       "      <td>...</td>\n",
       "      <td>0</td>\n",
       "      <td>0</td>\n",
       "      <td>0</td>\n",
       "      <td>0</td>\n",
       "      <td>0</td>\n",
       "      <td>0</td>\n",
       "      <td>0</td>\n",
       "      <td>0</td>\n",
       "      <td>0</td>\n",
       "      <td>0</td>\n",
       "    </tr>\n",
       "    <tr>\n",
       "      <th>3</th>\n",
       "      <td>0</td>\n",
       "      <td>1</td>\n",
       "      <td>0</td>\n",
       "      <td>0</td>\n",
       "      <td>0</td>\n",
       "      <td>0</td>\n",
       "      <td>0</td>\n",
       "      <td>0</td>\n",
       "      <td>0</td>\n",
       "      <td>0</td>\n",
       "      <td>...</td>\n",
       "      <td>0</td>\n",
       "      <td>0</td>\n",
       "      <td>0</td>\n",
       "      <td>0</td>\n",
       "      <td>0</td>\n",
       "      <td>0</td>\n",
       "      <td>0</td>\n",
       "      <td>0</td>\n",
       "      <td>0</td>\n",
       "      <td>0</td>\n",
       "    </tr>\n",
       "    <tr>\n",
       "      <th>4</th>\n",
       "      <td>0</td>\n",
       "      <td>0</td>\n",
       "      <td>0</td>\n",
       "      <td>0</td>\n",
       "      <td>1</td>\n",
       "      <td>0</td>\n",
       "      <td>0</td>\n",
       "      <td>0</td>\n",
       "      <td>0</td>\n",
       "      <td>0</td>\n",
       "      <td>...</td>\n",
       "      <td>0</td>\n",
       "      <td>0</td>\n",
       "      <td>1</td>\n",
       "      <td>0</td>\n",
       "      <td>0</td>\n",
       "      <td>0</td>\n",
       "      <td>0</td>\n",
       "      <td>0</td>\n",
       "      <td>0</td>\n",
       "      <td>0</td>\n",
       "    </tr>\n",
       "  </tbody>\n",
       "</table>\n",
       "<p>5 rows × 46 columns</p>\n",
       "</div>"
      ],
      "text/plain": [
       "   sg_uf_AC  sg_uf_AM  sg_uf_MA  sg_uf_PI  sg_uf_RN  sg_uf_RO  \\\n",
       "0         0         0         0         0         1         0   \n",
       "1         0         0         0         1         0         0   \n",
       "2         0         1         0         0         0         0   \n",
       "3         0         1         0         0         0         0   \n",
       "4         0         0         0         0         1         0   \n",
       "\n",
       "   natureza_juridica_macro_ADMINISTRACAO PUBLICA  \\\n",
       "0                                              0   \n",
       "1                                              0   \n",
       "2                                              0   \n",
       "3                                              0   \n",
       "4                                              0   \n",
       "\n",
       "   natureza_juridica_macro_CARGO POLITICO  \\\n",
       "0                                       0   \n",
       "1                                       0   \n",
       "2                                       0   \n",
       "3                                       0   \n",
       "4                                       0   \n",
       "\n",
       "   natureza_juridica_macro_ENTIDADES EMPRESARIAIS  \\\n",
       "0                                               1   \n",
       "1                                               0   \n",
       "2                                               0   \n",
       "3                                               0   \n",
       "4                                               0   \n",
       "\n",
       "   natureza_juridica_macro_ENTIDADES SEM FINS LUCRATIVOS  ...  \\\n",
       "0                                                  0      ...   \n",
       "1                                                  0      ...   \n",
       "2                                                  0      ...   \n",
       "3                                                  0      ...   \n",
       "4                                                  0      ...   \n",
       "\n",
       "   sg_uf_matriz_PR  sg_uf_matriz_RJ  sg_uf_matriz_RN  sg_uf_matriz_RO  \\\n",
       "0                0                0                1                0   \n",
       "1                0                0                0                0   \n",
       "2                0                0                0                0   \n",
       "3                0                0                0                0   \n",
       "4                0                0                1                0   \n",
       "\n",
       "   sg_uf_matriz_RR  sg_uf_matriz_RS  sg_uf_matriz_SC  sg_uf_matriz_SE  \\\n",
       "0                0                0                0                0   \n",
       "1                0                0                0                0   \n",
       "2                0                0                0                0   \n",
       "3                0                0                0                0   \n",
       "4                0                0                0                0   \n",
       "\n",
       "   sg_uf_matriz_SP  sg_uf_matriz_TO  \n",
       "0                0                0  \n",
       "1                0                0  \n",
       "2                0                0  \n",
       "3                0                0  \n",
       "4                0                0  \n",
       "\n",
       "[5 rows x 46 columns]"
      ]
     },
     "execution_count": 21,
     "metadata": {},
     "output_type": "execute_result"
    }
   ],
   "source": [
    "mercado_dummies.head()"
   ]
  },
  {
   "cell_type": "code",
   "execution_count": 22,
   "metadata": {},
   "outputs": [],
   "source": [
    "mercado.drop(columns=variaveis_categoricas, inplace=True)"
   ]
  },
  {
   "cell_type": "code",
   "execution_count": 23,
   "metadata": {},
   "outputs": [],
   "source": [
    "mercado = mercado.merge(mercado_dummies, left_index=True, right_index=True)"
   ]
  },
  {
   "cell_type": "code",
   "execution_count": 24,
   "metadata": {},
   "outputs": [
    {
     "data": {
      "text/plain": [
       "(462298, 64)"
      ]
     },
     "execution_count": 24,
     "metadata": {},
     "output_type": "execute_result"
    }
   ],
   "source": [
    "mercado.shape"
   ]
  },
  {
   "cell_type": "code",
   "execution_count": 25,
   "metadata": {},
   "outputs": [
    {
     "data": {
      "text/html": [
       "<div>\n",
       "<style scoped>\n",
       "    .dataframe tbody tr th:only-of-type {\n",
       "        vertical-align: middle;\n",
       "    }\n",
       "\n",
       "    .dataframe tbody tr th {\n",
       "        vertical-align: top;\n",
       "    }\n",
       "\n",
       "    .dataframe thead th {\n",
       "        text-align: right;\n",
       "    }\n",
       "</style>\n",
       "<table border=\"1\" class=\"dataframe\">\n",
       "  <thead>\n",
       "    <tr style=\"text-align: right;\">\n",
       "      <th></th>\n",
       "      <th>id</th>\n",
       "      <th>fl_matriz</th>\n",
       "      <th>idade_empresa_anos</th>\n",
       "      <th>fl_sa</th>\n",
       "      <th>fl_mei</th>\n",
       "      <th>fl_email</th>\n",
       "      <th>fl_telefone</th>\n",
       "      <th>fl_rm</th>\n",
       "      <th>fl_veiculo</th>\n",
       "      <th>fl_optante_simples</th>\n",
       "      <th>...</th>\n",
       "      <th>sg_uf_matriz_PR</th>\n",
       "      <th>sg_uf_matriz_RJ</th>\n",
       "      <th>sg_uf_matriz_RN</th>\n",
       "      <th>sg_uf_matriz_RO</th>\n",
       "      <th>sg_uf_matriz_RR</th>\n",
       "      <th>sg_uf_matriz_RS</th>\n",
       "      <th>sg_uf_matriz_SC</th>\n",
       "      <th>sg_uf_matriz_SE</th>\n",
       "      <th>sg_uf_matriz_SP</th>\n",
       "      <th>sg_uf_matriz_TO</th>\n",
       "    </tr>\n",
       "  </thead>\n",
       "  <tbody>\n",
       "    <tr>\n",
       "      <th>0</th>\n",
       "      <td>a6984c3ae395090e3bee8ad63c3758b110de096d5d8195...</td>\n",
       "      <td>1</td>\n",
       "      <td>14.457534</td>\n",
       "      <td>0</td>\n",
       "      <td>0</td>\n",
       "      <td>1</td>\n",
       "      <td>1</td>\n",
       "      <td>1</td>\n",
       "      <td>0</td>\n",
       "      <td>1</td>\n",
       "      <td>...</td>\n",
       "      <td>0</td>\n",
       "      <td>0</td>\n",
       "      <td>1</td>\n",
       "      <td>0</td>\n",
       "      <td>0</td>\n",
       "      <td>0</td>\n",
       "      <td>0</td>\n",
       "      <td>0</td>\n",
       "      <td>0</td>\n",
       "      <td>0</td>\n",
       "    </tr>\n",
       "    <tr>\n",
       "      <th>1</th>\n",
       "      <td>6178f41ade1365e44bc2c46654c2c8c0eaae27dcb476c4...</td>\n",
       "      <td>1</td>\n",
       "      <td>1.463014</td>\n",
       "      <td>0</td>\n",
       "      <td>1</td>\n",
       "      <td>1</td>\n",
       "      <td>1</td>\n",
       "      <td>1</td>\n",
       "      <td>0</td>\n",
       "      <td>0</td>\n",
       "      <td>...</td>\n",
       "      <td>0</td>\n",
       "      <td>0</td>\n",
       "      <td>0</td>\n",
       "      <td>0</td>\n",
       "      <td>0</td>\n",
       "      <td>0</td>\n",
       "      <td>0</td>\n",
       "      <td>0</td>\n",
       "      <td>0</td>\n",
       "      <td>0</td>\n",
       "    </tr>\n",
       "    <tr>\n",
       "      <th>2</th>\n",
       "      <td>4a7e5069a397f12fdd7fd57111d6dc5d3ba558958efc02...</td>\n",
       "      <td>1</td>\n",
       "      <td>7.093151</td>\n",
       "      <td>0</td>\n",
       "      <td>1</td>\n",
       "      <td>0</td>\n",
       "      <td>1</td>\n",
       "      <td>1</td>\n",
       "      <td>0</td>\n",
       "      <td>1</td>\n",
       "      <td>...</td>\n",
       "      <td>0</td>\n",
       "      <td>0</td>\n",
       "      <td>0</td>\n",
       "      <td>0</td>\n",
       "      <td>0</td>\n",
       "      <td>0</td>\n",
       "      <td>0</td>\n",
       "      <td>0</td>\n",
       "      <td>0</td>\n",
       "      <td>0</td>\n",
       "    </tr>\n",
       "    <tr>\n",
       "      <th>3</th>\n",
       "      <td>3348900fe63216a439d2e5238c79ddd46ede454df7b9d8...</td>\n",
       "      <td>1</td>\n",
       "      <td>6.512329</td>\n",
       "      <td>0</td>\n",
       "      <td>0</td>\n",
       "      <td>1</td>\n",
       "      <td>1</td>\n",
       "      <td>1</td>\n",
       "      <td>0</td>\n",
       "      <td>1</td>\n",
       "      <td>...</td>\n",
       "      <td>0</td>\n",
       "      <td>0</td>\n",
       "      <td>0</td>\n",
       "      <td>0</td>\n",
       "      <td>0</td>\n",
       "      <td>0</td>\n",
       "      <td>0</td>\n",
       "      <td>0</td>\n",
       "      <td>0</td>\n",
       "      <td>0</td>\n",
       "    </tr>\n",
       "    <tr>\n",
       "      <th>4</th>\n",
       "      <td>1f9bcabc9d3173c1fe769899e4fac14b053037b953a1e4...</td>\n",
       "      <td>1</td>\n",
       "      <td>3.200000</td>\n",
       "      <td>0</td>\n",
       "      <td>0</td>\n",
       "      <td>1</td>\n",
       "      <td>1</td>\n",
       "      <td>1</td>\n",
       "      <td>0</td>\n",
       "      <td>1</td>\n",
       "      <td>...</td>\n",
       "      <td>0</td>\n",
       "      <td>0</td>\n",
       "      <td>1</td>\n",
       "      <td>0</td>\n",
       "      <td>0</td>\n",
       "      <td>0</td>\n",
       "      <td>0</td>\n",
       "      <td>0</td>\n",
       "      <td>0</td>\n",
       "      <td>0</td>\n",
       "    </tr>\n",
       "  </tbody>\n",
       "</table>\n",
       "<p>5 rows × 64 columns</p>\n",
       "</div>"
      ],
      "text/plain": [
       "                                                  id  fl_matriz  \\\n",
       "0  a6984c3ae395090e3bee8ad63c3758b110de096d5d8195...          1   \n",
       "1  6178f41ade1365e44bc2c46654c2c8c0eaae27dcb476c4...          1   \n",
       "2  4a7e5069a397f12fdd7fd57111d6dc5d3ba558958efc02...          1   \n",
       "3  3348900fe63216a439d2e5238c79ddd46ede454df7b9d8...          1   \n",
       "4  1f9bcabc9d3173c1fe769899e4fac14b053037b953a1e4...          1   \n",
       "\n",
       "   idade_empresa_anos  fl_sa  fl_mei  fl_email  fl_telefone  fl_rm  \\\n",
       "0           14.457534      0       0         1            1      1   \n",
       "1            1.463014      0       1         1            1      1   \n",
       "2            7.093151      0       1         0            1      1   \n",
       "3            6.512329      0       0         1            1      1   \n",
       "4            3.200000      0       0         1            1      1   \n",
       "\n",
       "   fl_veiculo  fl_optante_simples  ...  sg_uf_matriz_PR  sg_uf_matriz_RJ  \\\n",
       "0           0                   1  ...                0                0   \n",
       "1           0                   0  ...                0                0   \n",
       "2           0                   1  ...                0                0   \n",
       "3           0                   1  ...                0                0   \n",
       "4           0                   1  ...                0                0   \n",
       "\n",
       "   sg_uf_matriz_RN  sg_uf_matriz_RO  sg_uf_matriz_RR  sg_uf_matriz_RS  \\\n",
       "0                1                0                0                0   \n",
       "1                0                0                0                0   \n",
       "2                0                0                0                0   \n",
       "3                0                0                0                0   \n",
       "4                1                0                0                0   \n",
       "\n",
       "   sg_uf_matriz_SC  sg_uf_matriz_SE  sg_uf_matriz_SP  sg_uf_matriz_TO  \n",
       "0                0                0                0                0  \n",
       "1                0                0                0                0  \n",
       "2                0                0                0                0  \n",
       "3                0                0                0                0  \n",
       "4                0                0                0                0  \n",
       "\n",
       "[5 rows x 64 columns]"
      ]
     },
     "execution_count": 25,
     "metadata": {},
     "output_type": "execute_result"
    }
   ],
   "source": [
    "mercado.head()"
   ]
  },
  {
   "cell_type": "code",
   "execution_count": 26,
   "metadata": {},
   "outputs": [],
   "source": [
    "empresa1_ajustada = empresa1.copy()\n",
    "empresa1_ajustada['Cliente'] = int(1)\n",
    "empresa1_ajustada = empresa1_ajustada[['id','Cliente']]"
   ]
  },
  {
   "cell_type": "code",
   "execution_count": 27,
   "metadata": {},
   "outputs": [
    {
     "name": "stdout",
     "output_type": "stream",
     "text": [
      "<class 'pandas.core.frame.DataFrame'>\n",
      "Int64Index: 555 entries, 0 to 554\n",
      "Data columns (total 2 columns):\n",
      "id         555 non-null object\n",
      "Cliente    555 non-null int64\n",
      "dtypes: int64(1), object(1)\n",
      "memory usage: 13.0+ KB\n"
     ]
    }
   ],
   "source": [
    "empresa1_ajustada.info()"
   ]
  },
  {
   "cell_type": "code",
   "execution_count": 30,
   "metadata": {},
   "outputs": [],
   "source": [
    "cliente_empresa1 = pd.merge(mercado, empresa1_ajustada, on='id', how='right')"
   ]
  },
  {
   "cell_type": "code",
   "execution_count": 31,
   "metadata": {},
   "outputs": [
    {
     "data": {
      "text/plain": [
       "(555, 65)"
      ]
     },
     "execution_count": 31,
     "metadata": {},
     "output_type": "execute_result"
    }
   ],
   "source": [
    "cliente_empresa1.shape"
   ]
  },
  {
   "cell_type": "code",
   "execution_count": 15,
   "metadata": {},
   "outputs": [],
   "source": [
    "cliente_empresa1 = pd.merge(mercado, empresa1_ajustada, on='id', how='outer')"
   ]
  },
  {
   "cell_type": "code",
   "execution_count": 16,
   "metadata": {},
   "outputs": [],
   "source": [
    "cliente_empresa1['Cliente'] = cliente_empresa1['Cliente'].fillna(0).astype(int)"
   ]
  },
  {
   "cell_type": "code",
   "execution_count": 17,
   "metadata": {
    "scrolled": true
   },
   "outputs": [
    {
     "name": "stdout",
     "output_type": "stream",
     "text": [
      "<class 'pandas.core.frame.DataFrame'>\n",
      "Int64Index: 462298 entries, 0 to 462297\n",
      "Data columns (total 75 columns):\n",
      "id                                                        462298 non-null object\n",
      "fl_matriz                                                 462298 non-null bool\n",
      "idade_empresa_anos                                        462298 non-null float64\n",
      "fl_me                                                     462298 non-null bool\n",
      "fl_sa                                                     462298 non-null bool\n",
      "fl_epp                                                    462298 non-null bool\n",
      "fl_mei                                                    462298 non-null bool\n",
      "fl_ltda                                                   462298 non-null bool\n",
      "fl_st_especial                                            462298 non-null bool\n",
      "fl_email                                                  462298 non-null bool\n",
      "fl_telefone                                               462298 non-null bool\n",
      "fl_rm                                                     462298 non-null bool\n",
      "fl_spa                                                    462298 non-null bool\n",
      "fl_antt                                                   462298 non-null bool\n",
      "fl_veiculo                                                462298 non-null bool\n",
      "fl_optante_simples                                        462298 non-null bool\n",
      "vl_total_veiculos_pesados_grupo                           462298 non-null float64\n",
      "vl_total_veiculos_leves_grupo                             462298 non-null float64\n",
      "fl_optante_simei                                          462298 non-null bool\n",
      "fl_simples_irregular                                      462298 non-null bool\n",
      "fl_passivel_iss                                           462298 non-null bool\n",
      "vl_faturamento_estimado_aux                               462298 non-null float64\n",
      "vl_faturamento_estimado_grupo_aux                         462298 non-null float64\n",
      "qt_filiais                                                462298 non-null int64\n",
      "sg_uf_AC                                                  462298 non-null uint8\n",
      "sg_uf_AM                                                  462298 non-null uint8\n",
      "sg_uf_MA                                                  462298 non-null uint8\n",
      "sg_uf_PI                                                  462298 non-null uint8\n",
      "sg_uf_RN                                                  462298 non-null uint8\n",
      "sg_uf_RO                                                  462298 non-null uint8\n",
      "natureza_juridica_macro_ADMINISTRACAO PUBLICA             462298 non-null uint8\n",
      "natureza_juridica_macro_CARGO POLITICO                    462298 non-null uint8\n",
      "natureza_juridica_macro_ENTIDADES EMPRESARIAIS            462298 non-null uint8\n",
      "natureza_juridica_macro_ENTIDADES SEM FINS LUCRATIVOS     462298 non-null uint8\n",
      "natureza_juridica_macro_INSTITUICOES EXTRATERRITORIAIS    462298 non-null uint8\n",
      "natureza_juridica_macro_OUTROS                            462298 non-null uint8\n",
      "natureza_juridica_macro_PESSOAS FISICAS                   462298 non-null uint8\n",
      "setor_AGROPECUARIA                                        462298 non-null uint8\n",
      "setor_COMERCIO                                            462298 non-null uint8\n",
      "setor_CONSTRUÇÃO CIVIL                                    462298 non-null uint8\n",
      "setor_INDUSTRIA                                           462298 non-null uint8\n",
      "setor_SERVIÇO                                             462298 non-null uint8\n",
      "setor_SETOR INDEFINIDO                                    462298 non-null uint8\n",
      "sg_uf_matriz_AC                                           462298 non-null uint8\n",
      "sg_uf_matriz_AL                                           462298 non-null uint8\n",
      "sg_uf_matriz_AM                                           462298 non-null uint8\n",
      "sg_uf_matriz_AP                                           462298 non-null uint8\n",
      "sg_uf_matriz_BA                                           462298 non-null uint8\n",
      "sg_uf_matriz_CE                                           462298 non-null uint8\n",
      "sg_uf_matriz_DF                                           462298 non-null uint8\n",
      "sg_uf_matriz_ES                                           462298 non-null uint8\n",
      "sg_uf_matriz_GO                                           462298 non-null uint8\n",
      "sg_uf_matriz_MA                                           462298 non-null uint8\n",
      "sg_uf_matriz_MG                                           462298 non-null uint8\n",
      "sg_uf_matriz_MS                                           462298 non-null uint8\n",
      "sg_uf_matriz_MT                                           462298 non-null uint8\n",
      "sg_uf_matriz_PA                                           462298 non-null uint8\n",
      "sg_uf_matriz_PB                                           462298 non-null uint8\n",
      "sg_uf_matriz_PE                                           462298 non-null uint8\n",
      "sg_uf_matriz_PI                                           462298 non-null uint8\n",
      "sg_uf_matriz_PR                                           462298 non-null uint8\n",
      "sg_uf_matriz_RJ                                           462298 non-null uint8\n",
      "sg_uf_matriz_RN                                           462298 non-null uint8\n",
      "sg_uf_matriz_RO                                           462298 non-null uint8\n",
      "sg_uf_matriz_RR                                           462298 non-null uint8\n",
      "sg_uf_matriz_RS                                           462298 non-null uint8\n",
      "sg_uf_matriz_SC                                           462298 non-null uint8\n",
      "sg_uf_matriz_SE                                           462298 non-null uint8\n",
      "sg_uf_matriz_SP                                           462298 non-null uint8\n",
      "sg_uf_matriz_TO                                           462298 non-null uint8\n",
      "de_nivel_atividade_ALTA                                   462298 non-null uint8\n",
      "de_nivel_atividade_BAIXA                                  462298 non-null uint8\n",
      "de_nivel_atividade_MEDIA                                  462298 non-null uint8\n",
      "de_nivel_atividade_MUITO BAIXA                            462298 non-null uint8\n",
      "Cliente                                                   462298 non-null int64\n",
      "dtypes: bool(17), float64(5), int64(2), object(1), uint8(50)\n",
      "memory usage: 61.3+ MB\n"
     ]
    }
   ],
   "source": [
    "cliente_empresa1.info()"
   ]
  },
  {
   "cell_type": "code",
   "execution_count": 18,
   "metadata": {},
   "outputs": [
    {
     "data": {
      "text/plain": [
       "(462298, 75)"
      ]
     },
     "execution_count": 18,
     "metadata": {},
     "output_type": "execute_result"
    }
   ],
   "source": [
    "cliente_empresa1.shape"
   ]
  },
  {
   "cell_type": "code",
   "execution_count": 19,
   "metadata": {},
   "outputs": [],
   "source": [
    "X = cliente_empresa1.drop(['id','Cliente'], axis = 1)"
   ]
  },
  {
   "cell_type": "code",
   "execution_count": 20,
   "metadata": {},
   "outputs": [],
   "source": [
    "y = cliente_empresa1['Cliente']"
   ]
  },
  {
   "cell_type": "code",
   "execution_count": 21,
   "metadata": {
    "scrolled": true
   },
   "outputs": [],
   "source": [
    "Xtrain, Xval, ytrain, yval = train_test_split(X, y, train_size = 0.7)"
   ]
  },
  {
   "cell_type": "code",
   "execution_count": 22,
   "metadata": {},
   "outputs": [
    {
     "data": {
      "text/plain": [
       "((323608, 73), (138690, 73), (323608,), (138690,))"
      ]
     },
     "execution_count": 22,
     "metadata": {},
     "output_type": "execute_result"
    }
   ],
   "source": [
    "Xtrain.shape, Xval.shape, ytrain.shape, yval.shape"
   ]
  },
  {
   "cell_type": "code",
   "execution_count": 23,
   "metadata": {},
   "outputs": [],
   "source": [
    "selector = SelectKBest(score_func=f_classif, k = 20)"
   ]
  },
  {
   "cell_type": "code",
   "execution_count": 24,
   "metadata": {},
   "outputs": [
    {
     "name": "stderr",
     "output_type": "stream",
     "text": [
      "/home/eduardo/anaconda3/lib/python3.7/site-packages/sklearn/feature_selection/univariate_selection.py:114: UserWarning: Features [4] are constant.\n",
      "  UserWarning)\n",
      "/home/eduardo/anaconda3/lib/python3.7/site-packages/sklearn/feature_selection/univariate_selection.py:115: RuntimeWarning: invalid value encountered in true_divide\n",
      "  f = msb / msw\n"
     ]
    }
   ],
   "source": [
    "Xtrain2 = selector.fit_transform(Xtrain, ytrain)"
   ]
  },
  {
   "cell_type": "code",
   "execution_count": 25,
   "metadata": {},
   "outputs": [],
   "source": [
    "Xval2 = selector.transform(Xval)"
   ]
  },
  {
   "cell_type": "code",
   "execution_count": 26,
   "metadata": {},
   "outputs": [],
   "source": [
    "modelo = RandomForestRegressor(n_estimators = 100, n_jobs = -1, random_state = 42)"
   ]
  },
  {
   "cell_type": "code",
   "execution_count": 27,
   "metadata": {},
   "outputs": [
    {
     "data": {
      "text/plain": [
       "RandomForestRegressor(bootstrap=True, criterion='mse', max_depth=None,\n",
       "                      max_features='auto', max_leaf_nodes=None,\n",
       "                      min_impurity_decrease=0.0, min_impurity_split=None,\n",
       "                      min_samples_leaf=1, min_samples_split=2,\n",
       "                      min_weight_fraction_leaf=0.0, n_estimators=100, n_jobs=-1,\n",
       "                      oob_score=False, random_state=42, verbose=0,\n",
       "                      warm_start=False)"
      ]
     },
     "execution_count": 27,
     "metadata": {},
     "output_type": "execute_result"
    }
   ],
   "source": [
    "modelo.fit(Xtrain2, ytrain)"
   ]
  },
  {
   "cell_type": "code",
   "execution_count": 28,
   "metadata": {},
   "outputs": [],
   "source": [
    "previsao = modelo.predict(Xval2)"
   ]
  },
  {
   "cell_type": "code",
   "execution_count": 29,
   "metadata": {},
   "outputs": [],
   "source": [
    "score = mean_absolute_error(yval, previsao)"
   ]
  },
  {
   "cell_type": "code",
   "execution_count": 30,
   "metadata": {},
   "outputs": [],
   "source": [
    "k = 20"
   ]
  },
  {
   "cell_type": "code",
   "execution_count": 31,
   "metadata": {},
   "outputs": [
    {
     "name": "stdout",
     "output_type": "stream",
     "text": [
      "K = {} - MAE = {} 20 0.0024152755597068344\n"
     ]
    }
   ],
   "source": [
    "print( \"K = {} - MAE = {}\", k, score)"
   ]
  },
  {
   "cell_type": "code",
   "execution_count": 32,
   "metadata": {},
   "outputs": [
    {
     "name": "stderr",
     "output_type": "stream",
     "text": [
      "/home/eduardo/anaconda3/lib/python3.7/site-packages/sklearn/feature_selection/univariate_selection.py:114: UserWarning: Features [4] are constant.\n",
      "  UserWarning)\n",
      "/home/eduardo/anaconda3/lib/python3.7/site-packages/sklearn/feature_selection/univariate_selection.py:115: RuntimeWarning: invalid value encountered in true_divide\n",
      "  f = msb / msw\n"
     ]
    },
    {
     "name": "stdout",
     "output_type": "stream",
     "text": [
      "K = {} - MAE = {} 2 0.00241103413752241\n"
     ]
    },
    {
     "name": "stderr",
     "output_type": "stream",
     "text": [
      "/home/eduardo/anaconda3/lib/python3.7/site-packages/sklearn/feature_selection/univariate_selection.py:114: UserWarning: Features [4] are constant.\n",
      "  UserWarning)\n",
      "/home/eduardo/anaconda3/lib/python3.7/site-packages/sklearn/feature_selection/univariate_selection.py:115: RuntimeWarning: invalid value encountered in true_divide\n",
      "  f = msb / msw\n"
     ]
    },
    {
     "name": "stdout",
     "output_type": "stream",
     "text": [
      "K = {} - MAE = {} 4 0.0024129394845745855\n"
     ]
    },
    {
     "name": "stderr",
     "output_type": "stream",
     "text": [
      "/home/eduardo/anaconda3/lib/python3.7/site-packages/sklearn/feature_selection/univariate_selection.py:114: UserWarning: Features [4] are constant.\n",
      "  UserWarning)\n",
      "/home/eduardo/anaconda3/lib/python3.7/site-packages/sklearn/feature_selection/univariate_selection.py:115: RuntimeWarning: invalid value encountered in true_divide\n",
      "  f = msb / msw\n"
     ]
    },
    {
     "name": "stdout",
     "output_type": "stream",
     "text": [
      "K = {} - MAE = {} 6 0.002414577846863766\n"
     ]
    },
    {
     "name": "stderr",
     "output_type": "stream",
     "text": [
      "/home/eduardo/anaconda3/lib/python3.7/site-packages/sklearn/feature_selection/univariate_selection.py:114: UserWarning: Features [4] are constant.\n",
      "  UserWarning)\n",
      "/home/eduardo/anaconda3/lib/python3.7/site-packages/sklearn/feature_selection/univariate_selection.py:115: RuntimeWarning: invalid value encountered in true_divide\n",
      "  f = msb / msw\n"
     ]
    },
    {
     "name": "stdout",
     "output_type": "stream",
     "text": [
      "K = {} - MAE = {} 8 0.0024141401229599503\n"
     ]
    },
    {
     "name": "stderr",
     "output_type": "stream",
     "text": [
      "/home/eduardo/anaconda3/lib/python3.7/site-packages/sklearn/feature_selection/univariate_selection.py:114: UserWarning: Features [4] are constant.\n",
      "  UserWarning)\n",
      "/home/eduardo/anaconda3/lib/python3.7/site-packages/sklearn/feature_selection/univariate_selection.py:115: RuntimeWarning: invalid value encountered in true_divide\n",
      "  f = msb / msw\n"
     ]
    },
    {
     "name": "stdout",
     "output_type": "stream",
     "text": [
      "K = {} - MAE = {} 10 0.002413003354368984\n"
     ]
    },
    {
     "name": "stderr",
     "output_type": "stream",
     "text": [
      "/home/eduardo/anaconda3/lib/python3.7/site-packages/sklearn/feature_selection/univariate_selection.py:114: UserWarning: Features [4] are constant.\n",
      "  UserWarning)\n",
      "/home/eduardo/anaconda3/lib/python3.7/site-packages/sklearn/feature_selection/univariate_selection.py:115: RuntimeWarning: invalid value encountered in true_divide\n",
      "  f = msb / msw\n"
     ]
    },
    {
     "name": "stdout",
     "output_type": "stream",
     "text": [
      "K = {} - MAE = {} 12 0.002412458567435863\n"
     ]
    },
    {
     "name": "stderr",
     "output_type": "stream",
     "text": [
      "/home/eduardo/anaconda3/lib/python3.7/site-packages/sklearn/feature_selection/univariate_selection.py:114: UserWarning: Features [4] are constant.\n",
      "  UserWarning)\n",
      "/home/eduardo/anaconda3/lib/python3.7/site-packages/sklearn/feature_selection/univariate_selection.py:115: RuntimeWarning: invalid value encountered in true_divide\n",
      "  f = msb / msw\n"
     ]
    },
    {
     "name": "stdout",
     "output_type": "stream",
     "text": [
      "K = {} - MAE = {} 14 0.00241302630402565\n"
     ]
    },
    {
     "name": "stderr",
     "output_type": "stream",
     "text": [
      "/home/eduardo/anaconda3/lib/python3.7/site-packages/sklearn/feature_selection/univariate_selection.py:114: UserWarning: Features [4] are constant.\n",
      "  UserWarning)\n",
      "/home/eduardo/anaconda3/lib/python3.7/site-packages/sklearn/feature_selection/univariate_selection.py:115: RuntimeWarning: invalid value encountered in true_divide\n",
      "  f = msb / msw\n"
     ]
    },
    {
     "name": "stdout",
     "output_type": "stream",
     "text": [
      "K = {} - MAE = {} 16 0.002413027439382284\n"
     ]
    },
    {
     "name": "stderr",
     "output_type": "stream",
     "text": [
      "/home/eduardo/anaconda3/lib/python3.7/site-packages/sklearn/feature_selection/univariate_selection.py:114: UserWarning: Features [4] are constant.\n",
      "  UserWarning)\n",
      "/home/eduardo/anaconda3/lib/python3.7/site-packages/sklearn/feature_selection/univariate_selection.py:115: RuntimeWarning: invalid value encountered in true_divide\n",
      "  f = msb / msw\n"
     ]
    },
    {
     "name": "stdout",
     "output_type": "stream",
     "text": [
      "K = {} - MAE = {} 18 0.0024131178162752082\n"
     ]
    },
    {
     "name": "stderr",
     "output_type": "stream",
     "text": [
      "/home/eduardo/anaconda3/lib/python3.7/site-packages/sklearn/feature_selection/univariate_selection.py:114: UserWarning: Features [4] are constant.\n",
      "  UserWarning)\n",
      "/home/eduardo/anaconda3/lib/python3.7/site-packages/sklearn/feature_selection/univariate_selection.py:115: RuntimeWarning: invalid value encountered in true_divide\n",
      "  f = msb / msw\n"
     ]
    },
    {
     "name": "stdout",
     "output_type": "stream",
     "text": [
      "K = {} - MAE = {} 20 0.0024152755597068344\n"
     ]
    },
    {
     "name": "stderr",
     "output_type": "stream",
     "text": [
      "/home/eduardo/anaconda3/lib/python3.7/site-packages/sklearn/feature_selection/univariate_selection.py:114: UserWarning: Features [4] are constant.\n",
      "  UserWarning)\n",
      "/home/eduardo/anaconda3/lib/python3.7/site-packages/sklearn/feature_selection/univariate_selection.py:115: RuntimeWarning: invalid value encountered in true_divide\n",
      "  f = msb / msw\n"
     ]
    },
    {
     "name": "stdout",
     "output_type": "stream",
     "text": [
      "K = {} - MAE = {} 22 0.0024371670264516417\n"
     ]
    },
    {
     "name": "stderr",
     "output_type": "stream",
     "text": [
      "/home/eduardo/anaconda3/lib/python3.7/site-packages/sklearn/feature_selection/univariate_selection.py:114: UserWarning: Features [4] are constant.\n",
      "  UserWarning)\n",
      "/home/eduardo/anaconda3/lib/python3.7/site-packages/sklearn/feature_selection/univariate_selection.py:115: RuntimeWarning: invalid value encountered in true_divide\n",
      "  f = msb / msw\n"
     ]
    },
    {
     "name": "stdout",
     "output_type": "stream",
     "text": [
      "K = {} - MAE = {} 24 0.002435868418632771\n"
     ]
    },
    {
     "name": "stderr",
     "output_type": "stream",
     "text": [
      "/home/eduardo/anaconda3/lib/python3.7/site-packages/sklearn/feature_selection/univariate_selection.py:114: UserWarning: Features [4] are constant.\n",
      "  UserWarning)\n",
      "/home/eduardo/anaconda3/lib/python3.7/site-packages/sklearn/feature_selection/univariate_selection.py:115: RuntimeWarning: invalid value encountered in true_divide\n",
      "  f = msb / msw\n"
     ]
    },
    {
     "name": "stdout",
     "output_type": "stream",
     "text": [
      "K = {} - MAE = {} 26 0.0024361539020126798\n"
     ]
    },
    {
     "name": "stderr",
     "output_type": "stream",
     "text": [
      "/home/eduardo/anaconda3/lib/python3.7/site-packages/sklearn/feature_selection/univariate_selection.py:114: UserWarning: Features [4] are constant.\n",
      "  UserWarning)\n",
      "/home/eduardo/anaconda3/lib/python3.7/site-packages/sklearn/feature_selection/univariate_selection.py:115: RuntimeWarning: invalid value encountered in true_divide\n",
      "  f = msb / msw\n"
     ]
    },
    {
     "name": "stdout",
     "output_type": "stream",
     "text": [
      "K = {} - MAE = {} 28 0.0024355529162246184\n"
     ]
    },
    {
     "name": "stderr",
     "output_type": "stream",
     "text": [
      "/home/eduardo/anaconda3/lib/python3.7/site-packages/sklearn/feature_selection/univariate_selection.py:114: UserWarning: Features [4] are constant.\n",
      "  UserWarning)\n",
      "/home/eduardo/anaconda3/lib/python3.7/site-packages/sklearn/feature_selection/univariate_selection.py:115: RuntimeWarning: invalid value encountered in true_divide\n",
      "  f = msb / msw\n"
     ]
    },
    {
     "name": "stdout",
     "output_type": "stream",
     "text": [
      "K = {} - MAE = {} 30 0.0024933997770185206\n"
     ]
    },
    {
     "name": "stderr",
     "output_type": "stream",
     "text": [
      "/home/eduardo/anaconda3/lib/python3.7/site-packages/sklearn/feature_selection/univariate_selection.py:114: UserWarning: Features [4] are constant.\n",
      "  UserWarning)\n",
      "/home/eduardo/anaconda3/lib/python3.7/site-packages/sklearn/feature_selection/univariate_selection.py:115: RuntimeWarning: invalid value encountered in true_divide\n",
      "  f = msb / msw\n"
     ]
    },
    {
     "name": "stdout",
     "output_type": "stream",
     "text": [
      "K = {} - MAE = {} 32 0.0025705376683517397\n"
     ]
    },
    {
     "name": "stderr",
     "output_type": "stream",
     "text": [
      "/home/eduardo/anaconda3/lib/python3.7/site-packages/sklearn/feature_selection/univariate_selection.py:114: UserWarning: Features [4] are constant.\n",
      "  UserWarning)\n",
      "/home/eduardo/anaconda3/lib/python3.7/site-packages/sklearn/feature_selection/univariate_selection.py:115: RuntimeWarning: invalid value encountered in true_divide\n",
      "  f = msb / msw\n"
     ]
    },
    {
     "name": "stdout",
     "output_type": "stream",
     "text": [
      "K = {} - MAE = {} 34 0.0025700204852604834\n"
     ]
    },
    {
     "name": "stderr",
     "output_type": "stream",
     "text": [
      "/home/eduardo/anaconda3/lib/python3.7/site-packages/sklearn/feature_selection/univariate_selection.py:114: UserWarning: Features [4] are constant.\n",
      "  UserWarning)\n",
      "/home/eduardo/anaconda3/lib/python3.7/site-packages/sklearn/feature_selection/univariate_selection.py:115: RuntimeWarning: invalid value encountered in true_divide\n",
      "  f = msb / msw\n"
     ]
    },
    {
     "name": "stdout",
     "output_type": "stream",
     "text": [
      "K = {} - MAE = {} 36 0.0025906405034067767\n"
     ]
    },
    {
     "name": "stderr",
     "output_type": "stream",
     "text": [
      "/home/eduardo/anaconda3/lib/python3.7/site-packages/sklearn/feature_selection/univariate_selection.py:114: UserWarning: Features [4] are constant.\n",
      "  UserWarning)\n",
      "/home/eduardo/anaconda3/lib/python3.7/site-packages/sklearn/feature_selection/univariate_selection.py:115: RuntimeWarning: invalid value encountered in true_divide\n",
      "  f = msb / msw\n"
     ]
    },
    {
     "name": "stdout",
     "output_type": "stream",
     "text": [
      "K = {} - MAE = {} 38 0.002575807052358974\n"
     ]
    },
    {
     "name": "stderr",
     "output_type": "stream",
     "text": [
      "/home/eduardo/anaconda3/lib/python3.7/site-packages/sklearn/feature_selection/univariate_selection.py:114: UserWarning: Features [4] are constant.\n",
      "  UserWarning)\n",
      "/home/eduardo/anaconda3/lib/python3.7/site-packages/sklearn/feature_selection/univariate_selection.py:115: RuntimeWarning: invalid value encountered in true_divide\n",
      "  f = msb / msw\n"
     ]
    },
    {
     "name": "stdout",
     "output_type": "stream",
     "text": [
      "K = {} - MAE = {} 40 0.0025755568258910514\n"
     ]
    },
    {
     "name": "stderr",
     "output_type": "stream",
     "text": [
      "/home/eduardo/anaconda3/lib/python3.7/site-packages/sklearn/feature_selection/univariate_selection.py:114: UserWarning: Features [4] are constant.\n",
      "  UserWarning)\n",
      "/home/eduardo/anaconda3/lib/python3.7/site-packages/sklearn/feature_selection/univariate_selection.py:115: RuntimeWarning: invalid value encountered in true_divide\n",
      "  f = msb / msw\n"
     ]
    },
    {
     "name": "stdout",
     "output_type": "stream",
     "text": [
      "K = {} - MAE = {} 42 0.002579324635380254\n"
     ]
    },
    {
     "name": "stderr",
     "output_type": "stream",
     "text": [
      "/home/eduardo/anaconda3/lib/python3.7/site-packages/sklearn/feature_selection/univariate_selection.py:114: UserWarning: Features [4] are constant.\n",
      "  UserWarning)\n",
      "/home/eduardo/anaconda3/lib/python3.7/site-packages/sklearn/feature_selection/univariate_selection.py:115: RuntimeWarning: invalid value encountered in true_divide\n",
      "  f = msb / msw\n"
     ]
    },
    {
     "name": "stdout",
     "output_type": "stream",
     "text": [
      "K = {} - MAE = {} 44 0.002575067012101846\n"
     ]
    },
    {
     "name": "stderr",
     "output_type": "stream",
     "text": [
      "/home/eduardo/anaconda3/lib/python3.7/site-packages/sklearn/feature_selection/univariate_selection.py:114: UserWarning: Features [4] are constant.\n",
      "  UserWarning)\n",
      "/home/eduardo/anaconda3/lib/python3.7/site-packages/sklearn/feature_selection/univariate_selection.py:115: RuntimeWarning: invalid value encountered in true_divide\n",
      "  f = msb / msw\n"
     ]
    },
    {
     "name": "stdout",
     "output_type": "stream",
     "text": [
      "K = {} - MAE = {} 46 0.00257610788893941\n"
     ]
    },
    {
     "name": "stderr",
     "output_type": "stream",
     "text": [
      "/home/eduardo/anaconda3/lib/python3.7/site-packages/sklearn/feature_selection/univariate_selection.py:114: UserWarning: Features [4] are constant.\n",
      "  UserWarning)\n",
      "/home/eduardo/anaconda3/lib/python3.7/site-packages/sklearn/feature_selection/univariate_selection.py:115: RuntimeWarning: invalid value encountered in true_divide\n",
      "  f = msb / msw\n"
     ]
    },
    {
     "name": "stdout",
     "output_type": "stream",
     "text": [
      "K = {} - MAE = {} 48 0.0025750863588954146\n"
     ]
    },
    {
     "name": "stderr",
     "output_type": "stream",
     "text": [
      "/home/eduardo/anaconda3/lib/python3.7/site-packages/sklearn/feature_selection/univariate_selection.py:114: UserWarning: Features [4] are constant.\n",
      "  UserWarning)\n",
      "/home/eduardo/anaconda3/lib/python3.7/site-packages/sklearn/feature_selection/univariate_selection.py:115: RuntimeWarning: invalid value encountered in true_divide\n",
      "  f = msb / msw\n"
     ]
    },
    {
     "name": "stdout",
     "output_type": "stream",
     "text": [
      "K = {} - MAE = {} 50 0.002572388760870107\n"
     ]
    },
    {
     "name": "stderr",
     "output_type": "stream",
     "text": [
      "/home/eduardo/anaconda3/lib/python3.7/site-packages/sklearn/feature_selection/univariate_selection.py:114: UserWarning: Features [4] are constant.\n",
      "  UserWarning)\n",
      "/home/eduardo/anaconda3/lib/python3.7/site-packages/sklearn/feature_selection/univariate_selection.py:115: RuntimeWarning: invalid value encountered in true_divide\n",
      "  f = msb / msw\n"
     ]
    },
    {
     "name": "stdout",
     "output_type": "stream",
     "text": [
      "K = {} - MAE = {} 52 0.0025442019948237263\n"
     ]
    },
    {
     "name": "stderr",
     "output_type": "stream",
     "text": [
      "/home/eduardo/anaconda3/lib/python3.7/site-packages/sklearn/feature_selection/univariate_selection.py:114: UserWarning: Features [4] are constant.\n",
      "  UserWarning)\n",
      "/home/eduardo/anaconda3/lib/python3.7/site-packages/sklearn/feature_selection/univariate_selection.py:115: RuntimeWarning: invalid value encountered in true_divide\n",
      "  f = msb / msw\n"
     ]
    },
    {
     "name": "stdout",
     "output_type": "stream",
     "text": [
      "K = {} - MAE = {} 54 0.002533775287555141\n"
     ]
    },
    {
     "name": "stderr",
     "output_type": "stream",
     "text": [
      "/home/eduardo/anaconda3/lib/python3.7/site-packages/sklearn/feature_selection/univariate_selection.py:114: UserWarning: Features [4] are constant.\n",
      "  UserWarning)\n",
      "/home/eduardo/anaconda3/lib/python3.7/site-packages/sklearn/feature_selection/univariate_selection.py:115: RuntimeWarning: invalid value encountered in true_divide\n",
      "  f = msb / msw\n"
     ]
    },
    {
     "name": "stdout",
     "output_type": "stream",
     "text": [
      "K = {} - MAE = {} 56 0.002534548431260364\n"
     ]
    },
    {
     "name": "stderr",
     "output_type": "stream",
     "text": [
      "/home/eduardo/anaconda3/lib/python3.7/site-packages/sklearn/feature_selection/univariate_selection.py:114: UserWarning: Features [4] are constant.\n",
      "  UserWarning)\n",
      "/home/eduardo/anaconda3/lib/python3.7/site-packages/sklearn/feature_selection/univariate_selection.py:115: RuntimeWarning: invalid value encountered in true_divide\n",
      "  f = msb / msw\n"
     ]
    },
    {
     "name": "stdout",
     "output_type": "stream",
     "text": [
      "K = {} - MAE = {} 58 0.0025337746218666115\n"
     ]
    },
    {
     "name": "stderr",
     "output_type": "stream",
     "text": [
      "/home/eduardo/anaconda3/lib/python3.7/site-packages/sklearn/feature_selection/univariate_selection.py:114: UserWarning: Features [4] are constant.\n",
      "  UserWarning)\n",
      "/home/eduardo/anaconda3/lib/python3.7/site-packages/sklearn/feature_selection/univariate_selection.py:115: RuntimeWarning: invalid value encountered in true_divide\n",
      "  f = msb / msw\n"
     ]
    },
    {
     "name": "stdout",
     "output_type": "stream",
     "text": [
      "K = {} - MAE = {} 60 0.002559792897619907\n"
     ]
    },
    {
     "name": "stderr",
     "output_type": "stream",
     "text": [
      "/home/eduardo/anaconda3/lib/python3.7/site-packages/sklearn/feature_selection/univariate_selection.py:114: UserWarning: Features [4] are constant.\n",
      "  UserWarning)\n",
      "/home/eduardo/anaconda3/lib/python3.7/site-packages/sklearn/feature_selection/univariate_selection.py:115: RuntimeWarning: invalid value encountered in true_divide\n",
      "  f = msb / msw\n"
     ]
    },
    {
     "name": "stdout",
     "output_type": "stream",
     "text": [
      "K = {} - MAE = {} 62 0.0025615300991786525\n"
     ]
    },
    {
     "name": "stderr",
     "output_type": "stream",
     "text": [
      "/home/eduardo/anaconda3/lib/python3.7/site-packages/sklearn/feature_selection/univariate_selection.py:114: UserWarning: Features [4] are constant.\n",
      "  UserWarning)\n",
      "/home/eduardo/anaconda3/lib/python3.7/site-packages/sklearn/feature_selection/univariate_selection.py:115: RuntimeWarning: invalid value encountered in true_divide\n",
      "  f = msb / msw\n"
     ]
    },
    {
     "name": "stdout",
     "output_type": "stream",
     "text": [
      "K = {} - MAE = {} 64 0.0025965787559233374\n"
     ]
    },
    {
     "name": "stderr",
     "output_type": "stream",
     "text": [
      "/home/eduardo/anaconda3/lib/python3.7/site-packages/sklearn/feature_selection/univariate_selection.py:114: UserWarning: Features [4] are constant.\n",
      "  UserWarning)\n",
      "/home/eduardo/anaconda3/lib/python3.7/site-packages/sklearn/feature_selection/univariate_selection.py:115: RuntimeWarning: invalid value encountered in true_divide\n",
      "  f = msb / msw\n"
     ]
    },
    {
     "name": "stdout",
     "output_type": "stream",
     "text": [
      "K = {} - MAE = {} 66 0.00260045637880918\n"
     ]
    },
    {
     "name": "stderr",
     "output_type": "stream",
     "text": [
      "/home/eduardo/anaconda3/lib/python3.7/site-packages/sklearn/feature_selection/univariate_selection.py:114: UserWarning: Features [4] are constant.\n",
      "  UserWarning)\n",
      "/home/eduardo/anaconda3/lib/python3.7/site-packages/sklearn/feature_selection/univariate_selection.py:115: RuntimeWarning: invalid value encountered in true_divide\n",
      "  f = msb / msw\n"
     ]
    },
    {
     "name": "stdout",
     "output_type": "stream",
     "text": [
      "K = {} - MAE = {} 68 0.0026121589524790915\n"
     ]
    },
    {
     "name": "stderr",
     "output_type": "stream",
     "text": [
      "/home/eduardo/anaconda3/lib/python3.7/site-packages/sklearn/feature_selection/univariate_selection.py:114: UserWarning: Features [4] are constant.\n",
      "  UserWarning)\n",
      "/home/eduardo/anaconda3/lib/python3.7/site-packages/sklearn/feature_selection/univariate_selection.py:115: RuntimeWarning: invalid value encountered in true_divide\n",
      "  f = msb / msw\n"
     ]
    },
    {
     "name": "stdout",
     "output_type": "stream",
     "text": [
      "K = {} - MAE = {} 70 0.002602070706110291\n"
     ]
    },
    {
     "name": "stderr",
     "output_type": "stream",
     "text": [
      "/home/eduardo/anaconda3/lib/python3.7/site-packages/sklearn/feature_selection/univariate_selection.py:114: UserWarning: Features [4] are constant.\n",
      "  UserWarning)\n",
      "/home/eduardo/anaconda3/lib/python3.7/site-packages/sklearn/feature_selection/univariate_selection.py:115: RuntimeWarning: invalid value encountered in true_divide\n",
      "  f = msb / msw\n"
     ]
    },
    {
     "name": "stdout",
     "output_type": "stream",
     "text": [
      "K = {} - MAE = {} 72 0.0026009148925437054\n"
     ]
    }
   ],
   "source": [
    "K_vs_Score = []\n",
    "for k in range(2, Xtrain.shape[1], 2):\n",
    "    selector = SelectKBest(score_func=f_classif, k = k)\n",
    "    Xtrain2 = selector.fit_transform(Xtrain, ytrain)\n",
    "    Xval2 = selector.transform(Xval)\n",
    "    modelo = RandomForestRegressor(n_estimators = 100, n_jobs = -1, random_state = 42)\n",
    "    modelo.fit(Xtrain2, ytrain)\n",
    "    previsao = modelo.predict(Xval2)\n",
    "    score = mean_absolute_error(yval, previsao)\n",
    "    print( \"K = {} - MAE = {}\", k, score)\n",
    "    K_vs_Score.append(score)"
   ]
  },
  {
   "cell_type": "code",
   "execution_count": 34,
   "metadata": {},
   "outputs": [
    {
     "data": {
      "image/png": "[encoded data removed]",
      "text/plain": [
       "<Figure size 720x504 with 1 Axes>"
      ]
     },
     "metadata": {
      "needs_background": "light"
     },
     "output_type": "display_data"
    }
   ],
   "source": [
    "pd.Series(K_vs_Score, index= range(2, Xtrain.shape[1], 2)).plot(figsize=(10,7));"
   ]
  },
  {
   "cell_type": "code",
   "execution_count": 35,
   "metadata": {},
   "outputs": [],
   "source": [
    "selector = SelectKBest(k=20, score_func=f_classif)"
   ]
  },
  {
   "cell_type": "code",
   "execution_count": 36,
   "metadata": {},
   "outputs": [
    {
     "name": "stderr",
     "output_type": "stream",
     "text": [
      "/home/eduardo/anaconda3/lib/python3.7/site-packages/sklearn/feature_selection/univariate_selection.py:114: UserWarning: Features [4] are constant.\n",
      "  UserWarning)\n",
      "/home/eduardo/anaconda3/lib/python3.7/site-packages/sklearn/feature_selection/univariate_selection.py:115: RuntimeWarning: invalid value encountered in true_divide\n",
      "  f = msb / msw\n"
     ]
    },
    {
     "data": {
      "text/plain": [
       "SelectKBest(k=20, score_func=<function f_classif at 0x7ff8fab870d0>)"
      ]
     },
     "execution_count": 36,
     "metadata": {},
     "output_type": "execute_result"
    }
   ],
   "source": [
    "selector.fit(Xtrain, ytrain)"
   ]
  },
  {
   "cell_type": "code",
   "execution_count": 37,
   "metadata": {},
   "outputs": [],
   "source": [
    "mask = selector.get_support()"
   ]
  },
  {
   "cell_type": "code",
   "execution_count": 38,
   "metadata": {},
   "outputs": [
    {
     "data": {
      "text/plain": [
       "pandas.core.frame.DataFrame"
      ]
     },
     "execution_count": 38,
     "metadata": {},
     "output_type": "execute_result"
    }
   ],
   "source": [
    "type(Xval)"
   ]
  },
  {
   "cell_type": "code",
   "execution_count": 39,
   "metadata": {
    "scrolled": true
   },
   "outputs": [
    {
     "data": {
      "text/plain": [
       "Index(['fl_mei', 'fl_rm', 'fl_optante_simples', 'fl_optante_simei',\n",
       "       'fl_passivel_iss', 'qt_filiais',\n",
       "       'natureza_juridica_macro_ADMINISTRACAO PUBLICA',\n",
       "       'natureza_juridica_macro_ENTIDADES EMPRESARIAIS',\n",
       "       'natureza_juridica_macro_ENTIDADES SEM FINS LUCRATIVOS',\n",
       "       'natureza_juridica_macro_OUTROS', 'setor_AGROPECUARIA',\n",
       "       'setor_COMERCIO', 'setor_CONSTRUÇÃO CIVIL', 'setor_INDUSTRIA',\n",
       "       'setor_SERVIÇO', 'setor_SETOR INDEFINIDO', 'sg_uf_matriz_PI',\n",
       "       'sg_uf_matriz_SP', 'de_nivel_atividade_ALTA',\n",
       "       'de_nivel_atividade_BAIXA'],\n",
       "      dtype='object')"
      ]
     },
     "execution_count": 39,
     "metadata": {},
     "output_type": "execute_result"
    }
   ],
   "source": [
    "Xval.columns[mask]"
   ]
  },
  {
   "cell_type": "code",
   "execution_count": null,
   "metadata": {},
   "outputs": [],
   "source": []
  }
 ],
 "metadata": {
  "kernelspec": {
   "display_name": "Python 3",
   "language": "python",
   "name": "python3"
  },
  "language_info": {
   "codemirror_mode": {
    "name": "ipython",
    "version": 3
   },
   "file_extension": ".py",
   "mimetype": "text/x-python",
   "name": "python",
   "nbconvert_exporter": "python",
   "pygments_lexer": "ipython3",
   "version": "3.7.3"
  }
 },
 "nbformat": 4,
 "nbformat_minor": 2
}
