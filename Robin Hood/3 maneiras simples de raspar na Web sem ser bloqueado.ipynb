{
 "cells": [
  {
   "cell_type": "markdown",
   "id": "e023dbb2",
   "metadata": {},
   "source": [
    "# 3 maneiras simples de raspar na Web sem ser bloqueado"
   ]
  },
  {
   "cell_type": "markdown",
   "id": "0e2d73cb",
   "metadata": {},
   "source": [
    "### Um guia para lidar com mecanismos anti-raspagem."
   ]
  },
  {
   "cell_type": "markdown",
   "id": "e3c958e4",
   "metadata": {},
   "source": [
    "Muitas empresas hoje dependem do acesso a dados públicos para poderem funcionar. Independentemente do setor em que você trabalha, mais cedo ou mais tarde você terá que extrair dados da internet para realizar uma tarefa. A obtenção desses dados pode ser tão simples quanto copiá-los e colá-los, mas quando se trata de dados grandes, a raspagem da web é a melhor solução.\n",
    "Infelizmente, nem todos os sites gostariam de ser raspados; é por isso que eles farão qualquer coisa em suas mãos para detectar seu raspador e bani-lo. Neste artigo, mostrarei 3 maneiras de evitar ser bloqueado ao raspar sites."
   ]
  },
  {
   "cell_type": "markdown",
   "id": "fd96f4b1",
   "metadata": {},
   "source": [
    "### 1. Use um servidor proxy"
   ]
  },
  {
   "cell_type": "markdown",
   "id": "65b53830",
   "metadata": {},
   "source": [
    "Seu computador possui um Protocolo de Internet (IP) exclusivo que você pode considerar como o endereço residencial do computador. A internet usa esse endereço IP para enviar os dados corretos ao seu computador toda vez que você navega.\n",
    "\n",
    "Um servidor proxy é um computador na Internet com seu próprio endereço IP. Quando você envia uma solicitação para a web, ela vai primeiro para o servidor proxy, depois o servidor proxy faz a solicitação em seu nome, coleta a resposta e o encaminha para a página da web para que você possa interagir com ela.\n",
    "\n",
    "Se você continuar raspando com o mesmo IP repetidamente, o IP de seus computadores será facilmente detectado por ferramentas anti-scraping. Por esse motivo, você deve rotacionar seu IP com servidores proxy; então o site pensa que as solicitações estão sendo geradas de lugares diferentes. Mesmo empresas como a HiQ usaram serviços de proxy para mascarar endereços IP para raspar sites como o LinkedIn e evitar o banimento de IP.\n",
    "\n",
    "Embora existam muitos proxies gratuitos disponíveis, eles envolvem alguns problemas, como a coleta de seus dados e baixo desempenho. Além disso, muitas pessoas usam esses proxies gratuitos, o que significa que os proxies já estão sinalizados ou banidos. Em vez disso, você deve considerar pagar um provedor de proxy que possa garantir privacidade, segurança e ótimo desempenho. Alguns deles são Smartproxy, GeoSurf, Netnut."
   ]
  },
  {
   "cell_type": "markdown",
   "id": "f6ba45d4",
   "metadata": {},
   "source": [
    "### 2. Faça rodízio de Agentes de Usuário"
   ]
  },
  {
   "cell_type": "markdown",
   "id": "4c4fa2a9",
   "metadata": {},
   "source": [
    "Um agente de usuário ajuda a identificar qual navegador está sendo usado, qual versão e seu sistema operacional. Também facilita a interação com o conteúdo dos sites. Por exemplo, um agente de usuário do Chrome no iPhone se parece com isto:"
   ]
  },
  {
   "cell_type": "markdown",
   "id": "7cafc336",
   "metadata": {},
   "source": [
    "Mozilla/5.0 (iPhone; CPU iPhone OS 10_3 como Mac OS X) \n",
    "AppleWebKit/602.1.50 (KHTML, como Gecko) CriOS/56.0.2924.75 \n",
    "Mobile/14E5239e Safari/602.1"
   ]
  },
  {
   "cell_type": "markdown",
   "id": "1c3a5432",
   "metadata": {},
   "source": [
    "Para encontrar o seu agente de usuário, basta digitar no Google 'qual é o meu agente de usuário.'\n",
    "No entanto, além do agente do usuário, outros cabeçalhos são enviados pelos navegadores. Alguns cabeçalhos são: accept, accept encoding, accept language, dnt, host, referer and upgrade-insecure-requests.Você pode criar um dicionário headerse incluí-los ao coletar sites:"
   ]
  },
  {
   "cell_type": "code",
   "execution_count": 2,
   "id": "370088ed",
   "metadata": {},
   "outputs": [],
   "source": [
    "headers = {   \n",
    "    'authority': 'www.google.com',\n",
    "    'content-length': '0',\n",
    "    'user-agent': 'Mozilla/5.0 (Macintosh; Intel Mac OS X 10_15_0) AppleWebKit/537.36 (KHTML, like Gecko) Chrome/87.0.4280.88 Safari/537.36',\n",
    "    'content-type': 'text/plain;charset=UTF-8',\n",
    "    'accept': '*/*',\n",
    "    'referer': 'https://www.google.com/',\n",
    "    'accept-language': 'en-US,en;q=0.9',\n",
    "  }"
   ]
  },
  {
   "cell_type": "markdown",
   "id": "7b357660",
   "metadata": {},
   "source": [
    "Você pode encontrar diferentes strings de user-agent de alguns navegadores aqui . Crie uma lista com vários agentes de usuário para girá-los posteriormente.\n",
    "\n",
    "Lembre-se de que, se você apenas girar o agente do usuário, mas os outros cabeçalhos permanecerem os mesmos, o raspador ainda poderá ser detectado."
   ]
  },
  {
   "cell_type": "code",
   "execution_count": null,
   "id": "a768e593",
   "metadata": {},
   "outputs": [],
   "source": []
  }
 ],
 "metadata": {
  "kernelspec": {
   "display_name": "Python 3 (ipykernel)",
   "language": "python",
   "name": "python3"
  },
  "language_info": {
   "codemirror_mode": {
    "name": "ipython",
    "version": 3
   },
   "file_extension": ".py",
   "mimetype": "text/x-python",
   "name": "python",
   "nbconvert_exporter": "python",
   "pygments_lexer": "ipython3",
   "version": "3.9.13"
  }
 },
 "nbformat": 4,
 "nbformat_minor": 5
}
