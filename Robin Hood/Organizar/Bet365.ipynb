{
 "cells": [
  {
   "cell_type": "code",
   "execution_count": 1,
   "id": "eedd3e2b",
   "metadata": {},
   "outputs": [],
   "source": [
    "from selenium import webdriver"
   ]
  },
  {
   "cell_type": "code",
   "execution_count": 2,
   "id": "1de0dd2c",
   "metadata": {},
   "outputs": [],
   "source": [
    "import requests\n",
    "import pandas as pd\n",
    "from bs4 import BeautifulSoup"
   ]
  },
  {
   "cell_type": "code",
   "execution_count": 3,
   "id": "93f8ae8b",
   "metadata": {},
   "outputs": [],
   "source": [
    "from selenium.webdriver.firefox.options import Options\n",
    "import time\n",
    "import pandas as pd\n",
    "import csv"
   ]
  },
  {
   "cell_type": "code",
   "execution_count": 4,
   "id": "e0a9cb75",
   "metadata": {},
   "outputs": [],
   "source": [
    "driver = webdriver.Firefox()\n",
    "driver.get(\"https://www.bet365.com/#/AC/B1/C1/D1002/E71022033/G40/\")\n",
    "#time.sleep(4)\n",
    "#driver.find_element_by_xpath('/html/body/div[1]/div/div[4]/div[2]/div/div/div[1]/div/div[2]/div/div[4]').click()"
   ]
  },
  {
   "cell_type": "code",
   "execution_count": 5,
   "id": "fc85f2fc",
   "metadata": {},
   "outputs": [
    {
     "name": "stderr",
     "output_type": "stream",
     "text": [
      "C:\\Users\\Eduardo\\AppData\\Local\\Temp/ipykernel_4120/3763319847.py:1: DeprecationWarning: find_element_by_xpath is deprecated. Please use find_element(by=By.XPATH, value=xpath) instead\n",
      "  div_mae = driver.find_element_by_xpath('/html/body/div[1]/div/div[4]/div[2]/div/div/div[2]/div[1]/div/div/div[2]/div/div/div[2]/div[2]/div')\n"
     ]
    }
   ],
   "source": [
    "div_mae = driver.find_element_by_xpath('/html/body/div[1]/div/div[4]/div[2]/div/div/div[2]/div[1]/div/div/div[2]/div/div/div[2]/div[2]/div')\n",
    "html_conteudo = div_mae.get_attribute('outerHTML')\n",
    "soup = BeautifulSoup(html_conteudo, 'html.parser')\n",
    "teste = soup.prettify()"
   ]
  },
  {
   "cell_type": "code",
   "execution_count": 7,
   "id": "b2685c42",
   "metadata": {},
   "outputs": [],
   "source": [
    "times = soup.find_all('div', class_='rcl-ParticipantFixtureDetailsTeam_TeamName')\n",
    "valores = soup.find_all('span', class_='sgl-ParticipantOddsOnly80_Odds')\n",
    "horas = soup.find_all('span', class_='sgl-ParticipantOddsOnly80_Odds')"
   ]
  },
  {
   "cell_type": "code",
   "execution_count": 8,
   "id": "dfc1716a",
   "metadata": {},
   "outputs": [],
   "source": [
    "tabela = pd.DataFrame(columns = ['Jogo', 'Vitoria', 'Empate', 'Derrota', 'Local'])"
   ]
  },
  {
   "cell_type": "code",
   "execution_count": 9,
   "id": "4dc8c0a1",
   "metadata": {},
   "outputs": [],
   "source": [
    "for i in range(len(times)):\n",
    "    if i % 2 == 0:\n",
    "        listaJogos = times[i].text , \" x \" , times[i+1].text\n",
    "        listaVitoria = (valores[int(i/2)].text)\n",
    "        listaEmpates = (valores[int(i/2 + len(times)/2)].text)\n",
    "        listaDerrota = (valores[int(i/2 + 2*len(times)/2)].text)\n",
    "        tabela = tabela.append({'Jogo' : listaJogos,\n",
    "                                'Vitoria' : listaVitoria,\n",
    "                                'Empate' : listaEmpates,\n",
    "                                'Derrota' : listaDerrota,\n",
    "                                'Local' : 'Bet365'}, \n",
    "                        ignore_index=True)"
   ]
  },
  {
   "cell_type": "code",
   "execution_count": 10,
   "id": "7181880b",
   "metadata": {},
   "outputs": [
    {
     "data": {
      "text/html": [
       "<div>\n",
       "<style scoped>\n",
       "    .dataframe tbody tr th:only-of-type {\n",
       "        vertical-align: middle;\n",
       "    }\n",
       "\n",
       "    .dataframe tbody tr th {\n",
       "        vertical-align: top;\n",
       "    }\n",
       "\n",
       "    .dataframe thead th {\n",
       "        text-align: right;\n",
       "    }\n",
       "</style>\n",
       "<table border=\"1\" class=\"dataframe\">\n",
       "  <thead>\n",
       "    <tr style=\"text-align: right;\">\n",
       "      <th></th>\n",
       "      <th>Jogo</th>\n",
       "      <th>Vitoria</th>\n",
       "      <th>Empate</th>\n",
       "      <th>Derrota</th>\n",
       "      <th>Local</th>\n",
       "    </tr>\n",
       "  </thead>\n",
       "  <tbody>\n",
       "    <tr>\n",
       "      <th>0</th>\n",
       "      <td>(São Paulo,  x , Santos)</td>\n",
       "      <td>1.90</td>\n",
       "      <td>2.50</td>\n",
       "      <td>7.50</td>\n",
       "      <td>Bet365</td>\n",
       "    </tr>\n",
       "    <tr>\n",
       "      <th>1</th>\n",
       "      <td>(Atlético Mineiro,  x , América Mineiro)</td>\n",
       "      <td>1.40</td>\n",
       "      <td>4.50</td>\n",
       "      <td>8.00</td>\n",
       "      <td>Bet365</td>\n",
       "    </tr>\n",
       "    <tr>\n",
       "      <th>2</th>\n",
       "      <td>(Athletico Paranaense,  x , Ceará)</td>\n",
       "      <td>2.15</td>\n",
       "      <td>3.20</td>\n",
       "      <td>3.40</td>\n",
       "      <td>Bet365</td>\n",
       "    </tr>\n",
       "    <tr>\n",
       "      <th>3</th>\n",
       "      <td>(Flamengo,  x , Botafogo)</td>\n",
       "      <td>1.36</td>\n",
       "      <td>4.50</td>\n",
       "      <td>9.00</td>\n",
       "      <td>Bet365</td>\n",
       "    </tr>\n",
       "    <tr>\n",
       "      <th>4</th>\n",
       "      <td>(Atlético Goianiense,  x , Goiás)</td>\n",
       "      <td>1.85</td>\n",
       "      <td>3.20</td>\n",
       "      <td>4.50</td>\n",
       "      <td>Bet365</td>\n",
       "    </tr>\n",
       "    <tr>\n",
       "      <th>5</th>\n",
       "      <td>(Palmeiras,  x , Fluminense)</td>\n",
       "      <td>1.60</td>\n",
       "      <td>3.60</td>\n",
       "      <td>6.00</td>\n",
       "      <td>Bet365</td>\n",
       "    </tr>\n",
       "    <tr>\n",
       "      <th>6</th>\n",
       "      <td>(Bragantino,  x , Corinthians)</td>\n",
       "      <td>2.55</td>\n",
       "      <td>3.20</td>\n",
       "      <td>2.75</td>\n",
       "      <td>Bet365</td>\n",
       "    </tr>\n",
       "    <tr>\n",
       "      <th>7</th>\n",
       "      <td>(Santos,  x , Cuiabá EC)</td>\n",
       "      <td>1.85</td>\n",
       "      <td>3.25</td>\n",
       "      <td>4.50</td>\n",
       "      <td>Bet365</td>\n",
       "    </tr>\n",
       "    <tr>\n",
       "      <th>8</th>\n",
       "      <td>(Fortaleza,  x , São Paulo)</td>\n",
       "      <td>2.60</td>\n",
       "      <td>3.20</td>\n",
       "      <td>2.70</td>\n",
       "      <td>Bet365</td>\n",
       "    </tr>\n",
       "    <tr>\n",
       "      <th>9</th>\n",
       "      <td>(Juventude,  x , Internacional)</td>\n",
       "      <td>3.00</td>\n",
       "      <td>3.10</td>\n",
       "      <td>2.40</td>\n",
       "      <td>Bet365</td>\n",
       "    </tr>\n",
       "    <tr>\n",
       "      <th>10</th>\n",
       "      <td>(Avaí,  x , Coritiba)</td>\n",
       "      <td>2.37</td>\n",
       "      <td>3.10</td>\n",
       "      <td>3.10</td>\n",
       "      <td>Bet365</td>\n",
       "    </tr>\n",
       "  </tbody>\n",
       "</table>\n",
       "</div>"
      ],
      "text/plain": [
       "                                        Jogo Vitoria Empate Derrota   Local\n",
       "0                   (São Paulo,  x , Santos)    1.90   2.50    7.50  Bet365\n",
       "1   (Atlético Mineiro,  x , América Mineiro)    1.40   4.50    8.00  Bet365\n",
       "2         (Athletico Paranaense,  x , Ceará)    2.15   3.20    3.40  Bet365\n",
       "3                  (Flamengo,  x , Botafogo)    1.36   4.50    9.00  Bet365\n",
       "4          (Atlético Goianiense,  x , Goiás)    1.85   3.20    4.50  Bet365\n",
       "5               (Palmeiras,  x , Fluminense)    1.60   3.60    6.00  Bet365\n",
       "6             (Bragantino,  x , Corinthians)    2.55   3.20    2.75  Bet365\n",
       "7                   (Santos,  x , Cuiabá EC)    1.85   3.25    4.50  Bet365\n",
       "8                (Fortaleza,  x , São Paulo)    2.60   3.20    2.70  Bet365\n",
       "9            (Juventude,  x , Internacional)    3.00   3.10    2.40  Bet365\n",
       "10                     (Avaí,  x , Coritiba)    2.37   3.10    3.10  Bet365"
      ]
     },
     "execution_count": 10,
     "metadata": {},
     "output_type": "execute_result"
    }
   ],
   "source": [
    "tabela"
   ]
  },
  {
   "cell_type": "code",
   "execution_count": null,
   "id": "8e2d1a9d",
   "metadata": {},
   "outputs": [],
   "source": []
  }
 ],
 "metadata": {
  "kernelspec": {
   "display_name": "Python 3 (ipykernel)",
   "language": "python",
   "name": "python3"
  },
  "language_info": {
   "codemirror_mode": {
    "name": "ipython",
    "version": 3
   },
   "file_extension": ".py",
   "mimetype": "text/x-python",
   "name": "python",
   "nbconvert_exporter": "python",
   "pygments_lexer": "ipython3",
   "version": "3.9.12"
  }
 },
 "nbformat": 4,
 "nbformat_minor": 5
}
