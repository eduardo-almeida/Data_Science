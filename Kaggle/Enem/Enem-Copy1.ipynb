{
 "cells": [
  {
   "cell_type": "code",
   "execution_count": 119,
   "metadata": {},
   "outputs": [],
   "source": [
    "import pandas as pd\n",
    "import numpy as np\n",
    "from sklearn import metrics\n",
    "import matplotlib.pyplot as plt\n",
    "import seaborn as sns\n",
    "plt.style.use('ggplot')\n",
    "%matplotlib inline\n",
    "\n",
    "from sklearn.preprocessing import StandardScaler\n",
    "sc = StandardScaler()  "
   ]
  },
  {
   "cell_type": "code",
   "execution_count": 120,
   "metadata": {},
   "outputs": [],
   "source": [
    "train = pd.read_csv('./data/train.csv')\n",
    "test = pd.read_csv('./data/test.csv')"
   ]
  },
  {
   "cell_type": "code",
   "execution_count": 121,
   "metadata": {},
   "outputs": [
    {
     "name": "stdout",
     "output_type": "stream",
     "text": [
      "Train data shape: (13730, 167)\n",
      "Test data shape: (4576, 47)\n"
     ]
    }
   ],
   "source": [
    "print (\"Train data shape:\", train.shape)\n",
    "print (\"Test data shape:\", test.shape)"
   ]
  },
  {
   "cell_type": "code",
   "execution_count": 122,
   "metadata": {
    "scrolled": false
   },
   "outputs": [
    {
     "name": "stdout",
     "output_type": "stream",
     "text": [
      "NU_NOTA_MT                 1.000000\n",
      "NU_NOTA_CN                 0.584941\n",
      "NU_NOTA_CH                 0.529594\n",
      "NU_NOTA_LC                 0.494695\n",
      "NU_NOTA_REDACAO            0.379376\n",
      "TP_DEPENDENCIA_ADM_ESC     0.373233\n",
      "NU_NOTA_COMP3              0.350307\n",
      "NU_NOTA_COMP5              0.343337\n",
      "NU_NOTA_COMP4              0.342282\n",
      "NU_NOTA_COMP2              0.335638\n",
      "NU_NOTA_COMP1              0.299402\n",
      "CO_MUNICIPIO_NASCIMENTO    0.113416\n",
      "CO_UF_NASCIMENTO           0.112236\n",
      "CO_MUNICIPIO_PROVA         0.109433\n",
      "CO_MUNICIPIO_RESIDENCIA    0.108850\n",
      "Name: NU_NOTA_MT, dtype: float64 \n",
      "\n",
      "IN_MARCA_PASSO             NaN\n",
      "IN_SONDA                   NaN\n",
      "IN_MEDICAMENTOS            NaN\n",
      "IN_SALA_INDIVIDUAL         NaN\n",
      "IN_SALA_ESPECIAL           NaN\n",
      "IN_SALA_ACOMPANHANTE       NaN\n",
      "IN_MOBILIARIO_ESPECIFICO   NaN\n",
      "IN_MATERIAL_ESPECIFICO     NaN\n",
      "TP_PRESENCA_LC             NaN\n",
      "TP_PRESENCA_MT             NaN\n",
      "Name: NU_NOTA_MT, dtype: float64\n"
     ]
    }
   ],
   "source": [
    "numeric_features = train.select_dtypes(include=[np.number])\n",
    "corr = numeric_features.corr()\n",
    "print (corr['NU_NOTA_MT'].sort_values(ascending=False)[:15], '\\n')\n",
    "print (corr['NU_NOTA_MT'].sort_values(ascending=False)[-10:])"
   ]
  },
  {
   "cell_type": "code",
   "execution_count": 123,
   "metadata": {},
   "outputs": [],
   "source": [
    "#features = ['NU_INSCRICAO', 'NU_NOTA_CN', 'NU_NOTA_CH', 'NU_NOTA_LC', 'NU_NOTA_REDACAO', 'NU_NOTA_COMP1', 'NU_NOTA_COMP2','NU_NOTA_COMP3', 'NU_NOTA_COMP4', 'NU_NOTA_COMP5']\n",
    "features = ['NU_NOTA_CN', 'NU_NOTA_CH', 'NU_NOTA_LC', 'NU_NOTA_REDACAO']\n",
    "features_corr = ['NU_NOTA_MT', 'NU_NOTA_CN', 'NU_NOTA_CH', 'NU_NOTA_LC', 'NU_NOTA_REDACAO']\n",
    "df_train = train[features_corr]\n",
    "df_test = test[features]"
   ]
  },
  {
   "cell_type": "code",
   "execution_count": 124,
   "metadata": {},
   "outputs": [
    {
     "data": {
      "text/plain": [
       "NU_NOTA_MT         3597\n",
       "NU_NOTA_CN         3389\n",
       "NU_NOTA_CH         3389\n",
       "NU_NOTA_LC         3597\n",
       "NU_NOTA_REDACAO    3597\n",
       "dtype: int64"
      ]
     },
     "execution_count": 124,
     "metadata": {},
     "output_type": "execute_result"
    }
   ],
   "source": [
    "df_train.isnull().sum()"
   ]
  },
  {
   "cell_type": "code",
   "execution_count": 125,
   "metadata": {},
   "outputs": [
    {
     "data": {
      "text/plain": [
       "(13730, 5)"
      ]
     },
     "execution_count": 125,
     "metadata": {},
     "output_type": "execute_result"
    }
   ],
   "source": [
    "df_train.shape"
   ]
  },
  {
   "cell_type": "code",
   "execution_count": 126,
   "metadata": {},
   "outputs": [
    {
     "data": {
      "image/png": "[encoded data removed]",
      "text/plain": [
       "<Figure size 432x288 with 1 Axes>"
      ]
     },
     "metadata": {
      "needs_background": "light"
     },
     "output_type": "display_data"
    }
   ],
   "source": [
    "x0 = df_train['NU_NOTA_CN'].fillna(0)\n",
    "x1 = df_test['NU_NOTA_CN'].fillna(0)\n",
    "\n",
    "\n",
    "sns.distplot(x0)\n",
    "sns.distplot(x1)\n",
    "plt.legend(labels=['TRAIN','TEST'], ncol=2, loc='upper left');"
   ]
  },
  {
   "cell_type": "code",
   "execution_count": 127,
   "metadata": {},
   "outputs": [],
   "source": [
    "# Seleciona somente linhas com valores nesses 4 quesitos a baixo na base de train\n",
    "#df_train = df_train.loc[\n",
    "#      (df_train['NU_NOTA_CN'].notnull())  & (df_train['NU_NOTA_CN'] != 0) & (df_train['NU_NOTA_CH'].notnull())      & (df_train['NU_NOTA_CH'] != 0) \n",
    "#    & (df_train['NU_NOTA_LC'].notnull())  & (df_train['NU_NOTA_LC'] != 0) & (df_train['NU_NOTA_REDACAO'].notnull()) & (df_train['NU_NOTA_REDACAO'] != 0)    \n",
    "#]"
   ]
  },
  {
   "cell_type": "code",
   "execution_count": 128,
   "metadata": {},
   "outputs": [],
   "source": [
    "#df_test = df_test.loc[\n",
    "#      (df_test['NU_NOTA_CN'].notnull())  & (df_test['NU_NOTA_CN'] != 0) & (df_test['NU_NOTA_CH'].notnull())      & (df_test['NU_NOTA_CH'] != 0) \n",
    " #   & (df_test['NU_NOTA_LC'].notnull())  & (df_test['NU_NOTA_LC'] != 0) & (df_test['NU_NOTA_REDACAO'].notnull()) & (df_test['NU_NOTA_REDACAO'] != 0)    \n",
    "#]"
   ]
  },
  {
   "cell_type": "code",
   "execution_count": 133,
   "metadata": {
    "scrolled": true
   },
   "outputs": [
    {
     "data": {
      "text/plain": [
       "NU_NOTA_MT         0\n",
       "NU_NOTA_CN         0\n",
       "NU_NOTA_CH         0\n",
       "NU_NOTA_LC         0\n",
       "NU_NOTA_REDACAO    0\n",
       "dtype: int64"
      ]
     },
     "execution_count": 133,
     "metadata": {},
     "output_type": "execute_result"
    }
   ],
   "source": [
    "df_train.isnull().sum()"
   ]
  },
  {
   "cell_type": "code",
   "execution_count": 134,
   "metadata": {},
   "outputs": [
    {
     "data": {
      "text/plain": [
       "NU_NOTA_CN         0\n",
       "NU_NOTA_CH         0\n",
       "NU_NOTA_LC         0\n",
       "NU_NOTA_REDACAO    0\n",
       "dtype: int64"
      ]
     },
     "execution_count": 134,
     "metadata": {},
     "output_type": "execute_result"
    }
   ],
   "source": [
    "df_test.isnull().sum()"
   ]
  },
  {
   "cell_type": "code",
   "execution_count": 131,
   "metadata": {},
   "outputs": [
    {
     "name": "stderr",
     "output_type": "stream",
     "text": [
      "/home/eduardo/anaconda3/lib/python3.7/site-packages/pandas/core/generic.py:6130: SettingWithCopyWarning: \n",
      "A value is trying to be set on a copy of a slice from a DataFrame\n",
      "\n",
      "See the caveats in the documentation: http://pandas.pydata.org/pandas-docs/stable/indexing.html#indexing-view-versus-copy\n",
      "  self._update_inplace(new_data)\n"
     ]
    }
   ],
   "source": [
    "df_train['NU_NOTA_MT'].fillna(0,inplace=True)\n",
    "df_train['NU_NOTA_CN'].fillna(0,inplace=True)\n",
    "df_train['NU_NOTA_CH'].fillna(0,inplace=True)\n",
    "df_train['NU_NOTA_LC'].fillna(0,inplace=True)\n",
    "df_train['NU_NOTA_REDACAO'].fillna(0,inplace=True)"
   ]
  },
  {
   "cell_type": "code",
   "execution_count": 132,
   "metadata": {},
   "outputs": [],
   "source": [
    "\n",
    "df_test['NU_NOTA_CN'].fillna(0,inplace=True)\n",
    "df_test['NU_NOTA_CH'].fillna(0,inplace=True)\n",
    "df_test['NU_NOTA_LC'].fillna(0,inplace=True)\n",
    "df_test['NU_NOTA_REDACAO'].fillna(0,inplace=True)\n"
   ]
  },
  {
   "cell_type": "code",
   "execution_count": 135,
   "metadata": {},
   "outputs": [
    {
     "data": {
      "text/html": [
       "<div>\n",
       "<style scoped>\n",
       "    .dataframe tbody tr th:only-of-type {\n",
       "        vertical-align: middle;\n",
       "    }\n",
       "\n",
       "    .dataframe tbody tr th {\n",
       "        vertical-align: top;\n",
       "    }\n",
       "\n",
       "    .dataframe thead th {\n",
       "        text-align: right;\n",
       "    }\n",
       "</style>\n",
       "<table border=\"1\" class=\"dataframe\">\n",
       "  <thead>\n",
       "    <tr style=\"text-align: right;\">\n",
       "      <th></th>\n",
       "      <th>NU_NOTA_MT</th>\n",
       "      <th>NU_NOTA_CN</th>\n",
       "      <th>NU_NOTA_CH</th>\n",
       "      <th>NU_NOTA_LC</th>\n",
       "      <th>NU_NOTA_REDACAO</th>\n",
       "    </tr>\n",
       "  </thead>\n",
       "  <tbody>\n",
       "    <tr>\n",
       "      <th>count</th>\n",
       "      <td>13730.000000</td>\n",
       "      <td>13730.000000</td>\n",
       "      <td>13730.000000</td>\n",
       "      <td>13730.000000</td>\n",
       "      <td>13730.000000</td>\n",
       "    </tr>\n",
       "    <tr>\n",
       "      <th>mean</th>\n",
       "      <td>356.092607</td>\n",
       "      <td>356.621515</td>\n",
       "      <td>398.923911</td>\n",
       "      <td>381.166737</td>\n",
       "      <td>390.447633</td>\n",
       "    </tr>\n",
       "    <tr>\n",
       "      <th>std</th>\n",
       "      <td>228.844193</td>\n",
       "      <td>213.282315</td>\n",
       "      <td>237.174594</td>\n",
       "      <td>234.648409</td>\n",
       "      <td>267.749316</td>\n",
       "    </tr>\n",
       "    <tr>\n",
       "      <th>min</th>\n",
       "      <td>0.000000</td>\n",
       "      <td>0.000000</td>\n",
       "      <td>0.000000</td>\n",
       "      <td>0.000000</td>\n",
       "      <td>0.000000</td>\n",
       "    </tr>\n",
       "    <tr>\n",
       "      <th>25%</th>\n",
       "      <td>0.000000</td>\n",
       "      <td>365.625000</td>\n",
       "      <td>345.900000</td>\n",
       "      <td>0.000000</td>\n",
       "      <td>0.000000</td>\n",
       "    </tr>\n",
       "    <tr>\n",
       "      <th>50%</th>\n",
       "      <td>422.500000</td>\n",
       "      <td>433.100000</td>\n",
       "      <td>499.600000</td>\n",
       "      <td>486.000000</td>\n",
       "      <td>480.000000</td>\n",
       "    </tr>\n",
       "    <tr>\n",
       "      <th>75%</th>\n",
       "      <td>504.400000</td>\n",
       "      <td>493.200000</td>\n",
       "      <td>564.400000</td>\n",
       "      <td>548.300000</td>\n",
       "      <td>580.000000</td>\n",
       "    </tr>\n",
       "    <tr>\n",
       "      <th>max</th>\n",
       "      <td>952.000000</td>\n",
       "      <td>806.400000</td>\n",
       "      <td>807.000000</td>\n",
       "      <td>763.600000</td>\n",
       "      <td>1000.000000</td>\n",
       "    </tr>\n",
       "  </tbody>\n",
       "</table>\n",
       "</div>"
      ],
      "text/plain": [
       "         NU_NOTA_MT    NU_NOTA_CN    NU_NOTA_CH    NU_NOTA_LC  NU_NOTA_REDACAO\n",
       "count  13730.000000  13730.000000  13730.000000  13730.000000     13730.000000\n",
       "mean     356.092607    356.621515    398.923911    381.166737       390.447633\n",
       "std      228.844193    213.282315    237.174594    234.648409       267.749316\n",
       "min        0.000000      0.000000      0.000000      0.000000         0.000000\n",
       "25%        0.000000    365.625000    345.900000      0.000000         0.000000\n",
       "50%      422.500000    433.100000    499.600000    486.000000       480.000000\n",
       "75%      504.400000    493.200000    564.400000    548.300000       580.000000\n",
       "max      952.000000    806.400000    807.000000    763.600000      1000.000000"
      ]
     },
     "execution_count": 135,
     "metadata": {},
     "output_type": "execute_result"
    }
   ],
   "source": [
    "df_train.describe()"
   ]
  },
  {
   "cell_type": "code",
   "execution_count": 136,
   "metadata": {
    "scrolled": true
   },
   "outputs": [
    {
     "data": {
      "text/html": [
       "<div>\n",
       "<style scoped>\n",
       "    .dataframe tbody tr th:only-of-type {\n",
       "        vertical-align: middle;\n",
       "    }\n",
       "\n",
       "    .dataframe tbody tr th {\n",
       "        vertical-align: top;\n",
       "    }\n",
       "\n",
       "    .dataframe thead th {\n",
       "        text-align: right;\n",
       "    }\n",
       "</style>\n",
       "<table border=\"1\" class=\"dataframe\">\n",
       "  <thead>\n",
       "    <tr style=\"text-align: right;\">\n",
       "      <th></th>\n",
       "      <th>NU_NOTA_CN</th>\n",
       "      <th>NU_NOTA_CH</th>\n",
       "      <th>NU_NOTA_LC</th>\n",
       "      <th>NU_NOTA_REDACAO</th>\n",
       "    </tr>\n",
       "  </thead>\n",
       "  <tbody>\n",
       "    <tr>\n",
       "      <th>count</th>\n",
       "      <td>4576.000000</td>\n",
       "      <td>4576.000000</td>\n",
       "      <td>4576.000000</td>\n",
       "      <td>4576.000000</td>\n",
       "    </tr>\n",
       "    <tr>\n",
       "      <th>mean</th>\n",
       "      <td>355.886167</td>\n",
       "      <td>398.052906</td>\n",
       "      <td>379.546613</td>\n",
       "      <td>389.278846</td>\n",
       "    </tr>\n",
       "    <tr>\n",
       "      <th>std</th>\n",
       "      <td>213.372420</td>\n",
       "      <td>237.129999</td>\n",
       "      <td>233.543656</td>\n",
       "      <td>266.194563</td>\n",
       "    </tr>\n",
       "    <tr>\n",
       "      <th>min</th>\n",
       "      <td>0.000000</td>\n",
       "      <td>0.000000</td>\n",
       "      <td>0.000000</td>\n",
       "      <td>0.000000</td>\n",
       "    </tr>\n",
       "    <tr>\n",
       "      <th>25%</th>\n",
       "      <td>364.975000</td>\n",
       "      <td>345.500000</td>\n",
       "      <td>0.000000</td>\n",
       "      <td>0.000000</td>\n",
       "    </tr>\n",
       "    <tr>\n",
       "      <th>50%</th>\n",
       "      <td>432.450000</td>\n",
       "      <td>499.450000</td>\n",
       "      <td>483.100000</td>\n",
       "      <td>480.000000</td>\n",
       "    </tr>\n",
       "    <tr>\n",
       "      <th>75%</th>\n",
       "      <td>493.325000</td>\n",
       "      <td>562.200000</td>\n",
       "      <td>544.600000</td>\n",
       "      <td>580.000000</td>\n",
       "    </tr>\n",
       "    <tr>\n",
       "      <th>max</th>\n",
       "      <td>778.900000</td>\n",
       "      <td>773.600000</td>\n",
       "      <td>708.900000</td>\n",
       "      <td>980.000000</td>\n",
       "    </tr>\n",
       "  </tbody>\n",
       "</table>\n",
       "</div>"
      ],
      "text/plain": [
       "        NU_NOTA_CN   NU_NOTA_CH   NU_NOTA_LC  NU_NOTA_REDACAO\n",
       "count  4576.000000  4576.000000  4576.000000      4576.000000\n",
       "mean    355.886167   398.052906   379.546613       389.278846\n",
       "std     213.372420   237.129999   233.543656       266.194563\n",
       "min       0.000000     0.000000     0.000000         0.000000\n",
       "25%     364.975000   345.500000     0.000000         0.000000\n",
       "50%     432.450000   499.450000   483.100000       480.000000\n",
       "75%     493.325000   562.200000   544.600000       580.000000\n",
       "max     778.900000   773.600000   708.900000       980.000000"
      ]
     },
     "execution_count": 136,
     "metadata": {},
     "output_type": "execute_result"
    }
   ],
   "source": [
    "df_test.describe()"
   ]
  },
  {
   "cell_type": "code",
   "execution_count": 137,
   "metadata": {},
   "outputs": [
    {
     "name": "stderr",
     "output_type": "stream",
     "text": [
      "/home/eduardo/anaconda3/lib/python3.7/site-packages/pandas/core/frame.py:3940: SettingWithCopyWarning: \n",
      "A value is trying to be set on a copy of a slice from a DataFrame\n",
      "\n",
      "See the caveats in the documentation: http://pandas.pydata.org/pandas-docs/stable/indexing.html#indexing-view-versus-copy\n",
      "  errors=errors)\n"
     ]
    }
   ],
   "source": [
    "y_train = df_train['NU_NOTA_MT']\n",
    "df_train.drop('NU_NOTA_MT', axis=1, inplace=True)\n",
    "x_train = df_train\n",
    "x_test = df_test[features]\n",
    "x_train = sc.fit_transform(x_train)  \n",
    "x_test = sc.transform(x_test)"
   ]
  },
  {
   "cell_type": "code",
   "execution_count": 138,
   "metadata": {},
   "outputs": [],
   "source": [
    "from sklearn.ensemble import RandomForestRegressor\n",
    "regressor = RandomForestRegressor( \n",
    "           criterion='mae', \n",
    "           max_depth=8,\n",
    "           max_leaf_nodes=None,\n",
    "           min_impurity_split=None,\n",
    "           min_samples_leaf=1,\n",
    "           min_samples_split=2,\n",
    "           min_weight_fraction_leaf=0.0,\n",
    "           n_estimators= 500,\n",
    "           n_jobs=-1,\n",
    "           random_state=0,\n",
    "           verbose=0,\n",
    "           warm_start=False\n",
    ")    \n"
   ]
  },
  {
   "cell_type": "code",
   "execution_count": 139,
   "metadata": {},
   "outputs": [
    {
     "data": {
      "text/plain": [
       "RandomForestRegressor(bootstrap=True, criterion='mae', max_depth=8,\n",
       "           max_features='auto', max_leaf_nodes=None,\n",
       "           min_impurity_decrease=0.0, min_impurity_split=None,\n",
       "           min_samples_leaf=1, min_samples_split=2,\n",
       "           min_weight_fraction_leaf=0.0, n_estimators=500, n_jobs=-1,\n",
       "           oob_score=False, random_state=0, verbose=0, warm_start=False)"
      ]
     },
     "execution_count": 139,
     "metadata": {},
     "output_type": "execute_result"
    }
   ],
   "source": [
    "regressor.fit(x_train, y_train) "
   ]
  },
  {
   "cell_type": "code",
   "execution_count": 140,
   "metadata": {},
   "outputs": [],
   "source": [
    "x_test = df_test[features] \n",
    "x_test = sc.transform(x_test)"
   ]
  },
  {
   "cell_type": "code",
   "execution_count": 141,
   "metadata": {},
   "outputs": [],
   "source": [
    "y_pred_test = regressor.predict(x_test)\n",
    "y_pred_train = regressor.predict(x_train)"
   ]
  },
  {
   "cell_type": "code",
   "execution_count": 142,
   "metadata": {},
   "outputs": [
    {
     "name": "stdout",
     "output_type": "stream",
     "text": [
      "MAE: 40.41969187\n",
      "MSE: 3659.92535188\n",
      "RMSE: 60.4973169\n"
     ]
    }
   ],
   "source": [
    "print('MAE:', metrics.mean_absolute_error(y_train, y_pred_train).round(8)  )\n",
    "print('MSE:', metrics.mean_squared_error(y_train, y_pred_train).round(8) )  \n",
    "print('RMSE:', np.sqrt(metrics.mean_squared_error(y_train, y_pred_train)).round(8))"
   ]
  },
  {
   "cell_type": "code",
   "execution_count": 35,
   "metadata": {},
   "outputs": [
    {
     "name": "stdout",
     "output_type": "stream",
     "text": [
      "MAE: 53.31348913\n",
      "MSE: 4678.43225585\n",
      "RMSE: 68.39906619\n"
     ]
    }
   ],
   "source": [
    "print('MAE:', metrics.mean_absolute_error(y_train, y_pred_train).round(8)  )\n",
    "print('MSE:', metrics.mean_squared_error(y_train, y_pred_train).round(8) )  \n",
    "print('RMSE:', np.sqrt(metrics.mean_squared_error(y_train, y_pred_train)).round(8))"
   ]
  },
  {
   "cell_type": "code",
   "execution_count": 143,
   "metadata": {},
   "outputs": [
    {
     "data": {
      "text/plain": [
       "array([417.9925, 443.4268, 597.2039, ..., 687.5475, 443.0218,   0.    ])"
      ]
     },
     "execution_count": 143,
     "metadata": {},
     "output_type": "execute_result"
    }
   ],
   "source": [
    "y_pred_test"
   ]
  },
  {
   "cell_type": "code",
   "execution_count": 144,
   "metadata": {},
   "outputs": [],
   "source": [
    "submission = pd.DataFrame()\n",
    "submission['NU_INSCRICAO'] = test.NU_INSCRICAO"
   ]
  },
  {
   "cell_type": "code",
   "execution_count": 145,
   "metadata": {},
   "outputs": [
    {
     "data": {
      "text/html": [
       "<div>\n",
       "<style scoped>\n",
       "    .dataframe tbody tr th:only-of-type {\n",
       "        vertical-align: middle;\n",
       "    }\n",
       "\n",
       "    .dataframe tbody tr th {\n",
       "        vertical-align: top;\n",
       "    }\n",
       "\n",
       "    .dataframe thead th {\n",
       "        text-align: right;\n",
       "    }\n",
       "</style>\n",
       "<table border=\"1\" class=\"dataframe\">\n",
       "  <thead>\n",
       "    <tr style=\"text-align: right;\">\n",
       "      <th></th>\n",
       "      <th>NU_INSCRICAO</th>\n",
       "      <th>NU_NOTA_MT</th>\n",
       "    </tr>\n",
       "  </thead>\n",
       "  <tbody>\n",
       "    <tr>\n",
       "      <th>913</th>\n",
       "      <td>3c69a9f903494bc62eab1f114782bf8eb8380e95</td>\n",
       "      <td>456.6943</td>\n",
       "    </tr>\n",
       "    <tr>\n",
       "      <th>868</th>\n",
       "      <td>deedf4f96c04de5d73e84bf87eb67e07de11df96</td>\n",
       "      <td>0.0000</td>\n",
       "    </tr>\n",
       "    <tr>\n",
       "      <th>2340</th>\n",
       "      <td>e366080005222df476c35a67b0e008005e41916b</td>\n",
       "      <td>420.6026</td>\n",
       "    </tr>\n",
       "    <tr>\n",
       "      <th>4176</th>\n",
       "      <td>29045ca6941cf839378ce5c3ca7ebe5e3ffea2da</td>\n",
       "      <td>0.0000</td>\n",
       "    </tr>\n",
       "    <tr>\n",
       "      <th>1653</th>\n",
       "      <td>c26a3a389b250f62571cd7f3a79f77bc2a793ca2</td>\n",
       "      <td>0.0000</td>\n",
       "    </tr>\n",
       "    <tr>\n",
       "      <th>2186</th>\n",
       "      <td>5c378b023c3836ce7110247108b52a8e954d598f</td>\n",
       "      <td>436.9121</td>\n",
       "    </tr>\n",
       "    <tr>\n",
       "      <th>1552</th>\n",
       "      <td>81460d227c47eafc9ef1542412d5975501b3bbbc</td>\n",
       "      <td>0.0000</td>\n",
       "    </tr>\n",
       "    <tr>\n",
       "      <th>1740</th>\n",
       "      <td>91063e48f730917c0d9db5e5268073e1fc0ef9c1</td>\n",
       "      <td>556.6492</td>\n",
       "    </tr>\n",
       "    <tr>\n",
       "      <th>270</th>\n",
       "      <td>8257941af168c0cc15f28bd596fd922352dae732</td>\n",
       "      <td>419.7291</td>\n",
       "    </tr>\n",
       "    <tr>\n",
       "      <th>307</th>\n",
       "      <td>c8feec2a94d996d03534ce935dec7a034667f107</td>\n",
       "      <td>787.0220</td>\n",
       "    </tr>\n",
       "    <tr>\n",
       "      <th>1972</th>\n",
       "      <td>0dac68d7406eca065e8515480379bf65818031dd</td>\n",
       "      <td>416.0717</td>\n",
       "    </tr>\n",
       "    <tr>\n",
       "      <th>32</th>\n",
       "      <td>17f0dd5abd53dea135ffd020e8e8e0761b3a56aa</td>\n",
       "      <td>556.6863</td>\n",
       "    </tr>\n",
       "    <tr>\n",
       "      <th>1984</th>\n",
       "      <td>fa71ae7cc3f0bf508e7a190c36e34daf16eec0c8</td>\n",
       "      <td>461.3619</td>\n",
       "    </tr>\n",
       "    <tr>\n",
       "      <th>311</th>\n",
       "      <td>2e466f15ac7b80870736fac2d0cf4bd7f362e852</td>\n",
       "      <td>424.1961</td>\n",
       "    </tr>\n",
       "    <tr>\n",
       "      <th>1787</th>\n",
       "      <td>baf4a7108d45405b3534a38d5429d88941445dac</td>\n",
       "      <td>740.7912</td>\n",
       "    </tr>\n",
       "    <tr>\n",
       "      <th>2597</th>\n",
       "      <td>1276389d1bedd7bb0349f43ae9f1b45d7e07a900</td>\n",
       "      <td>428.4416</td>\n",
       "    </tr>\n",
       "    <tr>\n",
       "      <th>3750</th>\n",
       "      <td>92b5684e2a99a7a6a2d20d8edbda70fb9b15e9e1</td>\n",
       "      <td>457.3949</td>\n",
       "    </tr>\n",
       "    <tr>\n",
       "      <th>819</th>\n",
       "      <td>2eec2a8804041d45e6aed36d780af42077db9738</td>\n",
       "      <td>0.0000</td>\n",
       "    </tr>\n",
       "    <tr>\n",
       "      <th>1786</th>\n",
       "      <td>6bfaa9604ff9a85222311c1218fa25770202f6ce</td>\n",
       "      <td>445.7924</td>\n",
       "    </tr>\n",
       "    <tr>\n",
       "      <th>3608</th>\n",
       "      <td>5684bd0e7dbd48f198db07fd3b3de2aa5d6ea5c9</td>\n",
       "      <td>556.8937</td>\n",
       "    </tr>\n",
       "  </tbody>\n",
       "</table>\n",
       "</div>"
      ],
      "text/plain": [
       "                                  NU_INSCRICAO  NU_NOTA_MT\n",
       "913   3c69a9f903494bc62eab1f114782bf8eb8380e95    456.6943\n",
       "868   deedf4f96c04de5d73e84bf87eb67e07de11df96      0.0000\n",
       "2340  e366080005222df476c35a67b0e008005e41916b    420.6026\n",
       "4176  29045ca6941cf839378ce5c3ca7ebe5e3ffea2da      0.0000\n",
       "1653  c26a3a389b250f62571cd7f3a79f77bc2a793ca2      0.0000\n",
       "2186  5c378b023c3836ce7110247108b52a8e954d598f    436.9121\n",
       "1552  81460d227c47eafc9ef1542412d5975501b3bbbc      0.0000\n",
       "1740  91063e48f730917c0d9db5e5268073e1fc0ef9c1    556.6492\n",
       "270   8257941af168c0cc15f28bd596fd922352dae732    419.7291\n",
       "307   c8feec2a94d996d03534ce935dec7a034667f107    787.0220\n",
       "1972  0dac68d7406eca065e8515480379bf65818031dd    416.0717\n",
       "32    17f0dd5abd53dea135ffd020e8e8e0761b3a56aa    556.6863\n",
       "1984  fa71ae7cc3f0bf508e7a190c36e34daf16eec0c8    461.3619\n",
       "311   2e466f15ac7b80870736fac2d0cf4bd7f362e852    424.1961\n",
       "1787  baf4a7108d45405b3534a38d5429d88941445dac    740.7912\n",
       "2597  1276389d1bedd7bb0349f43ae9f1b45d7e07a900    428.4416\n",
       "3750  92b5684e2a99a7a6a2d20d8edbda70fb9b15e9e1    457.3949\n",
       "819   2eec2a8804041d45e6aed36d780af42077db9738      0.0000\n",
       "1786  6bfaa9604ff9a85222311c1218fa25770202f6ce    445.7924\n",
       "3608  5684bd0e7dbd48f198db07fd3b3de2aa5d6ea5c9    556.8937"
      ]
     },
     "execution_count": 145,
     "metadata": {},
     "output_type": "execute_result"
    }
   ],
   "source": [
    "submission['NU_NOTA_MT'] = y_pred_test\n",
    "submission.sample(20)"
   ]
  },
  {
   "cell_type": "code",
   "execution_count": 146,
   "metadata": {},
   "outputs": [],
   "source": [
    "submission.to_csv('submission.csv', index=False, header=True)"
   ]
  },
  {
   "cell_type": "markdown",
   "metadata": {},
   "source": [
    "SEU SCORE: 77.66%"
   ]
  },
  {
   "cell_type": "code",
   "execution_count": 102,
   "metadata": {},
   "outputs": [],
   "source": [
    "for index, row in submission.iterrows():\n",
    "    if(row['NU_NOTA_MT'] == 0):\n",
    "        print('OK')"
   ]
  },
  {
   "cell_type": "code",
   "execution_count": 118,
   "metadata": {},
   "outputs": [
    {
     "data": {
      "text/html": [
       "<div>\n",
       "<style scoped>\n",
       "    .dataframe tbody tr th:only-of-type {\n",
       "        vertical-align: middle;\n",
       "    }\n",
       "\n",
       "    .dataframe tbody tr th {\n",
       "        vertical-align: top;\n",
       "    }\n",
       "\n",
       "    .dataframe thead th {\n",
       "        text-align: right;\n",
       "    }\n",
       "</style>\n",
       "<table border=\"1\" class=\"dataframe\">\n",
       "  <thead>\n",
       "    <tr style=\"text-align: right;\">\n",
       "      <th></th>\n",
       "      <th>NU_INSCRICAO</th>\n",
       "      <th>NU_NOTA_MT</th>\n",
       "    </tr>\n",
       "  </thead>\n",
       "  <tbody>\n",
       "    <tr>\n",
       "      <th>3784</th>\n",
       "      <td>e172fa5f93736178e35f574e8c2ac09d5191ef51</td>\n",
       "      <td>415.6702</td>\n",
       "    </tr>\n",
       "    <tr>\n",
       "      <th>2484</th>\n",
       "      <td>f97331e59feafd161d011018f9c74fba1fae199f</td>\n",
       "      <td>527.1339</td>\n",
       "    </tr>\n",
       "    <tr>\n",
       "      <th>2270</th>\n",
       "      <td>03a871e40ccef4f1d570b9cf27afb27ab6d1f35a</td>\n",
       "      <td>542.9936</td>\n",
       "    </tr>\n",
       "    <tr>\n",
       "      <th>922</th>\n",
       "      <td>6c45e7e2a9578ff4887d8bc05ca5ab4faed336ed</td>\n",
       "      <td>499.4112</td>\n",
       "    </tr>\n",
       "    <tr>\n",
       "      <th>236</th>\n",
       "      <td>80a12b8a4c9df4ef4f78a33d41858b6f1ea24144</td>\n",
       "      <td>434.8621</td>\n",
       "    </tr>\n",
       "    <tr>\n",
       "      <th>604</th>\n",
       "      <td>c869448fb5b9ea47f647ea8005fd936725a048df</td>\n",
       "      <td>420.2930</td>\n",
       "    </tr>\n",
       "    <tr>\n",
       "      <th>2349</th>\n",
       "      <td>b17ced34952e5be0f0b3c21c873c8809467bfbea</td>\n",
       "      <td>419.5063</td>\n",
       "    </tr>\n",
       "    <tr>\n",
       "      <th>3910</th>\n",
       "      <td>6d4bee056abcea733d36060113427081daae72d1</td>\n",
       "      <td>834.5777</td>\n",
       "    </tr>\n",
       "    <tr>\n",
       "      <th>416</th>\n",
       "      <td>8637d558542ccd4a1cd1d3ab336711edad60a966</td>\n",
       "      <td>442.6764</td>\n",
       "    </tr>\n",
       "    <tr>\n",
       "      <th>3341</th>\n",
       "      <td>c3b255b4dbfc50d5cfe0493c336af4c3114c2077</td>\n",
       "      <td>417.0380</td>\n",
       "    </tr>\n",
       "    <tr>\n",
       "      <th>1726</th>\n",
       "      <td>a18d0f68426b0e4dea7f437a3eab477b1e0be1a0</td>\n",
       "      <td>489.9322</td>\n",
       "    </tr>\n",
       "    <tr>\n",
       "      <th>2619</th>\n",
       "      <td>53b40f113d9d9e8d8912f8617f6dc02ce58527ea</td>\n",
       "      <td>419.5063</td>\n",
       "    </tr>\n",
       "    <tr>\n",
       "      <th>2497</th>\n",
       "      <td>f34367830fcea24bed44531a21723c743aa23388</td>\n",
       "      <td>419.1537</td>\n",
       "    </tr>\n",
       "    <tr>\n",
       "      <th>388</th>\n",
       "      <td>e2252b8e020cdf19b796baeb7b2c7b000a7bfb87</td>\n",
       "      <td>419.5063</td>\n",
       "    </tr>\n",
       "    <tr>\n",
       "      <th>3936</th>\n",
       "      <td>8d335794a40dd8b2cd2a63b7befb612595ac9b33</td>\n",
       "      <td>437.8248</td>\n",
       "    </tr>\n",
       "    <tr>\n",
       "      <th>1744</th>\n",
       "      <td>bdc86b3f02e4ea6f4e90f2a9b383caa5455c8ac5</td>\n",
       "      <td>534.8931</td>\n",
       "    </tr>\n",
       "    <tr>\n",
       "      <th>2192</th>\n",
       "      <td>e71aabde890247e81e5a8be5f620cc9c0d0ccdee</td>\n",
       "      <td>437.4943</td>\n",
       "    </tr>\n",
       "    <tr>\n",
       "      <th>3318</th>\n",
       "      <td>befd4aaff30d6c45237a045a244efdb4fac8a8e3</td>\n",
       "      <td>443.9383</td>\n",
       "    </tr>\n",
       "    <tr>\n",
       "      <th>1850</th>\n",
       "      <td>8298e89f71c60462bb6195411609712279447164</td>\n",
       "      <td>476.9326</td>\n",
       "    </tr>\n",
       "    <tr>\n",
       "      <th>1739</th>\n",
       "      <td>6cb6d0fb483677807fa4709359282dda53262fe4</td>\n",
       "      <td>416.9804</td>\n",
       "    </tr>\n",
       "  </tbody>\n",
       "</table>\n",
       "</div>"
      ],
      "text/plain": [
       "                                  NU_INSCRICAO  NU_NOTA_MT\n",
       "3784  e172fa5f93736178e35f574e8c2ac09d5191ef51    415.6702\n",
       "2484  f97331e59feafd161d011018f9c74fba1fae199f    527.1339\n",
       "2270  03a871e40ccef4f1d570b9cf27afb27ab6d1f35a    542.9936\n",
       "922   6c45e7e2a9578ff4887d8bc05ca5ab4faed336ed    499.4112\n",
       "236   80a12b8a4c9df4ef4f78a33d41858b6f1ea24144    434.8621\n",
       "604   c869448fb5b9ea47f647ea8005fd936725a048df    420.2930\n",
       "2349  b17ced34952e5be0f0b3c21c873c8809467bfbea    419.5063\n",
       "3910  6d4bee056abcea733d36060113427081daae72d1    834.5777\n",
       "416   8637d558542ccd4a1cd1d3ab336711edad60a966    442.6764\n",
       "3341  c3b255b4dbfc50d5cfe0493c336af4c3114c2077    417.0380\n",
       "1726  a18d0f68426b0e4dea7f437a3eab477b1e0be1a0    489.9322\n",
       "2619  53b40f113d9d9e8d8912f8617f6dc02ce58527ea    419.5063\n",
       "2497  f34367830fcea24bed44531a21723c743aa23388    419.1537\n",
       "388   e2252b8e020cdf19b796baeb7b2c7b000a7bfb87    419.5063\n",
       "3936  8d335794a40dd8b2cd2a63b7befb612595ac9b33    437.8248\n",
       "1744  bdc86b3f02e4ea6f4e90f2a9b383caa5455c8ac5    534.8931\n",
       "2192  e71aabde890247e81e5a8be5f620cc9c0d0ccdee    437.4943\n",
       "3318  befd4aaff30d6c45237a045a244efdb4fac8a8e3    443.9383\n",
       "1850  8298e89f71c60462bb6195411609712279447164    476.9326\n",
       "1739  6cb6d0fb483677807fa4709359282dda53262fe4    416.9804"
      ]
     },
     "execution_count": 118,
     "metadata": {},
     "output_type": "execute_result"
    }
   ],
   "source": [
    "\n",
    "submission.sample(20)"
   ]
  },
  {
   "cell_type": "code",
   "execution_count": null,
   "metadata": {},
   "outputs": [],
   "source": []
  }
 ],
 "metadata": {
  "kernelspec": {
   "display_name": "Python 3",
   "language": "python",
   "name": "python3"
  },
  "language_info": {
   "codemirror_mode": {
    "name": "ipython",
    "version": 3
   },
   "file_extension": ".py",
   "mimetype": "text/x-python",
   "name": "python",
   "nbconvert_exporter": "python",
   "pygments_lexer": "ipython3",
   "version": "3.7.3"
  }
 },
 "nbformat": 4,
 "nbformat_minor": 2
}
