{
 "cells": [
  {
   "cell_type": "markdown",
   "metadata": {},
   "source": [
    "## (Extra) Porque usar numpy?"
   ]
  },
  {
   "cell_type": "markdown",
   "metadata": {},
   "source": [
    "https://towardsdatascience.com/a-hitchhiker-guide-to-python-numpy-arrays-9358de570121"
   ]
  },
  {
   "cell_type": "markdown",
   "metadata": {},
   "source": [
    "Observe a equação abaixo:\n",
    "\n",
    "$$ \\sum_{n \\neq k}^{N}abs\\left(x(n)^{2}-2*x(n) \\right ) $$"
   ]
  },
  {
   "cell_type": "code",
   "execution_count": 1,
   "metadata": {},
   "outputs": [],
   "source": [
    "# import the libraries\n",
    "import time\n",
    "import random\n",
    "import numpy as np"
   ]
  },
  {
   "cell_type": "code",
   "execution_count": 2,
   "metadata": {},
   "outputs": [],
   "source": [
    "# Inicializar vetor com uma grande quantidade de dados aleátorios\n",
    "x = [random.randint(1,10) for i in range(50000)]\n",
    "np_x = np.array(x)\n",
    "\n",
    "# Selecionar valores k para a equação\n",
    "k = [4, 8, 30] "
   ]
  },
  {
   "cell_type": "markdown",
   "metadata": {},
   "source": [
    "### Executar a função com for loop"
   ]
  },
  {
   "cell_type": "code",
   "execution_count": 3,
   "metadata": {},
   "outputs": [
    {
     "name": "stdout",
     "output_type": "stream",
     "text": [
      "Resultado da equação:  276440\n",
      "Tempo de execução com \"for\": 1.72s\n"
     ]
    }
   ],
   "source": [
    "start = time.time()\n",
    "\n",
    "# Executar 200x o código analisado\n",
    "for aux in range(200):\n",
    "    \n",
    "    #----------------- code analysed ------------\n",
    "    all_sum = 0\n",
    "    for i in range(len(x)):\n",
    "        if(x[i] in k):\n",
    "            all_sum += abs(x[i]*x[i] - 2*x[i])\n",
    "    #--------------------------------------------\n",
    "\n",
    "end = time.time()\n",
    "time_for = end - start\n",
    "print('Resultado da equação: ', all_sum) \n",
    "print('Tempo de execução com \\\"for\\\": {0:.2f}s'.format(time_for))"
   ]
  },
  {
   "cell_type": "markdown",
   "metadata": {},
   "source": [
    "### Executar a função com numpy"
   ]
  },
  {
   "cell_type": "code",
   "execution_count": 4,
   "metadata": {},
   "outputs": [
    {
     "name": "stdout",
     "output_type": "stream",
     "text": [
      "Resultado da equação:  276440\n",
      "Tempo de execução com \"numpy\": 0.07s\n"
     ]
    }
   ],
   "source": [
    "start = time.time()\n",
    "\n",
    "# Executar 200x o código analisado\n",
    "for aux in range(200):\n",
    "    \n",
    "    #----------------- code analysed ------------\n",
    "    np_result = np_x[np.isin(np_x,k)]\n",
    "    np_result = abs(np.square(np_result) - 2*np_result)\n",
    "    all_sum_np = np.sum(np_result)\n",
    "    #--------------------------------------------\n",
    "\n",
    "end = time.time()\n",
    "time_np = end - start\n",
    "print('Resultado da equação: ', all_sum_np) \n",
    "print('Tempo de execução com \\\"numpy\\\": {0:.2f}s'.format(time_np))"
   ]
  },
  {
   "cell_type": "code",
   "execution_count": 5,
   "metadata": {},
   "outputs": [
    {
     "name": "stdout",
     "output_type": "stream",
     "text": [
      "Para este exemplo a execução com numpy foi 26x mais rápida que utilizando for\n"
     ]
    }
   ],
   "source": [
    "print('Para este exemplo a execução com numpy foi {0:.0f}x mais rápida que utilizando for'.format(time_for/time_np))"
   ]
  }
 ],
 "metadata": {
  "kernelspec": {
   "display_name": "Python 3",
   "language": "python",
   "name": "python3"
  },
  "language_info": {
   "codemirror_mode": {
    "name": "ipython",
    "version": 3
   },
   "file_extension": ".py",
   "mimetype": "text/x-python",
   "name": "python",
   "nbconvert_exporter": "python",
   "pygments_lexer": "ipython3",
   "version": "3.7.3"
  }
 },
 "nbformat": 4,
 "nbformat_minor": 2
}
