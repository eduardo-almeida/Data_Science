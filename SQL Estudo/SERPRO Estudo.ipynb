{
 "cells": [
  {
   "cell_type": "code",
   "execution_count": 41,
   "id": "c8fd1a44",
   "metadata": {},
   "outputs": [
    {
     "name": "stdout",
     "output_type": "stream",
     "text": [
      "Defaulting to user installation because normal site-packages is not writeable\n",
      "Requirement already satisfied: mysql-connector-python in c:\\users\\eduardo\\appdata\\roaming\\python\\python39\\site-packages (8.1.0)\n",
      "Requirement already satisfied: protobuf<=4.21.12,>=4.21.1 in c:\\users\\eduardo\\appdata\\roaming\\python\\python39\\site-packages (from mysql-connector-python) (4.21.12)\n"
     ]
    }
   ],
   "source": [
    "!pip install mysql-connector-python"
   ]
  },
  {
   "cell_type": "code",
   "execution_count": 40,
   "id": "4c0f222a",
   "metadata": {},
   "outputs": [],
   "source": [
    "import mysql.connector"
   ]
  },
  {
   "cell_type": "code",
   "execution_count": 32,
   "id": "0caf05d5",
   "metadata": {},
   "outputs": [],
   "source": [
    "conexao = mysql.connector.connect(host='localhost', user='root', password='1234', database='sqlestudo')"
   ]
  },
  {
   "cell_type": "code",
   "execution_count": 34,
   "id": "af7e1aed",
   "metadata": {},
   "outputs": [],
   "source": [
    "cursor = conexao.cursor()"
   ]
  },
  {
   "cell_type": "code",
   "execution_count": 35,
   "id": "14826b89",
   "metadata": {},
   "outputs": [],
   "source": [
    "nome = \"Todynho\"\n",
    "valor = 4\n",
    "comando = f'INSERT INTO vendas (nome, valor) VALUES (\"{nome}\", \"{valor}\")'\n",
    "cursor.execute(comando) # Executa o comando\n",
    "conexao.commit() # Edita o banco\n",
    "resultado = cursor.fetchall() # ler o banco"
   ]
  },
  {
   "cell_type": "code",
   "execution_count": 36,
   "id": "32cf73f4",
   "metadata": {},
   "outputs": [
    {
     "data": {
      "text/plain": [
       "[]"
      ]
     },
     "execution_count": 36,
     "metadata": {},
     "output_type": "execute_result"
    }
   ],
   "source": [
    "resultado"
   ]
  },
  {
   "cell_type": "code",
   "execution_count": 37,
   "id": "f11f55b3",
   "metadata": {},
   "outputs": [],
   "source": [
    "nome = \"teste\"\n",
    "valor = 15\n",
    "comando = f'INSERT INTO vendas (nome, valor) VALUES (\"{nome}\", \"{valor}\")'\n",
    "cursor.execute(comando)\n",
    "conexao.commit()"
   ]
  },
  {
   "cell_type": "code",
   "execution_count": 38,
   "id": "6d9d5afd",
   "metadata": {},
   "outputs": [
    {
     "data": {
      "text/plain": [
       "[(1, 'Todynho', 4), (3, 'teste', 15), (4, 'Todynho', 4), (5, 'teste', 15)]"
      ]
     },
     "execution_count": 38,
     "metadata": {},
     "output_type": "execute_result"
    }
   ],
   "source": [
    "comando = f'SELECT * FROM vendas'\n",
    "cursor.execute(comando)\n",
    "resultado = cursor.fetchall() # ler o banco\n",
    "resultado"
   ]
  },
  {
   "cell_type": "code",
   "execution_count": 24,
   "id": "33a78958",
   "metadata": {},
   "outputs": [],
   "source": [
    "nome = \"Bolo\"\n",
    "idvendas = 2\n",
    "comando = f'UPDATE vendas SET nome = \"{nome}\" where idVendas = {idvendas}'\n",
    "#comando = f'UPDATE vendas SET nome = \"{nome}\" WHERE nome = \"Todynho\"'\n",
    "cursor.execute(comando)\n",
    "conexao.commit()"
   ]
  },
  {
   "cell_type": "code",
   "execution_count": 39,
   "id": "5998ce17",
   "metadata": {},
   "outputs": [],
   "source": [
    "nome = \"Bolo\"\n",
    "idvendas = 5\n",
    "comando = f'DELETE FROM vendas where idVendas = {idvendas}'\n",
    "#comando = f'UPDATE FROM vendas SET nome = \"{nome}\" WHERE nome = \"Todynho\"'\n",
    "cursor.execute(comando)\n",
    "conexao.commit()"
   ]
  },
  {
   "cell_type": "code",
   "execution_count": 30,
   "id": "65e2ed3d",
   "metadata": {},
   "outputs": [],
   "source": [
    "conexao.close()"
   ]
  },
  {
   "cell_type": "code",
   "execution_count": null,
   "id": "9d295597",
   "metadata": {},
   "outputs": [],
   "source": []
  }
 ],
 "metadata": {
  "kernelspec": {
   "display_name": "Python 3 (ipykernel)",
   "language": "python",
   "name": "python3"
  },
  "language_info": {
   "codemirror_mode": {
    "name": "ipython",
    "version": 3
   },
   "file_extension": ".py",
   "mimetype": "text/x-python",
   "name": "python",
   "nbconvert_exporter": "python",
   "pygments_lexer": "ipython3",
   "version": "3.9.13"
  }
 },
 "nbformat": 4,
 "nbformat_minor": 5
}
