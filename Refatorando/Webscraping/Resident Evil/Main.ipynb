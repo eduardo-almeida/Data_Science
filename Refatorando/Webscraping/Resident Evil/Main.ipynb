{
 "cells": [
  {
   "cell_type": "code",
   "execution_count": 1,
   "metadata": {},
   "outputs": [],
   "source": [
    "import pandas as pd\n",
    "import requests\n",
    "from bs4 import BeautifulSoup "
   ]
  },
  {
   "cell_type": "markdown",
   "metadata": {},
   "source": [
    "Estamos usando esse site para exemplo:\n",
    "http://www.residentevildatabase.com/personagens/"
   ]
  },
  {
   "cell_type": "code",
   "execution_count": 2,
   "metadata": {},
   "outputs": [],
   "source": [
    "def get_aparicoes(url):\n",
    "    html = requests.get(url)\n",
    "    bs_obj = BeautifulSoup(html.text, \"lxml\")\n",
    "    h4 = bs_obj.find({'h4':'Aparições em títulos da série:'})\n",
    "    lista = [i.text for i in h4.find_next().find_all(\"a\")]\n",
    "    return lista\n",
    "\n",
    "def get_character(url):\n",
    "    lista = get_aparicoes(url)\n",
    "    nome = [url.split(\"/\")[-2]]* len(lista)\n",
    "    return pd.DataFrame({\"Nome\": nome, \"Aparição\": lista})\n",
    "\n",
    "def get_all_links(url):\n",
    "    html = requests.get(url)\n",
    "    bs_obj = BeautifulSoup(html.text, \"lxml\")\n",
    "    links = []\n",
    "    h3 = bs_obj.find_all(\"h3\", style = \"padding-left: 30px;\")\n",
    "    for i in h3:\n",
    "        links += [j[\"href\"] for j in i.find_next().find_all(\"a\")]\n",
    "    return links"
   ]
  },
  {
   "cell_type": "code",
   "execution_count": 3,
   "metadata": {},
   "outputs": [],
   "source": [
    "url = \"http://www.residentevildatabase.com/personagens/\"\n",
    "links = get_all_links(url)"
   ]
  },
  {
   "cell_type": "code",
   "execution_count": 4,
   "metadata": {},
   "outputs": [],
   "source": [
    "df = pd.DataFrame()\n",
    "for l in links:\n",
    "    df = pd.concat([df, get_character(l) ] )"
   ]
  },
  {
   "cell_type": "code",
   "execution_count": 5,
   "metadata": {},
   "outputs": [
    {
     "data": {
      "text/html": [
       "<div>\n",
       "<style scoped>\n",
       "    .dataframe tbody tr th:only-of-type {\n",
       "        vertical-align: middle;\n",
       "    }\n",
       "\n",
       "    .dataframe tbody tr th {\n",
       "        vertical-align: top;\n",
       "    }\n",
       "\n",
       "    .dataframe thead th {\n",
       "        text-align: right;\n",
       "    }\n",
       "</style>\n",
       "<table border=\"1\" class=\"dataframe\">\n",
       "  <thead>\n",
       "    <tr style=\"text-align: right;\">\n",
       "      <th></th>\n",
       "      <th>Nome</th>\n",
       "      <th>Aparição</th>\n",
       "    </tr>\n",
       "  </thead>\n",
       "  <tbody>\n",
       "    <tr>\n",
       "      <th>0</th>\n",
       "      <td>kenneth-j-sullivan</td>\n",
       "      <td>Biohazard / Resident Evil Clássico</td>\n",
       "    </tr>\n",
       "    <tr>\n",
       "      <th>4</th>\n",
       "      <td>rebecca-chambers</td>\n",
       "      <td>Biohazard / Resident Evil 5</td>\n",
       "    </tr>\n",
       "    <tr>\n",
       "      <th>0</th>\n",
       "      <td>veronica-ashford</td>\n",
       "      <td>Biohazard / Resident Evil CODE: Veronica</td>\n",
       "    </tr>\n",
       "    <tr>\n",
       "      <th>0</th>\n",
       "      <td>morpheus-d-duvall</td>\n",
       "      <td>Biohazard Gun Survivor 4: Heroes Never Die / R...</td>\n",
       "    </tr>\n",
       "    <tr>\n",
       "      <th>1</th>\n",
       "      <td>george-hamilton</td>\n",
       "      <td>Biohazard / Resident Evil Outbreak File #2</td>\n",
       "    </tr>\n",
       "    <tr>\n",
       "      <th>0</th>\n",
       "      <td>bertha-michaela-schneider</td>\n",
       "      <td>Biohazard / Resident Evil: Operation Raccoon City</td>\n",
       "    </tr>\n",
       "    <tr>\n",
       "      <th>0</th>\n",
       "      <td>andre-strickland</td>\n",
       "      <td>Biohazard / Resident Evil 7</td>\n",
       "    </tr>\n",
       "    <tr>\n",
       "      <th>0</th>\n",
       "      <td>spectre-vladimir-bodrofski</td>\n",
       "      <td>Biohazard / Resident Evil: Operation Raccoon City</td>\n",
       "    </tr>\n",
       "    <tr>\n",
       "      <th>0</th>\n",
       "      <td>alexia-ashford</td>\n",
       "      <td>Biohazard / Resident Evil CODE: Veronica</td>\n",
       "    </tr>\n",
       "    <tr>\n",
       "      <th>2</th>\n",
       "      <td>brad-vickers</td>\n",
       "      <td>Biohazard / Resident Evil Remake</td>\n",
       "    </tr>\n",
       "  </tbody>\n",
       "</table>\n",
       "</div>"
      ],
      "text/plain": [
       "                         Nome  \\\n",
       "0          kenneth-j-sullivan   \n",
       "4            rebecca-chambers   \n",
       "0            veronica-ashford   \n",
       "0           morpheus-d-duvall   \n",
       "1             george-hamilton   \n",
       "0   bertha-michaela-schneider   \n",
       "0            andre-strickland   \n",
       "0  spectre-vladimir-bodrofski   \n",
       "0              alexia-ashford   \n",
       "2                brad-vickers   \n",
       "\n",
       "                                            Aparição  \n",
       "0                 Biohazard / Resident Evil Clássico  \n",
       "4                        Biohazard / Resident Evil 5  \n",
       "0           Biohazard / Resident Evil CODE: Veronica  \n",
       "0  Biohazard Gun Survivor 4: Heroes Never Die / R...  \n",
       "1         Biohazard / Resident Evil Outbreak File #2  \n",
       "0  Biohazard / Resident Evil: Operation Raccoon City  \n",
       "0                        Biohazard / Resident Evil 7  \n",
       "0  Biohazard / Resident Evil: Operation Raccoon City  \n",
       "0           Biohazard / Resident Evil CODE: Veronica  \n",
       "2                   Biohazard / Resident Evil Remake  "
      ]
     },
     "execution_count": 5,
     "metadata": {},
     "output_type": "execute_result"
    }
   ],
   "source": [
    "df.sample(10)"
   ]
  },
  {
   "cell_type": "code",
   "execution_count": 6,
   "metadata": {},
   "outputs": [],
   "source": [
    "df.to_csv('data/personagens.csv')"
   ]
  },
  {
   "cell_type": "code",
   "execution_count": null,
   "metadata": {},
   "outputs": [],
   "source": []
  }
 ],
 "metadata": {
  "kernelspec": {
   "display_name": "Python 3",
   "language": "python",
   "name": "python3"
  },
  "language_info": {
   "codemirror_mode": {
    "name": "ipython",
    "version": 3
   },
   "file_extension": ".py",
   "mimetype": "text/x-python",
   "name": "python",
   "nbconvert_exporter": "python",
   "pygments_lexer": "ipython3",
   "version": "3.7.3"
  }
 },
 "nbformat": 4,
 "nbformat_minor": 2
}
