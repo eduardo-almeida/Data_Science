{
 "cells": [
  {
   "cell_type": "code",
   "execution_count": 1,
   "id": "5cd4292d",
   "metadata": {},
   "outputs": [],
   "source": [
    "import pandas as pd"
   ]
  },
  {
   "cell_type": "markdown",
   "id": "9f3edc3c",
   "metadata": {},
   "source": [
    "## Notas"
   ]
  },
  {
   "cell_type": "code",
   "execution_count": 3,
   "id": "c21466b5",
   "metadata": {},
   "outputs": [],
   "source": [
    "notas = pd.read_csv(\"data_inicial/ratings.csv\")"
   ]
  },
  {
   "cell_type": "code",
   "execution_count": 4,
   "id": "b9d4f58e",
   "metadata": {},
   "outputs": [],
   "source": [
    "notas.columns = [\"idUsuario\", \"idFilme\", \"nota\", \"momento\"]"
   ]
  },
  {
   "cell_type": "code",
   "execution_count": 5,
   "id": "63022031",
   "metadata": {},
   "outputs": [],
   "source": [
    "pathNotas = 'data/ratings.csv'"
   ]
  },
  {
   "cell_type": "code",
   "execution_count": 6,
   "id": "d09dcb35",
   "metadata": {},
   "outputs": [],
   "source": [
    "notas.to_csv(pathNotas, index = False, encoding = 'utf-8')"
   ]
  },
  {
   "cell_type": "markdown",
   "id": "4a24a293",
   "metadata": {},
   "source": [
    "## Filmes"
   ]
  },
  {
   "cell_type": "code",
   "execution_count": 7,
   "id": "cffae05e",
   "metadata": {},
   "outputs": [],
   "source": [
    "filmes = pd.read_csv(\"data_inicial/movies.csv\")"
   ]
  },
  {
   "cell_type": "code",
   "execution_count": 8,
   "id": "acdc43fe",
   "metadata": {},
   "outputs": [],
   "source": [
    "filmes.columns = [\"idFilme\", \"titulo\", \"generos\"]"
   ]
  },
  {
   "cell_type": "code",
   "execution_count": 9,
   "id": "bf2ce9fc",
   "metadata": {},
   "outputs": [],
   "source": [
    "pathFilmes = 'data/movies.csv'"
   ]
  },
  {
   "cell_type": "code",
   "execution_count": 10,
   "id": "89918f54",
   "metadata": {},
   "outputs": [],
   "source": [
    "filmes.to_csv(pathFilmes, index = False, encoding = 'utf-8')"
   ]
  },
  {
   "cell_type": "code",
   "execution_count": null,
   "id": "60ef4aa6",
   "metadata": {},
   "outputs": [],
   "source": []
  }
 ],
 "metadata": {
  "kernelspec": {
   "display_name": "Python 3 (ipykernel)",
   "language": "python",
   "name": "python3"
  },
  "language_info": {
   "codemirror_mode": {
    "name": "ipython",
    "version": 3
   },
   "file_extension": ".py",
   "mimetype": "text/x-python",
   "name": "python",
   "nbconvert_exporter": "python",
   "pygments_lexer": "ipython3",
   "version": "3.9.13"
  }
 },
 "nbformat": 4,
 "nbformat_minor": 5
}
