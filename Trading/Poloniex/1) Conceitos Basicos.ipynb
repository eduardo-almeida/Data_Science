{
 "cells": [
  {
   "cell_type": "code",
   "execution_count": 1,
   "metadata": {},
   "outputs": [
    {
     "name": "stderr",
     "output_type": "stream",
     "text": [
      "In /home/eduardo/anaconda3/lib/python3.7/site-packages/matplotlib/mpl-data/stylelib/_classic_test.mplstyle: \n",
      "The savefig.frameon rcparam was deprecated in Matplotlib 3.1 and will be removed in 3.3.\n",
      "In /home/eduardo/anaconda3/lib/python3.7/site-packages/matplotlib/mpl-data/stylelib/_classic_test.mplstyle: \n",
      "The verbose.level rcparam was deprecated in Matplotlib 3.1 and will be removed in 3.3.\n",
      "In /home/eduardo/anaconda3/lib/python3.7/site-packages/matplotlib/mpl-data/stylelib/_classic_test.mplstyle: \n",
      "The verbose.fileo rcparam was deprecated in Matplotlib 3.1 and will be removed in 3.3.\n"
     ]
    }
   ],
   "source": [
    "import pandas as pd\n",
    "import numpy as np\n",
    "from time import time\n",
    "from poloniex import Poloniex\n",
    "import matplotlib.pyplot as plt"
   ]
  },
  {
   "cell_type": "code",
   "execution_count": 2,
   "metadata": {},
   "outputs": [],
   "source": [
    "#Criando uma instancia de Poloniex\n",
    "polo = Poloniex()"
   ]
  },
  {
   "cell_type": "code",
   "execution_count": 3,
   "metadata": {},
   "outputs": [],
   "source": [
    "api = Poloniex(jsonNums=float)\n",
    "\n",
    "#period=api.DAY, start=time()-api.YEAR*10\n",
    "raw = api.returnChartData('BTC_ETH', period=300, start=time()-api.MONTH*3)\n",
    "df = pd.DataFrame(raw)"
   ]
  },
  {
   "cell_type": "code",
   "execution_count": 4,
   "metadata": {},
   "outputs": [],
   "source": [
    "# Ajustando o formato  data e setando como index\n",
    "df['date'] = pd.to_datetime(df[\"date\"], unit='s')\n",
    "df.set_index('date', inplace=True)"
   ]
  },
  {
   "cell_type": "code",
   "execution_count": 5,
   "metadata": {},
   "outputs": [
    {
     "data": {
      "text/html": [
       "<div>\n",
       "<style scoped>\n",
       "    .dataframe tbody tr th:only-of-type {\n",
       "        vertical-align: middle;\n",
       "    }\n",
       "\n",
       "    .dataframe tbody tr th {\n",
       "        vertical-align: top;\n",
       "    }\n",
       "\n",
       "    .dataframe thead th {\n",
       "        text-align: right;\n",
       "    }\n",
       "</style>\n",
       "<table border=\"1\" class=\"dataframe\">\n",
       "  <thead>\n",
       "    <tr style=\"text-align: right;\">\n",
       "      <th></th>\n",
       "      <th>close</th>\n",
       "      <th>high</th>\n",
       "      <th>low</th>\n",
       "      <th>open</th>\n",
       "      <th>quoteVolume</th>\n",
       "      <th>volume</th>\n",
       "      <th>weightedAverage</th>\n",
       "    </tr>\n",
       "    <tr>\n",
       "      <th>date</th>\n",
       "      <th></th>\n",
       "      <th></th>\n",
       "      <th></th>\n",
       "      <th></th>\n",
       "      <th></th>\n",
       "      <th></th>\n",
       "      <th></th>\n",
       "    </tr>\n",
       "  </thead>\n",
       "  <tbody>\n",
       "    <tr>\n",
       "      <th>2020-04-17 21:24:37</th>\n",
       "      <td>0.024164</td>\n",
       "      <td>0.024164</td>\n",
       "      <td>0.024164</td>\n",
       "      <td>0.024164</td>\n",
       "      <td>0.000000</td>\n",
       "      <td>0.000000</td>\n",
       "      <td>0.024164</td>\n",
       "    </tr>\n",
       "    <tr>\n",
       "      <th>2020-04-17 21:25:00</th>\n",
       "      <td>0.024159</td>\n",
       "      <td>0.024162</td>\n",
       "      <td>0.024158</td>\n",
       "      <td>0.024162</td>\n",
       "      <td>1.766602</td>\n",
       "      <td>0.042683</td>\n",
       "      <td>0.024161</td>\n",
       "    </tr>\n",
       "    <tr>\n",
       "      <th>2020-04-17 21:30:00</th>\n",
       "      <td>0.024159</td>\n",
       "      <td>0.024159</td>\n",
       "      <td>0.024159</td>\n",
       "      <td>0.024159</td>\n",
       "      <td>0.414059</td>\n",
       "      <td>0.010003</td>\n",
       "      <td>0.024159</td>\n",
       "    </tr>\n",
       "    <tr>\n",
       "      <th>2020-04-17 21:35:00</th>\n",
       "      <td>0.024145</td>\n",
       "      <td>0.024159</td>\n",
       "      <td>0.024145</td>\n",
       "      <td>0.024159</td>\n",
       "      <td>4.674206</td>\n",
       "      <td>0.112896</td>\n",
       "      <td>0.024153</td>\n",
       "    </tr>\n",
       "    <tr>\n",
       "      <th>2020-04-17 21:40:00</th>\n",
       "      <td>0.024139</td>\n",
       "      <td>0.024139</td>\n",
       "      <td>0.024138</td>\n",
       "      <td>0.024139</td>\n",
       "      <td>6.230946</td>\n",
       "      <td>0.150409</td>\n",
       "      <td>0.024139</td>\n",
       "    </tr>\n",
       "  </tbody>\n",
       "</table>\n",
       "</div>"
      ],
      "text/plain": [
       "                        close      high       low      open  quoteVolume  \\\n",
       "date                                                                       \n",
       "2020-04-17 21:24:37  0.024164  0.024164  0.024164  0.024164     0.000000   \n",
       "2020-04-17 21:25:00  0.024159  0.024162  0.024158  0.024162     1.766602   \n",
       "2020-04-17 21:30:00  0.024159  0.024159  0.024159  0.024159     0.414059   \n",
       "2020-04-17 21:35:00  0.024145  0.024159  0.024145  0.024159     4.674206   \n",
       "2020-04-17 21:40:00  0.024139  0.024139  0.024138  0.024139     6.230946   \n",
       "\n",
       "                       volume  weightedAverage  \n",
       "date                                            \n",
       "2020-04-17 21:24:37  0.000000         0.024164  \n",
       "2020-04-17 21:25:00  0.042683         0.024161  \n",
       "2020-04-17 21:30:00  0.010003         0.024159  \n",
       "2020-04-17 21:35:00  0.112896         0.024153  \n",
       "2020-04-17 21:40:00  0.150409         0.024139  "
      ]
     },
     "execution_count": 5,
     "metadata": {},
     "output_type": "execute_result"
    }
   ],
   "source": [
    "df.head()"
   ]
  },
  {
   "cell_type": "code",
   "execution_count": 6,
   "metadata": {
    "scrolled": false
   },
   "outputs": [
    {
     "data": {
      "text/plain": [
       "(25921, 7)"
      ]
     },
     "execution_count": 6,
     "metadata": {},
     "output_type": "execute_result"
    }
   ],
   "source": [
    "df.shape"
   ]
  },
  {
   "cell_type": "code",
   "execution_count": 7,
   "metadata": {},
   "outputs": [
    {
     "data": {
      "text/html": [
       "<div>\n",
       "<style scoped>\n",
       "    .dataframe tbody tr th:only-of-type {\n",
       "        vertical-align: middle;\n",
       "    }\n",
       "\n",
       "    .dataframe tbody tr th {\n",
       "        vertical-align: top;\n",
       "    }\n",
       "\n",
       "    .dataframe thead th {\n",
       "        text-align: right;\n",
       "    }\n",
       "</style>\n",
       "<table border=\"1\" class=\"dataframe\">\n",
       "  <thead>\n",
       "    <tr style=\"text-align: right;\">\n",
       "      <th></th>\n",
       "      <th>close</th>\n",
       "      <th>high</th>\n",
       "      <th>low</th>\n",
       "      <th>open</th>\n",
       "      <th>quoteVolume</th>\n",
       "      <th>volume</th>\n",
       "      <th>weightedAverage</th>\n",
       "    </tr>\n",
       "    <tr>\n",
       "      <th>date</th>\n",
       "      <th></th>\n",
       "      <th></th>\n",
       "      <th></th>\n",
       "      <th></th>\n",
       "      <th></th>\n",
       "      <th></th>\n",
       "      <th></th>\n",
       "    </tr>\n",
       "  </thead>\n",
       "  <tbody>\n",
       "    <tr>\n",
       "      <th>2020-07-16 21:00:00</th>\n",
       "      <td>0.025545</td>\n",
       "      <td>0.025560</td>\n",
       "      <td>0.025545</td>\n",
       "      <td>0.025551</td>\n",
       "      <td>0.121466</td>\n",
       "      <td>0.003104</td>\n",
       "      <td>0.025557</td>\n",
       "    </tr>\n",
       "    <tr>\n",
       "      <th>2020-07-16 21:05:00</th>\n",
       "      <td>0.025545</td>\n",
       "      <td>0.025545</td>\n",
       "      <td>0.025545</td>\n",
       "      <td>0.025545</td>\n",
       "      <td>0.038004</td>\n",
       "      <td>0.000971</td>\n",
       "      <td>0.025545</td>\n",
       "    </tr>\n",
       "    <tr>\n",
       "      <th>2020-07-16 21:10:00</th>\n",
       "      <td>0.025531</td>\n",
       "      <td>0.025537</td>\n",
       "      <td>0.025512</td>\n",
       "      <td>0.025512</td>\n",
       "      <td>11.452623</td>\n",
       "      <td>0.292464</td>\n",
       "      <td>0.025537</td>\n",
       "    </tr>\n",
       "    <tr>\n",
       "      <th>2020-07-16 21:15:00</th>\n",
       "      <td>0.025526</td>\n",
       "      <td>0.025537</td>\n",
       "      <td>0.025512</td>\n",
       "      <td>0.025512</td>\n",
       "      <td>0.006275</td>\n",
       "      <td>0.000160</td>\n",
       "      <td>0.025521</td>\n",
       "    </tr>\n",
       "    <tr>\n",
       "      <th>2020-07-16 21:20:00</th>\n",
       "      <td>0.025530</td>\n",
       "      <td>0.025533</td>\n",
       "      <td>0.025512</td>\n",
       "      <td>0.025512</td>\n",
       "      <td>0.004082</td>\n",
       "      <td>0.000104</td>\n",
       "      <td>0.025518</td>\n",
       "    </tr>\n",
       "  </tbody>\n",
       "</table>\n",
       "</div>"
      ],
      "text/plain": [
       "                        close      high       low      open  quoteVolume  \\\n",
       "date                                                                       \n",
       "2020-07-16 21:00:00  0.025545  0.025560  0.025545  0.025551     0.121466   \n",
       "2020-07-16 21:05:00  0.025545  0.025545  0.025545  0.025545     0.038004   \n",
       "2020-07-16 21:10:00  0.025531  0.025537  0.025512  0.025512    11.452623   \n",
       "2020-07-16 21:15:00  0.025526  0.025537  0.025512  0.025512     0.006275   \n",
       "2020-07-16 21:20:00  0.025530  0.025533  0.025512  0.025512     0.004082   \n",
       "\n",
       "                       volume  weightedAverage  \n",
       "date                                            \n",
       "2020-07-16 21:00:00  0.003104         0.025557  \n",
       "2020-07-16 21:05:00  0.000971         0.025545  \n",
       "2020-07-16 21:10:00  0.292464         0.025537  \n",
       "2020-07-16 21:15:00  0.000160         0.025521  \n",
       "2020-07-16 21:20:00  0.000104         0.025518  "
      ]
     },
     "execution_count": 7,
     "metadata": {},
     "output_type": "execute_result"
    }
   ],
   "source": [
    "df.tail()"
   ]
  },
  {
   "cell_type": "markdown",
   "metadata": {},
   "source": [
    "# Retorno Simples"
   ]
  },
  {
   "cell_type": "code",
   "execution_count": 8,
   "metadata": {},
   "outputs": [],
   "source": [
    "df['simpleReturn'] = (df['close']/df['close'].shift(1))-1"
   ]
  },
  {
   "cell_type": "code",
   "execution_count": 9,
   "metadata": {},
   "outputs": [
    {
     "data": {
      "text/html": [
       "<div>\n",
       "<style scoped>\n",
       "    .dataframe tbody tr th:only-of-type {\n",
       "        vertical-align: middle;\n",
       "    }\n",
       "\n",
       "    .dataframe tbody tr th {\n",
       "        vertical-align: top;\n",
       "    }\n",
       "\n",
       "    .dataframe thead th {\n",
       "        text-align: right;\n",
       "    }\n",
       "</style>\n",
       "<table border=\"1\" class=\"dataframe\">\n",
       "  <thead>\n",
       "    <tr style=\"text-align: right;\">\n",
       "      <th></th>\n",
       "      <th>close</th>\n",
       "      <th>high</th>\n",
       "      <th>low</th>\n",
       "      <th>open</th>\n",
       "      <th>quoteVolume</th>\n",
       "      <th>volume</th>\n",
       "      <th>weightedAverage</th>\n",
       "      <th>simpleReturn</th>\n",
       "    </tr>\n",
       "    <tr>\n",
       "      <th>date</th>\n",
       "      <th></th>\n",
       "      <th></th>\n",
       "      <th></th>\n",
       "      <th></th>\n",
       "      <th></th>\n",
       "      <th></th>\n",
       "      <th></th>\n",
       "      <th></th>\n",
       "    </tr>\n",
       "  </thead>\n",
       "  <tbody>\n",
       "    <tr>\n",
       "      <th>2020-07-16 21:00:00</th>\n",
       "      <td>0.025545</td>\n",
       "      <td>0.025560</td>\n",
       "      <td>0.025545</td>\n",
       "      <td>0.025551</td>\n",
       "      <td>0.121466</td>\n",
       "      <td>0.003104</td>\n",
       "      <td>0.025557</td>\n",
       "      <td>-0.000539</td>\n",
       "    </tr>\n",
       "    <tr>\n",
       "      <th>2020-07-16 21:05:00</th>\n",
       "      <td>0.025545</td>\n",
       "      <td>0.025545</td>\n",
       "      <td>0.025545</td>\n",
       "      <td>0.025545</td>\n",
       "      <td>0.038004</td>\n",
       "      <td>0.000971</td>\n",
       "      <td>0.025545</td>\n",
       "      <td>0.000000</td>\n",
       "    </tr>\n",
       "    <tr>\n",
       "      <th>2020-07-16 21:10:00</th>\n",
       "      <td>0.025531</td>\n",
       "      <td>0.025537</td>\n",
       "      <td>0.025512</td>\n",
       "      <td>0.025512</td>\n",
       "      <td>11.452623</td>\n",
       "      <td>0.292464</td>\n",
       "      <td>0.025537</td>\n",
       "      <td>-0.000542</td>\n",
       "    </tr>\n",
       "    <tr>\n",
       "      <th>2020-07-16 21:15:00</th>\n",
       "      <td>0.025526</td>\n",
       "      <td>0.025537</td>\n",
       "      <td>0.025512</td>\n",
       "      <td>0.025512</td>\n",
       "      <td>0.006275</td>\n",
       "      <td>0.000160</td>\n",
       "      <td>0.025521</td>\n",
       "      <td>-0.000196</td>\n",
       "    </tr>\n",
       "    <tr>\n",
       "      <th>2020-07-16 21:20:00</th>\n",
       "      <td>0.025530</td>\n",
       "      <td>0.025533</td>\n",
       "      <td>0.025512</td>\n",
       "      <td>0.025512</td>\n",
       "      <td>0.004082</td>\n",
       "      <td>0.000104</td>\n",
       "      <td>0.025518</td>\n",
       "      <td>0.000155</td>\n",
       "    </tr>\n",
       "  </tbody>\n",
       "</table>\n",
       "</div>"
      ],
      "text/plain": [
       "                        close      high       low      open  quoteVolume  \\\n",
       "date                                                                       \n",
       "2020-07-16 21:00:00  0.025545  0.025560  0.025545  0.025551     0.121466   \n",
       "2020-07-16 21:05:00  0.025545  0.025545  0.025545  0.025545     0.038004   \n",
       "2020-07-16 21:10:00  0.025531  0.025537  0.025512  0.025512    11.452623   \n",
       "2020-07-16 21:15:00  0.025526  0.025537  0.025512  0.025512     0.006275   \n",
       "2020-07-16 21:20:00  0.025530  0.025533  0.025512  0.025512     0.004082   \n",
       "\n",
       "                       volume  weightedAverage  simpleReturn  \n",
       "date                                                          \n",
       "2020-07-16 21:00:00  0.003104         0.025557     -0.000539  \n",
       "2020-07-16 21:05:00  0.000971         0.025545      0.000000  \n",
       "2020-07-16 21:10:00  0.292464         0.025537     -0.000542  \n",
       "2020-07-16 21:15:00  0.000160         0.025521     -0.000196  \n",
       "2020-07-16 21:20:00  0.000104         0.025518      0.000155  "
      ]
     },
     "execution_count": 9,
     "metadata": {},
     "output_type": "execute_result"
    }
   ],
   "source": [
    "df.tail()"
   ]
  },
  {
   "cell_type": "code",
   "execution_count": 10,
   "metadata": {},
   "outputs": [
    {
     "data": {
      "image/png": "[encoded data removed]",
      "text/plain": [
       "<Figure size 1152x360 with 1 Axes>"
      ]
     },
     "metadata": {
      "needs_background": "light"
     },
     "output_type": "display_data"
    }
   ],
   "source": [
    "df['simpleReturn'].plot(figsize=(16,5));"
   ]
  },
  {
   "cell_type": "code",
   "execution_count": 11,
   "metadata": {},
   "outputs": [
    {
     "data": {
      "text/plain": [
       "0.0008077337226997302"
      ]
     },
     "execution_count": 11,
     "metadata": {},
     "output_type": "execute_result"
    }
   ],
   "source": [
    "df['simpleReturn'].mean()*12*24"
   ]
  },
  {
   "cell_type": "markdown",
   "metadata": {},
   "source": [
    "# Retorno Logaritmo"
   ]
  },
  {
   "cell_type": "code",
   "execution_count": 12,
   "metadata": {},
   "outputs": [],
   "source": [
    "df['logReturn'] = np.log(df['close']/df['close'].shift(1))"
   ]
  },
  {
   "cell_type": "code",
   "execution_count": 13,
   "metadata": {
    "scrolled": true
   },
   "outputs": [
    {
     "data": {
      "text/plain": [
       "pandas.core.frame.DataFrame"
      ]
     },
     "execution_count": 13,
     "metadata": {},
     "output_type": "execute_result"
    }
   ],
   "source": [
    "type(df)"
   ]
  },
  {
   "cell_type": "code",
   "execution_count": 14,
   "metadata": {},
   "outputs": [
    {
     "data": {
      "text/plain": [
       "0.0008077337226997302"
      ]
     },
     "execution_count": 14,
     "metadata": {},
     "output_type": "execute_result"
    }
   ],
   "source": [
    "df['simpleReturn'].mean()*12*24"
   ]
  },
  {
   "cell_type": "code",
   "execution_count": 15,
   "metadata": {},
   "outputs": [
    {
     "data": {
      "text/plain": [
       "0.0006109862703735336"
      ]
     },
     "execution_count": 15,
     "metadata": {},
     "output_type": "execute_result"
    }
   ],
   "source": [
    "df['logReturn'].mean()*12*24"
   ]
  },
  {
   "cell_type": "markdown",
   "metadata": {},
   "source": [
    "# Portfolio"
   ]
  },
  {
   "cell_type": "code",
   "execution_count": 16,
   "metadata": {},
   "outputs": [],
   "source": [
    "def meuPortfolio(lista, coluna = 'close'): \n",
    "    raw = api.returnChartData(lista[0], period=300, start=time()-api.MONTH*3)\n",
    "    df = pd.DataFrame(raw)\n",
    "    df.drop(['high', 'low', 'open', 'quoteVolume', 'volume', 'weightedAverage'], axis=1, inplace=True)\n",
    "    myData = df.copy()\n",
    "    myData.rename(columns={coluna:lista[0]}, inplace=True)\n",
    "    nova_lista = lista[1:]\n",
    "    for t in nova_lista:    \n",
    "        raw = api.returnChartData(t, period=300, start=time()-api.MONTH*3)\n",
    "        df = pd.DataFrame(raw)\n",
    "        df.rename(columns={coluna:t}, inplace=True)\n",
    "        myData = pd.merge(myData, df[[t, 'date']], on=['date'], how=\"inner\")\n",
    "    \n",
    "    myData['date'] = pd.to_datetime(myData[\"date\"], unit='s')\n",
    "    myData.set_index('date', inplace=True)\n",
    "    return myData"
   ]
  },
  {
   "cell_type": "code",
   "execution_count": 17,
   "metadata": {},
   "outputs": [],
   "source": [
    "tickers = ['BTC_ETH', 'BTC_XRP', 'BTC_DOGE', 'BTC_XMR']\n",
    "teste = meuPortfolio(tickers)"
   ]
  },
  {
   "cell_type": "code",
   "execution_count": 18,
   "metadata": {},
   "outputs": [
    {
     "data": {
      "text/html": [
       "<div>\n",
       "<style scoped>\n",
       "    .dataframe tbody tr th:only-of-type {\n",
       "        vertical-align: middle;\n",
       "    }\n",
       "\n",
       "    .dataframe tbody tr th {\n",
       "        vertical-align: top;\n",
       "    }\n",
       "\n",
       "    .dataframe thead th {\n",
       "        text-align: right;\n",
       "    }\n",
       "</style>\n",
       "<table border=\"1\" class=\"dataframe\">\n",
       "  <thead>\n",
       "    <tr style=\"text-align: right;\">\n",
       "      <th></th>\n",
       "      <th>BTC_ETH</th>\n",
       "      <th>BTC_XRP</th>\n",
       "      <th>BTC_DOGE</th>\n",
       "      <th>BTC_XMR</th>\n",
       "    </tr>\n",
       "    <tr>\n",
       "      <th>date</th>\n",
       "      <th></th>\n",
       "      <th></th>\n",
       "      <th></th>\n",
       "      <th></th>\n",
       "    </tr>\n",
       "  </thead>\n",
       "  <tbody>\n",
       "    <tr>\n",
       "      <th>2020-07-16 20:55:00</th>\n",
       "      <td>0.025559</td>\n",
       "      <td>0.000021</td>\n",
       "      <td>3.200000e-07</td>\n",
       "      <td>0.007333</td>\n",
       "    </tr>\n",
       "    <tr>\n",
       "      <th>2020-07-16 21:00:00</th>\n",
       "      <td>0.025545</td>\n",
       "      <td>0.000021</td>\n",
       "      <td>3.300000e-07</td>\n",
       "      <td>0.007334</td>\n",
       "    </tr>\n",
       "    <tr>\n",
       "      <th>2020-07-16 21:05:00</th>\n",
       "      <td>0.025545</td>\n",
       "      <td>0.000021</td>\n",
       "      <td>3.300000e-07</td>\n",
       "      <td>0.007326</td>\n",
       "    </tr>\n",
       "    <tr>\n",
       "      <th>2020-07-16 21:10:00</th>\n",
       "      <td>0.025531</td>\n",
       "      <td>0.000021</td>\n",
       "      <td>3.300000e-07</td>\n",
       "      <td>0.007335</td>\n",
       "    </tr>\n",
       "    <tr>\n",
       "      <th>2020-07-16 21:15:00</th>\n",
       "      <td>0.025526</td>\n",
       "      <td>0.000021</td>\n",
       "      <td>3.300000e-07</td>\n",
       "      <td>0.007346</td>\n",
       "    </tr>\n",
       "  </tbody>\n",
       "</table>\n",
       "</div>"
      ],
      "text/plain": [
       "                      BTC_ETH   BTC_XRP      BTC_DOGE   BTC_XMR\n",
       "date                                                           \n",
       "2020-07-16 20:55:00  0.025559  0.000021  3.200000e-07  0.007333\n",
       "2020-07-16 21:00:00  0.025545  0.000021  3.300000e-07  0.007334\n",
       "2020-07-16 21:05:00  0.025545  0.000021  3.300000e-07  0.007326\n",
       "2020-07-16 21:10:00  0.025531  0.000021  3.300000e-07  0.007335\n",
       "2020-07-16 21:15:00  0.025526  0.000021  3.300000e-07  0.007346"
      ]
     },
     "execution_count": 18,
     "metadata": {},
     "output_type": "execute_result"
    }
   ],
   "source": [
    "teste.tail()"
   ]
  },
  {
   "cell_type": "code",
   "execution_count": 19,
   "metadata": {},
   "outputs": [
    {
     "data": {
      "image/png": "[encoded data removed]",
      "text/plain": [
       "<Figure size 1080x432 with 1 Axes>"
      ]
     },
     "metadata": {
      "needs_background": "light"
     },
     "output_type": "display_data"
    }
   ],
   "source": [
    "(teste/teste.iloc[0]*100).plot(figsize = (15,6));\n",
    "plt.show()"
   ]
  },
  {
   "cell_type": "code",
   "execution_count": 20,
   "metadata": {},
   "outputs": [],
   "source": [
    "retornoSimples = (teste/teste.shift(1))-1"
   ]
  },
  {
   "cell_type": "code",
   "execution_count": 21,
   "metadata": {},
   "outputs": [
    {
     "data": {
      "text/html": [
       "<div>\n",
       "<style scoped>\n",
       "    .dataframe tbody tr th:only-of-type {\n",
       "        vertical-align: middle;\n",
       "    }\n",
       "\n",
       "    .dataframe tbody tr th {\n",
       "        vertical-align: top;\n",
       "    }\n",
       "\n",
       "    .dataframe thead th {\n",
       "        text-align: right;\n",
       "    }\n",
       "</style>\n",
       "<table border=\"1\" class=\"dataframe\">\n",
       "  <thead>\n",
       "    <tr style=\"text-align: right;\">\n",
       "      <th></th>\n",
       "      <th>BTC_ETH</th>\n",
       "      <th>BTC_XRP</th>\n",
       "      <th>BTC_DOGE</th>\n",
       "      <th>BTC_XMR</th>\n",
       "    </tr>\n",
       "    <tr>\n",
       "      <th>date</th>\n",
       "      <th></th>\n",
       "      <th></th>\n",
       "      <th></th>\n",
       "      <th></th>\n",
       "    </tr>\n",
       "  </thead>\n",
       "  <tbody>\n",
       "    <tr>\n",
       "      <th>2020-04-17 21:40:00</th>\n",
       "      <td>NaN</td>\n",
       "      <td>NaN</td>\n",
       "      <td>NaN</td>\n",
       "      <td>NaN</td>\n",
       "    </tr>\n",
       "    <tr>\n",
       "      <th>2020-04-17 21:45:00</th>\n",
       "      <td>-0.001708</td>\n",
       "      <td>0.001864</td>\n",
       "      <td>0.000000</td>\n",
       "      <td>-0.005697</td>\n",
       "    </tr>\n",
       "    <tr>\n",
       "      <th>2020-04-17 21:50:00</th>\n",
       "      <td>-0.001152</td>\n",
       "      <td>-0.000372</td>\n",
       "      <td>0.035714</td>\n",
       "      <td>0.003045</td>\n",
       "    </tr>\n",
       "    <tr>\n",
       "      <th>2020-04-17 21:55:00</th>\n",
       "      <td>0.001412</td>\n",
       "      <td>-0.001117</td>\n",
       "      <td>-0.034483</td>\n",
       "      <td>-0.000227</td>\n",
       "    </tr>\n",
       "    <tr>\n",
       "      <th>2020-04-17 22:00:00</th>\n",
       "      <td>0.000165</td>\n",
       "      <td>0.000373</td>\n",
       "      <td>0.000000</td>\n",
       "      <td>0.000455</td>\n",
       "    </tr>\n",
       "  </tbody>\n",
       "</table>\n",
       "</div>"
      ],
      "text/plain": [
       "                      BTC_ETH   BTC_XRP  BTC_DOGE   BTC_XMR\n",
       "date                                                       \n",
       "2020-04-17 21:40:00       NaN       NaN       NaN       NaN\n",
       "2020-04-17 21:45:00 -0.001708  0.001864  0.000000 -0.005697\n",
       "2020-04-17 21:50:00 -0.001152 -0.000372  0.035714  0.003045\n",
       "2020-04-17 21:55:00  0.001412 -0.001117 -0.034483 -0.000227\n",
       "2020-04-17 22:00:00  0.000165  0.000373  0.000000  0.000455"
      ]
     },
     "execution_count": 21,
     "metadata": {},
     "output_type": "execute_result"
    }
   ],
   "source": [
    "retornoSimples.head()"
   ]
  },
  {
   "cell_type": "code",
   "execution_count": 22,
   "metadata": {},
   "outputs": [],
   "source": [
    "pesos = [0.25, 0.25, 0.25, 0.25]"
   ]
  },
  {
   "cell_type": "code",
   "execution_count": 23,
   "metadata": {},
   "outputs": [
    {
     "data": {
      "text/plain": [
       "array([        nan, -0.00138526,  0.00930887, ..., -0.00038953,\n",
       "        0.00015768,  0.0003471 ])"
      ]
     },
     "execution_count": 23,
     "metadata": {},
     "output_type": "execute_result"
    }
   ],
   "source": [
    "np.dot(retornoSimples, pesos)"
   ]
  },
  {
   "cell_type": "code",
   "execution_count": 24,
   "metadata": {},
   "outputs": [],
   "source": [
    "retorno_anual = retornoSimples.mean()*12*24*365"
   ]
  },
  {
   "cell_type": "code",
   "execution_count": 25,
   "metadata": {},
   "outputs": [
    {
     "data": {
      "text/plain": [
       "BTC_ETH      0.298448\n",
       "BTC_XRP     -0.884743\n",
       "BTC_DOGE    18.419361\n",
       "BTC_XMR     -0.178366\n",
       "dtype: float64"
      ]
     },
     "execution_count": 25,
     "metadata": {},
     "output_type": "execute_result"
    }
   ],
   "source": [
    "retorno_anual"
   ]
  },
  {
   "cell_type": "code",
   "execution_count": 26,
   "metadata": {},
   "outputs": [
    {
     "data": {
      "text/plain": [
       "4.413675018297616"
      ]
     },
     "execution_count": 26,
     "metadata": {},
     "output_type": "execute_result"
    }
   ],
   "source": [
    "np.dot(retorno_anual, pesos)"
   ]
  },
  {
   "cell_type": "code",
   "execution_count": null,
   "metadata": {},
   "outputs": [],
   "source": []
  }
 ],
 "metadata": {
  "kernelspec": {
   "display_name": "Python 3",
   "language": "python",
   "name": "python3"
  },
  "language_info": {
   "codemirror_mode": {
    "name": "ipython",
    "version": 3
   },
   "file_extension": ".py",
   "mimetype": "text/x-python",
   "name": "python",
   "nbconvert_exporter": "python",
   "pygments_lexer": "ipython3",
   "version": "3.7.3"
  }
 },
 "nbformat": 4,
 "nbformat_minor": 2
}
