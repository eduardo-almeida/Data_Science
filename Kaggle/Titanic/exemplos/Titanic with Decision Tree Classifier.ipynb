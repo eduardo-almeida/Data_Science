{
 "cells": [
  {
   "cell_type": "markdown",
   "metadata": {
    "_cell_guid": "4aaaaf19-7bdd-5f07-a053-e5caeb664f45"
   },
   "source": [
    "#Titanic: solving with a Decision Tree Classifier\n",
    "\n",
    "\n",
    "----------\n"
   ]
  },
  {
   "cell_type": "code",
   "execution_count": 1,
   "metadata": {
    "_cell_guid": "86bc3f4b-7c9b-2ab8-e453-5159f7a806d5"
   },
   "outputs": [],
   "source": [
    "import pandas as pd\n",
    "import numpy as np\n",
    "from sklearn import tree\n",
    "from sklearn.metrics import accuracy_score"
   ]
  },
  {
   "cell_type": "code",
   "execution_count": 2,
   "metadata": {
    "_cell_guid": "7a37a995-a1c1-3063-5765-9807bbe48f80"
   },
   "outputs": [],
   "source": [
    "train = pd.read_csv(\"./data/train.csv\")\n",
    "test  = pd.read_csv(\"./data/test.csv\")"
   ]
  },
  {
   "cell_type": "code",
   "execution_count": 3,
   "metadata": {
    "_cell_guid": "55f10e36-da93-f87b-efa3-e7a6e84654f3"
   },
   "outputs": [],
   "source": [
    "def preprocess_data(data):\n",
    "    new_dataFrame = pd.DataFrame()\n",
    "\n",
    "    new_dataFrame['Age'] = data.Age.fillna(data.Age.mean())\n",
    "    new_dataFrame['Sex'] = pd.Series([1 if s == 'male' else 0 for s in data.Sex], name = 'Sex')\n",
    "\n",
    "    return new_dataFrame"
   ]
  },
  {
   "cell_type": "code",
   "execution_count": 4,
   "metadata": {
    "_cell_guid": "cade38b4-0f09-02b7-6da9-84f178e7194c"
   },
   "outputs": [],
   "source": [
    "train_data = preprocess_data(train)\n",
    "train_labels = train.Survived"
   ]
  },
  {
   "cell_type": "code",
   "execution_count": 5,
   "metadata": {
    "_cell_guid": "721f1065-1bd6-7481-58b9-df3d4c698c71"
   },
   "outputs": [],
   "source": [
    "classifier = tree.DecisionTreeClassifier()"
   ]
  },
  {
   "cell_type": "code",
   "execution_count": 6,
   "metadata": {
    "_cell_guid": "3447501d-cd25-1d3f-6397-0189f271e379"
   },
   "outputs": [
    {
     "data": {
      "text/plain": [
       "DecisionTreeClassifier(class_weight=None, criterion='gini', max_depth=None,\n",
       "            max_features=None, max_leaf_nodes=None,\n",
       "            min_impurity_decrease=0.0, min_impurity_split=None,\n",
       "            min_samples_leaf=1, min_samples_split=2,\n",
       "            min_weight_fraction_leaf=0.0, presort=False, random_state=None,\n",
       "            splitter='best')"
      ]
     },
     "execution_count": 6,
     "metadata": {},
     "output_type": "execute_result"
    }
   ],
   "source": [
    "classifier.fit(train_data, train_labels)"
   ]
  },
  {
   "cell_type": "code",
   "execution_count": 7,
   "metadata": {
    "_cell_guid": "ee403ba6-a6c5-28fb-6228-c2de23b9db36"
   },
   "outputs": [],
   "source": [
    "test_data = preprocess_data(test)"
   ]
  },
  {
   "cell_type": "code",
   "execution_count": 8,
   "metadata": {
    "_cell_guid": "0e6eca4b-7dc2-2dd1-a4ab-6447c32e8664"
   },
   "outputs": [],
   "source": [
    "predicao = classifier.predict(test_data)"
   ]
  },
  {
   "cell_type": "code",
   "execution_count": 9,
   "metadata": {
    "_cell_guid": "ce044492-8399-8493-bf46-fafd063d3d83"
   },
   "outputs": [],
   "source": [
    "submission = pd.DataFrame()\n",
    "submission['PassengerId'] = test.PassengerId\n",
    "submission['Survived'] = pd.Series(predicao)\n",
    "submission.to_csv(\"kaggle.csv\", index=False)"
   ]
  },
  {
   "cell_type": "code",
   "execution_count": 10,
   "metadata": {
    "_cell_guid": "b5daac9c-5972-ac41-9767-dd777ea97f0b"
   },
   "outputs": [
    {
     "name": "stdout",
     "output_type": "stream",
     "text": [
      "Score: 0.819304152637486\n"
     ]
    }
   ],
   "source": [
    "print('Score: {}'.format(classifier.score(train_data, train_labels)))"
   ]
  },
  {
   "cell_type": "code",
   "execution_count": null,
   "metadata": {},
   "outputs": [],
   "source": []
  }
 ],
 "metadata": {
  "_change_revision": 0,
  "_is_fork": false,
  "kernelspec": {
   "display_name": "Python 3",
   "language": "python",
   "name": "python3"
  },
  "language_info": {
   "codemirror_mode": {
    "name": "ipython",
    "version": 3
   },
   "file_extension": ".py",
   "mimetype": "text/x-python",
   "name": "python",
   "nbconvert_exporter": "python",
   "pygments_lexer": "ipython3",
   "version": "3.7.3"
  }
 },
 "nbformat": 4,
 "nbformat_minor": 1
}
